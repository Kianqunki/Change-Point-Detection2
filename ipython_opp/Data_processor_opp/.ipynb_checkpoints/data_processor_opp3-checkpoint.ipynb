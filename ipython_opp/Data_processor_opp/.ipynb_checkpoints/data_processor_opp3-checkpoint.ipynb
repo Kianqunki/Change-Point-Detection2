{
 "cells": [
  {
   "cell_type": "code",
   "execution_count": 1,
   "metadata": {},
   "outputs": [],
   "source": [
    "%load_ext autoreload\n",
    "%autoreload 2\n",
    "import numpy as np\n",
    "import csv\n",
    "import sys\n",
    "import os\n",
    "import h5py\n",
    "import simplejson as json\n",
    "\n",
    "import sys\n",
    "sys.path.append('../src')\n",
    "import data_utils_opp as data_utils"
   ]
  },
  {
   "cell_type": "code",
   "execution_count": 2,
   "metadata": {},
   "outputs": [
    {
     "name": "stdout",
     "output_type": "stream",
     "text": [
      "78\n",
      "reading file 1 of 19\n",
      "reading file 2 of 19\n",
      "reading file 3 of 19\n",
      "reading file 4 of 19\n",
      "reading file 5 of 19\n",
      "reading file 6 of 19\n",
      "reading file 7 of 19\n",
      "reading file 8 of 19\n",
      "reading file 9 of 19\n",
      "reading file 10 of 19\n",
      "reading file 11 of 19\n",
      "reading file 12 of 19\n",
      "reading file 13 of 19\n",
      "reading file 14 of 19\n",
      "reading file 15 of 19\n",
      "reading file 16 of 19\n",
      "reading file 17 of 19\n",
      "reading file 18 of 19\n",
      "reading file 19 of 19\n",
      "reading file 1 of 1\n",
      "reading file 1 of 4\n",
      "reading file 2 of 4\n",
      "reading file 3 of 4\n",
      "reading file 4 of 4\n"
     ]
    }
   ],
   "source": [
    "#load the data\n",
    "data_path = '/data2/data/zebrahim/OpportunityUCIDataset'\n",
    "\n",
    "dr = data_utils.data_reader('opportunity', data_path)"
   ]
  },
  {
   "cell_type": "code",
   "execution_count": 3,
   "metadata": {},
   "outputs": [
    {
     "data": {
      "text/plain": [
       "((700165, 77), (700165,))"
      ]
     },
     "execution_count": 3,
     "metadata": {},
     "output_type": "execute_result"
    }
   ],
   "source": [
    "dr.data['training']['inputs'].shape, dr.data['training']['targets'].shape"
   ]
  },
  {
   "cell_type": "code",
   "execution_count": 4,
   "metadata": {},
   "outputs": [],
   "source": [
    "train_data = np.expand_dims(dr.data['training']['inputs'] , axis=0)\n",
    "validation_data = np.expand_dims(dr.data['validation']['inputs'] , axis=0)\n",
    "test_data = np.expand_dims(dr.data['test']['inputs'] , axis=0)"
   ]
  },
  {
   "cell_type": "code",
   "execution_count": null,
   "metadata": {},
   "outputs": [],
   "source": []
  },
  {
   "cell_type": "code",
   "execution_count": 5,
   "metadata": {},
   "outputs": [],
   "source": [
    "train_gt = np.zeros(dr.data['training']['targets'].shape, dtype='float32')\n",
    "idx_change_activity = np.where(dr.data['training']['targets'][:-1] - dr.data['training']['targets'][1:] != 0)[0]\n",
    "for idx in idx_change_activity:\n",
    "    interval = range(max(idx - 16,0), min(idx + 16, train_gt.shape[0]))\n",
    "    train_gt[interval] = 1\n"
   ]
  },
  {
   "cell_type": "code",
   "execution_count": 6,
   "metadata": {},
   "outputs": [],
   "source": [
    "validation_gt = np.zeros(dr.data['validation']['targets'].shape, dtype='float32')\n",
    "idx_change_activity = np.where(dr.data['validation']['targets'][:-1] - dr.data['validation']['targets'][1:] != 0)[0]\n",
    "for idx in idx_change_activity:\n",
    "    interval = range(max(idx - 16,0), min(idx + 16, validation_gt.shape[0]))\n",
    "    validation_gt[interval] = 1"
   ]
  },
  {
   "cell_type": "code",
   "execution_count": 7,
   "metadata": {},
   "outputs": [],
   "source": [
    "test_gt = np.zeros(dr.data['test']['targets'].shape, dtype='float32')\n",
    "idx_change_activity = np.where(dr.data['test']['targets'][:-1] - dr.data['test']['targets'][1:] != 0)[0]\n",
    "for idx in idx_change_activity:\n",
    "    interval = range(max(idx - 16,0), min(idx + 16, test_gt.shape[0]))\n",
    "    test_gt[interval] = 1"
   ]
  },
  {
   "cell_type": "code",
   "execution_count": 8,
   "metadata": {},
   "outputs": [],
   "source": [
    "train_gt = np.expand_dims(train_gt , axis=0)\n",
    "validation_gt = np.expand_dims(validation_gt , axis=0)\n",
    "test_gt = np.expand_dims(test_gt , axis=0)\n",
    "\n",
    "train_gt = np.expand_dims(train_gt , axis=-1)\n",
    "validation_gt = np.expand_dims(validation_gt , axis=-1)\n",
    "test_gt = np.expand_dims(test_gt , axis=-1)"
   ]
  },
  {
   "cell_type": "code",
   "execution_count": 9,
   "metadata": {},
   "outputs": [
    {
     "data": {
      "text/plain": [
       "array([ 1,  2,  3,  4,  5,  6,  7,  8,  9, 10, 11, 12, 13, 14, 15, 16, 17,\n",
       "       18])"
      ]
     },
     "execution_count": 9,
     "metadata": {},
     "output_type": "execute_result"
    }
   ],
   "source": [
    "np.unique(dr.data['test']['targets'])"
   ]
  },
  {
   "cell_type": "code",
   "execution_count": null,
   "metadata": {},
   "outputs": [],
   "source": []
  },
  {
   "cell_type": "code",
   "execution_count": 10,
   "metadata": {},
   "outputs": [],
   "source": [
    "data = {}\n",
    "data['train_data'] = train_data\n",
    "data['train_gt'] = train_gt\n",
    "\n",
    "data['validation_data'] = validation_data\n",
    "data['validation_gt'] = validation_gt\n",
    "\n",
    "\n",
    "data['test_data'] =  test_data\n",
    "data['test_gt'] = test_gt"
   ]
  },
  {
   "cell_type": "code",
   "execution_count": 12,
   "metadata": {},
   "outputs": [],
   "source": [
    "# change point detection groun truth, there is 1 in transition states and (-16,16) time steps. Others are 0.\n",
    "import hickle\n",
    "path_to_save = '../data/'\n",
    "with open(path_to_save+'opp3.hkl', 'w') as fout:\n",
    "    hickle.dump(data, fout)"
   ]
  },
  {
   "cell_type": "code",
   "execution_count": null,
   "metadata": {},
   "outputs": [],
   "source": []
  },
  {
   "cell_type": "code",
   "execution_count": null,
   "metadata": {},
   "outputs": [],
   "source": []
  }
 ],
 "metadata": {
  "kernelspec": {
   "display_name": "Anaconca with Tensorflow",
   "language": "python",
   "name": "tensorflow"
  },
  "language_info": {
   "codemirror_mode": {
    "name": "ipython",
    "version": 2
   },
   "file_extension": ".py",
   "mimetype": "text/x-python",
   "name": "python",
   "nbconvert_exporter": "python",
   "pygments_lexer": "ipython2",
   "version": "2.7.13"
  }
 },
 "nbformat": 4,
 "nbformat_minor": 2
}
