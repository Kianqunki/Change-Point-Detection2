{
 "cells": [
  {
   "cell_type": "markdown",
   "metadata": {},
   "source": [
    "CPD ground truth, ws, paper split"
   ]
  },
  {
   "cell_type": "code",
   "execution_count": 1,
   "metadata": {},
   "outputs": [],
   "source": [
    "%load_ext autoreload\n",
    "%autoreload 2\n",
    "import numpy as np\n",
    "import csv\n",
    "import sys\n",
    "import os\n",
    "import h5py\n",
    "import simplejson as json\n",
    "\n",
    "import sys\n",
    "sys.path.append('../../src')\n",
    "import data_utils_opp_window_size as data_utils"
   ]
  },
  {
   "cell_type": "code",
   "execution_count": 2,
   "metadata": {},
   "outputs": [
    {
     "name": "stdout",
     "output_type": "stream",
     "text": [
      "reading file 1 of 19\n",
      "reading file 2 of 19\n",
      "reading file 3 of 19\n",
      "reading file 4 of 19\n",
      "reading file 5 of 19\n",
      "reading file 6 of 19\n",
      "reading file 7 of 19\n",
      "reading file 8 of 19\n",
      "reading file 9 of 19\n",
      "reading file 10 of 19\n",
      "reading file 11 of 19\n",
      "reading file 12 of 19\n",
      "reading file 13 of 19\n",
      "reading file 14 of 19\n",
      "reading file 15 of 19\n",
      "reading file 16 of 19\n",
      "reading file 17 of 19\n",
      "reading file 18 of 19\n",
      "reading file 19 of 19\n",
      "reading file 1 of 1\n",
      "reading file 1 of 4\n",
      "reading file 2 of 4\n",
      "reading file 3 of 4\n",
      "reading file 4 of 4\n"
     ]
    }
   ],
   "source": [
    "#load the data\n",
    "data_path = '/data2/data/zebrahim/OpportunityUCIDataset'\n",
    "\n",
    "dr = data_utils.data_reader('opportunity', data_path)"
   ]
  },
  {
   "cell_type": "code",
   "execution_count": 7,
   "metadata": {},
   "outputs": [],
   "source": [
    "n_class = 18 + 1  #all subjects have been enrolled for all 18 activities, last one is for the change point detection. It is multitask ground truth.\n",
    "def fill_gt(subject_ts):\n",
    "    t = subject_ts.shape[0]\n",
    "    gt_ = np.zeros((t, n_class))\n",
    "    \n",
    "    for i in range(t):\n",
    "        gt_[i, subject_ts[i]-1] = 1\n",
    "        \n",
    "    idx_change_activity = np.where(subject_ts[:-1] - subject_ts[1:] != 0)[0]\n",
    "    gt_[idx_change_activity, 18] = 1   \n",
    "    \n",
    "    return np.asarray(gt_)"
   ]
  },
  {
   "cell_type": "code",
   "execution_count": 8,
   "metadata": {},
   "outputs": [],
   "source": [
    "train_gt_box = []\n",
    "for i in range(len(dr.data['training']['targets'])):\n",
    "    train_gt_box.append(fill_gt(dr.data['training']['targets'][i]))"
   ]
  },
  {
   "cell_type": "code",
   "execution_count": 10,
   "metadata": {},
   "outputs": [],
   "source": [
    "validation_gt_box = []\n",
    "for i in range(len(dr.data['validation']['targets'])):\n",
    "    validation_gt_box.append(fill_gt(dr.data['validation']['targets'][i]))"
   ]
  },
  {
   "cell_type": "code",
   "execution_count": 9,
   "metadata": {},
   "outputs": [],
   "source": [
    "test_gt_box = []\n",
    "for i in range(len(dr.data['test']['targets'])):\n",
    "    test_gt_box.append(fill_gt(dr.data['test']['targets'][i]))"
   ]
  },
  {
   "cell_type": "code",
   "execution_count": 14,
   "metadata": {},
   "outputs": [
    {
     "data": {
      "text/plain": [
       "((32500, 19), (31892, 19))"
      ]
     },
     "execution_count": 14,
     "metadata": {},
     "output_type": "execute_result"
    }
   ],
   "source": [
    "train_gt_box[1].shape, validation_gt_box[0].shape"
   ]
  },
  {
   "cell_type": "code",
   "execution_count": null,
   "metadata": {},
   "outputs": [],
   "source": []
  },
  {
   "cell_type": "code",
   "execution_count": null,
   "metadata": {},
   "outputs": [],
   "source": []
  },
  {
   "cell_type": "code",
   "execution_count": 15,
   "metadata": {},
   "outputs": [],
   "source": [
    "window_size = 1024\n",
    "stride = 1024"
   ]
  },
  {
   "cell_type": "code",
   "execution_count": 16,
   "metadata": {},
   "outputs": [],
   "source": [
    "_, train_data = dr.do_sliding_window(dr.data['training']['inputs'], window_size = window_size, stride = stride, num_dim_expand=0)\n",
    "_, validation_data = dr.do_sliding_window(dr.data['validation']['inputs'], window_size = window_size, stride = stride, num_dim_expand=0)\n",
    "_, test_data = dr.do_sliding_window(dr.data['test']['inputs'], window_size = window_size, stride = stride, num_dim_expand=0)"
   ]
  },
  {
   "cell_type": "code",
   "execution_count": 22,
   "metadata": {},
   "outputs": [],
   "source": [
    "#sliding window of ground truth\n",
    "_, train_gt = dr.do_sliding_window(train_gt_box, window_size = window_size, stride = stride, num_dim_expand=0)\n",
    "_, validation_gt = dr.do_sliding_window(validation_gt_box, window_size = window_size, stride = stride, num_dim_expand=0)\n",
    "_, test_gt = dr.do_sliding_window(test_gt_box, window_size = window_size, stride = stride, num_dim_expand=0)"
   ]
  },
  {
   "cell_type": "code",
   "execution_count": 23,
   "metadata": {},
   "outputs": [
    {
     "data": {
      "text/plain": [
       "((691, 1024, 77), (32, 1024, 77), (119, 1024, 77))"
      ]
     },
     "execution_count": 23,
     "metadata": {},
     "output_type": "execute_result"
    }
   ],
   "source": [
    "train_data.shape, validation_data.shape, test_data.shape"
   ]
  },
  {
   "cell_type": "code",
   "execution_count": 24,
   "metadata": {},
   "outputs": [
    {
     "data": {
      "text/plain": [
       "((691, 1024, 19), (32, 1024, 19), (119, 1024, 19))"
      ]
     },
     "execution_count": 24,
     "metadata": {},
     "output_type": "execute_result"
    }
   ],
   "source": [
    "train_gt.shape, validation_gt.shape, test_gt.shape"
   ]
  },
  {
   "cell_type": "code",
   "execution_count": 25,
   "metadata": {},
   "outputs": [],
   "source": [
    "data = {}\n",
    "data['train_data'] = train_data\n",
    "data['train_gt'] = train_gt\n",
    "\n",
    "data['validation_data'] = validation_data\n",
    "data['validation_gt'] = validation_gt\n",
    "\n",
    "\n",
    "data['test_data'] =  test_data\n",
    "data['test_gt'] = test_gt"
   ]
  },
  {
   "cell_type": "code",
   "execution_count": 28,
   "metadata": {},
   "outputs": [],
   "source": [
    "import hickle\n",
    "path_to_save = '../../data/'\n",
    "with open(path_to_save+'opp8.hkl', 'w') as fout:\n",
    "    hickle.dump(data, fout)"
   ]
  },
  {
   "cell_type": "code",
   "execution_count": null,
   "metadata": {},
   "outputs": [],
   "source": [
    "\n",
    "1"
   ]
  },
  {
   "cell_type": "code",
   "execution_count": null,
   "metadata": {},
   "outputs": [],
   "source": []
  },
  {
   "cell_type": "code",
   "execution_count": null,
   "metadata": {},
   "outputs": [],
   "source": []
  },
  {
   "cell_type": "code",
   "execution_count": null,
   "metadata": {},
   "outputs": [],
   "source": []
  }
 ],
 "metadata": {
  "kernelspec": {
   "display_name": "Anaconca with Tensorflow",
   "language": "python",
   "name": "tensorflow"
  },
  "language_info": {
   "codemirror_mode": {
    "name": "ipython",
    "version": 2
   },
   "file_extension": ".py",
   "mimetype": "text/x-python",
   "name": "python",
   "nbconvert_exporter": "python",
   "pygments_lexer": "ipython2",
   "version": "2.7.13"
  }
 },
 "nbformat": 4,
 "nbformat_minor": 2
}
