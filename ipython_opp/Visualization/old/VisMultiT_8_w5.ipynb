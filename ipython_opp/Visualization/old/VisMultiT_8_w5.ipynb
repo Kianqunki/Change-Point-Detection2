{
 "cells": [
  {
   "cell_type": "code",
   "execution_count": 1,
   "metadata": {},
   "outputs": [],
   "source": [
    "%load_ext autoreload\n",
    "%autoreload 2\n",
    "import numpy as np\n",
    "import matplotlib.pyplot as plt\n",
    "\n",
    "from hdf5storage import savemat\n",
    "from hdf5storage import loadmat\n",
    "import matplotlib.patches as mpatches\n",
    "import matplotlib\n",
    "import hickle\n",
    "\n",
    "import sys\n",
    "sys.path.append('../../src')"
   ]
  },
  {
   "cell_type": "code",
   "execution_count": 2,
   "metadata": {},
   "outputs": [],
   "source": [
    "import evaluation.eval_rank as eval_rank\n",
    "import evaluation.eval_utils as eval_utils"
   ]
  },
  {
   "cell_type": "code",
   "execution_count": 3,
   "metadata": {},
   "outputs": [],
   "source": [
    "data_path = '../../data/opp8.hkl'\n",
    "with open(data_path, 'r') as fin:\n",
    "    data = hickle.load(fin)\n",
    "\n",
    "test_gt = data['test_gt'][:,:,-1]"
   ]
  },
  {
   "cell_type": "code",
   "execution_count": 4,
   "metadata": {},
   "outputs": [
    {
     "data": {
      "text/plain": [
       "(119, 1024)"
      ]
     },
     "execution_count": 4,
     "metadata": {},
     "output_type": "execute_result"
    }
   ],
   "source": [
    "test_gt.shape"
   ]
  },
  {
   "cell_type": "code",
   "execution_count": 5,
   "metadata": {},
   "outputs": [],
   "source": [
    "data_num_step = 1024"
   ]
  },
  {
   "cell_type": "code",
   "execution_count": 6,
   "metadata": {},
   "outputs": [],
   "source": [
    "test_gt_idx_changes = []\n",
    "for i in range(len(test_gt)):\n",
    "    idx_changes = np.where(test_gt[i]==1)[0]\n",
    "    test_gt_idx_changes.append(idx_changes)    "
   ]
  },
  {
   "cell_type": "code",
   "execution_count": 7,
   "metadata": {},
   "outputs": [
    {
     "data": {
      "text/plain": [
       "(119, array([], dtype=int64))"
      ]
     },
     "execution_count": 7,
     "metadata": {},
     "output_type": "execute_result"
    }
   ],
   "source": [
    "len(test_gt_idx_changes), test_gt_idx_changes[0]"
   ]
  },
  {
   "cell_type": "code",
   "execution_count": 8,
   "metadata": {},
   "outputs": [],
   "source": [
    "CNN_Wm_8 = loadmat(\"../../poc/pocCNN_Wmultitask_8_opp\"+'.mat')['poc']\n",
    "NWN_Wm_8 = loadmat(\"../../poc/pocDWN_Wmultitask_8_opp\"+'.mat')['poc']\n",
    "RCNN_Wm_8 = loadmat(\"../../poc/pocRCNN_Wmultitask_8_opp\"+'.mat')['poc']\n"
   ]
  },
  {
   "cell_type": "code",
   "execution_count": 9,
   "metadata": {},
   "outputs": [],
   "source": [
    "cpd_val_CNN8, cpd_CNN8 = eval_rank.non_max_supression(CNN_Wm_8, window=5, data_num_step=data_num_step)\n",
    "cpd_val_NWN8, cpd_NWN8 = eval_rank.non_max_supression(NWN_Wm_8, window=5, data_num_step=data_num_step)\n",
    "cpd_val_RCNN8, cpd_RCNN8 = eval_rank.non_max_supression(RCNN_Wm_8, window=5, data_num_step=data_num_step)\n",
    "\n"
   ]
  },
  {
   "cell_type": "code",
   "execution_count": 10,
   "metadata": {},
   "outputs": [],
   "source": [
    "def tolerance_auc(cpd_val, cpd, gt_mean_test, tolerance):\n",
    "    out_put = []\n",
    "    for t in tolerance:\n",
    "        print t\n",
    "        out = eval_rank.parallel_ranking(cpd_val, cpd, gt_mean_test, t)\n",
    "        out_put.append(eval_utils.calc_auc(zip(out[0], out[1]), gt_mean_test))\n",
    "        \n",
    "    return out_put    "
   ]
  },
  {
   "cell_type": "code",
   "execution_count": 11,
   "metadata": {},
   "outputs": [
    {
     "name": "stdout",
     "output_type": "stream",
     "text": [
      "8\n",
      "1549\n",
      "5.45350790024\n",
      "16\n",
      "1549\n",
      "5.23963999748\n",
      "32\n",
      "1549\n",
      "5.00006103516\n",
      "64\n",
      "1549\n",
      "5.35895109177\n",
      "128\n",
      "1549\n",
      "5.77199888229\n",
      "256\n",
      "1549\n",
      "4.86627006531\n",
      "512\n",
      "1549\n",
      "4.71210384369\n",
      "8\n",
      "1542\n",
      "4.87884402275\n",
      "16\n",
      "1542\n",
      "4.95831894875\n",
      "32\n",
      "1542\n",
      "4.84993004799\n",
      "64\n",
      "1542\n",
      "4.59323501587\n",
      "128\n",
      "1542\n",
      "4.58318114281\n",
      "256\n",
      "1542\n",
      "4.60067605972\n",
      "512\n",
      "1542\n",
      "4.53983998299\n",
      "8\n",
      "1572\n",
      "4.24395489693\n",
      "16\n",
      "1572\n",
      "5.02293109894\n",
      "32\n",
      "1572\n",
      "4.76588177681\n",
      "64\n",
      "1572\n",
      "4.18538308144\n",
      "128\n",
      "1572\n",
      "4.65492916107\n",
      "256\n",
      "1572\n",
      "4.2047290802\n",
      "512\n",
      "1572\n",
      "4.52352190018\n"
     ]
    }
   ],
   "source": [
    "tolerance = [8, 16, 32, 64, 128, 256, 512]\n",
    "tol_auc_CNN8 = tolerance_auc(cpd_val_CNN8, cpd_CNN8, test_gt_idx_changes, tolerance)\n",
    "tol_auc_NWN8 = tolerance_auc(cpd_val_NWN8, cpd_NWN8, test_gt_idx_changes, tolerance)\n",
    "tol_auc_RCNN8 = tolerance_auc(cpd_val_RCNN8, cpd_RCNN8, test_gt_idx_changes, tolerance)"
   ]
  },
  {
   "cell_type": "code",
   "execution_count": 12,
   "metadata": {},
   "outputs": [],
   "source": [
    "#tol_auc_RCNN8 = tolerance_auc(cpd_val_RCNN8, cpd_RCNN8, test_gt_idx_changes, tolerance)"
   ]
  },
  {
   "cell_type": "code",
   "execution_count": 13,
   "metadata": {},
   "outputs": [
    {
     "name": "stderr",
     "output_type": "stream",
     "text": [
      "/data2/data/zebrahim/anaconda2/envs/tensorflow/lib/python2.7/site-packages/matplotlib/font_manager.py:1320: UserWarning: findfont: Font family [u'normal'] not found. Falling back to DejaVu Sans\n",
      "  (prop.get_family(), self.defaultFamily[fontext]))\n"
     ]
    },
    {
     "data": {
      "image/png": "[encoded data removed]",
      "text/plain": [
       "<matplotlib.figure.Figure at 0x7f41f12d6c50>"
      ]
     },
     "metadata": {},
     "output_type": "display_data"
    }
   ],
   "source": [
    "plt.figure(figsize=(8,5.5))\n",
    "plt.plot(tolerance,tol_auc_NWN8,'-oy',label ='DWN D=8')\n",
    "plt.plot(tolerance,tol_auc_CNN8,':vg',label ='CNN D=8')\n",
    "plt.plot(tolerance,tol_auc_RCNN8,'>:m',label ='RCNN D=8')\n",
    "\n",
    "font = {'family' : 'normal',\n",
    "        'size'   : 15\n",
    "         }\n",
    "\n",
    "matplotlib.rc('font', **font)\n",
    "\n",
    "plt.legend(loc='lower right', fontsize = 13)\n",
    "plt.ylim([0,1], )\n",
    "plt.grid()\n",
    "plt.xlabel('Tolerance', fontsize = 16)\n",
    "plt.ylabel('AUC', fontsize = 16)\n",
    "\n",
    "# show the results\n",
    "plt.show()\n",
    "\n",
    "#save the results\n",
    "#plt.savefig('../plot/plt1.png', bbox_inches = 'tight')"
   ]
  },
  {
   "cell_type": "code",
   "execution_count": null,
   "metadata": {},
   "outputs": [],
   "source": [
    "1"
   ]
  },
  {
   "cell_type": "code",
   "execution_count": null,
   "metadata": {},
   "outputs": [],
   "source": []
  },
  {
   "cell_type": "code",
   "execution_count": null,
   "metadata": {},
   "outputs": [],
   "source": []
  }
 ],
 "metadata": {
  "kernelspec": {
   "display_name": "Anaconca with Tensorflow",
   "language": "python",
   "name": "tensorflow"
  },
  "language_info": {
   "codemirror_mode": {
    "name": "ipython",
    "version": 2
   },
   "file_extension": ".py",
   "mimetype": "text/x-python",
   "name": "python",
   "nbconvert_exporter": "python",
   "pygments_lexer": "ipython2",
   "version": "2.7.13"
  }
 },
 "nbformat": 4,
 "nbformat_minor": 2
}
