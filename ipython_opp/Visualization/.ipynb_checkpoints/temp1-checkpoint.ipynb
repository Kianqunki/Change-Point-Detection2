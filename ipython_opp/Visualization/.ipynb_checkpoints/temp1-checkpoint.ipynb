{
 "cells": [
  {
   "cell_type": "code",
   "execution_count": 1,
   "metadata": {},
   "outputs": [],
   "source": [
    "%load_ext autoreload\n",
    "%autoreload 2\n",
    "import numpy as np\n",
    "import matplotlib.pyplot as plt\n",
    "\n",
    "from hdf5storage import savemat\n",
    "from hdf5storage import loadmat\n",
    "import matplotlib.patches as mpatches\n",
    "import matplotlib\n",
    "import hickle\n",
    "\n",
    "import sys\n",
    "sys.path.append('../../src')"
   ]
  },
  {
   "cell_type": "code",
   "execution_count": 2,
   "metadata": {},
   "outputs": [],
   "source": [
    "import evaluation.eval_rank as eval_rank\n",
    "import evaluation.eval_utils as eval_utils"
   ]
  },
  {
   "cell_type": "code",
   "execution_count": 3,
   "metadata": {},
   "outputs": [],
   "source": [
    "data_path = '../../data/opp8.hkl'\n",
    "with open(data_path, 'r') as fin:\n",
    "    data = hickle.load(fin)\n",
    "\n",
    "test_gt = data['test_gt'][:,:,-1]"
   ]
  },
  {
   "cell_type": "code",
   "execution_count": 4,
   "metadata": {},
   "outputs": [
    {
     "data": {
      "text/plain": [
       "(119, 1024)"
      ]
     },
     "execution_count": 4,
     "metadata": {},
     "output_type": "execute_result"
    }
   ],
   "source": [
    "test_gt.shape"
   ]
  },
  {
   "cell_type": "code",
   "execution_count": 5,
   "metadata": {},
   "outputs": [],
   "source": [
    "data_num_step = 1024"
   ]
  },
  {
   "cell_type": "code",
   "execution_count": 6,
   "metadata": {},
   "outputs": [],
   "source": [
    "test_gt_idx_changes = []\n",
    "for i in range(len(test_gt)):\n",
    "    idx_changes = np.where(test_gt[i]==1)[0]\n",
    "    test_gt_idx_changes.append(idx_changes)    "
   ]
  },
  {
   "cell_type": "code",
   "execution_count": 7,
   "metadata": {},
   "outputs": [
    {
     "data": {
      "text/plain": [
       "(119, array([], dtype=int64))"
      ]
     },
     "execution_count": 7,
     "metadata": {},
     "output_type": "execute_result"
    }
   ],
   "source": [
    "len(test_gt_idx_changes), test_gt_idx_changes[0]"
   ]
  },
  {
   "cell_type": "code",
   "execution_count": 8,
   "metadata": {},
   "outputs": [],
   "source": [
    "CNN_Wm_16 = loadmat(\"../../poc/pocCNN_16_1\"+'.mat')['poc']\n",
    "NWN_Wm_16 = loadmat(\"../../poc/pocDWN_16_1\"+'.mat')['poc']\n",
    "RCNN_Wm_16 = loadmat(\"../../poc/pocRCNN_Wmultitask_16_opp\"+'.mat')['poc']"
   ]
  },
  {
   "cell_type": "code",
   "execution_count": 9,
   "metadata": {},
   "outputs": [],
   "source": [
    "NewWavelet_16 = loadmat(\"../../poc/pocNewWavelet_16_1\"+'.mat')['poc']"
   ]
  },
  {
   "cell_type": "code",
   "execution_count": 11,
   "metadata": {},
   "outputs": [],
   "source": [
    "HRNN_NewWm_16 = loadmat(\"../../poc/pocHRNN_NewWavelet_Wmultitask_16_opp_20K_2\"+'.mat')['poc']\n",
    "HRNN_Wm_16 = loadmat(\"../../poc/pocHRNN_Wmultitask_16_opp2\"+'.mat')['poc']"
   ]
  },
  {
   "cell_type": "code",
   "execution_count": 12,
   "metadata": {},
   "outputs": [],
   "source": [
    "cpd_val_CNN16, cpd_CNN16 = eval_rank.non_max_supression(CNN_Wm_16, window=1, data_num_step=data_num_step)\n",
    "cpd_val_NWN16, cpd_NWN16 = eval_rank.non_max_supression(NWN_Wm_16, window=1, data_num_step=data_num_step)\n",
    "cpd_val_RCNN16, cpd_RCNN16 = eval_rank.non_max_supression(RCNN_Wm_16, window=1, data_num_step=data_num_step)\n",
    "cpd_val_HRNN16, cpd_HRNN16 = eval_rank.non_max_supression(HRNN_Wm_16, window=1, data_num_step=data_num_step)\n",
    "cpd_val_HRNN16_NewW, cpd_HRNN16_NewW = eval_rank.non_max_supression(HRNN_NewWm_16, window=1, data_num_step=data_num_step)"
   ]
  },
  {
   "cell_type": "code",
   "execution_count": 13,
   "metadata": {},
   "outputs": [],
   "source": [
    "cpd_val_NewWavelet16, cpd_NewWavelet16 = eval_rank.non_max_supression(NewWavelet_16, window=1, data_num_step=data_num_step)"
   ]
  },
  {
   "cell_type": "code",
   "execution_count": 14,
   "metadata": {},
   "outputs": [],
   "source": [
    "def tolerance_auc(cpd_val, cpd, gt_mean_test, tolerance):\n",
    "    out_put = []\n",
    "    for t in tolerance:\n",
    "        print t\n",
    "        out = eval_rank.parallel_ranking(cpd_val, cpd, gt_mean_test, t)\n",
    "        out_put.append(eval_utils.calc_auc(zip(out[0], out[1]), gt_mean_test))\n",
    "        \n",
    "    return out_put    "
   ]
  },
  {
   "cell_type": "code",
   "execution_count": 15,
   "metadata": {},
   "outputs": [],
   "source": [
    "tolerance = [2, 4, 8, 16, 32, 64, 128]"
   ]
  },
  {
   "cell_type": "code",
   "execution_count": 16,
   "metadata": {},
   "outputs": [
    {
     "name": "stdout",
     "output_type": "stream",
     "text": [
      "2\n",
      "4\n",
      "8\n",
      "16\n",
      "32\n",
      "64\n",
      "128\n"
     ]
    }
   ],
   "source": [
    "tol_auc_NewWavelet16 = tolerance_auc(cpd_val_NewWavelet16, cpd_NewWavelet16, test_gt_idx_changes, tolerance)"
   ]
  },
  {
   "cell_type": "code",
   "execution_count": 17,
   "metadata": {},
   "outputs": [
    {
     "name": "stdout",
     "output_type": "stream",
     "text": [
      "2\n",
      "4\n",
      "8\n",
      "16\n",
      "32\n",
      "64\n",
      "128\n",
      "2\n",
      "4\n",
      "8\n",
      "16\n",
      "32\n",
      "64\n",
      "128\n",
      "2\n",
      "4\n",
      "8\n",
      "16\n",
      "32\n",
      "64\n",
      "128\n",
      "2\n",
      "4\n",
      "8\n",
      "16\n",
      "32\n",
      "64\n",
      "128\n",
      "2\n",
      "4\n",
      "8\n",
      "16\n",
      "32\n",
      "64\n",
      "128\n",
      "2\n",
      "4\n",
      "8\n",
      "16\n",
      "32\n",
      "64\n",
      "128\n"
     ]
    }
   ],
   "source": [
    "tol_auc_CNN16 = tolerance_auc(cpd_val_CNN16, cpd_CNN16, test_gt_idx_changes, tolerance)\n",
    "tol_auc_NWN16 = tolerance_auc(cpd_val_NWN16, cpd_NWN16, test_gt_idx_changes, tolerance)\n",
    "tol_auc_RCNN16 = tolerance_auc(cpd_val_RCNN16, cpd_RCNN16, test_gt_idx_changes, tolerance)\n",
    "tol_auc_HRNN16 = tolerance_auc(cpd_val_HRNN16, cpd_HRNN16, test_gt_idx_changes, tolerance)\n",
    "tol_auc_HRNN16_NewW = tolerance_auc(cpd_val_HRNN16_NewW, cpd_HRNN16_NewW, test_gt_idx_changes, tolerance)"
   ]
  },
  {
   "cell_type": "code",
   "execution_count": null,
   "metadata": {},
   "outputs": [],
   "source": [
    "plt.figure(figsize=(8,5.5))\n",
    "\n",
    "#plt.plot(np.log2(tolerance),tol_auc_HRNN16_2,'d-.b',label ='HRNN_2 D=16')\n",
    "\n",
    "plt.plot(np.log2(tolerance),tol_auc_HRNN16_NewW,'d-g',label ='HRNN_Wavelet D=16')\n",
    "#plt.plot(np.log2(tolerance),tol_auc_NewWavelet162,':sc',label ='NewW D=16')\n",
    "plt.plot(np.log2(tolerance),tol_auc_NewWavelet16,':sb',label ='Wavelet D=16')\n",
    "plt.plot(np.log2(tolerance),tol_auc_RCNN16,'--*r',label ='RCNN D=16')\n",
    "#plt.plot(np.log2(tolerance),tol_auc_NWN16,'--oc',label ='DWN D=16')\n",
    "plt.plot(np.log2(tolerance),tol_auc_CNN16,'-.ok',label ='CNN D=16')\n",
    "\n",
    "font = {'family' : 'normal',\n",
    "        'size'   : 15\n",
    "         }\n",
    "\n",
    "matplotlib.rc('font', **font)\n",
    "\n",
    "plt.legend(loc='lower right', fontsize = 13)\n",
    "plt.ylim([0,1], )\n",
    "plt.grid()\n",
    "plt.xlabel('$log_2(tolerance)$', fontsize = 16)\n",
    "plt.ylabel('$AUC$', fontsize = 16)\n",
    "plt.title(\"Results on Opportunity dataset\")\n",
    "# show the results\n",
    "#plt.show()\n",
    "\n",
    "#save the results\n",
    "plt.savefig('../../plot/plt1.png', bbox_inches = 'tight')"
   ]
  },
  {
   "cell_type": "code",
   "execution_count": 15,
   "metadata": {},
   "outputs": [
    {
     "data": {
      "image/png": "[encoded data removed]",
      "text/plain": [
       "<matplotlib.figure.Figure at 0x7f28242c3350>"
      ]
     },
     "metadata": {},
     "output_type": "display_data"
    }
   ],
   "source": [
    "plt.figure(figsize=(8,5.5))\n",
    "\n",
    "#plt.plot(np.log2(tolerance),tol_auc_HRNN16_NewW,'-*c',label ='HRNN_NewW D=16')\n",
    "plt.plot(np.log2(tolerance),tol_auc_HRNN16,'-*c',label ='HRNN D=16')\n",
    "plt.plot(np.log2(tolerance),tol_auc_RCNN16,'P--m',label ='RCNN D=16')\n",
    "plt.plot(np.log2(tolerance),tol_auc_WCRNN16,'d-.b',label ='RWCNN D=16')\n",
    "plt.plot(np.log2(tolerance),tol_auc_NWN16,'-oy',label ='WCNN D=16')\n",
    "plt.plot(np.log2(tolerance),tol_auc_CNN16,':vg',label ='CNN D=16')\n",
    "\n",
    "font = {'family' : 'normal',\n",
    "        'size'   : 15\n",
    "         }\n",
    "\n",
    "matplotlib.rc('font', **font)\n",
    "\n",
    "plt.legend(loc='lower right', fontsize = 13)\n",
    "plt.ylim([0,1], )\n",
    "plt.grid()\n",
    "plt.xlabel('Tolerance', fontsize = 16)\n",
    "plt.ylabel('AUC', fontsize = 16)\n",
    "plt.title(\"Opportunity dataset\")\n",
    "# show the results\n",
    "plt.show()\n",
    "\n",
    "#save the results\n",
    "#plt.savefig('../plot/plt1.png', bbox_inches = 'tight')"
   ]
  },
  {
   "cell_type": "code",
   "execution_count": null,
   "metadata": {},
   "outputs": [],
   "source": []
  }
 ],
 "metadata": {
  "kernelspec": {
   "display_name": "Anaconca with Tensorflow",
   "language": "python",
   "name": "tensorflow"
  },
  "language_info": {
   "codemirror_mode": {
    "name": "ipython",
    "version": 2
   },
   "file_extension": ".py",
   "mimetype": "text/x-python",
   "name": "python",
   "nbconvert_exporter": "python",
   "pygments_lexer": "ipython2",
   "version": "2.7.13"
  }
 },
 "nbformat": 4,
 "nbformat_minor": 2
}
