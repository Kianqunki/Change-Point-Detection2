{
 "cells": [
  {
   "cell_type": "code",
   "execution_count": 1,
   "metadata": {
    "collapsed": true
   },
   "outputs": [],
   "source": [
    "# useing this variable for saving models and summaries\n",
    "exp_name = \"RCNN_cpd_64\""
   ]
  },
  {
   "cell_type": "markdown",
   "metadata": {},
   "source": [
    "## Importing Libraries"
   ]
  },
  {
   "cell_type": "code",
   "execution_count": 2,
   "metadata": {
    "collapsed": false
   },
   "outputs": [],
   "source": [
    "%load_ext autoreload\n",
    "%autoreload 2\n",
    "import tensorflow as tf\n",
    "import numpy as np\n",
    "from hdf5storage import savemat\n",
    "import hickle \n",
    "\n",
    "import sys\n",
    "sys.path.append('../src')"
   ]
  },
  {
   "cell_type": "code",
   "execution_count": 3,
   "metadata": {},
   "outputs": [],
   "source": [
    "import models.CNN_lstm_model as CNN_lstm_model\n",
    "import training\n",
    "import evaluation.nn_eval as nn_eval"
   ]
  },
  {
   "cell_type": "markdown",
   "metadata": {},
   "source": [
    "## Loading synthetic data"
   ]
  },
  {
   "cell_type": "code",
   "execution_count": 4,
   "metadata": {
    "collapsed": false
   },
   "outputs": [],
   "source": [
    "#loading data\n",
    "data_path= '../data/opp7.hkl'\n",
    "with open(data_path, 'r') as fin:\n",
    "    data = hickle.load(fin)"
   ]
  },
  {
   "cell_type": "code",
   "execution_count": 5,
   "metadata": {},
   "outputs": [],
   "source": [
    "train_data = data['train_data']\n",
    "validation_data = data['validation_data']\n",
    "test_data = data['test_data']\n",
    "\n",
    "train_gt = data['train_gt']\n",
    "validation_gt = data['validation_gt']\n",
    "test_gt = data['test_gt']"
   ]
  },
  {
   "cell_type": "code",
   "execution_count": 6,
   "metadata": {},
   "outputs": [
    {
     "data": {
      "text/plain": [
       "((1358, 1024, 77), (1358, 1024, 1))"
      ]
     },
     "execution_count": 6,
     "metadata": {},
     "output_type": "execute_result"
    }
   ],
   "source": [
    "train_data.shape, train_gt.shape"
   ]
  },
  {
   "cell_type": "code",
   "execution_count": 7,
   "metadata": {},
   "outputs": [
    {
     "data": {
      "text/plain": [
       "((233, 1024, 77), (233, 1024, 1))"
      ]
     },
     "execution_count": 7,
     "metadata": {},
     "output_type": "execute_result"
    }
   ],
   "source": [
    "test_data.shape, test_gt.shape"
   ]
  },
  {
   "cell_type": "markdown",
   "metadata": {},
   "source": [
    "## Model"
   ]
  },
  {
   "cell_type": "code",
   "execution_count": 8,
   "metadata": {
    "collapsed": false
   },
   "outputs": [
    {
     "name": "stdout",
     "output_type": "stream",
     "text": [
      "1390592 21728 1390592\n"
     ]
    }
   ],
   "source": [
    "# Model parameters\n",
    "n_variables = 77\n",
    "learning_rate = 0.001\n",
    "batch_size = 10\n",
    "\n",
    "pooling_stride = [4, 4, 4]\n",
    "weights_shape = [[9, n_variables, 32],\n",
    "                 [5, 32, 32],\n",
    "                 [5, 32, 32]]\n",
    "bias_shape = [32, 32, 32]\n",
    "activation = tf.nn.relu\n",
    "\n",
    "lstm_n_hidden = 128\n",
    "n_classes = 1\n",
    "\n",
    "##positive weight for weighted cross entropy\n",
    "s = train_gt.shape\n",
    "resolution = np.prod(pooling_stride)\n",
    "\n",
    "print s[0]*s[1], (s[0]*s[1]/resolution), (s[0]*s[1]/resolution)*resolution\n",
    "\n",
    "pooled_gt = np.reshape(train_gt[:,:(s[0]*s[1]/resolution)*resolution,:], (s[0]*(s[1]/resolution), resolution, s[2])).max(axis=1)\n",
    "pos_weight = (1.0 - pooled_gt.mean(axis = 0)) / pooled_gt.mean(axis=0)\n"
   ]
  },
  {
   "cell_type": "code",
   "execution_count": 9,
   "metadata": {
    "collapsed": false
   },
   "outputs": [
    {
     "data": {
      "text/plain": [
       "(1,)"
      ]
     },
     "execution_count": 9,
     "metadata": {},
     "output_type": "execute_result"
    }
   ],
   "source": [
    "pos_weight.shape"
   ]
  },
  {
   "cell_type": "code",
   "execution_count": 10,
   "metadata": {},
   "outputs": [
    {
     "data": {
      "text/plain": [
       "array([ 2.15172601], dtype=float32)"
      ]
     },
     "execution_count": 10,
     "metadata": {},
     "output_type": "execute_result"
    }
   ],
   "source": [
    "pos_weight"
   ]
  },
  {
   "cell_type": "code",
   "execution_count": 11,
   "metadata": {},
   "outputs": [],
   "source": [
    "# Launch the graph\n",
    "config = tf.ConfigProto()\n",
    "config.gpu_options.allow_growth = True\n",
    "sess = tf.Session(config=config)"
   ]
  },
  {
   "cell_type": "code",
   "execution_count": 12,
   "metadata": {},
   "outputs": [],
   "source": [
    "summary_path = '../summary/' + exp_name \n",
    "checkpoint_path = '../model/' + exp_name + '/' + exp_name "
   ]
  },
  {
   "cell_type": "code",
   "execution_count": 13,
   "metadata": {
    "collapsed": false
   },
   "outputs": [],
   "source": [
    "model = CNN_lstm_model.Model(n_variables = n_variables,\n",
    "                        n_classes = n_classes)"
   ]
  },
  {
   "cell_type": "code",
   "execution_count": 14,
   "metadata": {
    "collapsed": false
   },
   "outputs": [],
   "source": [
    "model.build_cnn_lstm_net(pooling_stride = pooling_stride,\n",
    "                         weights_shape = weights_shape,\n",
    "                         bias_shape = bias_shape,\n",
    "                         activation = activation,\n",
    "                         lstm_n_hidden = lstm_n_hidden,\n",
    "                         n_classes = n_classes,\n",
    "                         learning_rate = learning_rate,\n",
    "                         pos_weight = pos_weight,\n",
    "                         trainable_conv = False,\n",
    "                         trainable_last = True)"
   ]
  },
  {
   "cell_type": "code",
   "execution_count": 15,
   "metadata": {
    "collapsed": false
   },
   "outputs": [],
   "source": [
    "trainer = training.Trainer(model = model,\n",
    "                    data_train = train_data,\n",
    "                    ground_truth_train = train_gt,\n",
    "                    data_validation = test_data,\n",
    "                    ground_truth_validation = test_gt,\n",
    "                    sess = sess,\n",
    "                    summary_path = summary_path,\n",
    "                    batch_size = batch_size,\n",
    "                    global_step = 0,\n",
    "                    eval_type = 'change')"
   ]
  },
  {
   "cell_type": "code",
   "execution_count": 16,
   "metadata": {},
   "outputs": [
    {
     "name": "stdout",
     "output_type": "stream",
     "text": [
      "INFO:tensorflow:Restoring parameters from ../model/RCNN9001_opp/RCNN9001_opp-20000\n"
     ]
    }
   ],
   "source": [
    "#load the model\n",
    "saver = tf.train.Saver(var_list = [\n",
    "    model.weights['wc0'],model.weights['wc1'],model.weights['wc2'],\n",
    "    model.bias['bc0'],model.bias['bc1'],model.bias['bc2'],\n",
    "    #model.weights_rnn['out'], model.bias_rnn['out'],\n",
    "])\n",
    "saver.restore(sess, '../model/RCNN9001_opp/RCNN9001_opp-20000')"
   ]
  },
  {
   "cell_type": "code",
   "execution_count": null,
   "metadata": {
    "collapsed": false
   },
   "outputs": [
    {
     "name": "stdout",
     "output_type": "stream",
     "text": [
      "Train Batch Evaluation\n",
      "AUC = 0.181 vs. 0.314\n",
      "F1 = 0.310 vs. 0.429\n",
      "Precision = 0.184 vs. 0.327\n",
      "Recall = 1.000 vs. 0.621\n",
      "Validation\n",
      "AUC = 0.167 vs. 0.192\n",
      "F1 = 0.319 vs. 0.317\n",
      "Precision = 0.190 vs. 0.188\n",
      "Recall = 0.994 vs. 1.000\n",
      "Minibatch Loss= 2.810703\n",
      "Train Batch Evaluation\n",
      "AUC = 0.900 vs. 0.298\n",
      "F1 = 0.879 vs. 0.343\n",
      "Precision = 0.853 vs. 0.222\n",
      "Recall = 0.906 vs. 0.750\n",
      "Validation\n",
      "AUC = 0.730 vs. 0.193\n",
      "F1 = 0.708 vs. 0.317\n",
      "Precision = 0.670 vs. 0.188\n",
      "Recall = 0.751 vs. 1.000\n",
      "Minibatch Loss= 0.232003\n",
      "Train Batch Evaluation\n",
      "AUC = 0.940 vs. 0.452\n",
      "F1 = 0.861 vs. 0.608\n",
      "Precision = 0.843 vs. 0.440\n",
      "Recall = 0.881 vs. 0.985\n",
      "Validation\n",
      "AUC = 0.762 vs. 0.192\n",
      "F1 = 0.726 vs. 0.317\n",
      "Precision = 0.648 vs. 0.188\n",
      "Recall = 0.825 vs. 0.999\n",
      "Minibatch Loss= 0.381427\n",
      "Train Batch Evaluation\n",
      "AUC = 0.928 vs. 0.387\n",
      "F1 = 0.892 vs. 0.602\n",
      "Precision = 0.825 vs. 0.430\n",
      "Recall = 0.971 vs. 1.000\n",
      "Validation\n",
      "AUC = 0.769 vs. 0.199\n",
      "F1 = 0.722 vs. 0.317\n",
      "Precision = 0.667 vs. 0.188\n",
      "Recall = 0.786 vs. 1.000\n",
      "Minibatch Loss= 0.379520\n",
      "Train Batch Evaluation\n",
      "AUC = 0.965 vs. 0.384\n",
      "F1 = 0.906 vs. 0.511\n",
      "Precision = 0.906 vs. 0.362\n",
      "Recall = 0.906 vs. 0.868\n",
      "Validation\n",
      "AUC = 0.786 vs. 0.182\n",
      "F1 = 0.735 vs. 0.317\n",
      "Precision = 0.684 vs. 0.189\n",
      "Recall = 0.795 vs. 1.000\n",
      "Minibatch Loss= 0.241056\n",
      "Train Batch Evaluation\n",
      "AUC = 0.948 vs. 0.262\n",
      "F1 = 0.923 vs. 0.446\n",
      "Precision = 0.913 vs. 0.291\n",
      "Recall = 0.933 vs. 0.956\n",
      "Validation\n",
      "AUC = 0.783 vs. 0.189\n",
      "F1 = 0.727 vs. 0.317\n",
      "Precision = 0.700 vs. 0.188\n",
      "Recall = 0.755 vs. 1.000\n",
      "Minibatch Loss= 0.212061\n",
      "Train Batch Evaluation\n",
      "AUC = 0.978 vs. 0.307\n",
      "F1 = 0.958 vs. 0.462\n",
      "Precision = 0.958 vs. 0.300\n",
      "Recall = 0.958 vs. 1.000\n",
      "Validation\n",
      "AUC = 0.796 vs. 0.181\n",
      "F1 = 0.741 vs. 0.318\n",
      "Precision = 0.710 vs. 0.189\n",
      "Recall = 0.776 vs. 0.996\n",
      "Minibatch Loss= 0.175706\n"
     ]
    }
   ],
   "source": [
    "trainer.train(max_iter = 20000,\n",
    "                train_eval_step = 100, \n",
    "                validation_eval_step = 100,\n",
    "                display_step = 100)"
   ]
  },
  {
   "cell_type": "code",
   "execution_count": null,
   "metadata": {
    "collapsed": false
   },
   "outputs": [],
   "source": [
    "#Save the model\n",
    "saver = tf.train.Saver()\n",
    "saver.save(sess, checkpoint_path, global_step=trainer.global_step)"
   ]
  },
  {
   "cell_type": "code",
   "execution_count": null,
   "metadata": {
    "collapsed": false
   },
   "outputs": [],
   "source": [
    "#load the model\n",
    "saver = tf.train.Saver()\n",
    "#saver.restore(sess, \"../model\" + \"/CNN7002_Gleam\" + \"/CNN7002_Gleam\")\n",
    "saver.restore(sess, '../model/CNN7002_Gleam/CNN7002_Gleam-10000')\n"
   ]
  },
  {
   "cell_type": "code",
   "execution_count": null,
   "metadata": {
    "collapsed": false
   },
   "outputs": [],
   "source": [
    "#This is the model evaluation on test dataset\n",
    "result = nn_eval.evaluate_model (model, sess, test_data, test_gt)"
   ]
  },
  {
   "cell_type": "code",
   "execution_count": null,
   "metadata": {},
   "outputs": [],
   "source": [
    "probability_of_pos = nn_eval.deploy(model, sess, test_data, test_gt)"
   ]
  },
  {
   "cell_type": "code",
   "execution_count": null,
   "metadata": {
    "collapsed": true
   },
   "outputs": [],
   "source": [
    "#shape of probability_change is (batch size, T, num_classes)\n",
    "#since num_classes = 1 we squeeze that axis\n",
    "probability_change = np.squeeze(probability_of_pos, axis = 2)"
   ]
  },
  {
   "cell_type": "code",
   "execution_count": null,
   "metadata": {
    "collapsed": false
   },
   "outputs": [],
   "source": [
    "savemat('../poc/poc'+exp_name+'.mat', {'poc':probability_change})"
   ]
  },
  {
   "cell_type": "code",
   "execution_count": null,
   "metadata": {},
   "outputs": [],
   "source": [
    "1"
   ]
  },
  {
   "cell_type": "code",
   "execution_count": null,
   "metadata": {},
   "outputs": [],
   "source": []
  }
 ],
 "metadata": {
  "anaconda-cloud": {},
  "kernelspec": {
   "display_name": "Anaconca with Tensorflow",
   "language": "python",
   "name": "tensorflow"
  },
  "language_info": {
   "codemirror_mode": {
    "name": "ipython",
    "version": 2
   },
   "file_extension": ".py",
   "mimetype": "text/x-python",
   "name": "python",
   "nbconvert_exporter": "python",
   "pygments_lexer": "ipython2",
   "version": "2.7.13"
  }
 },
 "nbformat": 4,
 "nbformat_minor": 2
}
