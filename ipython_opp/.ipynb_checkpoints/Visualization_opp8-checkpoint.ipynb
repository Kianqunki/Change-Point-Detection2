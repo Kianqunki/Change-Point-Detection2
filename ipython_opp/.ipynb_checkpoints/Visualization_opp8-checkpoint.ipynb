{
 "cells": [
  {
   "cell_type": "code",
   "execution_count": 1,
   "metadata": {},
   "outputs": [],
   "source": [
    "%load_ext autoreload\n",
    "%autoreload 2\n",
    "import numpy as np\n",
    "import matplotlib.pyplot as plt\n",
    "\n",
    "from hdf5storage import savemat\n",
    "from hdf5storage import loadmat\n",
    "import matplotlib.patches as mpatches\n",
    "import matplotlib\n",
    "import hickle\n",
    "\n",
    "import sys\n",
    "sys.path.append('../src')"
   ]
  },
  {
   "cell_type": "code",
   "execution_count": 2,
   "metadata": {},
   "outputs": [],
   "source": [
    "import evaluation.eval_rank as eval_rank\n",
    "import evaluation.eval_utils as eval_utils"
   ]
  },
  {
   "cell_type": "code",
   "execution_count": 3,
   "metadata": {},
   "outputs": [],
   "source": [
    "data_path = '../data/opp8.hkl'\n",
    "with open(data_path, 'r') as fin:\n",
    "    data = hickle.load(fin)\n",
    "\n",
    "test_gt = data['test_gt'][:,:,-1]"
   ]
  },
  {
   "cell_type": "code",
   "execution_count": 4,
   "metadata": {},
   "outputs": [
    {
     "data": {
      "text/plain": [
       "(233, 1024)"
      ]
     },
     "execution_count": 4,
     "metadata": {},
     "output_type": "execute_result"
    }
   ],
   "source": [
    "test_gt.shape"
   ]
  },
  {
   "cell_type": "code",
   "execution_count": 5,
   "metadata": {},
   "outputs": [],
   "source": [
    "data_num_step = 1024"
   ]
  },
  {
   "cell_type": "code",
   "execution_count": 6,
   "metadata": {},
   "outputs": [],
   "source": [
    "test_gt_idx_changes = []\n",
    "for i in range(len(test_gt)):\n",
    "    idx_changes = np.where(test_gt[i]==1)[0]\n",
    "    test_gt_idx_changes.append(idx_changes)    "
   ]
  },
  {
   "cell_type": "code",
   "execution_count": 7,
   "metadata": {},
   "outputs": [
    {
     "data": {
      "text/plain": [
       "(233, array([], dtype=int64))"
      ]
     },
     "execution_count": 7,
     "metadata": {},
     "output_type": "execute_result"
    }
   ],
   "source": [
    "len(test_gt_idx_changes), test_gt_idx_changes[0]"
   ]
  },
  {
   "cell_type": "code",
   "execution_count": 8,
   "metadata": {},
   "outputs": [],
   "source": [
    "CNN_64 = loadmat(\"../poc/pocCNN_cpd_64\"+'.mat')['poc']\n",
    "NWN_64 = loadmat(\"../poc/pocDWN_cpd_64\"+'.mat')['poc']\n",
    "RCNN64 = loadmat(\"../poc/pocRCNN_cpd_64\"+'.mat')['poc']\n",
    "\n",
    "#CNN_Wm_32 = loadmat(\"../poc/pocCNN_Wmultitask_32_opp\"+'.mat')['poc']\n",
    "#NWN_Wm_32 = loadmat(\"../poc/pocDWN_Wmultitask_32_opp\"+'.mat')['poc']\n"
   ]
  },
  {
   "cell_type": "code",
   "execution_count": 12,
   "metadata": {},
   "outputs": [],
   "source": [
    "cpd_val_CNN64, cpd_CNN64 = eval_rank.non_max_supression(CNN_64, window=15, data_num_step=data_num_step)\n",
    "#cpd_val_CNN32, cpd_CNN32 = eval_rank.non_max_supression(CNN_Wm_32, window=15, data_num_step=data_num_step)\n",
    "\n",
    "cpd_val_NWN64, cpd_NWN64 = eval_rank.non_max_supression(NWN_64, window=15, data_num_step=data_num_step)\n",
    "#cpd_val_NWN64, cpd_NWN64 = eval_rank.non_max_supression(CNN_Wm_32, window=15, data_num_step=data_num_step)\n",
    "\n",
    "cpd_valRCNN64, cpdRCNN64 = eval_rank.non_max_supression(RCNN64, window=15, data_num_step=data_num_step)"
   ]
  },
  {
   "cell_type": "code",
   "execution_count": null,
   "metadata": {},
   "outputs": [],
   "source": [
    "def tolerance_auc(cpd_val, cpd, gt_mean_test, tolerance):\n",
    "    out_put = []\n",
    "    for t in tolerance:\n",
    "        out = eval_rank.ranking(cpd_val, cpd, gt_mean_test, t)\n",
    "        out_put.append(eval_utils.calc_auc(zip(out[0], out[1]), gt_mean_test))\n",
    "        \n",
    "    return out_put    "
   ]
  },
  {
   "cell_type": "code",
   "execution_count": null,
   "metadata": {},
   "outputs": [],
   "source": []
  },
  {
   "cell_type": "code",
   "execution_count": null,
   "metadata": {},
   "outputs": [],
   "source": [
    "tolerance = [8, 16, 32, 64, 128, 256, 512]\n",
    "tol_auc_CNN64 = tolerance_auc(cpd_val_CNN64, cpd_CNN64, test_gt_idx_changes, tolerance)\n",
    "tol_auc_NWN64 = tolerance_auc(cpd_val_NWN64, cpd_NWN64, test_gt_idx_changes, tolerance)\n",
    "tol_auc_RCNN64 = tolerance_auc(cpd_valRCNN64, cpdRCNN64, test_gt_idx_changes, tolerance)\n",
    "\n",
    "#tol_auc_CNN32 = tolerance_auc(cpd_val_CNN32, cpd_CNN32, test_gt_idx_changes, tolerance)\n",
    "#tol_auc_NWN32 = tolerance_auc(cpd_val_NWN32, cpd_NWN32, test_gt_idx_changes, tolerance)"
   ]
  },
  {
   "cell_type": "code",
   "execution_count": null,
   "metadata": {},
   "outputs": [],
   "source": [
    "plt.figure(figsize=(8,5.5))\n",
    "plt.plot(tolerance,tol_auc2001,'-oy',label ='DWN D=64')\n",
    "plt.plot(tolerance,tol_auc1001,':vg',label ='CNN D=64')\n",
    "plt.plot(tolerance,tol_auc4001,'>:m',label ='RCNN D=64')\n",
    "\n",
    "font = {'family' : 'normal',\n",
    "        'size'   : 15\n",
    "         }\n",
    "\n",
    "matplotlib.rc('font', **font)\n",
    "\n",
    "plt.legend(loc='lower right', fontsize = 13)\n",
    "plt.ylim([0,1], )\n",
    "plt.grid()\n",
    "plt.xlabel('Tolerance', fontsize = 16)\n",
    "plt.ylabel('AUC', fontsize = 16)\n",
    "\n",
    "# show the results\n",
    "plt.show()\n",
    "\n",
    "#save the results\n",
    "#plt.savefig('../plot/plt1.png', bbox_inches = 'tight')"
   ]
  },
  {
   "cell_type": "code",
   "execution_count": null,
   "metadata": {},
   "outputs": [],
   "source": []
  },
  {
   "cell_type": "code",
   "execution_count": null,
   "metadata": {},
   "outputs": [],
   "source": []
  },
  {
   "cell_type": "code",
   "execution_count": null,
   "metadata": {},
   "outputs": [],
   "source": []
  }
 ],
 "metadata": {
  "kernelspec": {
   "display_name": "Anaconca with Tensorflow",
   "language": "python",
   "name": "tensorflow"
  },
  "language_info": {
   "codemirror_mode": {
    "name": "ipython",
    "version": 2
   },
   "file_extension": ".py",
   "mimetype": "text/x-python",
   "name": "python",
   "nbconvert_exporter": "python",
   "pygments_lexer": "ipython2",
   "version": "2.7.13"
  }
 },
 "nbformat": 4,
 "nbformat_minor": 2
}
