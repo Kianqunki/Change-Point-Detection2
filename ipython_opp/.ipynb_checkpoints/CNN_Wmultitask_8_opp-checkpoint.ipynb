{
 "cells": [
  {
   "cell_type": "code",
   "execution_count": 1,
   "metadata": {
    "collapsed": true
   },
   "outputs": [],
   "source": [
    "# useing this variable for saving models and summaries\n",
    "exp_name = \"CNN_Wmultitask_8_opp\""
   ]
  },
  {
   "cell_type": "markdown",
   "metadata": {},
   "source": [
    "## Importing Libraries"
   ]
  },
  {
   "cell_type": "code",
   "execution_count": 2,
   "metadata": {
    "collapsed": false
   },
   "outputs": [],
   "source": [
    "%load_ext autoreload\n",
    "%autoreload 2\n",
    "import tensorflow as tf\n",
    "import numpy as np\n",
    "from hdf5storage import savemat\n",
    "import hickle \n",
    "\n",
    "import sys\n",
    "sys.path.append('../src')"
   ]
  },
  {
   "cell_type": "code",
   "execution_count": 3,
   "metadata": {},
   "outputs": [],
   "source": [
    "import models.CNN_model as CNN_model\n",
    "import training\n",
    "import evaluation.nn_eval_multitask as nn_eval"
   ]
  },
  {
   "cell_type": "markdown",
   "metadata": {},
   "source": [
    "## Loading synthetic data"
   ]
  },
  {
   "cell_type": "code",
   "execution_count": 4,
   "metadata": {
    "collapsed": false
   },
   "outputs": [],
   "source": [
    "#loading data\n",
    "data_path= '../data/opp8.hkl'\n",
    "with open(data_path, 'r') as fin:\n",
    "    data = hickle.load(fin)"
   ]
  },
  {
   "cell_type": "code",
   "execution_count": 5,
   "metadata": {},
   "outputs": [],
   "source": [
    "train_data = data['train_data']\n",
    "validation_data = data['validation_data']\n",
    "test_data = data['test_data']\n",
    "\n",
    "train_gt = data['train_gt']\n",
    "validation_gt = data['validation_gt']\n",
    "test_gt = data['test_gt']"
   ]
  },
  {
   "cell_type": "code",
   "execution_count": 6,
   "metadata": {},
   "outputs": [
    {
     "data": {
      "text/plain": [
       "((691, 1024, 77), (691, 1024, 19))"
      ]
     },
     "execution_count": 6,
     "metadata": {},
     "output_type": "execute_result"
    }
   ],
   "source": [
    "train_data.shape, train_gt.shape"
   ]
  },
  {
   "cell_type": "code",
   "execution_count": 7,
   "metadata": {},
   "outputs": [
    {
     "data": {
      "text/plain": [
       "((119, 1024, 77), (119, 1024, 19))"
      ]
     },
     "execution_count": 7,
     "metadata": {},
     "output_type": "execute_result"
    }
   ],
   "source": [
    "test_data.shape, test_gt.shape"
   ]
  },
  {
   "cell_type": "markdown",
   "metadata": {},
   "source": [
    "## Model"
   ]
  },
  {
   "cell_type": "code",
   "execution_count": 8,
   "metadata": {
    "collapsed": false
   },
   "outputs": [],
   "source": [
    "# Model parameters\n",
    "n_variables = 77\n",
    "learning_rate = 0.001\n",
    "batch_size = 100\n",
    "\n",
    "convolution_levels = 3    #number of convolution to have in the network\n",
    "pooling_stride = [2, 2, 2]\n",
    "weights_shape = [[5, n_variables, 32],\n",
    "                 [5, 32, 32],\n",
    "                 [5, 32, 32]]\n",
    "bias_shape = [32, 32, 32]\n",
    "activation = tf.nn.relu\n",
    "n_classes = 19\n",
    "\n",
    "##positive weight for weighted cross entropy\n",
    "s = train_gt.shape\n",
    "resolution = np.prod(pooling_stride)\n",
    "pooled_gt = np.reshape(train_gt[:,:(s[0]*s[1]/resolution)*resolution,:], (s[0]*(s[1]/resolution), resolution, s[2])).max(axis=1)\n",
    "pos_weight = (1.0 - pooled_gt.mean(axis = 0)) / pooled_gt.mean(axis=0)\n",
    "\n",
    "\n",
    "variables_weights = np.ones((n_classes,))"
   ]
  },
  {
   "cell_type": "code",
   "execution_count": 9,
   "metadata": {
    "collapsed": false
   },
   "outputs": [
    {
     "data": {
      "text/plain": [
       "(19,)"
      ]
     },
     "execution_count": 9,
     "metadata": {},
     "output_type": "execute_result"
    }
   ],
   "source": [
    "pos_weight.shape"
   ]
  },
  {
   "cell_type": "code",
   "execution_count": 10,
   "metadata": {},
   "outputs": [
    {
     "data": {
      "text/plain": [
       "array([  0.36565482,  48.46756152,  47.65126513,  50.0669746 ,\n",
       "        49.94930876,  40.02411874,  41.52307692,  58.84303112,\n",
       "        63.4664723 ,  75.37996546,  86.74603175,  80.14495413,\n",
       "        87.27145709,  69.42038217,  68.86413902,  43.71587462,\n",
       "        13.05721551,  58.2021419 ,  10.05323669])"
      ]
     },
     "execution_count": 10,
     "metadata": {},
     "output_type": "execute_result"
    }
   ],
   "source": [
    "pos_weight"
   ]
  },
  {
   "cell_type": "code",
   "execution_count": 11,
   "metadata": {},
   "outputs": [],
   "source": [
    "# Launch the graph\n",
    "config = tf.ConfigProto()\n",
    "config.gpu_options.allow_growth = True\n",
    "sess = tf.Session(config=config)"
   ]
  },
  {
   "cell_type": "code",
   "execution_count": 12,
   "metadata": {},
   "outputs": [],
   "source": [
    "summary_path = '../summary/' + exp_name \n",
    "checkpoint_path = '../model/' + exp_name + '/' + exp_name "
   ]
  },
  {
   "cell_type": "code",
   "execution_count": 13,
   "metadata": {
    "collapsed": false
   },
   "outputs": [],
   "source": [
    "model = CNN_model.Model(n_variables = n_variables,\n",
    "                        learning_rate = learning_rate,\n",
    "                        n_classes = n_classes)"
   ]
  },
  {
   "cell_type": "code",
   "execution_count": 14,
   "metadata": {
    "collapsed": false
   },
   "outputs": [],
   "source": [
    "model.build_conv_net(pos_weight_values = pos_weight,\n",
    "                     learning_rate = learning_rate,\n",
    "                     convolution_levels = convolution_levels, \n",
    "                     pooling_stride = pooling_stride,\n",
    "                     weights_shape = weights_shape,\n",
    "                     bias_shape = bias_shape,\n",
    "                     n_classes = n_classes,\n",
    "                     activation = activation,\n",
    "                     trainable_conv = True,\n",
    "                     trainable_last = True,\n",
    "                     variables_weights = variables_weights)"
   ]
  },
  {
   "cell_type": "code",
   "execution_count": null,
   "metadata": {
    "collapsed": false
   },
   "outputs": [],
   "source": [
    "trainer = training.Trainer(model = model,\n",
    "                    data_train = train_data,\n",
    "                    ground_truth_train = train_gt,\n",
    "                    data_validation = test_data,\n",
    "                    ground_truth_validation = test_gt,\n",
    "                    sess = sess,\n",
    "                    summary_path = summary_path,\n",
    "                    batch_size = batch_size,\n",
    "                    global_step = 0,\n",
    "                    eval_type = 'multitask')"
   ]
  },
  {
   "cell_type": "code",
   "execution_count": null,
   "metadata": {
    "collapsed": false
   },
   "outputs": [
    {
     "name": "stdout",
     "output_type": "stream",
     "text": [
      "Train Batch Evaluation\n",
      "ACTIVITY RECOGNITION\n",
      "AUC = 0.067 vs. 0.060\n",
      "F1 = 0.104 vs. 0.090\n",
      "Accuracy = 0.021 vs. 0.056\n",
      "CHANGE DETECTION\n",
      "AUC = 0.085 vs. 0.091\n",
      "F1 = 0.161 vs. 0.159\n",
      "Precision = 0.089 vs. 0.086\n",
      "Recall = 0.909 vs. 0.978\n",
      "Validation\n",
      "ACTIVITY RECOGNITION\n",
      "AUC = 0.059 vs. 0.059\n",
      "F1 = 0.085 vs. 0.081\n",
      "Accuracy = 0.006 vs. 0.056\n",
      "CHANGE DETECTION\n",
      "AUC = 0.041 vs. 0.054\n",
      "F1 = 0.096 vs. 0.101\n",
      "Precision = 0.051 vs. 0.057\n",
      "Recall = 1.000 vs. 0.447\n",
      "Minibatch Loss= 1.283477\n",
      "Train Batch Evaluation\n",
      "ACTIVITY RECOGNITION\n",
      "AUC = 0.514 vs. 0.062\n",
      "F1 = 0.545 vs. 0.094\n",
      "Accuracy = 0.586 vs. 0.056\n",
      "CHANGE DETECTION\n",
      "AUC = 0.324 vs. 0.105\n",
      "F1 = 0.370 vs. 0.188\n",
      "Precision = 0.302 vs. 0.104\n",
      "Recall = 0.477 vs. 0.997\n",
      "Validation\n",
      "ACTIVITY RECOGNITION\n",
      "AUC = 0.351 vs. 0.058\n",
      "F1 = 0.426 vs. 0.075\n",
      "Accuracy = 0.660 vs. 0.056\n",
      "CHANGE DETECTION\n",
      "AUC = 0.169 vs. 0.059\n",
      "F1 = 0.249 vs. 0.106\n",
      "Precision = 0.179 vs. 0.063\n",
      "Recall = 0.408 vs. 0.332\n",
      "Minibatch Loss= 0.506584\n",
      "Train Batch Evaluation\n",
      "ACTIVITY RECOGNITION\n",
      "AUC = 0.585 vs. 0.063\n",
      "F1 = 0.603 vs. 0.093\n",
      "Accuracy = 0.697 vs. 0.056\n",
      "CHANGE DETECTION\n",
      "AUC = 0.389 vs. 0.094\n",
      "F1 = 0.427 vs. 0.178\n",
      "Precision = 0.345 vs. 0.099\n",
      "Recall = 0.559 vs. 0.942\n",
      "Validation\n",
      "ACTIVITY RECOGNITION\n",
      "AUC = 0.404 vs. 0.058\n",
      "F1 = 0.465 vs. 0.078\n",
      "Accuracy = 0.719 vs. 0.056\n",
      "CHANGE DETECTION\n",
      "AUC = 0.202 vs. 0.050\n",
      "F1 = 0.283 vs. 0.099\n",
      "Precision = 0.191 vs. 0.053\n",
      "Recall = 0.540 vs. 0.831\n",
      "Minibatch Loss= 0.343537\n",
      "Train Batch Evaluation\n",
      "ACTIVITY RECOGNITION\n",
      "AUC = 0.660 vs. 0.063\n",
      "F1 = 0.669 vs. 0.097\n",
      "Accuracy = 0.742 vs. 0.056\n",
      "CHANGE DETECTION\n",
      "AUC = 0.453 vs. 0.116\n",
      "F1 = 0.476 vs. 0.202\n",
      "Precision = 0.383 vs. 0.117\n",
      "Recall = 0.629 vs. 0.735\n",
      "Validation\n",
      "ACTIVITY RECOGNITION\n",
      "AUC = 0.439 vs. 0.059\n",
      "F1 = 0.490 vs. 0.081\n",
      "Accuracy = 0.743 vs. 0.056\n",
      "CHANGE DETECTION\n",
      "AUC = 0.221 vs. 0.049\n",
      "F1 = 0.291 vs. 0.097\n",
      "Precision = 0.243 vs. 0.052\n",
      "Recall = 0.361 vs. 0.714\n",
      "Minibatch Loss= 0.326091\n",
      "Train Batch Evaluation\n",
      "ACTIVITY RECOGNITION\n",
      "AUC = 0.712 vs. 0.061\n",
      "F1 = 0.702 vs. 0.091\n",
      "Accuracy = 0.781 vs. 0.056\n",
      "CHANGE DETECTION\n",
      "AUC = 0.421 vs. 0.095\n",
      "F1 = 0.464 vs. 0.171\n",
      "Precision = 0.419 vs. 0.094\n",
      "Recall = 0.520 vs. 0.992\n",
      "Validation\n",
      "ACTIVITY RECOGNITION\n",
      "AUC = 0.483 vs. 0.059\n",
      "F1 = 0.523 vs. 0.084\n",
      "Accuracy = 0.792 vs. 0.056\n",
      "CHANGE DETECTION\n",
      "AUC = 0.235 vs. 0.049\n",
      "F1 = 0.308 vs. 0.096\n",
      "Precision = 0.217 vs. 0.051\n",
      "Recall = 0.530 vs. 1.000\n",
      "Minibatch Loss= 0.220520\n",
      "Train Batch Evaluation\n",
      "ACTIVITY RECOGNITION\n",
      "AUC = 0.736 vs. 0.063\n",
      "F1 = 0.719 vs. 0.096\n",
      "Accuracy = 0.800 vs. 0.056\n",
      "CHANGE DETECTION\n",
      "AUC = 0.485 vs. 0.100\n",
      "F1 = 0.502 vs. 0.189\n",
      "Precision = 0.406 vs. 0.104\n",
      "Recall = 0.658 vs. 0.997\n",
      "Validation\n",
      "ACTIVITY RECOGNITION\n",
      "AUC = 0.509 vs. 0.059\n",
      "F1 = 0.544 vs. 0.080\n",
      "Accuracy = 0.820 vs. 0.056\n",
      "CHANGE DETECTION\n",
      "AUC = 0.245 vs. 0.051\n",
      "F1 = 0.323 vs. 0.102\n",
      "Precision = 0.227 vs. 0.056\n",
      "Recall = 0.564 vs. 0.506\n",
      "Minibatch Loss= 0.234532\n",
      "Train Batch Evaluation\n",
      "ACTIVITY RECOGNITION\n",
      "AUC = 0.749 vs. 0.062\n",
      "F1 = 0.728 vs. 0.091\n",
      "Accuracy = 0.810 vs. 0.056\n",
      "CHANGE DETECTION\n",
      "AUC = 0.457 vs. 0.099\n",
      "F1 = 0.481 vs. 0.172\n",
      "Precision = 0.394 vs. 0.094\n",
      "Recall = 0.617 vs. 0.998\n",
      "Validation\n",
      "ACTIVITY RECOGNITION\n",
      "AUC = 0.521 vs. 0.059\n",
      "F1 = 0.572 vs. 0.081\n",
      "Accuracy = 0.796 vs. 0.056\n",
      "CHANGE DETECTION\n",
      "AUC = 0.243 vs. 0.050\n",
      "F1 = 0.333 vs. 0.097\n",
      "Precision = 0.248 vs. 0.051\n",
      "Recall = 0.506 vs. 0.997\n",
      "Minibatch Loss= 0.184091\n",
      "Train Batch Evaluation\n",
      "ACTIVITY RECOGNITION\n",
      "AUC = 0.770 vs. 0.063\n",
      "F1 = 0.749 vs. 0.094\n",
      "Accuracy = 0.860 vs. 0.056\n",
      "CHANGE DETECTION\n",
      "AUC = 0.544 vs. 0.107\n",
      "F1 = 0.532 vs. 0.200\n",
      "Precision = 0.435 vs. 0.113\n",
      "Recall = 0.684 vs. 0.877\n",
      "Validation\n",
      "ACTIVITY RECOGNITION\n",
      "AUC = 0.540 vs. 0.058\n",
      "F1 = 0.585 vs. 0.079\n",
      "Accuracy = 0.831 vs. 0.056\n",
      "CHANGE DETECTION\n",
      "AUC = 0.250 vs. 0.051\n",
      "F1 = 0.342 vs. 0.097\n",
      "Precision = 0.239 vs. 0.051\n",
      "Recall = 0.597 vs. 0.823\n",
      "Minibatch Loss= 0.193826\n",
      "Train Batch Evaluation\n",
      "ACTIVITY RECOGNITION\n",
      "AUC = 0.798 vs. 0.062\n",
      "F1 = 0.771 vs. 0.091\n",
      "Accuracy = 0.832 vs. 0.056\n",
      "CHANGE DETECTION\n",
      "AUC = 0.518 vs. 0.087\n",
      "F1 = 0.534 vs. 0.173\n",
      "Precision = 0.464 vs. 0.095\n",
      "Recall = 0.629 vs. 1.000\n",
      "Validation\n",
      "ACTIVITY RECOGNITION\n",
      "AUC = 0.550 vs. 0.058\n",
      "F1 = 0.586 vs. 0.076\n",
      "Accuracy = 0.799 vs. 0.056\n",
      "CHANGE DETECTION\n",
      "AUC = 0.251 vs. 0.051\n",
      "F1 = 0.352 vs. 0.100\n",
      "Precision = 0.281 vs. 0.053\n",
      "Recall = 0.470 vs. 0.938\n",
      "Minibatch Loss= 0.168643\n",
      "Train Batch Evaluation\n",
      "ACTIVITY RECOGNITION\n",
      "AUC = 0.808 vs. 0.060\n",
      "F1 = 0.781 vs. 0.091\n",
      "Accuracy = 0.882 vs. 0.056\n",
      "CHANGE DETECTION\n",
      "AUC = 0.509 vs. 0.093\n",
      "F1 = 0.529 vs. 0.175\n",
      "Precision = 0.465 vs. 0.096\n",
      "Recall = 0.615 vs. 0.992\n",
      "Validation\n",
      "ACTIVITY RECOGNITION\n",
      "AUC = 0.558 vs. 0.059\n",
      "F1 = 0.593 vs. 0.080\n",
      "Accuracy = 0.833 vs. 0.056\n",
      "CHANGE DETECTION\n",
      "AUC = 0.252 vs. 0.053\n",
      "F1 = 0.354 vs. 0.100\n",
      "Precision = 0.261 vs. 0.053\n",
      "Recall = 0.548 vs. 0.782\n",
      "Minibatch Loss= 0.148868\n",
      "Train Batch Evaluation\n",
      "ACTIVITY RECOGNITION\n",
      "AUC = 0.822 vs. 0.063\n",
      "F1 = 0.793 vs. 0.094\n",
      "Accuracy = 0.850 vs. 0.056\n",
      "CHANGE DETECTION\n",
      "AUC = 0.542 vs. 0.104\n",
      "F1 = 0.561 vs. 0.180\n",
      "Precision = 0.507 vs. 0.099\n",
      "Recall = 0.628 vs. 0.974\n",
      "Validation\n",
      "ACTIVITY RECOGNITION\n",
      "AUC = 0.565 vs. 0.059\n",
      "F1 = 0.599 vs. 0.085\n",
      "Accuracy = 0.840 vs. 0.056\n",
      "CHANGE DETECTION\n",
      "AUC = 0.256 vs. 0.052\n",
      "F1 = 0.360 vs. 0.097\n",
      "Precision = 0.280 vs. 0.051\n",
      "Recall = 0.506 vs. 0.977\n",
      "Minibatch Loss= 0.143890\n",
      "Train Batch Evaluation\n",
      "ACTIVITY RECOGNITION\n",
      "AUC = 0.848 vs. 0.061\n",
      "F1 = 0.813 vs. 0.093\n",
      "Accuracy = 0.863 vs. 0.056\n",
      "CHANGE DETECTION\n",
      "AUC = 0.533 vs. 0.090\n",
      "F1 = 0.569 vs. 0.167\n",
      "Precision = 0.493 vs. 0.092\n",
      "Recall = 0.673 vs. 0.955\n",
      "Validation\n",
      "ACTIVITY RECOGNITION\n",
      "AUC = 0.571 vs. 0.059\n",
      "F1 = 0.600 vs. 0.083\n",
      "Accuracy = 0.835 vs. 0.056\n",
      "CHANGE DETECTION\n",
      "AUC = 0.259 vs. 0.049\n",
      "F1 = 0.368 vs. 0.098\n",
      "Precision = 0.284 vs. 0.052\n",
      "Recall = 0.525 vs. 0.953\n",
      "Minibatch Loss= 0.124544\n",
      "Train Batch Evaluation\n",
      "ACTIVITY RECOGNITION\n",
      "AUC = 0.840 vs. 0.061\n",
      "F1 = 0.821 vs. 0.090\n",
      "Accuracy = 0.859 vs. 0.056\n",
      "CHANGE DETECTION\n",
      "AUC = 0.541 vs. 0.083\n",
      "F1 = 0.542 vs. 0.151\n",
      "Precision = 0.452 vs. 0.082\n",
      "Recall = 0.676 vs. 0.940\n",
      "Validation\n",
      "ACTIVITY RECOGNITION\n",
      "AUC = 0.581 vs. 0.059\n",
      "F1 = 0.607 vs. 0.082\n",
      "Accuracy = 0.839 vs. 0.056\n",
      "CHANGE DETECTION\n",
      "AUC = 0.261 vs. 0.053\n",
      "F1 = 0.369 vs. 0.099\n",
      "Precision = 0.283 vs. 0.053\n",
      "Recall = 0.530 vs. 0.836\n",
      "Minibatch Loss= 0.116329\n",
      "Train Batch Evaluation\n",
      "ACTIVITY RECOGNITION\n",
      "AUC = 0.855 vs. 0.061\n",
      "F1 = 0.829 vs. 0.093\n",
      "Accuracy = 0.884 vs. 0.056\n",
      "CHANGE DETECTION\n",
      "AUC = 0.551 vs. 0.091\n",
      "F1 = 0.551 vs. 0.163\n",
      "Precision = 0.460 vs. 0.089\n",
      "Recall = 0.687 vs. 0.936\n",
      "Validation\n",
      "ACTIVITY RECOGNITION\n",
      "AUC = 0.586 vs. 0.059\n",
      "F1 = 0.610 vs. 0.081\n",
      "Accuracy = 0.837 vs. 0.056\n",
      "CHANGE DETECTION\n",
      "AUC = 0.256 vs. 0.048\n",
      "F1 = 0.359 vs. 0.097\n",
      "Precision = 0.265 vs. 0.053\n",
      "Recall = 0.556 vs. 0.608\n",
      "Minibatch Loss= 0.115375\n",
      "Train Batch Evaluation\n",
      "ACTIVITY RECOGNITION\n",
      "AUC = 0.838 vs. 0.061\n",
      "F1 = 0.813 vs. 0.090\n",
      "Accuracy = 0.900 vs. 0.056\n",
      "CHANGE DETECTION\n",
      "AUC = 0.548 vs. 0.077\n",
      "F1 = 0.559 vs. 0.154\n",
      "Precision = 0.459 vs. 0.083\n",
      "Recall = 0.712 vs. 0.992\n",
      "Validation\n",
      "ACTIVITY RECOGNITION\n",
      "AUC = 0.589 vs. 0.058\n",
      "F1 = 0.612 vs. 0.082\n",
      "Accuracy = 0.835 vs. 0.056\n",
      "CHANGE DETECTION\n",
      "AUC = 0.258 vs. 0.054\n",
      "F1 = 0.362 vs. 0.097\n",
      "Precision = 0.268 vs. 0.052\n",
      "Recall = 0.558 vs. 0.777\n",
      "Minibatch Loss= 0.112523\n",
      "Train Batch Evaluation\n",
      "ACTIVITY RECOGNITION\n",
      "AUC = 0.874 vs. 0.061\n",
      "F1 = 0.840 vs. 0.092\n",
      "Accuracy = 0.879 vs. 0.056\n",
      "CHANGE DETECTION\n",
      "AUC = 0.604 vs. 0.092\n",
      "F1 = 0.593 vs. 0.166\n",
      "Precision = 0.540 vs. 0.090\n",
      "Recall = 0.657 vs. 1.000\n",
      "Validation\n",
      "ACTIVITY RECOGNITION\n",
      "AUC = 0.593 vs. 0.061\n",
      "F1 = 0.615 vs. 0.084\n",
      "Accuracy = 0.837 vs. 0.056\n",
      "CHANGE DETECTION\n",
      "AUC = 0.262 vs. 0.053\n",
      "F1 = 0.359 vs. 0.102\n",
      "Precision = 0.275 vs. 0.054\n",
      "Recall = 0.519 vs. 0.883\n",
      "Minibatch Loss= 0.110005\n",
      "Train Batch Evaluation\n",
      "ACTIVITY RECOGNITION\n",
      "AUC = 0.882 vs. 0.061\n",
      "F1 = 0.856 vs. 0.089\n",
      "Accuracy = 0.896 vs. 0.056\n",
      "CHANGE DETECTION\n",
      "AUC = 0.562 vs. 0.082\n",
      "F1 = 0.569 vs. 0.154\n",
      "Precision = 0.492 vs. 0.084\n",
      "Recall = 0.673 vs. 0.964\n",
      "Validation\n",
      "ACTIVITY RECOGNITION\n",
      "AUC = 0.595 vs. 0.058\n",
      "F1 = 0.617 vs. 0.081\n",
      "Accuracy = 0.847 vs. 0.056\n",
      "CHANGE DETECTION\n",
      "AUC = 0.258 vs. 0.053\n",
      "F1 = 0.364 vs. 0.098\n",
      "Precision = 0.279 vs. 0.053\n",
      "Recall = 0.525 vs. 0.608\n",
      "Minibatch Loss= 0.097397\n",
      "Train Batch Evaluation\n",
      "ACTIVITY RECOGNITION\n",
      "AUC = 0.864 vs. 0.060\n",
      "F1 = 0.840 vs. 0.092\n",
      "Accuracy = 0.893 vs. 0.056\n",
      "CHANGE DETECTION\n",
      "AUC = 0.579 vs. 0.084\n",
      "F1 = 0.556 vs. 0.157\n",
      "Precision = 0.446 vs. 0.085\n",
      "Recall = 0.737 vs. 0.969\n",
      "Validation\n",
      "ACTIVITY RECOGNITION\n",
      "AUC = 0.597 vs. 0.059\n",
      "F1 = 0.619 vs. 0.079\n",
      "Accuracy = 0.848 vs. 0.056\n",
      "CHANGE DETECTION\n",
      "AUC = 0.260 vs. 0.050\n",
      "F1 = 0.368 vs. 0.097\n",
      "Precision = 0.282 vs. 0.051\n",
      "Recall = 0.530 vs. 0.997\n",
      "Minibatch Loss= 0.098126\n",
      "Train Batch Evaluation\n",
      "ACTIVITY RECOGNITION\n",
      "AUC = 0.889 vs. 0.062\n",
      "F1 = 0.862 vs. 0.094\n",
      "Accuracy = 0.875 vs. 0.056\n",
      "CHANGE DETECTION\n",
      "AUC = 0.528 vs. 0.096\n",
      "F1 = 0.567 vs. 0.176\n",
      "Precision = 0.459 vs. 0.097\n",
      "Recall = 0.743 vs. 0.979\n",
      "Validation\n",
      "ACTIVITY RECOGNITION\n",
      "AUC = 0.598 vs. 0.060\n",
      "F1 = 0.620 vs. 0.083\n",
      "Accuracy = 0.837 vs. 0.056\n",
      "CHANGE DETECTION\n",
      "AUC = 0.259 vs. 0.053\n",
      "F1 = 0.365 vs. 0.098\n",
      "Precision = 0.300 vs. 0.052\n",
      "Recall = 0.468 vs. 0.896\n",
      "Minibatch Loss= 0.101108\n",
      "Train Batch Evaluation\n",
      "ACTIVITY RECOGNITION\n",
      "AUC = 0.908 vs. 0.061\n",
      "F1 = 0.878 vs. 0.090\n",
      "Accuracy = 0.913 vs. 0.056\n",
      "CHANGE DETECTION\n",
      "AUC = 0.611 vs. 0.091\n",
      "F1 = 0.625 vs. 0.160\n",
      "Precision = 0.529 vs. 0.089\n",
      "Recall = 0.763 vs. 0.805\n",
      "Validation\n",
      "ACTIVITY RECOGNITION\n",
      "AUC = 0.603 vs. 0.059\n",
      "F1 = 0.623 vs. 0.079\n",
      "Accuracy = 0.848 vs. 0.056\n",
      "CHANGE DETECTION\n",
      "AUC = 0.261 vs. 0.053\n",
      "F1 = 0.369 vs. 0.099\n",
      "Precision = 0.290 vs. 0.056\n",
      "Recall = 0.509 vs. 0.449\n",
      "Minibatch Loss= 0.085584\n",
      "Train Batch Evaluation\n",
      "ACTIVITY RECOGNITION\n",
      "AUC = 0.897 vs. 0.060\n",
      "F1 = 0.867 vs. 0.087\n",
      "Accuracy = 0.897 vs. 0.056\n",
      "CHANGE DETECTION\n",
      "AUC = 0.632 vs. 0.074\n",
      "F1 = 0.615 vs. 0.138\n",
      "Precision = 0.534 vs. 0.075\n",
      "Recall = 0.724 vs. 0.843\n",
      "Validation\n",
      "ACTIVITY RECOGNITION\n",
      "AUC = 0.605 vs. 0.058\n",
      "F1 = 0.624 vs. 0.079\n",
      "Accuracy = 0.812 vs. 0.056\n",
      "CHANGE DETECTION\n",
      "AUC = 0.260 vs. 0.052\n",
      "F1 = 0.369 vs. 0.100\n",
      "Precision = 0.284 vs. 0.055\n",
      "Recall = 0.527 vs. 0.553\n",
      "Minibatch Loss= 0.074596\n",
      "Train Batch Evaluation\n",
      "ACTIVITY RECOGNITION\n",
      "AUC = 0.886 vs. 0.061\n",
      "F1 = 0.864 vs. 0.091\n",
      "Accuracy = 0.897 vs. 0.056\n",
      "CHANGE DETECTION\n",
      "AUC = 0.587 vs. 0.088\n",
      "F1 = 0.599 vs. 0.157\n",
      "Precision = 0.530 vs. 0.085\n",
      "Recall = 0.690 vs. 0.976\n",
      "Validation\n",
      "ACTIVITY RECOGNITION\n",
      "AUC = 0.608 vs. 0.058\n",
      "F1 = 0.627 vs. 0.078\n",
      "Accuracy = 0.824 vs. 0.056\n",
      "CHANGE DETECTION\n",
      "AUC = 0.263 vs. 0.050\n",
      "F1 = 0.375 vs. 0.099\n",
      "Precision = 0.297 vs. 0.053\n",
      "Recall = 0.509 vs. 0.766\n",
      "Minibatch Loss= 0.084665\n",
      "Train Batch Evaluation\n",
      "ACTIVITY RECOGNITION\n",
      "AUC = 0.915 vs. 0.060\n",
      "F1 = 0.888 vs. 0.091\n",
      "Accuracy = 0.906 vs. 0.056\n",
      "CHANGE DETECTION\n",
      "AUC = 0.638 vs. 0.110\n",
      "F1 = 0.627 vs. 0.189\n",
      "Precision = 0.546 vs. 0.104\n",
      "Recall = 0.735 vs. 0.994\n",
      "Validation\n",
      "ACTIVITY RECOGNITION\n",
      "AUC = 0.610 vs. 0.059\n",
      "F1 = 0.634 vs. 0.085\n",
      "Accuracy = 0.817 vs. 0.056\n",
      "CHANGE DETECTION\n",
      "AUC = 0.261 vs. 0.055\n",
      "F1 = 0.371 vs. 0.099\n",
      "Precision = 0.291 vs. 0.056\n",
      "Recall = 0.509 vs. 0.421\n",
      "Minibatch Loss= 0.088255\n"
     ]
    }
   ],
   "source": [
    "trainer.train(max_iter = 20000,\n",
    "                train_eval_step = 100, \n",
    "                validation_eval_step = 100,\n",
    "                display_step = 100)"
   ]
  },
  {
   "cell_type": "code",
   "execution_count": null,
   "metadata": {
    "collapsed": false
   },
   "outputs": [],
   "source": [
    "#Save the model\n",
    "saver = tf.train.Saver()\n",
    "saver.save(sess, checkpoint_path, global_step=trainer.global_step)"
   ]
  },
  {
   "cell_type": "code",
   "execution_count": 21,
   "metadata": {
    "collapsed": false
   },
   "outputs": [
    {
     "name": "stdout",
     "output_type": "stream",
     "text": [
      "INFO:tensorflow:Restoring parameters from ../model/CNN_activity_multitask_64_opp/CNN_activity_multitask_64_opp-20000\n"
     ]
    }
   ],
   "source": [
    "#load the model\n",
    "saver = tf.train.Saver()\n",
    "#saver.restore(sess, \"../model\" + \"/CNN7002_Gleam\" + \"/CNN7002_Gleam\")\n",
    "saver.restore(sess, '../model/CNN_activity_multitask_64_opp/CNN_activity_multitask_64_opp-20000')\n"
   ]
  },
  {
   "cell_type": "code",
   "execution_count": 19,
   "metadata": {
    "collapsed": false
   },
   "outputs": [
    {
     "name": "stdout",
     "output_type": "stream",
     "text": [
      "ACTIVITY RECOGNITION\n",
      "AUC = 0.539 vs. 0.062\n",
      "F1 = 0.588 vs. 0.087\n",
      "Accuracy = 0.893 vs. 0.056\n",
      "CHANGE DETECTION\n",
      "AUC = 0.307 vs. 0.106\n",
      "F1 = 0.413 vs. 0.181\n",
      "Precision = 0.359 vs. 0.100\n",
      "Recall = 0.488 vs. 1.000\n"
     ]
    }
   ],
   "source": [
    "#This is the model evaluation on test dataset\n",
    "_= nn_eval.evaluate_model (model, sess, test_data, test_gt)"
   ]
  },
  {
   "cell_type": "code",
   "execution_count": 22,
   "metadata": {},
   "outputs": [],
   "source": [
    "out = nn_eval.deploy (model, sess, test_data, test_gt)"
   ]
  },
  {
   "cell_type": "code",
   "execution_count": null,
   "metadata": {
    "collapsed": true
   },
   "outputs": [],
   "source": [
    "#shape of probability_change is (batch size, T, num_classes)\n",
    "#since num_classes = 1 we squeeze that axis\n",
    "#probability_change = np.squeeze(probability_of_pos, axis = 2)"
   ]
  },
  {
   "cell_type": "code",
   "execution_count": 23,
   "metadata": {
    "collapsed": false
   },
   "outputs": [],
   "source": [
    "savemat('../poc/poc'+exp_name+'.mat', {'poc':out[:,:,-1]})"
   ]
  },
  {
   "cell_type": "code",
   "execution_count": null,
   "metadata": {},
   "outputs": [],
   "source": [
    "1"
   ]
  },
  {
   "cell_type": "code",
   "execution_count": null,
   "metadata": {},
   "outputs": [],
   "source": []
  }
 ],
 "metadata": {
  "anaconda-cloud": {},
  "kernelspec": {
   "display_name": "Anaconca with Tensorflow",
   "language": "python",
   "name": "tensorflow"
  },
  "language_info": {
   "codemirror_mode": {
    "name": "ipython",
    "version": 2
   },
   "file_extension": ".py",
   "mimetype": "text/x-python",
   "name": "python",
   "nbconvert_exporter": "python",
   "pygments_lexer": "ipython2",
   "version": "2.7.13"
  }
 },
 "nbformat": 4,
 "nbformat_minor": 2
}
