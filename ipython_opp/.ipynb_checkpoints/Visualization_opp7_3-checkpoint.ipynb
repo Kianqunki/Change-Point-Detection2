{
 "cells": [
  {
   "cell_type": "code",
   "execution_count": 1,
   "metadata": {},
   "outputs": [],
   "source": [
    "%load_ext autoreload\n",
    "%autoreload 2\n",
    "import numpy as np\n",
    "import matplotlib.pyplot as plt\n",
    "\n",
    "from hdf5storage import savemat\n",
    "from hdf5storage import loadmat\n",
    "import matplotlib.patches as mpatches\n",
    "import matplotlib\n",
    "import hickle\n",
    "\n",
    "import sys\n",
    "sys.path.append('../src')"
   ]
  },
  {
   "cell_type": "code",
   "execution_count": 2,
   "metadata": {},
   "outputs": [],
   "source": [
    "import evaluation.eval_rank as eval_rank\n",
    "import evaluation.eval_utils as eval_utils"
   ]
  },
  {
   "cell_type": "code",
   "execution_count": 3,
   "metadata": {},
   "outputs": [],
   "source": [
    "data_path= '../data/opp7.hkl'\n",
    "with open(data_path, 'r') as fin:\n",
    "    data = hickle.load(fin)\n",
    "\n",
    "test_gt = data['test_gt'][:,:,-1]"
   ]
  },
  {
   "cell_type": "code",
   "execution_count": 4,
   "metadata": {},
   "outputs": [
    {
     "data": {
      "text/plain": [
       "array([ 0.,  0.,  0., ...,  0.,  0.,  0.], dtype=float32)"
      ]
     },
     "execution_count": 4,
     "metadata": {},
     "output_type": "execute_result"
    }
   ],
   "source": [
    "test_gt[0]"
   ]
  },
  {
   "cell_type": "code",
   "execution_count": 5,
   "metadata": {},
   "outputs": [],
   "source": [
    "data_num_step = 1024"
   ]
  },
  {
   "cell_type": "code",
   "execution_count": 6,
   "metadata": {},
   "outputs": [],
   "source": [
    "test_gt_idx_changes = []\n",
    "for i in range(len(test_gt)):\n",
    "    idx_changes = np.where(test_gt[i]==1)[0]\n",
    "    test_gt_idx_changes.append(idx_changes)    "
   ]
  },
  {
   "cell_type": "code",
   "execution_count": 7,
   "metadata": {},
   "outputs": [
    {
     "data": {
      "text/plain": [
       "(233, array([], dtype=int64))"
      ]
     },
     "execution_count": 7,
     "metadata": {},
     "output_type": "execute_result"
    }
   ],
   "source": [
    "len(test_gt_idx_changes), test_gt_idx_changes[0]"
   ]
  },
  {
   "cell_type": "code",
   "execution_count": 8,
   "metadata": {},
   "outputs": [],
   "source": [
    "CNN_64 = loadmat(\"../poc/pocCNN_cpd_64\"+'.mat')['poc']\n",
    "NWN_64 = loadmat(\"../poc/pocDWN_cpd_64\"+'.mat')['poc']\n",
    "RCNN64 = loadmat(\"../poc/pocRCNN_cpd_64\"+'.mat')['poc']"
   ]
  },
  {
   "cell_type": "code",
   "execution_count": 9,
   "metadata": {},
   "outputs": [
    {
     "data": {
      "text/plain": [
       "(233, 16)"
      ]
     },
     "execution_count": 9,
     "metadata": {},
     "output_type": "execute_result"
    }
   ],
   "source": [
    "CNN_64.shape"
   ]
  },
  {
   "cell_type": "code",
   "execution_count": 10,
   "metadata": {},
   "outputs": [
    {
     "data": {
      "text/plain": [
       "array([[ 0.16535422,  0.39934596,  0.29572359, ...,  0.03123209,\n",
       "         0.0333687 ,  0.04415155],\n",
       "       [ 0.04507657,  0.03969199,  0.03309965, ...,  0.5560208 ,\n",
       "         0.72121197,  0.86195368],\n",
       "       [ 0.04165751,  0.03263503,  0.03591856, ...,  0.03380702,\n",
       "         0.03386131,  0.07008134],\n",
       "       ..., \n",
       "       [ 0.05826   ,  0.05629288,  0.05714899, ...,  0.10413261,\n",
       "         0.10402013,  0.14812155],\n",
       "       [ 0.90667033,  0.12506595,  0.44961563, ...,  0.06665713,\n",
       "         0.26511115,  0.16039014],\n",
       "       [ 0.2188563 ,  0.10948278,  0.17293459, ...,  0.11072297,\n",
       "         0.0722653 ,  0.06968151]], dtype=float32)"
      ]
     },
     "execution_count": 10,
     "metadata": {},
     "output_type": "execute_result"
    }
   ],
   "source": [
    "CNN_64"
   ]
  },
  {
   "cell_type": "code",
   "execution_count": 11,
   "metadata": {},
   "outputs": [],
   "source": [
    "cpd_val_CNN64, cpd_CNN64 = eval_rank.non_max_supression(CNN_64, window=10, data_num_step=data_num_step)\n",
    "cpd_val_NWN64, cpd_NWN64 = eval_rank.non_max_supression(NWN_64, window=10, data_num_step=data_num_step)\n",
    "cpd_valRCNN64, cpdRCNN64 = eval_rank.non_max_supression(RCNN64, window=10, data_num_step=data_num_step)"
   ]
  },
  {
   "cell_type": "code",
   "execution_count": 13,
   "metadata": {},
   "outputs": [],
   "source": [
    "def tolerance_auc(cpd_val, cpd, gt_mean_test, tolerance):\n",
    "    out_put = []\n",
    "    for t in tolerance:\n",
    "        print t\n",
    "        out = eval_rank.ranking(cpd_val, cpd, gt_mean_test, t)\n",
    "        out_put.append(eval_utils.calc_auc(zip(out[0], out[1]), gt_mean_test))\n",
    "        \n",
    "    return out_put    "
   ]
  },
  {
   "cell_type": "code",
   "execution_count": 14,
   "metadata": {},
   "outputs": [
    {
     "data": {
      "text/plain": [
       "[array([  96.,  992.]),\n",
       " array([  32.,  992.]),\n",
       " array([ 416.]),\n",
       " array([  96.,  992.]),\n",
       " array([ 416.]),\n",
       " array([ 672.]),\n",
       " array([ 608.]),\n",
       " array([  96.,  800.]),\n",
       " array([ 160.,  992.]),\n",
       " array([ 160.,  992.]),\n",
       " array([  32.,  928.]),\n",
       " array([ 992.]),\n",
       " array([ 544.]),\n",
       " array([  32.,  992.]),\n",
       " array([  96.,  992.]),\n",
       " array([  32.,  864.]),\n",
       " array([ 352.]),\n",
       " array([ 672.]),\n",
       " array([ 608.]),\n",
       " array([  96.,  992.]),\n",
       " array([  32.,  800.]),\n",
       " array([  32.,  928.]),\n",
       " array([ 928.]),\n",
       " array([ 416.]),\n",
       " array([ 160.,  992.]),\n",
       " array([ 928.]),\n",
       " array([  32.,  800.]),\n",
       " array([ 544.]),\n",
       " array([  32.,  928.]),\n",
       " array([ 864.]),\n",
       " array([ 352.]),\n",
       " array([ 160.,  928.]),\n",
       " array([  96.,  992.]),\n",
       " array([ 608.]),\n",
       " array([  32.,  992.]),\n",
       " array([  32.,  992.]),\n",
       " array([  32.,  992.]),\n",
       " array([ 864.]),\n",
       " array([ 992.]),\n",
       " array([ 992.]),\n",
       " array([  96.,  992.]),\n",
       " array([ 480.]),\n",
       " array([ 224.,  992.]),\n",
       " array([ 160.,  992.]),\n",
       " array([ 224.,  992.]),\n",
       " array([ 992.]),\n",
       " array([ 544.]),\n",
       " array([ 928.]),\n",
       " array([ 928.]),\n",
       " array([ 736.]),\n",
       " array([ 224.,  992.]),\n",
       " array([ 608.]),\n",
       " array([  96.,  864.]),\n",
       " array([ 352.]),\n",
       " array([  32.,  992.]),\n",
       " array([ 800.]),\n",
       " array([ 288.,  992.]),\n",
       " array([ 288.,  992.]),\n",
       " array([ 224.,  928.]),\n",
       " array([ 736.]),\n",
       " array([ 544.]),\n",
       " array([  32.,  736.]),\n",
       " array([  32.,  800.]),\n",
       " array([ 288.,  992.]),\n",
       " array([  32.,  736.]),\n",
       " array([ 224.,  992.]),\n",
       " array([  96.,  928.]),\n",
       " array([  32.,  992.]),\n",
       " array([ 544.]),\n",
       " array([  32.,  992.]),\n",
       " array([ 672.]),\n",
       " array([ 160.,  864.]),\n",
       " array([ 672.]),\n",
       " array([ 160.,  992.]),\n",
       " array([ 480.]),\n",
       " array([  32.,  992.]),\n",
       " array([  32.,  992.]),\n",
       " array([  32.,  992.]),\n",
       " array([ 288.,  992.]),\n",
       " array([  32.,  992.]),\n",
       " array([  32.,  992.]),\n",
       " array([  32.,  992.]),\n",
       " array([ 928.]),\n",
       " array([ 416.]),\n",
       " array([ 544.]),\n",
       " array([  32.,  736.]),\n",
       " array([ 224.,  992.]),\n",
       " array([ 160.,  992.]),\n",
       " array([ 672.]),\n",
       " array([  32.,  800.]),\n",
       " array([ 800.]),\n",
       " array([ 544.]),\n",
       " array([ 416.]),\n",
       " array([ 800.]),\n",
       " array([ 288.,  992.]),\n",
       " array([ 672.]),\n",
       " array([ 160.,  992.]),\n",
       " array([ 224.,  992.]),\n",
       " array([ 992.]),\n",
       " array([ 992.]),\n",
       " array([ 672.]),\n",
       " array([ 160.,  992.]),\n",
       " array([ 160.,  992.]),\n",
       " array([ 992.]),\n",
       " array([  96.,  864.]),\n",
       " array([ 352.]),\n",
       " array([ 224.,  992.]),\n",
       " array([  32.,  928.]),\n",
       " array([ 672.]),\n",
       " array([ 160.,  928.]),\n",
       " array([ 416.]),\n",
       " array([  32.,  992.]),\n",
       " array([  32.,  928.]),\n",
       " array([ 992.]),\n",
       " array([ 928.]),\n",
       " array([ 416.]),\n",
       " array([  32.,  992.]),\n",
       " array([ 800.]),\n",
       " array([ 480.]),\n",
       " array([ 992.]),\n",
       " array([ 480.]),\n",
       " array([ 160.,  992.]),\n",
       " array([ 480.]),\n",
       " array([ 928.]),\n",
       " array([ 416.]),\n",
       " array([ 352.]),\n",
       " array([ 416.]),\n",
       " array([ 864.]),\n",
       " array([ 352.]),\n",
       " array([ 864.]),\n",
       " array([ 352.]),\n",
       " array([  32.,  992.]),\n",
       " array([  32.,  992.]),\n",
       " array([ 608.]),\n",
       " array([  96.,  864.]),\n",
       " array([ 352.]),\n",
       " array([  96.,  992.]),\n",
       " array([ 544.]),\n",
       " array([  32.,  736.]),\n",
       " array([ 544.]),\n",
       " array([  32.,  992.]),\n",
       " array([ 160.,  928.]),\n",
       " array([ 416.]),\n",
       " array([ 992.]),\n",
       " array([ 800.]),\n",
       " array([ 288.,  992.]),\n",
       " array([ 992.]),\n",
       " array([ 544.]),\n",
       " array([  32.,  928.]),\n",
       " array([ 608.]),\n",
       " array([  96.,  864.]),\n",
       " array([  96.,  992.]),\n",
       " array([  32.,  992.]),\n",
       " array([ 864.]),\n",
       " array([ 864.]),\n",
       " array([ 864.]),\n",
       " array([ 352.]),\n",
       " array([ 736.]),\n",
       " array([ 224.,  992.]),\n",
       " array([ 480.]),\n",
       " array([ 224.,  992.]),\n",
       " array([ 608.]),\n",
       " array([ 672.]),\n",
       " array([ 160.,  992.]),\n",
       " array([ 928.]),\n",
       " array([ 928.]),\n",
       " array([ 416.]),\n",
       " array([  32.,  864.]),\n",
       " array([ 160.,  992.]),\n",
       " array([ 992.]),\n",
       " array([ 864.]),\n",
       " array([ 352.]),\n",
       " array([  32.,  800.]),\n",
       " array([ 288.,  992.]),\n",
       " array([  32.,  928.]),\n",
       " array([ 416.]),\n",
       " array([  32.,  992.]),\n",
       " array([ 480.]),\n",
       " array([  32.,  928.]),\n",
       " array([ 416.]),\n",
       " array([ 736.]),\n",
       " array([ 608.]),\n",
       " array([  96.,  928.]),\n",
       " array([ 224.,  992.]),\n",
       " array([  32.,  992.]),\n",
       " array([  32.,  992.]),\n",
       " array([  32.,  992.]),\n",
       " array([ 992.]),\n",
       " array([  32.,  928.]),\n",
       " array([ 416.]),\n",
       " array([ 480.]),\n",
       " array([  96.,  992.]),\n",
       " array([ 416.]),\n",
       " array([ 992.]),\n",
       " array([ 160.,  992.]),\n",
       " array([ 800.]),\n",
       " array([ 288.,  992.]),\n",
       " array([  32.,  992.]),\n",
       " array([ 864.]),\n",
       " array([ 672.]),\n",
       " array([ 160.,  992.]),\n",
       " array([ 480.]),\n",
       " array([ 672.]),\n",
       " array([ 160.,  864.]),\n",
       " array([ 736.]),\n",
       " array([ 224.,  992.]),\n",
       " array([ 736.]),\n",
       " array([ 224.,  928.]),\n",
       " array([ 416.]),\n",
       " array([  32.,  864.]),\n",
       " array([ 864.]),\n",
       " array([ 352.]),\n",
       " array([  96.,  864.]),\n",
       " array([ 992.]),\n",
       " array([ 480.]),\n",
       " array([  32.,  992.]),\n",
       " array([ 992.]),\n",
       " array([ 800.]),\n",
       " array([ 288.,  992.]),\n",
       " array([  32.,  928.]),\n",
       " array([ 928.]),\n",
       " array([ 992.]),\n",
       " array([ 672.]),\n",
       " array([ 160.,  992.]),\n",
       " array([ 544.]),\n",
       " array([  32.,  992.]),\n",
       " array([ 672.]),\n",
       " array([ 160.,  928.]),\n",
       " array([ 480.]),\n",
       " array([ 224.,  928.]),\n",
       " array([ 544.]),\n",
       " array([  32.,  928.]),\n",
       " array([ 736.])]"
      ]
     },
     "execution_count": 14,
     "metadata": {},
     "output_type": "execute_result"
    }
   ],
   "source": [
    "cpd_CNN64"
   ]
  },
  {
   "cell_type": "code",
   "execution_count": null,
   "metadata": {},
   "outputs": [
    {
     "name": "stdout",
     "output_type": "stream",
     "text": [
      "8\n",
      "16\n",
      "32\n",
      "64\n",
      "128\n",
      "256\n",
      "512\n",
      "8\n",
      "16\n",
      "32\n",
      "64\n",
      "128\n",
      "256\n",
      "512\n",
      "8\n",
      "16\n",
      "32\n",
      "64\n",
      "128\n",
      "256\n"
     ]
    }
   ],
   "source": [
    "tolerance = [8, 16, 32, 64, 128, 256, 512]\n",
    "tol_auc_CNN64 = tolerance_auc(cpd_val_CNN64, cpd_CNN64, test_gt_idx_changes, tolerance)\n",
    "tol_auc_NWN64 = tolerance_auc(cpd_val_NWN64, cpd_NWN64, test_gt_idx_changes, tolerance)\n",
    "tol_auc_RCNN64 = tolerance_auc(cpd_valRCNN64, cpdRCNN64, test_gt_idx_changes, tolerance)\n",
    "\n",
    "#tol_auc_CNN32 = tolerance_auc(cpd_val_CNN32, cpd_CNN32, test_gt_idx_changes, tolerance)\n",
    "#tol_auc_NWN32 = tolerance_auc(cpd_val_NWN32, cpd_NWN32, test_gt_idx_changes, tolerance)"
   ]
  },
  {
   "cell_type": "code",
   "execution_count": null,
   "metadata": {},
   "outputs": [],
   "source": [
    "plt.figure(figsize=(8,5.5))\n",
    "plt.plot(tolerance,tol_auc_NWN64,'-oy',label ='DWN D=64')\n",
    "plt.plot(tolerance,tol_auc_CNN64,':vg',label ='CNN D=64')\n",
    "plt.plot(tolerance,tol_auc_RCNN64,'>:m',label ='RCNN D=64')\n",
    "\n",
    "font = {'family' : 'normal',\n",
    "        'size'   : 15\n",
    "         }\n",
    "\n",
    "matplotlib.rc('font', **font)\n",
    "\n",
    "plt.legend(loc='lower right', fontsize = 13)\n",
    "plt.ylim([0,1], )\n",
    "plt.grid()\n",
    "plt.xlabel('Tolerance', fontsize = 16)\n",
    "plt.ylabel('AUC', fontsize = 16)\n",
    "\n",
    "# show the results\n",
    "plt.show()\n",
    "\n",
    "#save the results\n",
    "#plt.savefig('../plot/plt1.png', bbox_inches = 'tight')"
   ]
  },
  {
   "cell_type": "code",
   "execution_count": null,
   "metadata": {},
   "outputs": [],
   "source": []
  },
  {
   "cell_type": "code",
   "execution_count": null,
   "metadata": {},
   "outputs": [],
   "source": []
  },
  {
   "cell_type": "code",
   "execution_count": null,
   "metadata": {},
   "outputs": [],
   "source": []
  }
 ],
 "metadata": {
  "kernelspec": {
   "display_name": "Anaconca with Tensorflow",
   "language": "python",
   "name": "tensorflow"
  },
  "language_info": {
   "codemirror_mode": {
    "name": "ipython",
    "version": 2
   },
   "file_extension": ".py",
   "mimetype": "text/x-python",
   "name": "python",
   "nbconvert_exporter": "python",
   "pygments_lexer": "ipython2",
   "version": "2.7.13"
  }
 },
 "nbformat": 4,
 "nbformat_minor": 2
}
