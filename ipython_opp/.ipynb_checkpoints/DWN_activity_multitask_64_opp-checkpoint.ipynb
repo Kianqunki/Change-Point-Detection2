{
 "cells": [
  {
   "cell_type": "code",
   "execution_count": 1,
   "metadata": {
    "collapsed": true
   },
   "outputs": [],
   "source": [
    "# useing this variable for saving models and summaries\n",
    "exp_name = \"DWN_activity_multitask_64_opp\""
   ]
  },
  {
   "cell_type": "markdown",
   "metadata": {},
   "source": [
    "## Importing Libraries"
   ]
  },
  {
   "cell_type": "code",
   "execution_count": 2,
   "metadata": {
    "collapsed": false
   },
   "outputs": [],
   "source": [
    "%load_ext autoreload\n",
    "%autoreload 2\n",
    "import tensorflow as tf\n",
    "import numpy as np\n",
    "from hdf5storage import savemat\n",
    "import hickle \n",
    "\n",
    "import sys\n",
    "sys.path.append('../src')"
   ]
  },
  {
   "cell_type": "code",
   "execution_count": 3,
   "metadata": {},
   "outputs": [],
   "source": [
    "import models.wavelet_conv_model as wavelet_conv_model\n",
    "import training\n",
    "import evaluation.nn_eval_activity as nn_eval"
   ]
  },
  {
   "cell_type": "markdown",
   "metadata": {},
   "source": [
    "## Loading synthetic data"
   ]
  },
  {
   "cell_type": "code",
   "execution_count": 5,
   "metadata": {
    "collapsed": false
   },
   "outputs": [],
   "source": [
    "#loading data\n",
    "data_path= '../data/opp8.hkl'\n",
    "with open(data_path, 'r') as fin:\n",
    "    data = hickle.load(fin)"
   ]
  },
  {
   "cell_type": "code",
   "execution_count": 6,
   "metadata": {},
   "outputs": [],
   "source": [
    "train_data = data['train_data']\n",
    "validation_data = data['validation_data']\n",
    "test_data = data['test_data']\n",
    "\n",
    "train_gt = data['train_gt']\n",
    "validation_gt = data['validation_gt']\n",
    "test_gt = data['test_gt']"
   ]
  },
  {
   "cell_type": "code",
   "execution_count": 7,
   "metadata": {},
   "outputs": [
    {
     "data": {
      "text/plain": [
       "((691, 1024, 77), (691, 1024, 19))"
      ]
     },
     "execution_count": 7,
     "metadata": {},
     "output_type": "execute_result"
    }
   ],
   "source": [
    "train_data.shape, train_gt.shape"
   ]
  },
  {
   "cell_type": "code",
   "execution_count": 8,
   "metadata": {},
   "outputs": [
    {
     "data": {
      "text/plain": [
       "((119, 1024, 77), (119, 1024, 19))"
      ]
     },
     "execution_count": 8,
     "metadata": {},
     "output_type": "execute_result"
    }
   ],
   "source": [
    "test_data.shape, test_gt.shape"
   ]
  },
  {
   "cell_type": "markdown",
   "metadata": {},
   "source": [
    "## Model"
   ]
  },
  {
   "cell_type": "code",
   "execution_count": 9,
   "metadata": {
    "collapsed": false
   },
   "outputs": [],
   "source": [
    "# Model parameters\n",
    "n_variables = 77\n",
    "learning_rate = 0.001\n",
    "batch_size = 100\n",
    "\n",
    "wavelet_levels = 5    #number of wavelet layer to have in the network\n",
    "convolution_levels = 3    #number of convolution to have in the network\n",
    "pooling_stride = [4, 4, 4]\n",
    "weights_shape = [[9, n_variables, 32],\n",
    "                 [5, 32, 32],\n",
    "                 [5, 32, 32]]\n",
    "bias_shape = [32, 32, 32]\n",
    "wavelet_weights_shape = [[5, n_variables, n_variables]]    #high_pass and low_pass dimensions\n",
    "activation = tf.nn.relu\n",
    "n_classes = 19\n",
    "\n",
    "##positive weight for weighted cross entropy\n",
    "s = train_gt.shape\n",
    "resolution = np.prod(pooling_stride)\n",
    "pooled_gt = np.reshape(train_gt[:,:(s[0]*s[1]/resolution)*resolution,:], (s[0]*(s[1]/resolution), resolution, s[2])).max(axis=1)\n",
    "pos_weight = (1.0 - pooled_gt.mean(axis = 0)) / pooled_gt.mean(axis=0)\n"
   ]
  },
  {
   "cell_type": "code",
   "execution_count": 10,
   "metadata": {},
   "outputs": [
    {
     "data": {
      "text/plain": [
       "(691, 1024, 77)"
      ]
     },
     "execution_count": 10,
     "metadata": {},
     "output_type": "execute_result"
    }
   ],
   "source": [
    "train_data.shape"
   ]
  },
  {
   "cell_type": "code",
   "execution_count": 11,
   "metadata": {
    "collapsed": false
   },
   "outputs": [
    {
     "data": {
      "text/plain": [
       "(19,)"
      ]
     },
     "execution_count": 11,
     "metadata": {},
     "output_type": "execute_result"
    }
   ],
   "source": [
    "pos_weight.shape"
   ]
  },
  {
   "cell_type": "code",
   "execution_count": 12,
   "metadata": {},
   "outputs": [
    {
     "data": {
      "text/plain": [
       "array([  0.16329966,  34.21019108,  34.43589744,  37.12413793,\n",
       "        36.10067114,  26.70927318,  27.27621483,  39.94814815,\n",
       "        42.01945525,  46.65517241,  51.89952153,  48.57847534,\n",
       "        51.1509434 ,  43.40160643,  44.68595041,  33.7672956 ,\n",
       "        10.65015806,  36.60544218,   2.20649652])"
      ]
     },
     "execution_count": 12,
     "metadata": {},
     "output_type": "execute_result"
    }
   ],
   "source": [
    "pos_weight"
   ]
  },
  {
   "cell_type": "code",
   "execution_count": 13,
   "metadata": {},
   "outputs": [],
   "source": [
    "# Launch the graph\n",
    "config = tf.ConfigProto()\n",
    "config.gpu_options.allow_growth = True\n",
    "sess = tf.Session(config=config)"
   ]
  },
  {
   "cell_type": "code",
   "execution_count": 14,
   "metadata": {},
   "outputs": [],
   "source": [
    "summary_path = '../summary/' + exp_name \n",
    "checkpoint_path = '../model/' + exp_name + '/checkpoint' "
   ]
  },
  {
   "cell_type": "code",
   "execution_count": 16,
   "metadata": {
    "collapsed": false
   },
   "outputs": [],
   "source": [
    "model = wavelet_conv_model.Model(n_variables = n_variables,\n",
    "                                 learning_rate = learning_rate,\n",
    "                                 n_classes = n_classes)"
   ]
  },
  {
   "cell_type": "code",
   "execution_count": 17,
   "metadata": {
    "collapsed": false
   },
   "outputs": [],
   "source": [
    "model.build_neural_wavelet_layer(pos_weight = pos_weight, \n",
    "                                 learning_rate = learning_rate,\n",
    "                                 wavelet_levels = wavelet_levels,    \n",
    "                                 convolution_levels = convolution_levels,    \n",
    "                                 pooling_stride = pooling_stride,     \n",
    "                                 weights_shape = weights_shape,\n",
    "                                 bias_shape = bias_shape,\n",
    "                                 wavelet_weights_shape = wavelet_weights_shape,    \n",
    "                                 activation = activation,\n",
    "                                 trainable_wavelet = True,\n",
    "                                 trainable_conv = True,\n",
    "                                 trainable_last = True)"
   ]
  },
  {
   "cell_type": "code",
   "execution_count": 18,
   "metadata": {
    "collapsed": false
   },
   "outputs": [],
   "source": [
    "trainer = training.Trainer(model = model,\n",
    "                    data_train = train_data,\n",
    "                    ground_truth_train = train_gt,\n",
    "                    data_validation = test_data,\n",
    "                    ground_truth_validation = test_gt,\n",
    "                    sess = sess,\n",
    "                    summary_path = summary_path,\n",
    "                    batch_size = batch_size,\n",
    "                    global_step = 0,\n",
    "                    eval_type = 'activity')"
   ]
  },
  {
   "cell_type": "code",
   "execution_count": null,
   "metadata": {
    "collapsed": false
   },
   "outputs": [
    {
     "name": "stdout",
     "output_type": "stream",
     "text": [
      "Train Batch Evaluation\n",
      "AUC = 0.090 vs. 0.095\n",
      "F1 = 0.147 vs. 0.138\n",
      "Accuracy = 0.000 vs. 0.053\n",
      "Validation\n",
      "AUC = 0.076 vs. 0.075\n",
      "F1 = 0.117 vs. 0.112\n",
      "Accuracy = 0.000 vs. 0.053\n",
      "Minibatch Loss= 1.469539\n",
      "Train Batch Evaluation\n",
      "AUC = 0.550 vs. 0.091\n",
      "F1 = 0.586 vs. 0.136\n",
      "Accuracy = 0.574 vs. 0.053\n",
      "Validation\n",
      "AUC = 0.351 vs. 0.074\n",
      "F1 = 0.431 vs. 0.108\n",
      "Accuracy = 0.604 vs. 0.053\n",
      "Minibatch Loss= 0.430200\n",
      "Train Batch Evaluation\n",
      "AUC = 0.701 vs. 0.088\n",
      "F1 = 0.703 vs. 0.138\n",
      "Accuracy = 0.779 vs. 0.053\n",
      "Validation\n",
      "AUC = 0.419 vs. 0.077\n",
      "F1 = 0.481 vs. 0.114\n",
      "Accuracy = 0.710 vs. 0.053\n",
      "Minibatch Loss= 0.241982\n",
      "Train Batch Evaluation\n",
      "AUC = 0.786 vs. 0.091\n",
      "F1 = 0.774 vs. 0.141\n",
      "Accuracy = 0.804 vs. 0.053\n",
      "Validation\n",
      "AUC = 0.452 vs. 0.075\n",
      "F1 = 0.514 vs. 0.110\n",
      "Accuracy = 0.786 vs. 0.053\n",
      "Minibatch Loss= 0.190223\n",
      "Train Batch Evaluation\n",
      "AUC = 0.806 vs. 0.089\n",
      "F1 = 0.809 vs. 0.135\n",
      "Accuracy = 0.834 vs. 0.053\n",
      "Validation\n",
      "AUC = 0.475 vs. 0.076\n",
      "F1 = 0.529 vs. 0.109\n",
      "Accuracy = 0.849 vs. 0.053\n",
      "Minibatch Loss= 0.142409\n",
      "Train Batch Evaluation\n",
      "AUC = 0.832 vs. 0.090\n",
      "F1 = 0.843 vs. 0.136\n",
      "Accuracy = 0.864 vs. 0.053\n",
      "Validation\n",
      "AUC = 0.481 vs. 0.076\n",
      "F1 = 0.535 vs. 0.116\n",
      "Accuracy = 0.829 vs. 0.053\n",
      "Minibatch Loss= 0.122053\n",
      "Train Batch Evaluation\n",
      "AUC = 0.885 vs. 0.089\n",
      "F1 = 0.879 vs. 0.131\n",
      "Accuracy = 0.916 vs. 0.053\n",
      "Validation\n",
      "AUC = 0.499 vs. 0.076\n",
      "F1 = 0.546 vs. 0.112\n",
      "Accuracy = 0.840 vs. 0.053\n",
      "Minibatch Loss= 0.094106\n",
      "Train Batch Evaluation\n",
      "AUC = 0.877 vs. 0.090\n",
      "F1 = 0.870 vs. 0.132\n",
      "Accuracy = 0.891 vs. 0.053\n",
      "Validation\n",
      "AUC = 0.494 vs. 0.074\n",
      "F1 = 0.547 vs. 0.105\n",
      "Accuracy = 0.846 vs. 0.053\n",
      "Minibatch Loss= 0.102812\n",
      "Train Batch Evaluation\n",
      "AUC = 0.914 vs. 0.092\n",
      "F1 = 0.903 vs. 0.145\n",
      "Accuracy = 0.864 vs. 0.053\n",
      "Validation\n",
      "AUC = 0.496 vs. 0.078\n",
      "F1 = 0.549 vs. 0.115\n",
      "Accuracy = 0.822 vs. 0.053\n",
      "Minibatch Loss= 0.090502\n",
      "Train Batch Evaluation\n",
      "AUC = 0.905 vs. 0.099\n",
      "F1 = 0.899 vs. 0.147\n",
      "Accuracy = 0.876 vs. 0.053\n",
      "Validation\n",
      "AUC = 0.505 vs. 0.073\n",
      "F1 = 0.550 vs. 0.105\n",
      "Accuracy = 0.854 vs. 0.053\n",
      "Minibatch Loss= 0.093920\n",
      "Train Batch Evaluation\n",
      "AUC = 0.880 vs. 0.089\n",
      "F1 = 0.865 vs. 0.134\n",
      "Accuracy = 0.829 vs. 0.053\n",
      "Validation\n",
      "AUC = 0.506 vs. 0.074\n",
      "F1 = 0.552 vs. 0.111\n",
      "Accuracy = 0.766 vs. 0.053\n",
      "Minibatch Loss= 0.114503\n",
      "Train Batch Evaluation\n",
      "AUC = 0.941 vs. 0.092\n",
      "F1 = 0.938 vs. 0.142\n",
      "Accuracy = 0.924 vs. 0.053\n",
      "Validation\n",
      "AUC = 0.506 vs. 0.078\n",
      "F1 = 0.546 vs. 0.118\n",
      "Accuracy = 0.881 vs. 0.053\n",
      "Minibatch Loss= 0.064987\n",
      "Train Batch Evaluation\n",
      "AUC = 0.957 vs. 0.085\n",
      "F1 = 0.949 vs. 0.131\n",
      "Accuracy = 0.955 vs. 0.053\n",
      "Validation\n",
      "AUC = 0.495 vs. 0.076\n",
      "F1 = 0.544 vs. 0.113\n",
      "Accuracy = 0.889 vs. 0.053\n",
      "Minibatch Loss= 0.051988\n",
      "Train Batch Evaluation\n",
      "AUC = 0.945 vs. 0.092\n",
      "F1 = 0.945 vs. 0.138\n",
      "Accuracy = 0.949 vs. 0.053\n",
      "Validation\n",
      "AUC = 0.507 vs. 0.076\n",
      "F1 = 0.556 vs. 0.115\n",
      "Accuracy = 0.890 vs. 0.053\n",
      "Minibatch Loss= 0.061280\n",
      "Train Batch Evaluation\n",
      "AUC = 0.823 vs. 0.093\n",
      "F1 = 0.788 vs. 0.146\n",
      "Accuracy = 0.630 vs. 0.053\n",
      "Validation\n",
      "AUC = 0.500 vs. 0.076\n",
      "F1 = 0.552 vs. 0.109\n",
      "Accuracy = 0.568 vs. 0.053\n",
      "Minibatch Loss= 0.245809\n",
      "Train Batch Evaluation\n",
      "AUC = 0.953 vs. 0.092\n",
      "F1 = 0.936 vs. 0.143\n",
      "Accuracy = 0.935 vs. 0.053\n",
      "Validation\n",
      "AUC = 0.502 vs. 0.075\n",
      "F1 = 0.561 vs. 0.108\n",
      "Accuracy = 0.892 vs. 0.053\n",
      "Minibatch Loss= 0.066661\n",
      "Train Batch Evaluation\n",
      "AUC = 0.962 vs. 0.098\n",
      "F1 = 0.952 vs. 0.147\n",
      "Accuracy = 0.946 vs. 0.053\n",
      "Validation\n",
      "AUC = 0.508 vs. 0.074\n",
      "F1 = 0.553 vs. 0.111\n",
      "Accuracy = 0.889 vs. 0.053\n",
      "Minibatch Loss= 0.061758\n",
      "Train Batch Evaluation\n",
      "AUC = 0.960 vs. 0.092\n",
      "F1 = 0.959 vs. 0.142\n",
      "Accuracy = 0.976 vs. 0.053\n",
      "Validation\n",
      "AUC = 0.503 vs. 0.076\n",
      "F1 = 0.549 vs. 0.112\n",
      "Accuracy = 0.900 vs. 0.053\n",
      "Minibatch Loss= 0.051285\n",
      "Train Batch Evaluation\n",
      "AUC = 0.959 vs. 0.089\n",
      "F1 = 0.958 vs. 0.135\n",
      "Accuracy = 0.947 vs. 0.053\n",
      "Validation\n",
      "AUC = 0.502 vs. 0.077\n",
      "F1 = 0.545 vs. 0.117\n",
      "Accuracy = 0.898 vs. 0.053\n",
      "Minibatch Loss= 0.050196\n",
      "Train Batch Evaluation\n",
      "AUC = 0.970 vs. 0.093\n",
      "F1 = 0.957 vs. 0.137\n",
      "Accuracy = 0.944 vs. 0.053\n",
      "Validation\n",
      "AUC = 0.502 vs. 0.079\n",
      "F1 = 0.539 vs. 0.119\n",
      "Accuracy = 0.903 vs. 0.053\n",
      "Minibatch Loss= 0.053352\n",
      "Train Batch Evaluation\n",
      "AUC = 0.933 vs. 0.092\n",
      "F1 = 0.909 vs. 0.141\n",
      "Accuracy = 0.903 vs. 0.053\n",
      "Validation\n",
      "AUC = 0.554 vs. 0.075\n",
      "F1 = 0.590 vs. 0.116\n",
      "Accuracy = 0.857 vs. 0.053\n",
      "Minibatch Loss= 0.079637\n",
      "Train Batch Evaluation\n",
      "AUC = 0.948 vs. 0.091\n",
      "F1 = 0.949 vs. 0.137\n",
      "Accuracy = 0.955 vs. 0.053\n",
      "Validation\n",
      "AUC = 0.546 vs. 0.075\n",
      "F1 = 0.578 vs. 0.111\n",
      "Accuracy = 0.888 vs. 0.053\n",
      "Minibatch Loss= 0.057810\n",
      "Train Batch Evaluation\n",
      "AUC = 0.969 vs. 0.095\n",
      "F1 = 0.959 vs. 0.145\n",
      "Accuracy = 0.945 vs. 0.053\n",
      "Validation\n",
      "AUC = 0.537 vs. 0.075\n",
      "F1 = 0.572 vs. 0.117\n",
      "Accuracy = 0.881 vs. 0.053\n",
      "Minibatch Loss= 0.053076\n",
      "Train Batch Evaluation\n",
      "AUC = 0.965 vs. 0.100\n",
      "F1 = 0.958 vs. 0.152\n",
      "Accuracy = 0.942 vs. 0.053\n",
      "Validation\n",
      "AUC = 0.525 vs. 0.074\n",
      "F1 = 0.563 vs. 0.109\n",
      "Accuracy = 0.889 vs. 0.053\n",
      "Minibatch Loss= 0.051080\n",
      "Train Batch Evaluation\n",
      "AUC = 0.962 vs. 0.089\n",
      "F1 = 0.962 vs. 0.137\n",
      "Accuracy = 0.973 vs. 0.053\n",
      "Validation\n",
      "AUC = 0.520 vs. 0.075\n",
      "F1 = 0.557 vs. 0.109\n",
      "Accuracy = 0.897 vs. 0.053\n",
      "Minibatch Loss= 0.042101\n",
      "Train Batch Evaluation\n",
      "AUC = 0.982 vs. 0.093\n",
      "F1 = 0.976 vs. 0.138\n",
      "Accuracy = 0.978 vs. 0.053\n",
      "Validation\n",
      "AUC = 0.514 vs. 0.076\n",
      "F1 = 0.549 vs. 0.114\n",
      "Accuracy = 0.888 vs. 0.053\n",
      "Minibatch Loss= 0.033956\n",
      "Train Batch Evaluation\n",
      "AUC = 0.984 vs. 0.093\n",
      "F1 = 0.975 vs. 0.139\n",
      "Accuracy = 0.964 vs. 0.053\n",
      "Validation\n",
      "AUC = 0.517 vs. 0.076\n",
      "F1 = 0.549 vs. 0.112\n",
      "Accuracy = 0.890 vs. 0.053\n",
      "Minibatch Loss= 0.035422\n",
      "Train Batch Evaluation\n",
      "AUC = 0.986 vs. 0.091\n",
      "F1 = 0.975 vs. 0.141\n",
      "Accuracy = 0.956 vs. 0.053\n",
      "Validation\n",
      "AUC = 0.507 vs. 0.073\n",
      "F1 = 0.537 vs. 0.104\n",
      "Accuracy = 0.872 vs. 0.053\n",
      "Minibatch Loss= 0.035987\n",
      "Train Batch Evaluation\n",
      "AUC = 0.922 vs. 0.088\n",
      "F1 = 0.879 vs. 0.134\n",
      "Accuracy = 0.908 vs. 0.053\n",
      "Validation\n",
      "AUC = 0.565 vs. 0.076\n",
      "F1 = 0.593 vs. 0.115\n",
      "Accuracy = 0.855 vs. 0.053\n",
      "Minibatch Loss= 0.091654\n",
      "Train Batch Evaluation\n",
      "AUC = 0.979 vs. 0.088\n",
      "F1 = 0.962 vs. 0.134\n",
      "Accuracy = 0.959 vs. 0.053\n",
      "Validation\n",
      "AUC = 0.583 vs. 0.075\n",
      "F1 = 0.594 vs. 0.113\n",
      "Accuracy = 0.902 vs. 0.053\n",
      "Minibatch Loss= 0.041011\n",
      "Train Batch Evaluation\n",
      "AUC = 0.981 vs. 0.098\n",
      "F1 = 0.972 vs. 0.152\n",
      "Accuracy = 0.973 vs. 0.053\n",
      "Validation\n",
      "AUC = 0.586 vs. 0.075\n",
      "F1 = 0.595 vs. 0.111\n",
      "Accuracy = 0.906 vs. 0.053\n",
      "Minibatch Loss= 0.043737\n",
      "Train Batch Evaluation\n",
      "AUC = 0.981 vs. 0.096\n",
      "F1 = 0.971 vs. 0.143\n",
      "Accuracy = 0.953 vs. 0.053\n",
      "Validation\n",
      "AUC = 0.580 vs. 0.080\n",
      "F1 = 0.591 vs. 0.123\n",
      "Accuracy = 0.905 vs. 0.053\n",
      "Minibatch Loss= 0.039453\n",
      "Train Batch Evaluation\n",
      "AUC = 0.986 vs. 0.087\n",
      "F1 = 0.982 vs. 0.130\n",
      "Accuracy = 0.974 vs. 0.053\n",
      "Validation\n",
      "AUC = 0.573 vs. 0.080\n",
      "F1 = 0.584 vs. 0.120\n",
      "Accuracy = 0.911 vs. 0.053\n",
      "Minibatch Loss= 0.028970\n",
      "Train Batch Evaluation\n",
      "AUC = 0.993 vs. 0.089\n",
      "F1 = 0.987 vs. 0.134\n",
      "Accuracy = 0.983 vs. 0.053\n",
      "Validation\n",
      "AUC = 0.566 vs. 0.075\n",
      "F1 = 0.586 vs. 0.109\n",
      "Accuracy = 0.917 vs. 0.053\n",
      "Minibatch Loss= 0.026203\n",
      "Train Batch Evaluation\n",
      "AUC = 0.996 vs. 0.097\n",
      "F1 = 0.987 vs. 0.147\n",
      "Accuracy = 0.981 vs. 0.053\n",
      "Validation\n",
      "AUC = 0.563 vs. 0.076\n",
      "F1 = 0.582 vs. 0.115\n",
      "Accuracy = 0.913 vs. 0.053\n",
      "Minibatch Loss= 0.030037\n",
      "Train Batch Evaluation\n",
      "AUC = 0.992 vs. 0.089\n",
      "F1 = 0.987 vs. 0.137\n",
      "Accuracy = 0.989 vs. 0.053\n",
      "Validation\n",
      "AUC = 0.555 vs. 0.075\n",
      "F1 = 0.580 vs. 0.112\n",
      "Accuracy = 0.913 vs. 0.053\n",
      "Minibatch Loss= 0.022763\n",
      "Train Batch Evaluation\n",
      "AUC = 0.993 vs. 0.092\n",
      "F1 = 0.986 vs. 0.142\n",
      "Accuracy = 0.983 vs. 0.053\n",
      "Validation\n",
      "AUC = 0.554 vs. 0.074\n",
      "F1 = 0.580 vs. 0.103\n",
      "Accuracy = 0.915 vs. 0.053\n",
      "Minibatch Loss= 0.023478\n"
     ]
    }
   ],
   "source": [
    "trainer.train(max_iter = 20000,\n",
    "                train_eval_step = 100, \n",
    "                validation_eval_step = 100,\n",
    "                display_step = 100)"
   ]
  },
  {
   "cell_type": "code",
   "execution_count": null,
   "metadata": {
    "collapsed": false
   },
   "outputs": [],
   "source": [
    "#Save the model\n",
    "saver = tf.train.Saver()\n",
    "saver.save(sess, checkpoint_path, global_step=trainer.global_step)"
   ]
  },
  {
   "cell_type": "code",
   "execution_count": null,
   "metadata": {
    "collapsed": false
   },
   "outputs": [],
   "source": [
    "#load the model\n",
    "saver = tf.train.Saver()\n",
    "#saver.restore(sess, \"../model\" + \"/CNN7002_Gleam\" + \"/CNN7002_Gleam\")\n",
    "saver.restore(sess, '../model/CNN7002_Gleam/CNN7002_Gleam-10000')\n"
   ]
  },
  {
   "cell_type": "code",
   "execution_count": 21,
   "metadata": {
    "collapsed": false
   },
   "outputs": [
    {
     "name": "stdout",
     "output_type": "stream",
     "text": [
      "AUC = 0.624 vs. 0.184\n",
      "F1 = 0.630 vs. 0.318\n",
      "Precision = 0.545 vs. 0.189\n",
      "Recall = 0.746 vs. 0.994\n"
     ]
    }
   ],
   "source": [
    "#This is the model evaluation on test dataset\n",
    "result = nn_eval.evaluate_model (model, sess, test_data, test_gt)"
   ]
  },
  {
   "cell_type": "code",
   "execution_count": 22,
   "metadata": {},
   "outputs": [],
   "source": [
    "probability_of_pos = nn_eval.deploy(model, sess, test_data, test_gt)"
   ]
  },
  {
   "cell_type": "code",
   "execution_count": 23,
   "metadata": {
    "collapsed": true
   },
   "outputs": [],
   "source": [
    "#shape of probability_change is (batch size, T, num_classes)\n",
    "#since num_classes = 1 we squeeze that axis\n",
    "probability_change = np.squeeze(probability_of_pos, axis = 2)"
   ]
  },
  {
   "cell_type": "code",
   "execution_count": 24,
   "metadata": {
    "collapsed": false
   },
   "outputs": [],
   "source": [
    "savemat('../poc/poc'+exp_name+'.mat', {'poc':probability_change})"
   ]
  },
  {
   "cell_type": "code",
   "execution_count": 21,
   "metadata": {},
   "outputs": [
    {
     "data": {
      "text/plain": [
       "1"
      ]
     },
     "execution_count": 21,
     "metadata": {},
     "output_type": "execute_result"
    }
   ],
   "source": [
    "1"
   ]
  },
  {
   "cell_type": "code",
   "execution_count": null,
   "metadata": {},
   "outputs": [],
   "source": []
  }
 ],
 "metadata": {
  "anaconda-cloud": {},
  "kernelspec": {
   "display_name": "Anaconca with Tensorflow",
   "language": "python",
   "name": "tensorflow"
  },
  "language_info": {
   "codemirror_mode": {
    "name": "ipython",
    "version": 2
   },
   "file_extension": ".py",
   "mimetype": "text/x-python",
   "name": "python",
   "nbconvert_exporter": "python",
   "pygments_lexer": "ipython2",
   "version": "2.7.13"
  }
 },
 "nbformat": 4,
 "nbformat_minor": 2
}
