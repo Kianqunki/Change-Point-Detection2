{
 "cells": [
  {
   "cell_type": "code",
   "execution_count": 1,
   "metadata": {
    "collapsed": true
   },
   "outputs": [],
   "source": [
    "# useing this variable for saving models and summaries\n",
    "exp_name = \"RCNN_Wmultitask_64_opp\""
   ]
  },
  {
   "cell_type": "markdown",
   "metadata": {},
   "source": [
    "## Importing Libraries"
   ]
  },
  {
   "cell_type": "code",
   "execution_count": 2,
   "metadata": {
    "collapsed": false
   },
   "outputs": [],
   "source": [
    "%load_ext autoreload\n",
    "%autoreload 2\n",
    "import tensorflow as tf\n",
    "import numpy as np\n",
    "from hdf5storage import savemat\n",
    "import hickle \n",
    "\n",
    "import sys\n",
    "sys.path.append('../src')"
   ]
  },
  {
   "cell_type": "code",
   "execution_count": 3,
   "metadata": {},
   "outputs": [],
   "source": [
    "import models.CNN_lstm_model as CNN_lstm_model\n",
    "import training\n",
    "import evaluation.nn_eval_multitask as nn_eval"
   ]
  },
  {
   "cell_type": "markdown",
   "metadata": {},
   "source": [
    "## Loading synthetic data"
   ]
  },
  {
   "cell_type": "code",
   "execution_count": 4,
   "metadata": {
    "collapsed": false
   },
   "outputs": [],
   "source": [
    "#loading data\n",
    "data_path= '../data/opp8.hkl'\n",
    "with open(data_path, 'r') as fin:\n",
    "    data = hickle.load(fin)"
   ]
  },
  {
   "cell_type": "code",
   "execution_count": 5,
   "metadata": {},
   "outputs": [],
   "source": [
    "train_data = data['train_data']\n",
    "validation_data = data['validation_data']\n",
    "test_data = data['test_data']\n",
    "\n",
    "train_gt = data['train_gt']\n",
    "validation_gt = data['validation_gt']\n",
    "test_gt = data['test_gt']"
   ]
  },
  {
   "cell_type": "code",
   "execution_count": 6,
   "metadata": {},
   "outputs": [
    {
     "data": {
      "text/plain": [
       "((691, 1024, 77), (691, 1024, 19))"
      ]
     },
     "execution_count": 6,
     "metadata": {},
     "output_type": "execute_result"
    }
   ],
   "source": [
    "train_data.shape, train_gt.shape"
   ]
  },
  {
   "cell_type": "code",
   "execution_count": 7,
   "metadata": {},
   "outputs": [
    {
     "data": {
      "text/plain": [
       "((119, 1024, 77), (119, 1024, 19))"
      ]
     },
     "execution_count": 7,
     "metadata": {},
     "output_type": "execute_result"
    }
   ],
   "source": [
    "test_data.shape, test_gt.shape"
   ]
  },
  {
   "cell_type": "markdown",
   "metadata": {},
   "source": [
    "## Model"
   ]
  },
  {
   "cell_type": "code",
   "execution_count": 8,
   "metadata": {
    "collapsed": false
   },
   "outputs": [],
   "source": [
    "# Model parameters\n",
    "n_variables = 77\n",
    "learning_rate = 0.001\n",
    "batch_size = 100\n",
    "\n",
    "pooling_stride = [4, 4, 4]\n",
    "weights_shape = [[9, n_variables, 32],\n",
    "                 [5, 32, 32],\n",
    "                 [5, 32, 32]]\n",
    "bias_shape = [32, 32, 32]\n",
    "activation = tf.nn.relu\n",
    "\n",
    "lstm_n_hidden = 128\n",
    "n_classes = 19\n",
    "\n",
    "##positive weight for weighted cross entropy\n",
    "s = train_gt.shape\n",
    "resolution = np.prod(pooling_stride)\n",
    "\n",
    "pooled_gt = np.reshape(train_gt[:,:(s[0]*s[1]/resolution)*resolution,:], (s[0]*(s[1]/resolution), resolution, s[2])).max(axis=1)\n",
    "pos_weight = (1.0 - pooled_gt.mean(axis = 0)) / pooled_gt.mean(axis=0)\n",
    "\n",
    "variables_weights = np.ones((n_classes,))"
   ]
  },
  {
   "cell_type": "code",
   "execution_count": 9,
   "metadata": {
    "collapsed": false
   },
   "outputs": [
    {
     "data": {
      "text/plain": [
       "(19,)"
      ]
     },
     "execution_count": 9,
     "metadata": {},
     "output_type": "execute_result"
    }
   ],
   "source": [
    "pos_weight.shape"
   ]
  },
  {
   "cell_type": "code",
   "execution_count": 10,
   "metadata": {},
   "outputs": [
    {
     "data": {
      "text/plain": [
       "array([  0.16329966,  34.21019108,  34.43589744,  37.12413793,\n",
       "        36.10067114,  26.70927318,  27.27621483,  39.94814815,\n",
       "        42.01945525,  46.65517241,  51.89952153,  48.57847534,\n",
       "        51.1509434 ,  43.40160643,  44.68595041,  33.7672956 ,\n",
       "        10.65015806,  36.60544218,   2.20649652])"
      ]
     },
     "execution_count": 10,
     "metadata": {},
     "output_type": "execute_result"
    }
   ],
   "source": [
    "pos_weight"
   ]
  },
  {
   "cell_type": "code",
   "execution_count": 11,
   "metadata": {},
   "outputs": [],
   "source": [
    "# Launch the graph\n",
    "config = tf.ConfigProto()\n",
    "config.gpu_options.allow_growth = True\n",
    "sess = tf.Session(config=config)"
   ]
  },
  {
   "cell_type": "code",
   "execution_count": 12,
   "metadata": {},
   "outputs": [],
   "source": [
    "summary_path = '../summary/' + exp_name \n",
    "checkpoint_path = '../model/' + exp_name + '/' + exp_name "
   ]
  },
  {
   "cell_type": "code",
   "execution_count": 13,
   "metadata": {
    "collapsed": false
   },
   "outputs": [],
   "source": [
    "model = CNN_lstm_model.Model(n_variables = n_variables,\n",
    "                        n_classes = n_classes)"
   ]
  },
  {
   "cell_type": "code",
   "execution_count": 14,
   "metadata": {
    "collapsed": false
   },
   "outputs": [],
   "source": [
    "model.build_cnn_lstm_net(pooling_stride = pooling_stride,\n",
    "                         weights_shape = weights_shape,\n",
    "                         bias_shape = bias_shape,\n",
    "                         activation = activation,\n",
    "                         lstm_n_hidden = lstm_n_hidden,\n",
    "                         n_classes = n_classes,\n",
    "                         learning_rate = learning_rate,\n",
    "                         pos_weight = pos_weight,\n",
    "                         trainable_conv = True,\n",
    "                         trainable_last = True,\n",
    "                         variables_weights = variables_weights)"
   ]
  },
  {
   "cell_type": "code",
   "execution_count": null,
   "metadata": {
    "collapsed": false
   },
   "outputs": [],
   "source": [
    "trainer = training.Trainer(model = model,\n",
    "                    data_train = train_data,\n",
    "                    ground_truth_train = train_gt,\n",
    "                    data_validation = test_data,\n",
    "                    ground_truth_validation = test_gt,\n",
    "                    sess = sess,\n",
    "                    summary_path = summary_path,\n",
    "                    batch_size = batch_size,\n",
    "                    global_step = 0,\n",
    "                    eval_type = 'multitask')"
   ]
  },
  {
   "cell_type": "code",
   "execution_count": null,
   "metadata": {
    "collapsed": false
   },
   "outputs": [
    {
     "name": "stdout",
     "output_type": "stream",
     "text": [
      "Train Batch Evaluation\n",
      "ACTIVITY RECOGNITION\n",
      "AUC = 0.086 vs. 0.081\n",
      "F1 = 0.136 vs. 0.126\n",
      "Accuracy = 0.008 vs. 0.056\n",
      "CHANGE DETECTION\n",
      "AUC = 0.326 vs. 0.340\n",
      "F1 = 0.499 vs. 0.493\n",
      "Precision = 0.334 vs. 0.327\n",
      "Recall = 0.985 vs. 1.000\n",
      "Validation\n",
      "ACTIVITY RECOGNITION\n",
      "AUC = 0.072 vs. 0.075\n",
      "F1 = 0.109 vs. 0.114\n",
      "Accuracy = 0.007 vs. 0.056\n",
      "CHANGE DETECTION\n",
      "AUC = 0.152 vs. 0.172\n",
      "F1 = 0.313 vs. 0.312\n",
      "Precision = 0.189 vs. 0.186\n",
      "Recall = 0.897 vs. 0.980\n",
      "Minibatch Loss= 1.636894\n",
      "Train Batch Evaluation\n",
      "ACTIVITY RECOGNITION\n",
      "AUC = 0.702 vs. 0.075\n",
      "F1 = 0.707 vs. 0.115\n",
      "Accuracy = 0.812 vs. 0.056\n",
      "CHANGE DETECTION\n",
      "AUC = 0.756 vs. 0.344\n",
      "F1 = 0.732 vs. 0.497\n",
      "Precision = 0.648 vs. 0.332\n",
      "Recall = 0.840 vs. 0.989\n",
      "Validation\n",
      "ACTIVITY RECOGNITION\n",
      "AUC = 0.444 vs. 0.068\n",
      "F1 = 0.501 vs. 0.093\n",
      "Accuracy = 0.812 vs. 0.056\n",
      "CHANGE DETECTION\n",
      "AUC = 0.586 vs. 0.178\n",
      "F1 = 0.597 vs. 0.312\n",
      "Precision = 0.482 vs. 0.185\n",
      "Recall = 0.783 vs. 0.994\n",
      "Minibatch Loss= 0.285762\n",
      "Train Batch Evaluation\n",
      "ACTIVITY RECOGNITION\n",
      "AUC = 0.828 vs. 0.080\n",
      "F1 = 0.812 vs. 0.120\n",
      "Accuracy = 0.839 vs. 0.056\n",
      "CHANGE DETECTION\n",
      "AUC = 0.771 vs. 0.289\n",
      "F1 = 0.728 vs. 0.447\n",
      "Precision = 0.643 vs. 0.288\n",
      "Recall = 0.839 vs. 0.998\n",
      "Validation\n",
      "ACTIVITY RECOGNITION\n",
      "AUC = 0.562 vs. 0.068\n",
      "F1 = 0.590 vs. 0.099\n",
      "Accuracy = 0.851 vs. 0.056\n",
      "CHANGE DETECTION\n",
      "AUC = 0.651 vs. 0.193\n",
      "F1 = 0.646 vs. 0.311\n",
      "Precision = 0.579 vs. 0.185\n",
      "Recall = 0.729 vs. 0.997\n",
      "Minibatch Loss= 0.153676\n",
      "Train Batch Evaluation\n",
      "ACTIVITY RECOGNITION\n",
      "AUC = 0.930 vs. 0.086\n",
      "F1 = 0.900 vs. 0.132\n",
      "Accuracy = 0.886 vs. 0.056\n",
      "CHANGE DETECTION\n",
      "AUC = 0.860 vs. 0.396\n",
      "F1 = 0.788 vs. 0.567\n",
      "Precision = 0.724 vs. 0.396\n",
      "Recall = 0.863 vs. 1.000\n",
      "Validation\n",
      "ACTIVITY RECOGNITION\n",
      "AUC = 0.576 vs. 0.069\n",
      "F1 = 0.598 vs. 0.099\n",
      "Accuracy = 0.884 vs. 0.056\n",
      "CHANGE DETECTION\n",
      "AUC = 0.678 vs. 0.193\n",
      "F1 = 0.661 vs. 0.313\n",
      "Precision = 0.615 vs. 0.189\n",
      "Recall = 0.715 vs. 0.912\n",
      "Minibatch Loss= 0.128505\n",
      "Train Batch Evaluation\n",
      "ACTIVITY RECOGNITION\n",
      "AUC = 0.961 vs. 0.077\n",
      "F1 = 0.928 vs. 0.120\n",
      "Accuracy = 0.937 vs. 0.056\n",
      "CHANGE DETECTION\n",
      "AUC = 0.842 vs. 0.280\n",
      "F1 = 0.807 vs. 0.444\n",
      "Precision = 0.759 vs. 0.286\n",
      "Recall = 0.862 vs. 0.998\n",
      "Validation\n",
      "ACTIVITY RECOGNITION\n",
      "AUC = 0.582 vs. 0.069\n",
      "F1 = 0.617 vs. 0.100\n",
      "Accuracy = 0.902 vs. 0.056\n",
      "CHANGE DETECTION\n",
      "AUC = 0.684 vs. 0.185\n",
      "F1 = 0.665 vs. 0.311\n",
      "Precision = 0.581 vs. 0.184\n",
      "Recall = 0.778 vs. 1.000\n",
      "Minibatch Loss= 0.074283\n",
      "Train Batch Evaluation\n",
      "ACTIVITY RECOGNITION\n",
      "AUC = 0.965 vs. 0.077\n",
      "F1 = 0.951 vs. 0.113\n",
      "Accuracy = 0.924 vs. 0.056\n",
      "CHANGE DETECTION\n",
      "AUC = 0.868 vs. 0.278\n",
      "F1 = 0.828 vs. 0.448\n",
      "Precision = 0.771 vs. 0.289\n",
      "Recall = 0.894 vs. 1.000\n",
      "Validation\n",
      "ACTIVITY RECOGNITION\n",
      "AUC = 0.596 vs. 0.070\n",
      "F1 = 0.626 vs. 0.100\n",
      "Accuracy = 0.891 vs. 0.056\n",
      "CHANGE DETECTION\n",
      "AUC = 0.696 vs. 0.174\n",
      "F1 = 0.682 vs. 0.314\n",
      "Precision = 0.612 vs. 0.187\n",
      "Recall = 0.769 vs. 0.977\n",
      "Minibatch Loss= 0.062152\n",
      "Train Batch Evaluation\n",
      "ACTIVITY RECOGNITION\n",
      "AUC = 0.984 vs. 0.078\n",
      "F1 = 0.966 vs. 0.114\n",
      "Accuracy = 0.964 vs. 0.056\n",
      "CHANGE DETECTION\n",
      "AUC = 0.913 vs. 0.289\n",
      "F1 = 0.879 vs. 0.453\n",
      "Precision = 0.853 vs. 0.293\n",
      "Recall = 0.906 vs. 1.000\n",
      "Validation\n",
      "ACTIVITY RECOGNITION\n",
      "AUC = 0.591 vs. 0.072\n",
      "F1 = 0.624 vs. 0.108\n",
      "Accuracy = 0.917 vs. 0.056\n",
      "CHANGE DETECTION\n",
      "AUC = 0.693 vs. 0.188\n",
      "F1 = 0.686 vs. 0.318\n",
      "Precision = 0.603 vs. 0.192\n",
      "Recall = 0.795 vs. 0.926\n",
      "Minibatch Loss= 0.050995\n",
      "Train Batch Evaluation\n",
      "ACTIVITY RECOGNITION\n",
      "AUC = 0.993 vs. 0.076\n",
      "F1 = 0.978 vs. 0.113\n",
      "Accuracy = 0.984 vs. 0.056\n",
      "CHANGE DETECTION\n",
      "AUC = 0.949 vs. 0.319\n",
      "F1 = 0.912 vs. 0.469\n",
      "Precision = 0.885 vs. 0.306\n",
      "Recall = 0.941 vs. 1.000\n",
      "Validation\n",
      "ACTIVITY RECOGNITION\n",
      "AUC = 0.582 vs. 0.071\n",
      "F1 = 0.623 vs. 0.110\n",
      "Accuracy = 0.924 vs. 0.056\n",
      "CHANGE DETECTION\n",
      "AUC = 0.702 vs. 0.183\n",
      "F1 = 0.695 vs. 0.314\n",
      "Precision = 0.630 vs. 0.187\n",
      "Recall = 0.775 vs. 0.974\n",
      "Minibatch Loss= 0.037950\n"
     ]
    }
   ],
   "source": [
    "trainer.train(max_iter = 20000,\n",
    "                train_eval_step = 100, \n",
    "                validation_eval_step = 100,\n",
    "                display_step = 100)"
   ]
  },
  {
   "cell_type": "code",
   "execution_count": null,
   "metadata": {
    "collapsed": false
   },
   "outputs": [],
   "source": [
    "#Save the model\n",
    "saver = tf.train.Saver()\n",
    "saver.save(sess, checkpoint_path, global_step=trainer.global_step)"
   ]
  },
  {
   "cell_type": "code",
   "execution_count": null,
   "metadata": {
    "collapsed": false
   },
   "outputs": [],
   "source": [
    "#load the model\n",
    "#saver = tf.train.Saver()\n",
    "#saver.restore(sess, \"../model\" + \"/CNN7002_Gleam\" + \"/CNN7002_Gleam\")\n",
    "#saver.restore(sess, '../model/CNN7002_Gleam/CNN7002_Gleam-10000')\n"
   ]
  },
  {
   "cell_type": "code",
   "execution_count": null,
   "metadata": {
    "collapsed": false
   },
   "outputs": [],
   "source": [
    "#This is the model evaluation on test dataset\n",
    "result = nn_eval.evaluate_model (model, sess, test_data, test_gt)"
   ]
  },
  {
   "cell_type": "code",
   "execution_count": null,
   "metadata": {},
   "outputs": [],
   "source": [
    "probability_of_pos = nn_eval.deploy(model, sess, test_data, test_gt)"
   ]
  },
  {
   "cell_type": "code",
   "execution_count": null,
   "metadata": {},
   "outputs": [],
   "source": [
    "probability_of_pos.shape"
   ]
  },
  {
   "cell_type": "code",
   "execution_count": null,
   "metadata": {
    "collapsed": true
   },
   "outputs": [],
   "source": [
    "#shape of probability_change is (batch size, T, num_classes)\n",
    "#since num_classes = 1 we squeeze that axis\n",
    "probability_change = np.squeeze(probability_of_pos, axis = 2)"
   ]
  },
  {
   "cell_type": "code",
   "execution_count": null,
   "metadata": {
    "collapsed": false
   },
   "outputs": [],
   "source": [
    "savemat('../poc/poc'+exp_name+'.mat', {'poc':probability_change})"
   ]
  },
  {
   "cell_type": "code",
   "execution_count": null,
   "metadata": {},
   "outputs": [],
   "source": [
    "1"
   ]
  },
  {
   "cell_type": "code",
   "execution_count": null,
   "metadata": {},
   "outputs": [],
   "source": []
  }
 ],
 "metadata": {
  "anaconda-cloud": {},
  "kernelspec": {
   "display_name": "Anaconca with Tensorflow",
   "language": "python",
   "name": "tensorflow"
  },
  "language_info": {
   "codemirror_mode": {
    "name": "ipython",
    "version": 2
   },
   "file_extension": ".py",
   "mimetype": "text/x-python",
   "name": "python",
   "nbconvert_exporter": "python",
   "pygments_lexer": "ipython2",
   "version": "2.7.13"
  }
 },
 "nbformat": 4,
 "nbformat_minor": 2
}
