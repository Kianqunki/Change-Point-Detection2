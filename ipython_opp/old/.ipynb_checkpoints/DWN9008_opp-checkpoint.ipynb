{
 "cells": [
  {
   "cell_type": "code",
   "execution_count": 1,
   "metadata": {
    "collapsed": true
   },
   "outputs": [],
   "source": [
    "# useing this variable for saving models and summaries\n",
    "exp_name = \"DWN9008_opp\""
   ]
  },
  {
   "cell_type": "markdown",
   "metadata": {},
   "source": [
    "## Importing Libraries"
   ]
  },
  {
   "cell_type": "code",
   "execution_count": 2,
   "metadata": {
    "collapsed": false
   },
   "outputs": [],
   "source": [
    "%load_ext autoreload\n",
    "%autoreload 2\n",
    "import tensorflow as tf\n",
    "import numpy as np\n",
    "from hdf5storage import savemat\n",
    "import hickle \n",
    "\n",
    "import sys\n",
    "sys.path.append('../src')"
   ]
  },
  {
   "cell_type": "code",
   "execution_count": 3,
   "metadata": {},
   "outputs": [],
   "source": [
    "import models.wavelet_conv_model as wavelet_conv_model\n",
    "import training\n",
    "import evaluation.nn_eval_activity as nn_eval"
   ]
  },
  {
   "cell_type": "markdown",
   "metadata": {},
   "source": [
    "## Loading synthetic data"
   ]
  },
  {
   "cell_type": "code",
   "execution_count": 4,
   "metadata": {
    "collapsed": false
   },
   "outputs": [],
   "source": [
    "#loading data\n",
    "data_path= '../data/opp6.hkl'\n",
    "with open(data_path, 'r') as fin:\n",
    "    data = hickle.load(fin)"
   ]
  },
  {
   "cell_type": "code",
   "execution_count": 5,
   "metadata": {},
   "outputs": [],
   "source": [
    "train_data = data['train_data']\n",
    "validation_data = data['validation_data']\n",
    "test_data = data['test_data']\n",
    "\n",
    "train_gt = data['train_gt']\n",
    "validation_gt = data['validation_gt']\n",
    "test_gt = data['test_gt']"
   ]
  },
  {
   "cell_type": "code",
   "execution_count": 6,
   "metadata": {},
   "outputs": [
    {
     "data": {
      "text/plain": [
       "((1358, 1024, 77), (1358, 1024, 18))"
      ]
     },
     "execution_count": 6,
     "metadata": {},
     "output_type": "execute_result"
    }
   ],
   "source": [
    "train_data.shape, train_gt.shape"
   ]
  },
  {
   "cell_type": "code",
   "execution_count": 7,
   "metadata": {},
   "outputs": [
    {
     "data": {
      "text/plain": [
       "((233, 1024, 77), (233, 1024, 18))"
      ]
     },
     "execution_count": 7,
     "metadata": {},
     "output_type": "execute_result"
    }
   ],
   "source": [
    "test_data.shape, test_gt.shape"
   ]
  },
  {
   "cell_type": "markdown",
   "metadata": {},
   "source": [
    "## Model"
   ]
  },
  {
   "cell_type": "code",
   "execution_count": 8,
   "metadata": {
    "collapsed": false
   },
   "outputs": [],
   "source": [
    "# Model parameters\n",
    "n_variables = 77\n",
    "learning_rate = 0.001\n",
    "batch_size = 100\n",
    "\n",
    "wavelet_levels = 5    #number of wavelet layer to have in the network\n",
    "convolution_levels = 3    #number of convolution to have in the network\n",
    "pooling_stride = [4, 4, 4]\n",
    "weights_shape = [[9, n_variables, 32],\n",
    "                 [5, 32, 32],\n",
    "                 [5, 32, 32]]\n",
    "bias_shape = [32, 32, 32]\n",
    "wavelet_weights_shape = [[5, n_variables, n_variables]]    #high_pass and low_pass dimensions\n",
    "activation = tf.nn.relu\n",
    "n_classes = 18\n",
    "\n",
    "##positive weight for weighted cross entropy\n",
    "s = train_gt.shape\n",
    "resolution = np.prod(pooling_stride)\n",
    "pooled_gt = np.reshape(train_gt[:,:(s[0]*s[1]/resolution)*resolution,:], (s[0]*(s[1]/resolution), resolution, s[2])).max(axis=1)\n",
    "pos_weight = (1.0 - pooled_gt.mean(axis = 0)) / pooled_gt.mean(axis=0)\n"
   ]
  },
  {
   "cell_type": "code",
   "execution_count": 9,
   "metadata": {},
   "outputs": [
    {
     "data": {
      "text/plain": [
       "'train_data = train_data[:,:-(train_data.shape[1]%((2**(wavelet_levels-1))*resolution)),:]\\nvalidation_data = validation_data[:,:-(validation_data.shape[1]%((2**(wavelet_levels-1))*resolution)),:]\\ntest_data = test_data[:,:-(test_data.shape[1]%((2**(wavelet_levels-1))*resolution)),:]\\n\\ntrain_gt = train_gt[:,:-(train_gt.shape[1]%((2**(wavelet_levels-1))*resolution)),:]\\nvalidation_gt = validation_gt[:,:-(validation_gt.shape[1]%((2**(wavelet_levels-1))*resolution)),:]\\ntest_gt = test_gt[:,:-(test_gt.shape[1]%((2**(wavelet_levels-1))*resolution)),:]'"
      ]
     },
     "execution_count": 9,
     "metadata": {},
     "output_type": "execute_result"
    }
   ],
   "source": [
    "'''train_data = train_data[:,:-(train_data.shape[1]%((2**(wavelet_levels-1))*resolution)),:]\n",
    "validation_data = validation_data[:,:-(validation_data.shape[1]%((2**(wavelet_levels-1))*resolution)),:]\n",
    "test_data = test_data[:,:-(test_data.shape[1]%((2**(wavelet_levels-1))*resolution)),:]\n",
    "\n",
    "train_gt = train_gt[:,:-(train_gt.shape[1]%((2**(wavelet_levels-1))*resolution)),:]\n",
    "validation_gt = validation_gt[:,:-(validation_gt.shape[1]%((2**(wavelet_levels-1))*resolution)),:]\n",
    "test_gt = test_gt[:,:-(test_gt.shape[1]%((2**(wavelet_levels-1))*resolution)),:]'''"
   ]
  },
  {
   "cell_type": "code",
   "execution_count": 10,
   "metadata": {},
   "outputs": [
    {
     "data": {
      "text/plain": [
       "(1358, 1024, 77)"
      ]
     },
     "execution_count": 10,
     "metadata": {},
     "output_type": "execute_result"
    }
   ],
   "source": [
    "train_data.shape"
   ]
  },
  {
   "cell_type": "code",
   "execution_count": 11,
   "metadata": {
    "collapsed": false
   },
   "outputs": [
    {
     "data": {
      "text/plain": [
       "(18,)"
      ]
     },
     "execution_count": 11,
     "metadata": {},
     "output_type": "execute_result"
    }
   ],
   "source": [
    "pos_weight.shape"
   ]
  },
  {
   "cell_type": "code",
   "execution_count": 12,
   "metadata": {},
   "outputs": [
    {
     "data": {
      "text/plain": [
       "array([  0.1575919 ,  33.59872611,  33.82051282,  36.46206897,\n",
       "        35.45637584,  26.22807018,  26.78516624,  39.3866171 ,\n",
       "        41.27237354,  45.82758621,  50.98086124,  47.71748879,\n",
       "        50.24528302,  42.63052209,  43.89256198,  33.16352201,\n",
       "        10.44783983,  35.95238095])"
      ]
     },
     "execution_count": 12,
     "metadata": {},
     "output_type": "execute_result"
    }
   ],
   "source": [
    "pos_weight"
   ]
  },
  {
   "cell_type": "code",
   "execution_count": 13,
   "metadata": {},
   "outputs": [],
   "source": [
    "# Launch the graph\n",
    "config = tf.ConfigProto()\n",
    "config.gpu_options.allow_growth = True\n",
    "sess = tf.Session(config=config)"
   ]
  },
  {
   "cell_type": "code",
   "execution_count": 14,
   "metadata": {},
   "outputs": [],
   "source": [
    "summary_path = '../summary/' + exp_name \n",
    "checkpoint_path = '../model/' + exp_name + '/checkpoint' "
   ]
  },
  {
   "cell_type": "code",
   "execution_count": 15,
   "metadata": {
    "collapsed": false
   },
   "outputs": [],
   "source": [
    "model = wavelet_conv_model.Model(n_variables = n_variables,\n",
    "                                 learning_rate = learning_rate,\n",
    "                                 n_classes = n_classes)"
   ]
  },
  {
   "cell_type": "code",
   "execution_count": 17,
   "metadata": {
    "collapsed": false
   },
   "outputs": [],
   "source": [
    "model.build_neural_wavelet_layer(pos_weight = pos_weight, \n",
    "                                 learning_rate = learning_rate,\n",
    "                                 wavelet_levels = wavelet_levels,    \n",
    "                                 convolution_levels = convolution_levels,    \n",
    "                                 pooling_stride = pooling_stride,     \n",
    "                                 weights_shape = weights_shape,\n",
    "                                 bias_shape = bias_shape,\n",
    "                                 wavelet_weights_shape = wavelet_weights_shape,    \n",
    "                                 activation = activation,\n",
    "                                 trainable_wavelet=True,\n",
    "                                 trainable_conv=True,\n",
    "                                 trainable_last=True)"
   ]
  },
  {
   "cell_type": "code",
   "execution_count": 18,
   "metadata": {
    "collapsed": false
   },
   "outputs": [],
   "source": [
    "trainer = training.Trainer(model = model,\n",
    "                    data_train = train_data,\n",
    "                    ground_truth_train = train_gt,\n",
    "                    data_validation = test_data,\n",
    "                    ground_truth_validation = test_gt,\n",
    "                    sess = sess,\n",
    "                    summary_path = summary_path,\n",
    "                    batch_size = batch_size,\n",
    "                    global_step = 0,\n",
    "                    eval_type = 'activity')"
   ]
  },
  {
   "cell_type": "code",
   "execution_count": 17,
   "metadata": {},
   "outputs": [
    {
     "name": "stdout",
     "output_type": "stream",
     "text": [
      "{'wavelet_out_shape': [array([     1, 699392,     77], dtype=int32), array([     1, 349696,     77], dtype=int32), array([     1, 174848,     77], dtype=int32), array([    1, 87424,    77], dtype=int32), array([    1, 43712,    77], dtype=int32), array([    1, 21856,    77], dtype=int32)], 'cnn_out_shape': [array([    1, 10928,    18], dtype=int32), array([   1, 5464,   18], dtype=int32), array([   1, 2732,   18], dtype=int32), array([   1, 1366,   18], dtype=int32), array([  1, 683,  18], dtype=int32), array([  1, 342,  18], dtype=int32)], 'input_shape': array([     1, 699392,     77], dtype=int32), 'label_shape': array([     1, 699392,     18], dtype=int32)}\n"
     ]
    }
   ],
   "source": [
    "trainer.run_debug_ops()"
   ]
  },
  {
   "cell_type": "code",
   "execution_count": 19,
   "metadata": {
    "collapsed": false
   },
   "outputs": [
    {
     "name": "stdout",
     "output_type": "stream",
     "text": [
      "Train Batch Evaluation\n",
      "AUC = 0.088 vs. 0.079\n",
      "F1 = 0.135 vs. 0.116\n",
      "Accuracy = 0.017 vs. 0.056\n",
      "Validation\n",
      "AUC = 0.071 vs. 0.068\n",
      "F1 = 0.105 vs. 0.098\n",
      "Accuracy = 0.022 vs. 0.056\n",
      "Minibatch Loss= 1.396609\n",
      "Train Batch Evaluation\n",
      "AUC = 0.545 vs. 0.080\n",
      "F1 = 0.588 vs. 0.125\n",
      "Accuracy = 0.500 vs. 0.056\n",
      "Validation\n",
      "AUC = 0.349 vs. 0.069\n",
      "F1 = 0.415 vs. 0.095\n",
      "Accuracy = 0.456 vs. 0.056\n",
      "Minibatch Loss= 0.413774\n",
      "Train Batch Evaluation\n",
      "AUC = 0.684 vs. 0.081\n",
      "F1 = 0.698 vs. 0.124\n",
      "Accuracy = 0.691 vs. 0.056\n",
      "Validation\n",
      "AUC = 0.438 vs. 0.068\n",
      "F1 = 0.483 vs. 0.093\n",
      "Accuracy = 0.690 vs. 0.056\n",
      "Minibatch Loss= 0.289055\n",
      "Train Batch Evaluation\n",
      "AUC = 0.766 vs. 0.082\n",
      "F1 = 0.748 vs. 0.121\n",
      "Accuracy = 0.814 vs. 0.056\n",
      "Validation\n",
      "AUC = 0.483 vs. 0.068\n",
      "F1 = 0.512 vs. 0.097\n",
      "Accuracy = 0.747 vs. 0.056\n",
      "Minibatch Loss= 0.202670\n",
      "Train Batch Evaluation\n",
      "AUC = 0.810 vs. 0.080\n",
      "F1 = 0.805 vs. 0.119\n",
      "Accuracy = 0.839 vs. 0.056\n",
      "Validation\n",
      "AUC = 0.497 vs. 0.068\n",
      "F1 = 0.523 vs. 0.091\n",
      "Accuracy = 0.775 vs. 0.056\n",
      "Minibatch Loss= 0.141721\n",
      "Train Batch Evaluation\n",
      "AUC = 0.818 vs. 0.085\n",
      "F1 = 0.811 vs. 0.125\n",
      "Accuracy = 0.835 vs. 0.056\n",
      "Validation\n",
      "AUC = 0.508 vs. 0.069\n",
      "F1 = 0.533 vs. 0.096\n",
      "Accuracy = 0.837 vs. 0.056\n",
      "Minibatch Loss= 0.143013\n",
      "Train Batch Evaluation\n",
      "AUC = 0.874 vs. 0.080\n",
      "F1 = 0.839 vs. 0.122\n",
      "Accuracy = 0.836 vs. 0.056\n",
      "Validation\n",
      "AUC = 0.523 vs. 0.069\n",
      "F1 = 0.540 vs. 0.095\n",
      "Accuracy = 0.833 vs. 0.056\n",
      "Minibatch Loss= 0.103521\n",
      "Train Batch Evaluation\n",
      "AUC = 0.885 vs. 0.075\n",
      "F1 = 0.867 vs. 0.113\n",
      "Accuracy = 0.894 vs. 0.056\n",
      "Validation\n",
      "AUC = 0.526 vs. 0.068\n",
      "F1 = 0.537 vs. 0.093\n",
      "Accuracy = 0.888 vs. 0.056\n",
      "Minibatch Loss= 0.081706\n",
      "Train Batch Evaluation\n",
      "AUC = 0.883 vs. 0.073\n",
      "F1 = 0.867 vs. 0.106\n",
      "Accuracy = 0.879 vs. 0.056\n",
      "Validation\n",
      "AUC = 0.550 vs. 0.069\n",
      "F1 = 0.554 vs. 0.095\n",
      "Accuracy = 0.820 vs. 0.056\n",
      "Minibatch Loss= 0.087246\n",
      "Train Batch Evaluation\n",
      "AUC = 0.916 vs. 0.082\n",
      "F1 = 0.901 vs. 0.122\n",
      "Accuracy = 0.880 vs. 0.056\n",
      "Validation\n",
      "AUC = 0.542 vs. 0.067\n",
      "F1 = 0.547 vs. 0.091\n",
      "Accuracy = 0.792 vs. 0.056\n",
      "Minibatch Loss= 0.077240\n",
      "Train Batch Evaluation\n",
      "AUC = 0.926 vs. 0.081\n",
      "F1 = 0.904 vs. 0.124\n",
      "Accuracy = 0.918 vs. 0.056\n",
      "Validation\n",
      "AUC = 0.545 vs. 0.070\n",
      "F1 = 0.550 vs. 0.097\n",
      "Accuracy = 0.885 vs. 0.056\n",
      "Minibatch Loss= 0.076904\n",
      "Train Batch Evaluation\n",
      "AUC = 0.929 vs. 0.080\n",
      "F1 = 0.921 vs. 0.123\n",
      "Accuracy = 0.919 vs. 0.056\n",
      "Validation\n",
      "AUC = 0.560 vs. 0.069\n",
      "F1 = 0.561 vs. 0.094\n",
      "Accuracy = 0.865 vs. 0.056\n",
      "Minibatch Loss= 0.062604\n",
      "Train Batch Evaluation\n",
      "AUC = 0.956 vs. 0.080\n",
      "F1 = 0.936 vs. 0.121\n",
      "Accuracy = 0.938 vs. 0.056\n",
      "Validation\n",
      "AUC = 0.548 vs. 0.068\n",
      "F1 = 0.545 vs. 0.094\n",
      "Accuracy = 0.892 vs. 0.056\n",
      "Minibatch Loss= 0.052957\n",
      "Train Batch Evaluation\n",
      "AUC = 0.956 vs. 0.078\n",
      "F1 = 0.941 vs. 0.122\n",
      "Accuracy = 0.952 vs. 0.056\n",
      "Validation\n",
      "AUC = 0.553 vs. 0.069\n",
      "F1 = 0.552 vs. 0.096\n",
      "Accuracy = 0.887 vs. 0.056\n",
      "Minibatch Loss= 0.049893\n",
      "Train Batch Evaluation\n",
      "AUC = 0.947 vs. 0.084\n",
      "F1 = 0.942 vs. 0.125\n",
      "Accuracy = 0.957 vs. 0.056\n",
      "Validation\n",
      "AUC = 0.551 vs. 0.068\n",
      "F1 = 0.557 vs. 0.096\n",
      "Accuracy = 0.917 vs. 0.056\n",
      "Minibatch Loss= 0.051689\n",
      "Train Batch Evaluation\n",
      "AUC = 0.942 vs. 0.079\n",
      "F1 = 0.937 vs. 0.123\n",
      "Accuracy = 0.965 vs. 0.056\n",
      "Validation\n",
      "AUC = 0.546 vs. 0.069\n",
      "F1 = 0.546 vs. 0.094\n",
      "Accuracy = 0.903 vs. 0.056\n",
      "Minibatch Loss= 0.040960\n",
      "Train Batch Evaluation\n",
      "AUC = 0.928 vs. 0.080\n",
      "F1 = 0.884 vs. 0.120\n",
      "Accuracy = 0.893 vs. 0.056\n",
      "Validation\n",
      "AUC = 0.533 vs. 0.070\n",
      "F1 = 0.550 vs. 0.099\n",
      "Accuracy = 0.820 vs. 0.056\n",
      "Minibatch Loss= 0.112664\n",
      "Train Batch Evaluation\n",
      "AUC = 0.959 vs. 0.081\n",
      "F1 = 0.938 vs. 0.120\n",
      "Accuracy = 0.949 vs. 0.056\n",
      "Validation\n",
      "AUC = 0.568 vs. 0.069\n",
      "F1 = 0.571 vs. 0.098\n",
      "Accuracy = 0.908 vs. 0.056\n",
      "Minibatch Loss= 0.053591\n",
      "Train Batch Evaluation\n",
      "AUC = 0.967 vs. 0.077\n",
      "F1 = 0.959 vs. 0.118\n",
      "Accuracy = 0.977 vs. 0.056\n",
      "Validation\n",
      "AUC = 0.556 vs. 0.069\n",
      "F1 = 0.553 vs. 0.094\n",
      "Accuracy = 0.906 vs. 0.056\n",
      "Minibatch Loss= 0.030478\n",
      "Train Batch Evaluation\n",
      "AUC = 0.970 vs. 0.076\n",
      "F1 = 0.968 vs. 0.114\n",
      "Accuracy = 0.966 vs. 0.056\n",
      "Validation\n",
      "AUC = 0.551 vs. 0.069\n",
      "F1 = 0.554 vs. 0.095\n",
      "Accuracy = 0.913 vs. 0.056\n",
      "Minibatch Loss= 0.027769\n",
      "Train Batch Evaluation\n",
      "AUC = 0.974 vs. 0.079\n",
      "F1 = 0.971 vs. 0.121\n",
      "Accuracy = 0.971 vs. 0.056\n",
      "Validation\n",
      "AUC = 0.550 vs. 0.070\n",
      "F1 = 0.549 vs. 0.095\n",
      "Accuracy = 0.906 vs. 0.056\n",
      "Minibatch Loss= 0.025654\n",
      "Train Batch Evaluation\n",
      "AUC = 0.980 vs. 0.083\n",
      "F1 = 0.972 vs. 0.125\n",
      "Accuracy = 0.977 vs. 0.056\n",
      "Validation\n",
      "AUC = 0.548 vs. 0.068\n",
      "F1 = 0.550 vs. 0.097\n",
      "Accuracy = 0.920 vs. 0.056\n",
      "Minibatch Loss= 0.029303\n",
      "Train Batch Evaluation\n",
      "AUC = 0.981 vs. 0.083\n",
      "F1 = 0.966 vs. 0.125\n",
      "Accuracy = 0.965 vs. 0.056\n",
      "Validation\n",
      "AUC = 0.560 vs. 0.069\n",
      "F1 = 0.558 vs. 0.094\n",
      "Accuracy = 0.925 vs. 0.056\n",
      "Minibatch Loss= 0.032904\n",
      "Train Batch Evaluation\n",
      "AUC = 0.934 vs. 0.088\n",
      "F1 = 0.893 vs. 0.132\n",
      "Accuracy = 0.908 vs. 0.056\n",
      "Validation\n",
      "AUC = 0.603 vs. 0.071\n",
      "F1 = 0.612 vs. 0.100\n",
      "Accuracy = 0.876 vs. 0.056\n",
      "Minibatch Loss= 0.105836\n",
      "Train Batch Evaluation\n",
      "AUC = 0.926 vs. 0.081\n",
      "F1 = 0.927 vs. 0.117\n",
      "Accuracy = 0.964 vs. 0.056\n",
      "Validation\n",
      "AUC = 0.605 vs. 0.071\n",
      "F1 = 0.603 vs. 0.103\n",
      "Accuracy = 0.898 vs. 0.056\n",
      "Minibatch Loss= 0.049577\n",
      "Train Batch Evaluation\n",
      "AUC = 0.967 vs. 0.082\n",
      "F1 = 0.955 vs. 0.127\n",
      "Accuracy = 0.948 vs. 0.056\n",
      "Validation\n",
      "AUC = 0.592 vs. 0.068\n",
      "F1 = 0.589 vs. 0.096\n",
      "Accuracy = 0.893 vs. 0.056\n",
      "Minibatch Loss= 0.042597\n",
      "Train Batch Evaluation\n",
      "AUC = 0.976 vs. 0.080\n",
      "F1 = 0.964 vs. 0.122\n",
      "Accuracy = 0.965 vs. 0.056\n",
      "Validation\n",
      "AUC = 0.590 vs. 0.067\n",
      "F1 = 0.583 vs. 0.093\n",
      "Accuracy = 0.915 vs. 0.056\n",
      "Minibatch Loss= 0.035298\n",
      "Train Batch Evaluation\n",
      "AUC = 0.974 vs. 0.080\n",
      "F1 = 0.974 vs. 0.123\n",
      "Accuracy = 0.974 vs. 0.056\n",
      "Validation\n",
      "AUC = 0.583 vs. 0.069\n",
      "F1 = 0.578 vs. 0.097\n",
      "Accuracy = 0.916 vs. 0.056\n",
      "Minibatch Loss= 0.028137\n",
      "Train Batch Evaluation\n",
      "AUC = 0.978 vs. 0.074\n",
      "F1 = 0.970 vs. 0.111\n",
      "Accuracy = 0.970 vs. 0.056\n",
      "Validation\n",
      "AUC = 0.580 vs. 0.068\n",
      "F1 = 0.579 vs. 0.097\n",
      "Accuracy = 0.897 vs. 0.056\n",
      "Minibatch Loss= 0.026278\n",
      "Train Batch Evaluation\n",
      "AUC = 0.983 vs. 0.081\n",
      "F1 = 0.978 vs. 0.123\n",
      "Accuracy = 0.986 vs. 0.056\n",
      "Validation\n",
      "AUC = 0.579 vs. 0.069\n",
      "F1 = 0.581 vs. 0.096\n",
      "Accuracy = 0.923 vs. 0.056\n",
      "Minibatch Loss= 0.021060\n",
      "Train Batch Evaluation\n",
      "AUC = 0.990 vs. 0.082\n",
      "F1 = 0.985 vs. 0.123\n",
      "Accuracy = 0.980 vs. 0.056\n",
      "Validation\n",
      "AUC = 0.580 vs. 0.068\n",
      "F1 = 0.579 vs. 0.091\n",
      "Accuracy = 0.920 vs. 0.056\n",
      "Minibatch Loss= 0.018635\n",
      "Train Batch Evaluation\n",
      "AUC = 0.994 vs. 0.085\n",
      "F1 = 0.986 vs. 0.124\n",
      "Accuracy = 0.986 vs. 0.056\n",
      "Validation\n",
      "AUC = 0.577 vs. 0.068\n",
      "F1 = 0.574 vs. 0.091\n",
      "Accuracy = 0.916 vs. 0.056\n",
      "Minibatch Loss= 0.017881\n",
      "Train Batch Evaluation\n",
      "AUC = 0.994 vs. 0.081\n",
      "F1 = 0.989 vs. 0.117\n",
      "Accuracy = 0.996 vs. 0.056\n",
      "Validation\n",
      "AUC = 0.573 vs. 0.068\n",
      "F1 = 0.572 vs. 0.094\n",
      "Accuracy = 0.932 vs. 0.056\n",
      "Minibatch Loss= 0.015403\n",
      "Train Batch Evaluation\n",
      "AUC = 0.993 vs. 0.082\n",
      "F1 = 0.981 vs. 0.130\n",
      "Accuracy = 0.987 vs. 0.056\n",
      "Validation\n",
      "AUC = 0.576 vs. 0.069\n",
      "F1 = 0.574 vs. 0.095\n",
      "Accuracy = 0.916 vs. 0.056\n",
      "Minibatch Loss= 0.019435\n",
      "Train Batch Evaluation\n",
      "AUC = 0.849 vs. 0.081\n",
      "F1 = 0.813 vs. 0.125\n",
      "Accuracy = 0.651 vs. 0.056\n",
      "Validation\n",
      "AUC = 0.511 vs. 0.068\n",
      "F1 = 0.546 vs. 0.094\n",
      "Accuracy = 0.583 vs. 0.056\n",
      "Minibatch Loss= 0.321285\n",
      "Train Batch Evaluation\n",
      "AUC = 0.983 vs. 0.076\n",
      "F1 = 0.952 vs. 0.113\n",
      "Accuracy = 0.953 vs. 0.056\n",
      "Validation\n",
      "AUC = 0.627 vs. 0.070\n",
      "F1 = 0.621 vs. 0.101\n",
      "Accuracy = 0.902 vs. 0.056\n",
      "Minibatch Loss= 0.038204\n",
      "Train Batch Evaluation\n",
      "AUC = 0.979 vs. 0.080\n",
      "F1 = 0.967 vs. 0.117\n",
      "Accuracy = 0.981 vs. 0.056\n",
      "Validation\n",
      "AUC = 0.612 vs. 0.068\n",
      "F1 = 0.609 vs. 0.091\n",
      "Accuracy = 0.891 vs. 0.056\n",
      "Minibatch Loss= 0.027423\n",
      "Train Batch Evaluation\n",
      "AUC = 0.994 vs. 0.081\n",
      "F1 = 0.983 vs. 0.125\n",
      "Accuracy = 0.985 vs. 0.056\n",
      "Validation\n",
      "AUC = 0.609 vs. 0.068\n",
      "F1 = 0.602 vs. 0.097\n",
      "Accuracy = 0.897 vs. 0.056\n",
      "Minibatch Loss= 0.020337\n",
      "Train Batch Evaluation\n",
      "AUC = 0.992 vs. 0.081\n",
      "F1 = 0.984 vs. 0.125\n",
      "Accuracy = 0.980 vs. 0.056\n",
      "Validation\n",
      "AUC = 0.613 vs. 0.069\n",
      "F1 = 0.606 vs. 0.094\n",
      "Accuracy = 0.897 vs. 0.056\n",
      "Minibatch Loss= 0.021406\n",
      "Train Batch Evaluation\n",
      "AUC = 0.994 vs. 0.081\n",
      "F1 = 0.988 vs. 0.124\n",
      "Accuracy = 0.991 vs. 0.056\n",
      "Validation\n",
      "AUC = 0.607 vs. 0.071\n",
      "F1 = 0.604 vs. 0.100\n",
      "Accuracy = 0.908 vs. 0.056\n",
      "Minibatch Loss= 0.017355\n",
      " Optimization Finished!\n"
     ]
    }
   ],
   "source": [
    "trainer.train(max_iter = 4000,\n",
    "                train_eval_step = 100, \n",
    "                validation_eval_step = 100,\n",
    "                display_step = 100)"
   ]
  },
  {
   "cell_type": "code",
   "execution_count": 20,
   "metadata": {
    "collapsed": false
   },
   "outputs": [
    {
     "data": {
      "text/plain": [
       "'../model/DWN9008_opp/checkpoint-4000'"
      ]
     },
     "execution_count": 20,
     "metadata": {},
     "output_type": "execute_result"
    }
   ],
   "source": [
    "#Save the model\n",
    "saver = tf.train.Saver()\n",
    "saver.save(sess, checkpoint_path, global_step=trainer.global_step)"
   ]
  },
  {
   "cell_type": "code",
   "execution_count": null,
   "metadata": {
    "collapsed": false
   },
   "outputs": [],
   "source": [
    "#load the model\n",
    "saver = tf.train.Saver()\n",
    "#saver.restore(sess, \"../model\" + \"/CNN7002_Gleam\" + \"/CNN7002_Gleam\")\n",
    "saver.restore(sess, '../model/CNN7002_Gleam/CNN7002_Gleam-10000')\n"
   ]
  },
  {
   "cell_type": "code",
   "execution_count": 21,
   "metadata": {
    "collapsed": false
   },
   "outputs": [
    {
     "name": "stdout",
     "output_type": "stream",
     "text": [
      "AUC = 0.520 vs. 0.071\n",
      "F1 = 0.575 vs. 0.109\n",
      "Accuracy = 0.916 vs. 0.056\n"
     ]
    }
   ],
   "source": [
    "#This is the model evaluation on test dataset\n",
    "_= nn_eval.evaluate_model (model, sess, test_data, test_gt)"
   ]
  },
  {
   "cell_type": "code",
   "execution_count": null,
   "metadata": {
    "collapsed": true
   },
   "outputs": [],
   "source": [
    "#shape of probability_change is (batch size, T, num_classes)\n",
    "#since num_classes = 1 we squeeze that axis\n",
    "probability_change = np.squeeze(probability_of_pos, axis = 2)"
   ]
  },
  {
   "cell_type": "code",
   "execution_count": null,
   "metadata": {
    "collapsed": false
   },
   "outputs": [],
   "source": [
    "savemat('../poc/poc'+exp_name+'.mat', {'poc':probability_change})"
   ]
  },
  {
   "cell_type": "code",
   "execution_count": 21,
   "metadata": {},
   "outputs": [
    {
     "data": {
      "text/plain": [
       "1"
      ]
     },
     "execution_count": 21,
     "metadata": {},
     "output_type": "execute_result"
    }
   ],
   "source": [
    "1"
   ]
  },
  {
   "cell_type": "code",
   "execution_count": null,
   "metadata": {},
   "outputs": [],
   "source": []
  }
 ],
 "metadata": {
  "anaconda-cloud": {},
  "kernelspec": {
   "display_name": "Anaconca with Tensorflow",
   "language": "python",
   "name": "tensorflow"
  },
  "language_info": {
   "codemirror_mode": {
    "name": "ipython",
    "version": 2
   },
   "file_extension": ".py",
   "mimetype": "text/x-python",
   "name": "python",
   "nbconvert_exporter": "python",
   "pygments_lexer": "ipython2",
   "version": "2.7.13"
  }
 },
 "nbformat": 4,
 "nbformat_minor": 2
}
