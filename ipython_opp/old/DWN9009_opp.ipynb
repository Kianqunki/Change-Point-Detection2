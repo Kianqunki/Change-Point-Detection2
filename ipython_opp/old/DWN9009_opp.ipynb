{
 "cells": [
  {
   "cell_type": "code",
   "execution_count": 1,
   "metadata": {
    "collapsed": true
   },
   "outputs": [],
   "source": [
    "# useing this variable for saving models and summaries\n",
    "exp_name = \"DWN9009_opp\""
   ]
  },
  {
   "cell_type": "markdown",
   "metadata": {},
   "source": [
    "## Importing Libraries"
   ]
  },
  {
   "cell_type": "code",
   "execution_count": 2,
   "metadata": {
    "collapsed": false
   },
   "outputs": [],
   "source": [
    "%load_ext autoreload\n",
    "%autoreload 2\n",
    "import tensorflow as tf\n",
    "import numpy as np\n",
    "from hdf5storage import savemat\n",
    "import hickle \n",
    "\n",
    "import sys\n",
    "sys.path.append('../src')"
   ]
  },
  {
   "cell_type": "code",
   "execution_count": 3,
   "metadata": {},
   "outputs": [],
   "source": [
    "import models.wavelet_conv_model_light as wavelet_conv_model\n",
    "import training\n",
    "import evaluation.nn_eval_activity as nn_eval"
   ]
  },
  {
   "cell_type": "markdown",
   "metadata": {},
   "source": [
    "## Loading synthetic data"
   ]
  },
  {
   "cell_type": "code",
   "execution_count": 4,
   "metadata": {
    "collapsed": false
   },
   "outputs": [],
   "source": [
    "#loading data\n",
    "data_path= '../data/opp6.hkl'\n",
    "with open(data_path, 'r') as fin:\n",
    "    data = hickle.load(fin)"
   ]
  },
  {
   "cell_type": "code",
   "execution_count": 5,
   "metadata": {},
   "outputs": [],
   "source": [
    "train_data = data['train_data']\n",
    "validation_data = data['validation_data']\n",
    "test_data = data['test_data']\n",
    "\n",
    "train_gt = data['train_gt']\n",
    "validation_gt = data['validation_gt']\n",
    "test_gt = data['test_gt']"
   ]
  },
  {
   "cell_type": "code",
   "execution_count": 6,
   "metadata": {},
   "outputs": [
    {
     "data": {
      "text/plain": [
       "((1358, 1024, 77), (1358, 1024, 18))"
      ]
     },
     "execution_count": 6,
     "metadata": {},
     "output_type": "execute_result"
    }
   ],
   "source": [
    "train_data.shape, train_gt.shape"
   ]
  },
  {
   "cell_type": "code",
   "execution_count": 7,
   "metadata": {},
   "outputs": [
    {
     "data": {
      "text/plain": [
       "((233, 1024, 77), (233, 1024, 18))"
      ]
     },
     "execution_count": 7,
     "metadata": {},
     "output_type": "execute_result"
    }
   ],
   "source": [
    "test_data.shape, test_gt.shape"
   ]
  },
  {
   "cell_type": "markdown",
   "metadata": {},
   "source": [
    "## Model"
   ]
  },
  {
   "cell_type": "code",
   "execution_count": 8,
   "metadata": {
    "collapsed": false
   },
   "outputs": [],
   "source": [
    "# Model parameters\n",
    "n_variables = 77\n",
    "learning_rate = 0.001\n",
    "batch_size = 100\n",
    "\n",
    "wavelet_levels = 5    #number of wavelet layer to have in the network\n",
    "convolution_levels = 3    #number of convolution to have in the network\n",
    "pooling_stride = [4, 4, 4]\n",
    "weights_shape = [[9, n_variables, 32],\n",
    "                 [5, 32, 32],\n",
    "                 [5, 32, 32]]\n",
    "bias_shape = [32, 32, 32]\n",
    "wavelet_kernel_size = 5    #high_pass and low_pass dimensions\n",
    "activation = tf.nn.relu\n",
    "n_classes = 18\n",
    "\n",
    "##positive weight for weighted cross entropy\n",
    "s = train_gt.shape\n",
    "resolution = np.prod(pooling_stride)\n",
    "pooled_gt = np.reshape(train_gt[:,:(s[0]*s[1]/resolution)*resolution,:], (s[0]*(s[1]/resolution), resolution, s[2])).max(axis=1)\n",
    "pos_weight = (1.0 - pooled_gt.mean(axis = 0)) / pooled_gt.mean(axis=0)\n"
   ]
  },
  {
   "cell_type": "code",
   "execution_count": 9,
   "metadata": {},
   "outputs": [
    {
     "data": {
      "text/plain": [
       "(1358, 1024, 77)"
      ]
     },
     "execution_count": 9,
     "metadata": {},
     "output_type": "execute_result"
    }
   ],
   "source": [
    "train_data.shape"
   ]
  },
  {
   "cell_type": "code",
   "execution_count": 10,
   "metadata": {
    "collapsed": false
   },
   "outputs": [
    {
     "data": {
      "text/plain": [
       "(18,)"
      ]
     },
     "execution_count": 10,
     "metadata": {},
     "output_type": "execute_result"
    }
   ],
   "source": [
    "pos_weight.shape"
   ]
  },
  {
   "cell_type": "code",
   "execution_count": 11,
   "metadata": {},
   "outputs": [
    {
     "data": {
      "text/plain": [
       "array([  0.1575919 ,  33.59872611,  33.82051282,  36.46206897,\n",
       "        35.45637584,  26.22807018,  26.78516624,  39.3866171 ,\n",
       "        41.27237354,  45.82758621,  50.98086124,  47.71748879,\n",
       "        50.24528302,  42.63052209,  43.89256198,  33.16352201,\n",
       "        10.44783983,  35.95238095])"
      ]
     },
     "execution_count": 11,
     "metadata": {},
     "output_type": "execute_result"
    }
   ],
   "source": [
    "pos_weight"
   ]
  },
  {
   "cell_type": "code",
   "execution_count": 12,
   "metadata": {},
   "outputs": [],
   "source": [
    "# Launch the graph\n",
    "config = tf.ConfigProto()\n",
    "config.gpu_options.allow_growth = True\n",
    "sess = tf.Session(config=config)"
   ]
  },
  {
   "cell_type": "code",
   "execution_count": 13,
   "metadata": {},
   "outputs": [],
   "source": [
    "summary_path = '../summary/' + exp_name \n",
    "checkpoint_path = '../model/' + exp_name + '/checkpoint' "
   ]
  },
  {
   "cell_type": "code",
   "execution_count": 16,
   "metadata": {
    "collapsed": false
   },
   "outputs": [],
   "source": [
    "model = wavelet_conv_model.Model(n_variables = n_variables,\n",
    "                                 learning_rate = learning_rate,\n",
    "                                 n_classes = n_classes)"
   ]
  },
  {
   "cell_type": "code",
   "execution_count": 18,
   "metadata": {
    "collapsed": false
   },
   "outputs": [],
   "source": [
    "model.build_neural_wavelet_layer(pos_weight = pos_weight, \n",
    "                                 learning_rate = learning_rate,\n",
    "                                 wavelet_levels = wavelet_levels,    \n",
    "                                 convolution_levels = convolution_levels,    \n",
    "                                 pooling_stride = pooling_stride,     \n",
    "                                 weights_shape = weights_shape,\n",
    "                                 bias_shape = bias_shape,\n",
    "                                 wavelet_kernel_size = wavelet_kernel_size,    \n",
    "                                 activation = activation,\n",
    "                                 trainable_wavelet=True,\n",
    "                                 trainable_conv=True,\n",
    "                                 trainable_last=True)"
   ]
  },
  {
   "cell_type": "code",
   "execution_count": 19,
   "metadata": {
    "collapsed": false
   },
   "outputs": [],
   "source": [
    "trainer = training.Trainer(model = model,\n",
    "                    data_train = train_data,\n",
    "                    ground_truth_train = train_gt,\n",
    "                    data_validation = test_data,\n",
    "                    ground_truth_validation = test_gt,\n",
    "                    sess = sess,\n",
    "                    summary_path = summary_path,\n",
    "                    batch_size = batch_size,\n",
    "                    global_step = 0,\n",
    "                    eval_type = 'activity')"
   ]
  },
  {
   "cell_type": "code",
   "execution_count": 17,
   "metadata": {},
   "outputs": [
    {
     "name": "stdout",
     "output_type": "stream",
     "text": [
      "{'wavelet_out_shape': [array([     1, 699392,     77], dtype=int32), array([     1, 349696,     77], dtype=int32), array([     1, 174848,     77], dtype=int32), array([    1, 87424,    77], dtype=int32), array([    1, 43712,    77], dtype=int32), array([    1, 21856,    77], dtype=int32)], 'cnn_out_shape': [array([    1, 10928,    18], dtype=int32), array([   1, 5464,   18], dtype=int32), array([   1, 2732,   18], dtype=int32), array([   1, 1366,   18], dtype=int32), array([  1, 683,  18], dtype=int32), array([  1, 342,  18], dtype=int32)], 'input_shape': array([     1, 699392,     77], dtype=int32), 'label_shape': array([     1, 699392,     18], dtype=int32)}\n"
     ]
    }
   ],
   "source": [
    "trainer.run_debug_ops()"
   ]
  },
  {
   "cell_type": "code",
   "execution_count": 20,
   "metadata": {
    "collapsed": false
   },
   "outputs": [
    {
     "name": "stdout",
     "output_type": "stream",
     "text": [
      "Train Batch Evaluation\n",
      "AUC = 0.079 vs. 0.077\n",
      "F1 = 0.124 vs. 0.115\n",
      "Accuracy = 0.001 vs. 0.056\n",
      "Validation\n",
      "AUC = 0.070 vs. 0.067\n",
      "F1 = 0.103 vs. 0.090\n",
      "Accuracy = 0.002 vs. 0.056\n",
      "Minibatch Loss= 1.204212\n",
      "Train Batch Evaluation\n",
      "AUC = 0.429 vs. 0.082\n",
      "F1 = 0.508 vs. 0.126\n",
      "Accuracy = 0.368 vs. 0.056\n",
      "Validation\n",
      "AUC = 0.260 vs. 0.068\n",
      "F1 = 0.357 vs. 0.095\n",
      "Accuracy = 0.295 vs. 0.056\n",
      "Minibatch Loss= 0.572374\n",
      "Train Batch Evaluation\n",
      "AUC = 0.599 vs. 0.082\n",
      "F1 = 0.636 vs. 0.127\n",
      "Accuracy = 0.569 vs. 0.056\n",
      "Validation\n",
      "AUC = 0.398 vs. 0.068\n",
      "F1 = 0.462 vs. 0.093\n",
      "Accuracy = 0.514 vs. 0.056\n",
      "Minibatch Loss= 0.409669\n",
      "Train Batch Evaluation\n",
      "AUC = 0.643 vs. 0.080\n",
      "F1 = 0.665 vs. 0.121\n",
      "Accuracy = 0.671 vs. 0.056\n",
      "Validation\n",
      "AUC = 0.456 vs. 0.069\n",
      "F1 = 0.516 vs. 0.096\n",
      "Accuracy = 0.667 vs. 0.056\n",
      "Minibatch Loss= 0.324938\n",
      "Train Batch Evaluation\n",
      "AUC = 0.756 vs. 0.075\n",
      "F1 = 0.746 vs. 0.111\n",
      "Accuracy = 0.814 vs. 0.056\n",
      "Validation\n",
      "AUC = 0.488 vs. 0.069\n",
      "F1 = 0.538 vs. 0.098\n",
      "Accuracy = 0.770 vs. 0.056\n",
      "Minibatch Loss= 0.182465\n",
      "Train Batch Evaluation\n",
      "AUC = 0.750 vs. 0.082\n",
      "F1 = 0.742 vs. 0.120\n",
      "Accuracy = 0.820 vs. 0.056\n",
      "Validation\n",
      "AUC = 0.509 vs. 0.069\n",
      "F1 = 0.547 vs. 0.095\n",
      "Accuracy = 0.730 vs. 0.056\n",
      "Minibatch Loss= 0.189798\n",
      "Train Batch Evaluation\n",
      "AUC = 0.789 vs. 0.080\n",
      "F1 = 0.769 vs. 0.120\n",
      "Accuracy = 0.795 vs. 0.056\n",
      "Validation\n",
      "AUC = 0.523 vs. 0.070\n",
      "F1 = 0.560 vs. 0.098\n",
      "Accuracy = 0.760 vs. 0.056\n",
      "Minibatch Loss= 0.172637\n",
      "Train Batch Evaluation\n",
      "AUC = 0.824 vs. 0.082\n",
      "F1 = 0.799 vs. 0.125\n",
      "Accuracy = 0.797 vs. 0.056\n",
      "Validation\n",
      "AUC = 0.530 vs. 0.068\n",
      "F1 = 0.563 vs. 0.091\n",
      "Accuracy = 0.749 vs. 0.056\n",
      "Minibatch Loss= 0.148507\n",
      "Train Batch Evaluation\n",
      "AUC = 0.827 vs. 0.083\n",
      "F1 = 0.805 vs. 0.119\n",
      "Accuracy = 0.863 vs. 0.056\n",
      "Validation\n",
      "AUC = 0.537 vs. 0.070\n",
      "F1 = 0.572 vs. 0.098\n",
      "Accuracy = 0.810 vs. 0.056\n",
      "Minibatch Loss= 0.120446\n",
      "Train Batch Evaluation\n",
      "AUC = 0.829 vs. 0.075\n",
      "F1 = 0.807 vs. 0.114\n",
      "Accuracy = 0.870 vs. 0.056\n",
      "Validation\n",
      "AUC = 0.540 vs. 0.070\n",
      "F1 = 0.573 vs. 0.095\n",
      "Accuracy = 0.826 vs. 0.056\n",
      "Minibatch Loss= 0.106518\n",
      "Train Batch Evaluation\n",
      "AUC = 0.871 vs. 0.080\n",
      "F1 = 0.822 vs. 0.124\n",
      "Accuracy = 0.857 vs. 0.056\n",
      "Validation\n",
      "AUC = 0.544 vs. 0.069\n",
      "F1 = 0.579 vs. 0.095\n",
      "Accuracy = 0.777 vs. 0.056\n",
      "Minibatch Loss= 0.120769\n",
      "Train Batch Evaluation\n",
      "AUC = 0.875 vs. 0.083\n",
      "F1 = 0.853 vs. 0.125\n",
      "Accuracy = 0.890 vs. 0.056\n",
      "Validation\n",
      "AUC = 0.553 vs. 0.069\n",
      "F1 = 0.581 vs. 0.095\n",
      "Accuracy = 0.835 vs. 0.056\n",
      "Minibatch Loss= 0.106285\n",
      "Train Batch Evaluation\n",
      "AUC = 0.877 vs. 0.080\n",
      "F1 = 0.855 vs. 0.122\n",
      "Accuracy = 0.926 vs. 0.056\n",
      "Validation\n",
      "AUC = 0.549 vs. 0.068\n",
      "F1 = 0.573 vs. 0.097\n",
      "Accuracy = 0.865 vs. 0.056\n",
      "Minibatch Loss= 0.097598\n",
      "Train Batch Evaluation\n",
      "AUC = 0.887 vs. 0.084\n",
      "F1 = 0.864 vs. 0.129\n",
      "Accuracy = 0.909 vs. 0.056\n",
      "Validation\n",
      "AUC = 0.558 vs. 0.069\n",
      "F1 = 0.589 vs. 0.097\n",
      "Accuracy = 0.850 vs. 0.056\n",
      "Minibatch Loss= 0.096268\n",
      "Train Batch Evaluation\n",
      "AUC = 0.894 vs. 0.084\n",
      "F1 = 0.881 vs. 0.129\n",
      "Accuracy = 0.904 vs. 0.056\n",
      "Validation\n",
      "AUC = 0.560 vs. 0.067\n",
      "F1 = 0.587 vs. 0.093\n",
      "Accuracy = 0.840 vs. 0.056\n",
      "Minibatch Loss= 0.091228\n",
      "Train Batch Evaluation\n",
      "AUC = 0.887 vs. 0.080\n",
      "F1 = 0.874 vs. 0.123\n",
      "Accuracy = 0.916 vs. 0.056\n",
      "Validation\n",
      "AUC = 0.566 vs. 0.069\n",
      "F1 = 0.594 vs. 0.098\n",
      "Accuracy = 0.856 vs. 0.056\n",
      "Minibatch Loss= 0.081809\n",
      "Train Batch Evaluation\n",
      "AUC = 0.907 vs. 0.078\n",
      "F1 = 0.897 vs. 0.113\n",
      "Accuracy = 0.943 vs. 0.056\n",
      "Validation\n",
      "AUC = 0.567 vs. 0.068\n",
      "F1 = 0.597 vs. 0.095\n",
      "Accuracy = 0.861 vs. 0.056\n",
      "Minibatch Loss= 0.062247\n",
      "Train Batch Evaluation\n",
      "AUC = 0.907 vs. 0.077\n",
      "F1 = 0.903 vs. 0.114\n",
      "Accuracy = 0.949 vs. 0.056\n",
      "Validation\n",
      "AUC = 0.571 vs. 0.069\n",
      "F1 = 0.596 vs. 0.093\n",
      "Accuracy = 0.870 vs. 0.056\n",
      "Minibatch Loss= 0.064739\n",
      "Train Batch Evaluation\n",
      "AUC = 0.942 vs. 0.081\n",
      "F1 = 0.922 vs. 0.127\n",
      "Accuracy = 0.944 vs. 0.056\n",
      "Validation\n",
      "AUC = 0.572 vs. 0.068\n",
      "F1 = 0.601 vs. 0.096\n",
      "Accuracy = 0.862 vs. 0.056\n",
      "Minibatch Loss= 0.056229\n",
      "Train Batch Evaluation\n",
      "AUC = 0.919 vs. 0.075\n",
      "F1 = 0.912 vs. 0.112\n",
      "Accuracy = 0.935 vs. 0.056\n",
      "Validation\n",
      "AUC = 0.572 vs. 0.069\n",
      "F1 = 0.597 vs. 0.094\n",
      "Accuracy = 0.854 vs. 0.056\n",
      "Minibatch Loss= 0.060787\n",
      "Train Batch Evaluation\n",
      "AUC = 0.903 vs. 0.077\n",
      "F1 = 0.899 vs. 0.114\n",
      "Accuracy = 0.926 vs. 0.056\n",
      "Validation\n",
      "AUC = 0.578 vs. 0.067\n",
      "F1 = 0.606 vs. 0.095\n",
      "Accuracy = 0.867 vs. 0.056\n",
      "Minibatch Loss= 0.058243\n",
      "Train Batch Evaluation\n",
      "AUC = 0.929 vs. 0.077\n",
      "F1 = 0.934 vs. 0.120\n",
      "Accuracy = 0.958 vs. 0.056\n",
      "Validation\n",
      "AUC = 0.576 vs. 0.068\n",
      "F1 = 0.601 vs. 0.095\n",
      "Accuracy = 0.863 vs. 0.056\n",
      "Minibatch Loss= 0.050029\n",
      "Train Batch Evaluation\n",
      "AUC = 0.953 vs. 0.079\n",
      "F1 = 0.940 vs. 0.118\n",
      "Accuracy = 0.962 vs. 0.056\n",
      "Validation\n",
      "AUC = 0.580 vs. 0.067\n",
      "F1 = 0.600 vs. 0.092\n",
      "Accuracy = 0.879 vs. 0.056\n",
      "Minibatch Loss= 0.042333\n",
      "Train Batch Evaluation\n",
      "AUC = 0.946 vs. 0.086\n",
      "F1 = 0.925 vs. 0.129\n",
      "Accuracy = 0.926 vs. 0.056\n",
      "Validation\n",
      "AUC = 0.578 vs. 0.071\n",
      "F1 = 0.597 vs. 0.100\n",
      "Accuracy = 0.847 vs. 0.056\n",
      "Minibatch Loss= 0.067161\n",
      "Train Batch Evaluation\n",
      "AUC = 0.933 vs. 0.075\n",
      "F1 = 0.929 vs. 0.112\n",
      "Accuracy = 0.965 vs. 0.056\n",
      "Validation\n",
      "AUC = 0.580 vs. 0.069\n",
      "F1 = 0.598 vs. 0.096\n",
      "Accuracy = 0.880 vs. 0.056\n",
      "Minibatch Loss= 0.040578\n",
      "Train Batch Evaluation\n",
      "AUC = 0.962 vs. 0.077\n",
      "F1 = 0.946 vs. 0.120\n",
      "Accuracy = 0.959 vs. 0.056\n",
      "Validation\n",
      "AUC = 0.583 vs. 0.069\n",
      "F1 = 0.601 vs. 0.093\n",
      "Accuracy = 0.868 vs. 0.056\n",
      "Minibatch Loss= 0.039070\n",
      "Train Batch Evaluation\n",
      "AUC = 0.961 vs. 0.081\n",
      "F1 = 0.952 vs. 0.124\n",
      "Accuracy = 0.963 vs. 0.056\n",
      "Validation\n",
      "AUC = 0.577 vs. 0.069\n",
      "F1 = 0.597 vs. 0.096\n",
      "Accuracy = 0.867 vs. 0.056\n",
      "Minibatch Loss= 0.039679\n",
      "Train Batch Evaluation\n",
      "AUC = 0.956 vs. 0.078\n",
      "F1 = 0.943 vs. 0.115\n",
      "Accuracy = 0.971 vs. 0.056\n",
      "Validation\n",
      "AUC = 0.582 vs. 0.068\n",
      "F1 = 0.601 vs. 0.097\n",
      "Accuracy = 0.864 vs. 0.056\n",
      "Minibatch Loss= 0.033514\n",
      "Train Batch Evaluation\n",
      "AUC = 0.965 vs. 0.080\n",
      "F1 = 0.953 vs. 0.120\n",
      "Accuracy = 0.974 vs. 0.056\n",
      "Validation\n",
      "AUC = 0.569 vs. 0.068\n",
      "F1 = 0.591 vs. 0.093\n",
      "Accuracy = 0.867 vs. 0.056\n",
      "Minibatch Loss= 0.036231\n",
      "Train Batch Evaluation\n",
      "AUC = 0.970 vs. 0.080\n",
      "F1 = 0.956 vs. 0.118\n",
      "Accuracy = 0.973 vs. 0.056\n",
      "Validation\n",
      "AUC = 0.573 vs. 0.068\n",
      "F1 = 0.594 vs. 0.092\n",
      "Accuracy = 0.872 vs. 0.056\n",
      "Minibatch Loss= 0.034860\n",
      "Train Batch Evaluation\n",
      "AUC = 0.974 vs. 0.078\n",
      "F1 = 0.966 vs. 0.118\n",
      "Accuracy = 0.972 vs. 0.056\n",
      "Validation\n",
      "AUC = 0.582 vs. 0.070\n",
      "F1 = 0.601 vs. 0.101\n",
      "Accuracy = 0.846 vs. 0.056\n",
      "Minibatch Loss= 0.038516\n",
      "Train Batch Evaluation\n",
      "AUC = 0.975 vs. 0.081\n",
      "F1 = 0.968 vs. 0.122\n",
      "Accuracy = 0.978 vs. 0.056\n",
      "Validation\n",
      "AUC = 0.572 vs. 0.070\n",
      "F1 = 0.595 vs. 0.097\n",
      "Accuracy = 0.875 vs. 0.056\n",
      "Minibatch Loss= 0.030636\n",
      "Train Batch Evaluation\n",
      "AUC = 0.972 vs. 0.078\n",
      "F1 = 0.969 vs. 0.120\n",
      "Accuracy = 0.974 vs. 0.056\n",
      "Validation\n",
      "AUC = 0.576 vs. 0.067\n",
      "F1 = 0.601 vs. 0.093\n",
      "Accuracy = 0.839 vs. 0.056\n",
      "Minibatch Loss= 0.025191\n",
      "Train Batch Evaluation\n",
      "AUC = 0.968 vs. 0.082\n",
      "F1 = 0.968 vs. 0.121\n",
      "Accuracy = 0.967 vs. 0.056\n",
      "Validation\n",
      "AUC = 0.580 vs. 0.068\n",
      "F1 = 0.597 vs. 0.095\n",
      "Accuracy = 0.876 vs. 0.056\n",
      "Minibatch Loss= 0.033325\n",
      "Train Batch Evaluation\n",
      "AUC = 0.963 vs. 0.080\n",
      "F1 = 0.964 vs. 0.122\n",
      "Accuracy = 0.979 vs. 0.056\n",
      "Validation\n",
      "AUC = 0.577 vs. 0.070\n",
      "F1 = 0.597 vs. 0.099\n",
      "Accuracy = 0.858 vs. 0.056\n",
      "Minibatch Loss= 0.027228\n",
      "Train Batch Evaluation\n",
      "AUC = 0.957 vs. 0.080\n",
      "F1 = 0.972 vs. 0.121\n",
      "Accuracy = 0.989 vs. 0.056\n",
      "Validation\n",
      "AUC = 0.574 vs. 0.068\n",
      "F1 = 0.597 vs. 0.098\n",
      "Accuracy = 0.867 vs. 0.056\n",
      "Minibatch Loss= 0.025487\n",
      "Train Batch Evaluation\n",
      "AUC = 0.979 vs. 0.078\n",
      "F1 = 0.977 vs. 0.122\n",
      "Accuracy = 0.982 vs. 0.056\n",
      "Validation\n",
      "AUC = 0.572 vs. 0.070\n",
      "F1 = 0.598 vs. 0.095\n",
      "Accuracy = 0.866 vs. 0.056\n",
      "Minibatch Loss= 0.020003\n",
      "Train Batch Evaluation\n",
      "AUC = 0.987 vs. 0.076\n",
      "F1 = 0.982 vs. 0.114\n",
      "Accuracy = 0.990 vs. 0.056\n",
      "Validation\n",
      "AUC = 0.569 vs. 0.068\n",
      "F1 = 0.593 vs. 0.098\n",
      "Accuracy = 0.872 vs. 0.056\n",
      "Minibatch Loss= 0.016566\n",
      "Train Batch Evaluation\n",
      "AUC = 0.988 vs. 0.082\n",
      "F1 = 0.980 vs. 0.122\n",
      "Accuracy = 0.982 vs. 0.056\n",
      "Validation\n",
      "AUC = 0.574 vs. 0.066\n",
      "F1 = 0.598 vs. 0.090\n",
      "Accuracy = 0.857 vs. 0.056\n",
      "Minibatch Loss= 0.020617\n",
      "Train Batch Evaluation\n",
      "AUC = 0.991 vs. 0.085\n",
      "F1 = 0.984 vs. 0.132\n",
      "Accuracy = 0.979 vs. 0.056\n",
      "Validation\n",
      "AUC = 0.570 vs. 0.068\n",
      "F1 = 0.596 vs. 0.096\n",
      "Accuracy = 0.863 vs. 0.056\n",
      "Minibatch Loss= 0.025581\n",
      " Optimization Finished!\n"
     ]
    }
   ],
   "source": [
    "trainer.train(max_iter = 4000,\n",
    "                train_eval_step = 100, \n",
    "                validation_eval_step = 100,\n",
    "                display_step = 100)"
   ]
  },
  {
   "cell_type": "code",
   "execution_count": 21,
   "metadata": {
    "collapsed": false
   },
   "outputs": [
    {
     "data": {
      "text/plain": [
       "'../model/DWN9009_opp/checkpoint-4000'"
      ]
     },
     "execution_count": 21,
     "metadata": {},
     "output_type": "execute_result"
    }
   ],
   "source": [
    "#Save the model\n",
    "saver = tf.train.Saver()\n",
    "saver.save(sess, checkpoint_path, global_step=trainer.global_step)"
   ]
  },
  {
   "cell_type": "code",
   "execution_count": null,
   "metadata": {
    "collapsed": false
   },
   "outputs": [],
   "source": [
    "#load the model\n",
    "saver = tf.train.Saver()\n",
    "#saver.restore(sess, \"../model\" + \"/CNN7002_Gleam\" + \"/CNN7002_Gleam\")\n",
    "saver.restore(sess, '../model/CNN7002_Gleam/CNN7002_Gleam-10000')\n"
   ]
  },
  {
   "cell_type": "code",
   "execution_count": 21,
   "metadata": {
    "collapsed": false
   },
   "outputs": [
    {
     "name": "stdout",
     "output_type": "stream",
     "text": [
      "AUC = 0.520 vs. 0.071\n",
      "F1 = 0.575 vs. 0.109\n",
      "Accuracy = 0.916 vs. 0.056\n"
     ]
    }
   ],
   "source": [
    "#This is the model evaluation on test dataset\n",
    "_= nn_eval.evaluate_model (model, sess, test_data, test_gt)"
   ]
  },
  {
   "cell_type": "code",
   "execution_count": null,
   "metadata": {
    "collapsed": true
   },
   "outputs": [],
   "source": [
    "#shape of probability_change is (batch size, T, num_classes)\n",
    "#since num_classes = 1 we squeeze that axis\n",
    "probability_change = np.squeeze(probability_of_pos, axis = 2)"
   ]
  },
  {
   "cell_type": "code",
   "execution_count": null,
   "metadata": {
    "collapsed": false
   },
   "outputs": [],
   "source": [
    "savemat('../poc/poc'+exp_name+'.mat', {'poc':probability_change})"
   ]
  },
  {
   "cell_type": "code",
   "execution_count": 21,
   "metadata": {},
   "outputs": [
    {
     "data": {
      "text/plain": [
       "1"
      ]
     },
     "execution_count": 21,
     "metadata": {},
     "output_type": "execute_result"
    }
   ],
   "source": [
    "1"
   ]
  },
  {
   "cell_type": "code",
   "execution_count": null,
   "metadata": {},
   "outputs": [],
   "source": []
  }
 ],
 "metadata": {
  "anaconda-cloud": {},
  "kernelspec": {
   "display_name": "Anaconca with Tensorflow",
   "language": "python",
   "name": "tensorflow"
  },
  "language_info": {
   "codemirror_mode": {
    "name": "ipython",
    "version": 2
   },
   "file_extension": ".py",
   "mimetype": "text/x-python",
   "name": "python",
   "nbconvert_exporter": "python",
   "pygments_lexer": "ipython2",
   "version": "2.7.13"
  }
 },
 "nbformat": 4,
 "nbformat_minor": 2
}
