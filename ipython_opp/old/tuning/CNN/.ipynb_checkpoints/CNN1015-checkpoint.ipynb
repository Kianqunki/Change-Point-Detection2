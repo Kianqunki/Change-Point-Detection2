{
 "cells": [
  {
   "cell_type": "code",
   "execution_count": 1,
   "metadata": {
    "collapsed": true
   },
   "outputs": [],
   "source": [
    "# useing this variable for saving models and summaries\n",
    "exp_name = \"CNN1015\""
   ]
  },
  {
   "cell_type": "markdown",
   "metadata": {},
   "source": [
    "## Importing Libraries"
   ]
  },
  {
   "cell_type": "code",
   "execution_count": 2,
   "metadata": {
    "collapsed": false
   },
   "outputs": [],
   "source": [
    "%load_ext autoreload\n",
    "%autoreload 2\n",
    "import tensorflow as tf\n",
    "import numpy as np\n",
    "from hdf5storage import savemat\n",
    "import pickle \n",
    "\n",
    "import sys\n",
    "sys.path.append('../../../src')"
   ]
  },
  {
   "cell_type": "code",
   "execution_count": 3,
   "metadata": {},
   "outputs": [],
   "source": [
    "import models.CNN_model as CNN_model\n",
    "import training\n",
    "import evaluation.nn_eval as nn_eval"
   ]
  },
  {
   "cell_type": "markdown",
   "metadata": {},
   "source": [
    "## Loading synthetic data"
   ]
  },
  {
   "cell_type": "code",
   "execution_count": 4,
   "metadata": {
    "collapsed": false
   },
   "outputs": [],
   "source": [
    "#loading data\n",
    "data_path= '/data2/data/zebrahim/synthetic_dataset/data_8192_1000_3_4_4_.03_.03_.2' + 'processed_data.p'\n",
    "\n",
    "with open(data_path, 'r') as fin:\n",
    "    data = pickle.load(fin)\n",
    "    \n",
    "train_data = data['train_data']\n",
    "validation_data = data['validation_data']\n",
    "test_data = data['test_data']\n",
    "\n",
    "train_gt = np.expand_dims(data['train_gt'], axis=-1)\n",
    "validation_gt = np.expand_dims(data['validation_gt'], axis=-1)\n",
    "test_gt = np.expand_dims(data['test_gt'], axis=-1)\n",
    "\n",
    "index_of_changes = data['index_of_changes']\n",
    " "
   ]
  },
  {
   "cell_type": "code",
   "execution_count": 5,
   "metadata": {
    "collapsed": false
   },
   "outputs": [],
   "source": [
    "#index of changes for test dataset\n",
    "gt_test_idx_changes = index_of_changes[900:1000]"
   ]
  },
  {
   "cell_type": "markdown",
   "metadata": {},
   "source": [
    "## Model"
   ]
  },
  {
   "cell_type": "code",
   "execution_count": 6,
   "metadata": {
    "collapsed": false
   },
   "outputs": [],
   "source": [
    "# Model parameters\n",
    "n_variables = 12\n",
    "learning_rate = 0.001\n",
    "batch_size = 10\n",
    "\n",
    "convolution_levels = 6    #number of convolution to have in the network\n",
    "pooling_stride = [8, 4, 1, 1, 1, 1]\n",
    "weights_shape = [[7, n_variables, 32],\n",
    "                 [7, 32, 32],\n",
    "                 [7, 32, 32],\n",
    "                 [7, 32, 32],\n",
    "                 [7, 32, 32],\n",
    "                 [7, 32, 32]]\n",
    "bias_shape = [32, 32, 32, 32, 32, 32]\n",
    "activation = tf.nn.relu\n",
    "n_classes = 1\n",
    "\n",
    "##positive weight for weighted cross entropy\n",
    "s = train_data.shape\n",
    "resolution = np.prod(pooling_stride)\n",
    "gt_effective = np.reshape(train_gt, (s[0]*(s[1]/resolution), resolution))\n",
    "pos_weight = (1.0 - gt_effective.max(axis=1).mean()) / gt_effective.max(axis=1).mean()"
   ]
  },
  {
   "cell_type": "code",
   "execution_count": 7,
   "metadata": {
    "collapsed": false
   },
   "outputs": [
    {
     "name": "stdout",
     "output_type": "stream",
     "text": [
      "3.18601822124\n"
     ]
    }
   ],
   "source": [
    "print pos_weight"
   ]
  },
  {
   "cell_type": "code",
   "execution_count": 8,
   "metadata": {},
   "outputs": [],
   "source": [
    "# Launch the graph\n",
    "config = tf.ConfigProto()\n",
    "config.gpu_options.allow_growth = True\n",
    "sess = tf.Session(config=config)"
   ]
  },
  {
   "cell_type": "code",
   "execution_count": 9,
   "metadata": {},
   "outputs": [],
   "source": [
    "summary_path = '../summary/' + exp_name \n",
    "checkpoint_path = '../model/' + exp_name + '/' + exp_name "
   ]
  },
  {
   "cell_type": "code",
   "execution_count": 10,
   "metadata": {
    "collapsed": false
   },
   "outputs": [],
   "source": [
    "model = CNN_model.Model(n_variables = n_variables,\n",
    "                        learning_rate = learning_rate,\n",
    "                        n_classes = n_classes)"
   ]
  },
  {
   "cell_type": "code",
   "execution_count": 11,
   "metadata": {
    "collapsed": false
   },
   "outputs": [],
   "source": [
    "model.build_conv_net(pos_weight = pos_weight,\n",
    "                     learning_rate = learning_rate,\n",
    "                     convolution_levels = convolution_levels, \n",
    "                     pooling_stride = pooling_stride,\n",
    "                     weights_shape = weights_shape,\n",
    "                     bias_shape = bias_shape,\n",
    "                     n_classes = n_classes,\n",
    "                     activation = activation)"
   ]
  },
  {
   "cell_type": "code",
   "execution_count": null,
   "metadata": {
    "collapsed": false
   },
   "outputs": [],
   "source": [
    "trainer = training.Trainer(model = model,\n",
    "                    data_train = train_data,\n",
    "                    ground_truth_train = train_gt,\n",
    "                    data_validation = validation_data,\n",
    "                    ground_truth_validation = validation_gt,\n",
    "                    sess = sess,\n",
    "                    summary_path = summary_path,\n",
    "                    batch_size = batch_size,\n",
    "                    global_step = 0)"
   ]
  },
  {
   "cell_type": "code",
   "execution_count": null,
   "metadata": {
    "collapsed": false
   },
   "outputs": [
    {
     "name": "stdout",
     "output_type": "stream",
     "text": [
      "Tarin Iter 0, auc= 0.271837, fmeasure_max= 0.432572, precision= 0.289171, recall= 0.858120\n",
      "Train Random guess:  , auc= 0.227220fmeasure_max= 0.373350, precision= 0.229976, recall= 0.991453\n",
      "Validation Iter 0, auc= 0.245197, fmeasure_max= 0.421561, precision= 0.275355, recall= 0.898799\n",
      "Validation Random guess:  auc= 0.224896, fmeasure_max= 0.374420, precision= 0.232033, recall= 0.969125\n",
      "Minibatch Loss= 1.044540\n",
      "Tarin Iter 100, auc= 0.821445, fmeasure_max= 0.801504, precision= 0.839370, recall= 0.766906\n",
      "Train Random guess:  , auc= 0.272912fmeasure_max= 0.427429, precision= 0.271803, recall= 1.000000\n",
      "Validation Iter 100, auc= 0.740745, fmeasure_max= 0.728941, precision= 0.709416, recall= 0.749571\n",
      "Validation Random guess:  auc= 0.230795, fmeasure_max= 0.372423, precision= 0.229274, recall= 0.991424\n",
      "Minibatch Loss= 0.847451\n",
      "Tarin Iter 200, auc= 0.848390, fmeasure_max= 0.781573, precision= 0.842466, recall= 0.728889\n",
      "Train Random guess:  , auc= 0.262250fmeasure_max= 0.418069, precision= 0.264694, recall= 0.994074\n",
      "Validation Iter 200, auc= 0.779390, fmeasure_max= 0.746032, precision= 0.694239, recall= 0.806175\n",
      "Validation Random guess:  auc= 0.211532, fmeasure_max= 0.371930, precision= 0.228448, recall= 1.000000\n",
      "Minibatch Loss= 0.704402\n",
      "Tarin Iter 300, auc= 0.785997, fmeasure_max= 0.739698, precision= 0.817778, recall= 0.675229\n",
      "Train Random guess:  , auc= 0.210391fmeasure_max= 0.353369, precision= 0.215465, recall= 0.981651\n",
      "Validation Iter 300, auc= 0.807651, fmeasure_max= 0.749529, precision= 0.830898, recall= 0.682676\n",
      "Validation Random guess:  auc= 0.231544, fmeasure_max= 0.374011, precision= 0.231523, recall= 0.972556\n",
      "Minibatch Loss= 0.704081\n",
      "Tarin Iter 400, auc= 0.876700, fmeasure_max= 0.802752, precision= 0.864909, recall= 0.748930\n",
      "Train Random guess:  , auc= 0.280148fmeasure_max= 0.430590, precision= 0.274364, recall= 1.000000\n",
      "Validation Iter 400, auc= 0.857078, fmeasure_max= 0.780154, precision= 0.778157, recall= 0.782161\n",
      "Validation Random guess:  auc= 0.229280, fmeasure_max= 0.372940, precision= 0.233147, recall= 0.931389\n",
      "Minibatch Loss= 0.751030\n",
      "Tarin Iter 500, auc= 0.831580, fmeasure_max= 0.760274, precision= 0.770833, recall= 0.750000\n",
      "Train Random guess:  , auc= 0.227979fmeasure_max= 0.377070, precision= 0.232339, recall= 1.000000\n",
      "Validation Iter 500, auc= 0.867146, fmeasure_max= 0.777219, precision= 0.759411, recall= 0.795883\n",
      "Validation Random guess:  auc= 0.227792, fmeasure_max= 0.371762, precision= 0.229142, recall= 0.984563\n",
      "Minibatch Loss= 0.686105\n",
      "Tarin Iter 600, auc= 0.827270, fmeasure_max= 0.774454, precision= 0.783961, recall= 0.765176\n",
      "Train Random guess:  , auc= 0.241485fmeasure_max= 0.393308, precision= 0.245083, recall= 0.995208\n",
      "Validation Iter 600, auc= 0.872966, fmeasure_max= 0.802168, precision= 0.847328, recall= 0.761578\n",
      "Validation Random guess:  auc= 0.207969, fmeasure_max= 0.371101, precision= 0.227823, recall= 1.000000\n",
      "Minibatch Loss= 0.730428\n",
      "Tarin Iter 700, auc= 0.848799, fmeasure_max= 0.774016, precision= 0.796610, recall= 0.752669\n",
      "Train Random guess:  , auc= 0.231783fmeasure_max= 0.361156, precision= 0.220898, recall= 0.989324\n",
      "Validation Iter 700, auc= 0.898737, fmeasure_max= 0.828316, precision= 0.787926, recall= 0.873070\n",
      "Validation Random guess:  auc= 0.233739, fmeasure_max= 0.371219, precision= 0.227912, recall= 1.000000\n",
      "Minibatch Loss= 0.618488\n",
      "Tarin Iter 800, auc= 0.848645, fmeasure_max= 0.793530, precision= 0.845842, recall= 0.747312\n",
      "Train Random guess:  , auc= 0.213824fmeasure_max= 0.357922, precision= 0.217969, recall= 1.000000\n",
      "Validation Iter 800, auc= 0.873586, fmeasure_max= 0.814298, precision= 0.828014, recall= 0.801029\n",
      "Validation Random guess:  auc= 0.239463, fmeasure_max= 0.375856, precision= 0.232071, recall= 0.987993\n",
      "Minibatch Loss= 0.652090\n",
      "Tarin Iter 900, auc= 0.900484, fmeasure_max= 0.805704, precision= 0.818841, recall= 0.792982\n",
      "Train Random guess:  , auc= 0.220776fmeasure_max= 0.367252, precision= 0.226400, recall= 0.971930\n",
      "Validation Iter 900, auc= 0.886641, fmeasure_max= 0.809122, precision= 0.797005, recall= 0.821612\n",
      "Validation Random guess:  auc= 0.228898, fmeasure_max= 0.371219, precision= 0.227912, recall= 1.000000\n",
      "Minibatch Loss= 0.553362\n",
      "Tarin Iter 1000, auc= 0.914258, fmeasure_max= 0.837012, precision= 0.820300, recall= 0.854419\n",
      "Train Random guess:  , auc= 0.213894fmeasure_max= 0.367867, precision= 0.225391, recall= 1.000000\n",
      "Validation Iter 1000, auc= 0.896274, fmeasure_max= 0.823009, precision= 0.850091, recall= 0.797599\n",
      "Validation Random guess:  auc= 0.244613, fmeasure_max= 0.371338, precision= 0.228002, recall= 1.000000\n",
      "Minibatch Loss= 0.542411\n",
      "Tarin Iter 1100, auc= 0.922293, fmeasure_max= 0.845679, precision= 0.861635, recall= 0.830303\n",
      "Train Random guess:  , auc= 0.187260fmeasure_max= 0.325504, precision= 0.194620, recall= 0.993939\n",
      "Validation Iter 1100, auc= 0.902681, fmeasure_max= 0.824253, precision= 0.845045, recall= 0.804460\n",
      "Validation Random guess:  auc= 0.222590, fmeasure_max= 0.373775, precision= 0.232744, recall= 0.948542\n",
      "Minibatch Loss= 0.448542\n",
      "Tarin Iter 1200, auc= 0.914628, fmeasure_max= 0.851952, precision= 0.833992, recall= 0.870702\n",
      "Train Random guess:  , auc= 0.281951fmeasure_max= 0.442483, precision= 0.284095, recall= 1.000000\n",
      "Validation Iter 1200, auc= 0.869806, fmeasure_max= 0.799663, precision= 0.785124, recall= 0.814751\n",
      "Validation Random guess:  auc= 0.231089, fmeasure_max= 0.371811, precision= 0.228359, recall= 1.000000\n",
      "Minibatch Loss= 0.634374\n",
      "Tarin Iter 1300, auc= 0.941086, fmeasure_max= 0.861011, precision= 0.875229, recall= 0.847247\n",
      "Train Random guess:  , auc= 0.221155fmeasure_max= 0.361057, precision= 0.220559, recall= 0.994671\n",
      "Validation Iter 1300, auc= 0.893796, fmeasure_max= 0.825629, precision= 0.783077, recall= 0.873070\n",
      "Validation Random guess:  auc= 0.227767, fmeasure_max= 0.372049, precision= 0.228538, recall= 1.000000\n",
      "Minibatch Loss= 0.443493\n",
      "Tarin Iter 1400, auc= 0.913495, fmeasure_max= 0.845395, precision= 0.874150, recall= 0.818471\n",
      "Train Random guess:  , auc= 0.256180fmeasure_max= 0.394225, precision= 0.245504, recall= 1.000000\n",
      "Validation Iter 1400, auc= 0.892208, fmeasure_max= 0.816092, precision= 0.782677, recall= 0.852487\n",
      "Validation Random guess:  auc= 0.228074, fmeasure_max= 0.372783, precision= 0.229547, recall= 0.991424\n",
      "Minibatch Loss= 0.584746\n",
      "Tarin Iter 1500, auc= 0.945383, fmeasure_max= 0.874049, precision= 0.873311, recall= 0.874788\n",
      "Train Random guess:  , auc= 0.224888fmeasure_max= 0.376079, precision= 0.231861, recall= 0.994924\n",
      "Validation Iter 1500, auc= 0.898745, fmeasure_max= 0.819277, precision= 0.822107, recall= 0.816467\n",
      "Validation Random guess:  auc= 0.243595, fmeasure_max= 0.372947, precision= 0.229580, recall= 0.993139\n",
      "Minibatch Loss= 0.472065\n",
      "Tarin Iter 1600, auc= 0.914306, fmeasure_max= 0.854938, precision= 0.839394, recall= 0.871069\n",
      "Train Random guess:  , auc= 0.255018fmeasure_max= 0.399621, precision= 0.250000, recall= 0.995283\n",
      "Validation Iter 1600, auc= 0.916488, fmeasure_max= 0.838182, precision= 0.891683, recall= 0.790738\n",
      "Validation Random guess:  auc= 0.234694, fmeasure_max= 0.370983, precision= 0.227734, recall= 1.000000\n",
      "Minibatch Loss= 0.571014\n",
      "Tarin Iter 1700, auc= 0.918652, fmeasure_max= 0.870031, precision= 0.868702, recall= 0.871363\n",
      "Train Random guess:  , auc= 0.242921fmeasure_max= 0.406474, precision= 0.255078, recall= 1.000000\n",
      "Validation Iter 1700, auc= 0.908199, fmeasure_max= 0.837209, precision= 0.874766, recall= 0.802744\n",
      "Validation Random guess:  auc= 0.227192, fmeasure_max= 0.373342, precision= 0.230064, recall= 0.989708\n",
      "Minibatch Loss= 0.525379\n",
      "Tarin Iter 1800, auc= 0.908919, fmeasure_max= 0.837838, precision= 0.805195, recall= 0.873239\n",
      "Train Random guess:  , auc= 0.233893fmeasure_max= 0.363171, precision= 0.221875, recall= 1.000000\n",
      "Validation Iter 1800, auc= 0.897457, fmeasure_max= 0.817360, precision= 0.864245, recall= 0.775300\n",
      "Validation Random guess:  auc= 0.239522, fmeasure_max= 0.371930, precision= 0.228448, recall= 1.000000\n",
      "Minibatch Loss= 0.546253\n",
      "Tarin Iter 1900, auc= 0.911749, fmeasure_max= 0.816901, precision= 0.821239, recall= 0.812609\n",
      "Train Random guess:  , auc= 0.218724fmeasure_max= 0.365791, precision= 0.223834, recall= 1.000000\n",
      "Validation Iter 1900, auc= 0.915800, fmeasure_max= 0.845270, precision= 0.872263, recall= 0.819897\n",
      "Validation Random guess:  auc= 0.222475, fmeasure_max= 0.373091, precision= 0.230152, recall= 0.984563\n",
      "Minibatch Loss= 0.492228\n",
      "Tarin Iter 2000, auc= 0.956294, fmeasure_max= 0.902267, precision= 0.870287, recall= 0.936688\n",
      "Train Random guess:  , auc= 0.242804fmeasure_max= 0.390886, precision= 0.243600, recall= 0.988636\n",
      "Validation Iter 2000, auc= 0.913078, fmeasure_max= 0.844720, precision= 0.875000, recall= 0.816467\n",
      "Validation Random guess:  auc= 0.235611, fmeasure_max= 0.371808, precision= 0.231946, recall= 0.936535\n",
      "Minibatch Loss= 0.432925\n",
      "Tarin Iter 2100, auc= 0.929575, fmeasure_max= 0.851064, precision= 0.872865, recall= 0.830325\n",
      "Train Random guess:  , auc= 0.219987fmeasure_max= 0.358874, precision= 0.219200, recall= 0.989170\n",
      "Validation Iter 2100, auc= 0.921089, fmeasure_max= 0.843990, precision= 0.838983, recall= 0.849057\n",
      "Validation Random guess:  auc= 0.236681, fmeasure_max= 0.371693, precision= 0.228269, recall= 1.000000\n",
      "Minibatch Loss= 0.432807\n"
     ]
    }
   ],
   "source": [
    "trainer.train(max_iter = 10000,\n",
    "                train_eval_step = 100, \n",
    "                validation_eval_step = 100,\n",
    "                display_step = 100)"
   ]
  },
  {
   "cell_type": "code",
   "execution_count": null,
   "metadata": {
    "collapsed": false
   },
   "outputs": [],
   "source": [
    "#Save the model\n",
    "saver = tf.train.Saver()\n",
    "saver.save(sess, checkpoint_path, global_step=trainer.global_step)"
   ]
  },
  {
   "cell_type": "code",
   "execution_count": null,
   "metadata": {
    "collapsed": false
   },
   "outputs": [],
   "source": [
    "#load the model\n",
    "saver = tf.train.Saver()\n",
    "saver.restore(sess, \"../models/model\" + exp_name + \"/model\")"
   ]
  },
  {
   "cell_type": "code",
   "execution_count": null,
   "metadata": {
    "collapsed": false
   },
   "outputs": [],
   "source": [
    "#This is the model evaluation on test dataset\n",
    "probability_of_pos= nn_eval.evaluate_model (model, sess, test_data, test_gt)"
   ]
  },
  {
   "cell_type": "code",
   "execution_count": null,
   "metadata": {
    "collapsed": true
   },
   "outputs": [],
   "source": [
    "#shape of probability_change is (batch size, T, num_classes)\n",
    "#since num_classes = 1 we squeeze that axis\n",
    "probability_change = np.squeeze(probability_of_pos, axis = 2)"
   ]
  },
  {
   "cell_type": "code",
   "execution_count": null,
   "metadata": {
    "collapsed": false
   },
   "outputs": [],
   "source": [
    "savemat('../poc/poc'+exp_name+'.mat', {'poc':probability_change})"
   ]
  },
  {
   "cell_type": "code",
   "execution_count": null,
   "metadata": {},
   "outputs": [],
   "source": []
  }
 ],
 "metadata": {
  "anaconda-cloud": {},
  "kernelspec": {
   "display_name": "Anaconca with Tensorflow",
   "language": "python",
   "name": "tensorflow"
  },
  "language_info": {
   "codemirror_mode": {
    "name": "ipython",
    "version": 2
   },
   "file_extension": ".py",
   "mimetype": "text/x-python",
   "name": "python",
   "nbconvert_exporter": "python",
   "pygments_lexer": "ipython2",
   "version": "2.7.13"
  }
 },
 "nbformat": 4,
 "nbformat_minor": 2
}
