{
 "cells": [
  {
   "cell_type": "code",
   "execution_count": 1,
   "metadata": {
    "collapsed": true
   },
   "outputs": [],
   "source": [
    "# useing this variable for saving models and summaries\n",
    "exp_name = \"CNN1017\""
   ]
  },
  {
   "cell_type": "markdown",
   "metadata": {},
   "source": [
    "## Importing Libraries"
   ]
  },
  {
   "cell_type": "code",
   "execution_count": 2,
   "metadata": {
    "collapsed": false
   },
   "outputs": [],
   "source": [
    "%load_ext autoreload\n",
    "%autoreload 2\n",
    "import tensorflow as tf\n",
    "import numpy as np\n",
    "from hdf5storage import savemat\n",
    "import pickle \n",
    "\n",
    "import sys\n",
    "sys.path.append('../../../src')"
   ]
  },
  {
   "cell_type": "code",
   "execution_count": 3,
   "metadata": {},
   "outputs": [],
   "source": [
    "import models.CNN_model as CNN_model\n",
    "import training\n",
    "import evaluation.nn_eval as nn_eval"
   ]
  },
  {
   "cell_type": "markdown",
   "metadata": {},
   "source": [
    "## Loading synthetic data"
   ]
  },
  {
   "cell_type": "code",
   "execution_count": 4,
   "metadata": {
    "collapsed": false
   },
   "outputs": [],
   "source": [
    "#loading data\n",
    "data_path= '/data2/data/zebrahim/synthetic_dataset/data_8192_1000_3_4_4_.03_.03_.2' + 'processed_data.p'\n",
    "\n",
    "with open(data_path, 'r') as fin:\n",
    "    data = pickle.load(fin)\n",
    "    \n",
    "train_data = data['train_data']\n",
    "validation_data = data['validation_data']\n",
    "test_data = data['test_data']\n",
    "\n",
    "train_gt = np.expand_dims(data['train_gt'], axis=-1)\n",
    "validation_gt = np.expand_dims(data['validation_gt'], axis=-1)\n",
    "test_gt = np.expand_dims(data['test_gt'], axis=-1)\n",
    "\n",
    "index_of_changes = data['index_of_changes']\n",
    " "
   ]
  },
  {
   "cell_type": "code",
   "execution_count": 5,
   "metadata": {
    "collapsed": false
   },
   "outputs": [],
   "source": [
    "#index of changes for test dataset\n",
    "gt_test_idx_changes = index_of_changes[900:1000]"
   ]
  },
  {
   "cell_type": "markdown",
   "metadata": {},
   "source": [
    "## Model"
   ]
  },
  {
   "cell_type": "code",
   "execution_count": 8,
   "metadata": {
    "collapsed": false
   },
   "outputs": [],
   "source": [
    "# Model parameters\n",
    "n_variables = 12\n",
    "learning_rate = 0.001\n",
    "batch_size = 10\n",
    "\n",
    "convolution_levels = 6    #number of convolution to have in the network\n",
    "pooling_stride = [8, 2, 2, 1, 1, 1]\n",
    "weights_shape = [[7, n_variables, 32],\n",
    "                 [7, 32, 32],\n",
    "                 [7, 32, 32],\n",
    "                 [7, 32, 32],\n",
    "                 [7, 32, 32],\n",
    "                 [7, 32, 32]]\n",
    "bias_shape = [32, 32, 32, 32, 32, 32]\n",
    "activation = tf.nn.relu\n",
    "n_classes = 1\n",
    "\n",
    "##positive weight for weighted cross entropy\n",
    "s = train_data.shape\n",
    "resolution = np.prod(pooling_stride)\n",
    "gt_effective = np.reshape(train_gt, (s[0]*(s[1]/resolution), resolution))\n",
    "pos_weight = (1.0 - gt_effective.max(axis=1).mean()) / gt_effective.max(axis=1).mean()"
   ]
  },
  {
   "cell_type": "code",
   "execution_count": 9,
   "metadata": {
    "collapsed": false
   },
   "outputs": [
    {
     "name": "stdout",
     "output_type": "stream",
     "text": [
      "3.18601822124\n"
     ]
    }
   ],
   "source": [
    "print pos_weight"
   ]
  },
  {
   "cell_type": "code",
   "execution_count": 10,
   "metadata": {},
   "outputs": [],
   "source": [
    "# Launch the graph\n",
    "config = tf.ConfigProto()\n",
    "config.gpu_options.allow_growth = True\n",
    "sess = tf.Session(config=config)"
   ]
  },
  {
   "cell_type": "code",
   "execution_count": 11,
   "metadata": {},
   "outputs": [],
   "source": [
    "summary_path = '../summary/' + exp_name \n",
    "checkpoint_path = '../model/' + exp_name + '/' + exp_name "
   ]
  },
  {
   "cell_type": "code",
   "execution_count": 12,
   "metadata": {
    "collapsed": false
   },
   "outputs": [],
   "source": [
    "model = CNN_model.Model(n_variables = n_variables,\n",
    "                        learning_rate = learning_rate,\n",
    "                        n_classes = n_classes)"
   ]
  },
  {
   "cell_type": "code",
   "execution_count": 13,
   "metadata": {
    "collapsed": false
   },
   "outputs": [],
   "source": [
    "model.build_conv_net(pos_weight = pos_weight,\n",
    "                     learning_rate = learning_rate,\n",
    "                     convolution_levels = convolution_levels, \n",
    "                     pooling_stride = pooling_stride,\n",
    "                     weights_shape = weights_shape,\n",
    "                     bias_shape = bias_shape,\n",
    "                     n_classes = n_classes,\n",
    "                     activation = activation)"
   ]
  },
  {
   "cell_type": "code",
   "execution_count": null,
   "metadata": {
    "collapsed": false
   },
   "outputs": [],
   "source": [
    "trainer = training.Trainer(model = model,\n",
    "                    data_train = train_data,\n",
    "                    ground_truth_train = train_gt,\n",
    "                    data_validation = validation_data,\n",
    "                    ground_truth_validation = validation_gt,\n",
    "                    sess = sess,\n",
    "                    summary_path = summary_path,\n",
    "                    batch_size = batch_size,\n",
    "                    global_step = 0)"
   ]
  },
  {
   "cell_type": "code",
   "execution_count": null,
   "metadata": {
    "collapsed": false
   },
   "outputs": [
    {
     "name": "stdout",
     "output_type": "stream",
     "text": [
      "Tarin Iter 0, auc= 0.260411, fmeasure_max= 0.400750, precision= 0.250586, recall= 1.000000\n",
      "Train Random guess:  , auc= 0.245715fmeasure_max= 0.402990, precision= 0.254516, recall= 0.967239\n",
      "Validation Iter 0, auc= 0.199007, fmeasure_max= 0.370983, precision= 0.227734, recall= 1.000000\n",
      "Validation Random guess:  auc= 0.227991, fmeasure_max= 0.374837, precision= 0.231388, recall= 0.986278\n",
      "Minibatch Loss= 1.083464\n",
      "Tarin Iter 100, auc= 0.707085, fmeasure_max= 0.714286, precision= 0.800000, recall= 0.645161\n",
      "Train Random guess:  , auc= 0.224991fmeasure_max= 0.374960, precision= 0.231196, recall= 0.991511\n",
      "Validation Iter 100, auc= 0.694841, fmeasure_max= 0.692093, precision= 0.756098, recall= 0.638079\n",
      "Validation Random guess:  auc= 0.231240, fmeasure_max= 0.371693, precision= 0.228269, recall= 1.000000\n",
      "Minibatch Loss= 0.837302\n",
      "Tarin Iter 200, auc= 0.779294, fmeasure_max= 0.739602, precision= 0.785029, recall= 0.699145\n",
      "Train Random guess:  , auc= 0.217894fmeasure_max= 0.372980, precision= 0.229972, recall= 0.986325\n",
      "Validation Iter 200, auc= 0.731462, fmeasure_max= 0.712971, precision= 0.696078, recall= 0.730703\n",
      "Validation Random guess:  auc= 0.234804, fmeasure_max= 0.371493, precision= 0.228753, recall= 0.987993\n",
      "Minibatch Loss= 0.786515\n",
      "Tarin Iter 300, auc= 0.869690, fmeasure_max= 0.806880, precision= 0.802488, recall= 0.811321\n",
      "Train Random guess:  , auc= 0.244067fmeasure_max= 0.398742, precision= 0.249214, recall= 0.996855\n",
      "Validation Iter 300, auc= 0.836001, fmeasure_max= 0.801956, precision= 0.763975, recall= 0.843911\n",
      "Validation Random guess:  auc= 0.237974, fmeasure_max= 0.371338, precision= 0.228002, recall= 1.000000\n",
      "Minibatch Loss= 0.634211\n",
      "Tarin Iter 400, auc= 0.848475, fmeasure_max= 0.783318, precision= 0.822857, recall= 0.747405\n",
      "Train Random guess:  , auc= 0.213186fmeasure_max= 0.369093, precision= 0.226312, recall= 1.000000\n",
      "Validation Iter 400, auc= 0.851322, fmeasure_max= 0.797824, precision= 0.846154, recall= 0.754717\n",
      "Validation Random guess:  auc= 0.236667, fmeasure_max= 0.372361, precision= 0.228864, recall= 0.998285\n",
      "Minibatch Loss= 0.611647\n",
      "Tarin Iter 500, auc= 0.873997, fmeasure_max= 0.819588, precision= 0.898305, recall= 0.753555\n",
      "Train Random guess:  , auc= 0.241184fmeasure_max= 0.397208, precision= 0.248511, recall= 0.988942\n",
      "Validation Iter 500, auc= 0.880664, fmeasure_max= 0.814694, precision= 0.777259, recall= 0.855918\n",
      "Validation Random guess:  auc= 0.230651, fmeasure_max= 0.372392, precision= 0.229068, recall= 0.994854\n",
      "Minibatch Loss= 0.620226\n",
      "Tarin Iter 600, auc= 0.859660, fmeasure_max= 0.786164, precision= 0.819672, recall= 0.755287\n",
      "Train Random guess:  , auc= 0.241486fmeasure_max= 0.411948, precision= 0.259404, recall= 1.000000\n",
      "Validation Iter 600, auc= 0.851686, fmeasure_max= 0.795031, precision= 0.823529, recall= 0.768439\n",
      "Validation Random guess:  auc= 0.216678, fmeasure_max= 0.370983, precision= 0.227734, recall= 1.000000\n",
      "Minibatch Loss= 0.692471\n",
      "Tarin Iter 700, auc= 0.865592, fmeasure_max= 0.799293, precision= 0.913131, recall= 0.710692\n",
      "Train Random guess:  , auc= 0.248802fmeasure_max= 0.397997, precision= 0.248438, recall= 1.000000\n",
      "Validation Iter 700, auc= 0.896896, fmeasure_max= 0.849618, precision= 0.841751, recall= 0.857633\n",
      "Validation Random guess:  auc= 0.217106, fmeasure_max= 0.371141, precision= 0.232609, recall= 0.917667\n",
      "Minibatch Loss= 0.664887\n",
      "Tarin Iter 800, auc= 0.872283, fmeasure_max= 0.802536, precision= 0.834275, recall= 0.773124\n",
      "Train Random guess:  , auc= 0.222797fmeasure_max= 0.366601, precision= 0.225431, recall= 0.980803\n",
      "Validation Iter 800, auc= 0.901788, fmeasure_max= 0.830221, precision= 0.821849, recall= 0.838765\n",
      "Validation Random guess:  auc= 0.226663, fmeasure_max= 0.372049, precision= 0.228538, recall= 1.000000\n",
      "Minibatch Loss= 0.618776\n",
      "Tarin Iter 900, auc= 0.841430, fmeasure_max= 0.792363, precision= 0.823140, recall= 0.763804\n",
      "Train Random guess:  , auc= 0.257013fmeasure_max= 0.410120, precision= 0.261905, recall= 0.944785\n",
      "Validation Iter 900, auc= 0.890796, fmeasure_max= 0.832055, precision= 0.827119, recall= 0.837050\n",
      "Validation Random guess:  auc= 0.223737, fmeasure_max= 0.370983, precision= 0.227734, recall= 1.000000\n",
      "Minibatch Loss= 0.765036\n",
      "Tarin Iter 1000, auc= 0.905552, fmeasure_max= 0.835590, precision= 0.860558, recall= 0.812030\n",
      "Train Random guess:  , auc= 0.214039fmeasure_max= 0.345029, precision= 0.208562, recall= 0.998120\n",
      "Validation Iter 1000, auc= 0.898921, fmeasure_max= 0.840532, precision= 0.814815, recall= 0.867925\n",
      "Validation Random guess:  auc= 0.228528, fmeasure_max= 0.371574, precision= 0.228180, recall= 1.000000\n",
      "Minibatch Loss= 0.502567\n",
      "Tarin Iter 1100, auc= 0.888934, fmeasure_max= 0.813725, precision= 0.887701, recall= 0.751131\n",
      "Train Random guess:  , auc= 0.159852fmeasure_max= 0.295082, precision= 0.173145, recall= 0.997738\n",
      "Validation Iter 1100, auc= 0.921547, fmeasure_max= 0.843990, precision= 0.838983, recall= 0.849057\n",
      "Validation Random guess:  auc= 0.220800, fmeasure_max= 0.372361, precision= 0.228864, recall= 0.998285\n",
      "Minibatch Loss= 0.504222\n",
      "Tarin Iter 1200, auc= 0.898590, fmeasure_max= 0.821181, precision= 0.824042, recall= 0.818339\n",
      "Train Random guess:  , auc= 0.228688fmeasure_max= 0.371073, precision= 0.228814, recall= 0.980969\n",
      "Validation Iter 1200, auc= 0.898049, fmeasure_max= 0.831960, precision= 0.800317, recall= 0.866209\n",
      "Validation Random guess:  auc= 0.238752, fmeasure_max= 0.372167, precision= 0.228627, recall= 1.000000\n",
      "Minibatch Loss= 0.557604\n",
      "Tarin Iter 1300, auc= 0.937187, fmeasure_max= 0.852292, precision= 0.904505, recall= 0.805778\n",
      "Train Random guess:  , auc= 0.264008fmeasure_max= 0.391455, precision= 0.243359, recall= 1.000000\n",
      "Validation Iter 1300, auc= 0.922774, fmeasure_max= 0.867550, precision= 0.838400, recall= 0.898799\n",
      "Validation Random guess:  auc= 0.232737, fmeasure_max= 0.370983, precision= 0.227734, recall= 1.000000\n",
      "Minibatch Loss= 0.491641\n",
      "Tarin Iter 1400, auc= 0.947323, fmeasure_max= 0.872114, precision= 0.878354, recall= 0.865961\n",
      "Train Random guess:  , auc= 0.224028fmeasure_max= 0.362648, precision= 0.221484, recall= 1.000000\n",
      "Validation Iter 1400, auc= 0.922343, fmeasure_max= 0.868619, precision= 0.848039, recall= 0.890223\n",
      "Validation Random guess:  auc= 0.229905, fmeasure_max= 0.371574, precision= 0.228180, recall= 1.000000\n",
      "Minibatch Loss= 0.450318\n",
      "Tarin Iter 1500, auc= 0.927362, fmeasure_max= 0.850431, precision= 0.856467, recall= 0.844479\n",
      "Train Random guess:  , auc= 0.244746fmeasure_max= 0.403215, precision= 0.254155, recall= 0.975117\n",
      "Validation Iter 1500, auc= 0.884864, fmeasure_max= 0.812727, precision= 0.864603, recall= 0.766724\n",
      "Validation Random guess:  auc= 0.224972, fmeasure_max= 0.370983, precision= 0.227734, recall= 1.000000\n",
      "Minibatch Loss= 0.564442\n",
      "Tarin Iter 1600, auc= 0.926394, fmeasure_max= 0.858054, precision= 0.858054, recall= 0.858054\n",
      "Train Random guess:  , auc= 0.249053fmeasure_max= 0.393597, precision= 0.245018, recall= 1.000000\n",
      "Validation Iter 1600, auc= 0.913234, fmeasure_max= 0.836938, precision= 0.812601, recall= 0.862779\n",
      "Validation Random guess:  auc= 0.232663, fmeasure_max= 0.372139, precision= 0.229899, recall= 0.975986\n",
      "Minibatch Loss= 0.524710\n",
      "Tarin Iter 1700, auc= 0.911835, fmeasure_max= 0.868421, precision= 0.847706, recall= 0.890173\n",
      "Train Random guess:  , auc= 0.207761fmeasure_max= 0.337122, precision= 0.202734, recall= 1.000000\n",
      "Validation Iter 1700, auc= 0.908689, fmeasure_max= 0.846727, precision= 0.818910, recall= 0.876501\n",
      "Validation Random guess:  auc= 0.225255, fmeasure_max= 0.370983, precision= 0.227734, recall= 1.000000\n",
      "Minibatch Loss= 0.474554\n",
      "Tarin Iter 1800, auc= 0.918376, fmeasure_max= 0.845421, precision= 0.817280, recall= 0.875569\n",
      "Train Random guess:  , auc= 0.248597fmeasure_max= 0.410256, precision= 0.258369, recall= 0.995448\n",
      "Validation Iter 1800, auc= 0.902469, fmeasure_max= 0.839149, precision= 0.832770, recall= 0.845626\n",
      "Validation Random guess:  auc= 0.223851, fmeasure_max= 0.371101, precision= 0.227823, recall= 1.000000\n",
      "Minibatch Loss= 0.527994\n",
      "Tarin Iter 1900, auc= 0.924914, fmeasure_max= 0.849515, precision= 0.875000, recall= 0.825472\n",
      "Train Random guess:  , auc= 0.253909fmeasure_max= 0.398746, precision= 0.249021, recall= 1.000000\n",
      "Validation Iter 1900, auc= 0.909412, fmeasure_max= 0.845695, precision= 0.840678, recall= 0.850772\n",
      "Validation Random guess:  auc= 0.212956, fmeasure_max= 0.371219, precision= 0.227912, recall= 1.000000\n",
      "Minibatch Loss= 0.520142\n",
      "Tarin Iter 2000, auc= 0.946967, fmeasure_max= 0.884838, precision= 0.871126, recall= 0.898990\n",
      "Train Random guess:  , auc= 0.240872fmeasure_max= 0.379852, precision= 0.234641, recall= 0.996633\n",
      "Validation Iter 2000, auc= 0.925702, fmeasure_max= 0.877342, precision= 0.871404, recall= 0.883362\n",
      "Validation Random guess:  auc= 0.244061, fmeasure_max= 0.370983, precision= 0.227734, recall= 1.000000\n",
      "Minibatch Loss= 0.437595\n",
      "Tarin Iter 2100, auc= 0.963330, fmeasure_max= 0.882129, precision= 0.908023, recall= 0.857671\n",
      "Train Random guess:  , auc= 0.206773fmeasure_max= 0.349546, precision= 0.211954, recall= 0.996303\n",
      "Validation Iter 2100, auc= 0.921516, fmeasure_max= 0.857636, precision= 0.862847, recall= 0.852487\n",
      "Validation Random guess:  auc= 0.221968, fmeasure_max= 0.371338, precision= 0.228002, recall= 1.000000\n",
      "Minibatch Loss= 0.388748\n",
      "Tarin Iter 2200, auc= 0.907942, fmeasure_max= 0.834688, precision= 0.855556, recall= 0.814815\n",
      "Train Random guess:  , auc= 0.232352fmeasure_max= 0.363229, precision= 0.221918, recall= 1.000000\n",
      "Validation Iter 2200, auc= 0.926194, fmeasure_max= 0.864094, precision= 0.845649, recall= 0.883362\n",
      "Validation Random guess:  auc= 0.228233, fmeasure_max= 0.371101, precision= 0.227823, recall= 1.000000\n",
      "Minibatch Loss= 0.548731\n",
      "Tarin Iter 2300, auc= 0.956167, fmeasure_max= 0.887259, precision= 0.914934, recall= 0.861210\n",
      "Train Random guess:  , auc= 0.222312fmeasure_max= 0.362759, precision= 0.224979, recall= 0.935943\n",
      "Validation Iter 2300, auc= 0.901791, fmeasure_max= 0.825553, precision= 0.789969, recall= 0.864494\n",
      "Validation Random guess:  auc= 0.251070, fmeasure_max= 0.374551, precision= 0.231265, recall= 0.984563\n",
      "Minibatch Loss= 0.432739\n",
      "Tarin Iter 2400, auc= 0.921063, fmeasure_max= 0.862490, precision= 0.842607, recall= 0.883333\n",
      "Train Random guess:  , auc= 0.239465fmeasure_max= 0.379867, precision= 0.234467, recall= 1.000000\n",
      "Validation Iter 2400, auc= 0.924614, fmeasure_max= 0.862039, precision= 0.861301, recall= 0.862779\n",
      "Validation Random guess:  auc= 0.223739, fmeasure_max= 0.371338, precision= 0.228002, recall= 1.000000\n",
      "Minibatch Loss= 0.506555\n"
     ]
    }
   ],
   "source": [
    "trainer.train(max_iter = 10000,\n",
    "                train_eval_step = 100, \n",
    "                validation_eval_step = 100,\n",
    "                display_step = 100)"
   ]
  },
  {
   "cell_type": "code",
   "execution_count": null,
   "metadata": {
    "collapsed": false
   },
   "outputs": [],
   "source": [
    "#Save the model\n",
    "saver = tf.train.Saver()\n",
    "saver.save(sess, checkpoint_path, global_step=trainer.global_step)"
   ]
  },
  {
   "cell_type": "code",
   "execution_count": null,
   "metadata": {
    "collapsed": false
   },
   "outputs": [],
   "source": [
    "#load the model\n",
    "saver = tf.train.Saver()\n",
    "saver.restore(sess, \"../models/model\" + exp_name + \"/model\")"
   ]
  },
  {
   "cell_type": "code",
   "execution_count": null,
   "metadata": {
    "collapsed": false
   },
   "outputs": [],
   "source": [
    "#This is the model evaluation on test dataset\n",
    "probability_of_pos= nn_eval.evaluate_model (model, sess, test_data, test_gt)"
   ]
  },
  {
   "cell_type": "code",
   "execution_count": null,
   "metadata": {
    "collapsed": true
   },
   "outputs": [],
   "source": [
    "#shape of probability_change is (batch size, T, num_classes)\n",
    "#since num_classes = 1 we squeeze that axis\n",
    "probability_change = np.squeeze(probability_of_pos, axis = 2)"
   ]
  },
  {
   "cell_type": "code",
   "execution_count": null,
   "metadata": {
    "collapsed": false
   },
   "outputs": [],
   "source": [
    "savemat('../poc/poc'+exp_name+'.mat', {'poc':probability_change})"
   ]
  },
  {
   "cell_type": "code",
   "execution_count": null,
   "metadata": {},
   "outputs": [],
   "source": []
  }
 ],
 "metadata": {
  "anaconda-cloud": {},
  "kernelspec": {
   "display_name": "Anaconca with Tensorflow",
   "language": "python",
   "name": "tensorflow"
  },
  "language_info": {
   "codemirror_mode": {
    "name": "ipython",
    "version": 2
   },
   "file_extension": ".py",
   "mimetype": "text/x-python",
   "name": "python",
   "nbconvert_exporter": "python",
   "pygments_lexer": "ipython2",
   "version": "2.7.13"
  }
 },
 "nbformat": 4,
 "nbformat_minor": 2
}
