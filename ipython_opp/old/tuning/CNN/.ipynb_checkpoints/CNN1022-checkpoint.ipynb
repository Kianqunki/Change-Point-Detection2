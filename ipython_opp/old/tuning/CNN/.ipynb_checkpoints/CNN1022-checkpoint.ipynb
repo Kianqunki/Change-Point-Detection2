{
 "cells": [
  {
   "cell_type": "code",
   "execution_count": 1,
   "metadata": {
    "collapsed": true
   },
   "outputs": [],
   "source": [
    "# useing this variable for saving models and summaries\n",
    "exp_name = \"CNN1022\""
   ]
  },
  {
   "cell_type": "markdown",
   "metadata": {},
   "source": [
    "## Importing Libraries"
   ]
  },
  {
   "cell_type": "code",
   "execution_count": 2,
   "metadata": {
    "collapsed": false
   },
   "outputs": [],
   "source": [
    "%load_ext autoreload\n",
    "%autoreload 2\n",
    "import tensorflow as tf\n",
    "import numpy as np\n",
    "from hdf5storage import savemat\n",
    "import pickle \n",
    "\n",
    "import sys\n",
    "sys.path.append('../../../src')"
   ]
  },
  {
   "cell_type": "code",
   "execution_count": null,
   "metadata": {},
   "outputs": [],
   "source": [
    "import models.CNN_model as CNN_model\n",
    "import training\n",
    "import evaluation.nn_eval as nn_eval"
   ]
  },
  {
   "cell_type": "markdown",
   "metadata": {},
   "source": [
    "## Loading synthetic data"
   ]
  },
  {
   "cell_type": "code",
   "execution_count": null,
   "metadata": {
    "collapsed": false
   },
   "outputs": [],
   "source": [
    "#loading data\n",
    "data_path= '/data2/data/zebrahim/synthetic_dataset/data_8192_1000_3_4_4_.03_.03_.2' + 'processed_data.p'\n",
    "\n",
    "with open(data_path, 'r') as fin:\n",
    "    data = pickle.load(fin)\n",
    "    \n",
    "train_data = data['train_data']\n",
    "validation_data = data['validation_data']\n",
    "test_data = data['test_data']\n",
    "\n",
    "train_gt = np.expand_dims(data['train_gt'], axis=-1)\n",
    "validation_gt = np.expand_dims(data['validation_gt'], axis=-1)\n",
    "test_gt = np.expand_dims(data['test_gt'], axis=-1)\n",
    "\n",
    "index_of_changes = data['index_of_changes']\n",
    " "
   ]
  },
  {
   "cell_type": "code",
   "execution_count": null,
   "metadata": {
    "collapsed": false
   },
   "outputs": [],
   "source": [
    "#index of changes for test dataset\n",
    "gt_test_idx_changes = index_of_changes[900:1000]"
   ]
  },
  {
   "cell_type": "markdown",
   "metadata": {},
   "source": [
    "## Model"
   ]
  },
  {
   "cell_type": "code",
   "execution_count": null,
   "metadata": {
    "collapsed": false
   },
   "outputs": [],
   "source": [
    "# Model parameters\n",
    "n_variables = 12\n",
    "learning_rate = 0.001\n",
    "batch_size = 10\n",
    "\n",
    "convolution_levels = 6    #number of convolution to have in the network\n",
    "pooling_stride = [4, 2, 2, 2, 1, 1]\n",
    "weights_shape = [[7, n_variables, 32],\n",
    "                 [7, 32, 32],\n",
    "                 [7, 32, 32],\n",
    "                 [7, 32, 32],\n",
    "                 [7, 32, 32],\n",
    "                 [9, 32, 32]]\n",
    "bias_shape = [32, 32, 32, 32, 32, 32]\n",
    "activation = tf.nn.relu\n",
    "n_classes = 1\n",
    "\n",
    "##positive weight for weighted cross entropy\n",
    "s = train_data.shape\n",
    "resolution = np.prod(pooling_stride)\n",
    "gt_effective = np.reshape(train_gt, (s[0]*(s[1]/resolution), resolution))\n",
    "pos_weight = (1.0 - gt_effective.max(axis=1).mean()) / gt_effective.max(axis=1).mean()"
   ]
  },
  {
   "cell_type": "code",
   "execution_count": null,
   "metadata": {
    "collapsed": false
   },
   "outputs": [],
   "source": [
    "print pos_weight"
   ]
  },
  {
   "cell_type": "code",
   "execution_count": null,
   "metadata": {},
   "outputs": [],
   "source": [
    "# Launch the graph\n",
    "config = tf.ConfigProto()\n",
    "config.gpu_options.allow_growth = True\n",
    "sess = tf.Session(config=config)"
   ]
  },
  {
   "cell_type": "code",
   "execution_count": null,
   "metadata": {},
   "outputs": [],
   "source": [
    "summary_path = '../summary/' + exp_name \n",
    "checkpoint_path = '../model/' + exp_name + '/' + exp_name "
   ]
  },
  {
   "cell_type": "code",
   "execution_count": null,
   "metadata": {
    "collapsed": false
   },
   "outputs": [],
   "source": [
    "model = CNN_model.Model(n_variables = n_variables,\n",
    "                        learning_rate = learning_rate,\n",
    "                        n_classes = n_classes)"
   ]
  },
  {
   "cell_type": "code",
   "execution_count": null,
   "metadata": {
    "collapsed": false
   },
   "outputs": [],
   "source": [
    "model.build_conv_net(pos_weight = pos_weight,\n",
    "                     learning_rate = learning_rate,\n",
    "                     convolution_levels = convolution_levels, \n",
    "                     pooling_stride = pooling_stride,\n",
    "                     weights_shape = weights_shape,\n",
    "                     bias_shape = bias_shape,\n",
    "                     n_classes = n_classes,\n",
    "                     activation = activation)"
   ]
  },
  {
   "cell_type": "code",
   "execution_count": null,
   "metadata": {
    "collapsed": false
   },
   "outputs": [],
   "source": [
    "trainer = training.Trainer(model = model,\n",
    "                    data_train = train_data,\n",
    "                    ground_truth_train = train_gt,\n",
    "                    data_validation = validation_data,\n",
    "                    ground_truth_validation = validation_gt,\n",
    "                    sess = sess,\n",
    "                    summary_path = summary_path,\n",
    "                    batch_size = batch_size,\n",
    "                    global_step = 0)"
   ]
  },
  {
   "cell_type": "code",
   "execution_count": null,
   "metadata": {
    "collapsed": false
   },
   "outputs": [],
   "source": [
    "trainer.train(max_iter = 10000,\n",
    "                train_eval_step = 100, \n",
    "                validation_eval_step = 100,\n",
    "                display_step = 100)"
   ]
  },
  {
   "cell_type": "code",
   "execution_count": null,
   "metadata": {
    "collapsed": false
   },
   "outputs": [],
   "source": [
    "#Save the model\n",
    "saver = tf.train.Saver()\n",
    "saver.save(sess, checkpoint_path, global_step=trainer.global_step)"
   ]
  },
  {
   "cell_type": "code",
   "execution_count": null,
   "metadata": {
    "collapsed": false
   },
   "outputs": [],
   "source": [
    "#load the model\n",
    "saver = tf.train.Saver()\n",
    "saver.restore(sess, \"../models/model\" + exp_name + \"/model\")"
   ]
  },
  {
   "cell_type": "code",
   "execution_count": null,
   "metadata": {
    "collapsed": false
   },
   "outputs": [],
   "source": [
    "#This is the model evaluation on test dataset\n",
    "probability_of_pos= nn_eval.evaluate_model (model, sess, test_data, test_gt)"
   ]
  },
  {
   "cell_type": "code",
   "execution_count": null,
   "metadata": {
    "collapsed": true
   },
   "outputs": [],
   "source": [
    "#shape of probability_change is (batch size, T, num_classes)\n",
    "#since num_classes = 1 we squeeze that axis\n",
    "probability_change = np.squeeze(probability_of_pos, axis = 2)"
   ]
  },
  {
   "cell_type": "code",
   "execution_count": null,
   "metadata": {
    "collapsed": false
   },
   "outputs": [],
   "source": [
    "savemat('../poc/poc'+exp_name+'.mat', {'poc':probability_change})"
   ]
  },
  {
   "cell_type": "code",
   "execution_count": null,
   "metadata": {},
   "outputs": [],
   "source": []
  }
 ],
 "metadata": {
  "anaconda-cloud": {},
  "kernelspec": {
   "display_name": "Anaconca with Tensorflow",
   "language": "python",
   "name": "tensorflow"
  },
  "language_info": {
   "codemirror_mode": {
    "name": "ipython",
    "version": 2
   },
   "file_extension": ".py",
   "mimetype": "text/x-python",
   "name": "python",
   "nbconvert_exporter": "python",
   "pygments_lexer": "ipython2",
   "version": "2.7.13"
  }
 },
 "nbformat": 4,
 "nbformat_minor": 2
}
