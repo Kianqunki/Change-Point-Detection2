{
 "cells": [
  {
   "cell_type": "code",
   "execution_count": 1,
   "metadata": {
    "collapsed": true
   },
   "outputs": [],
   "source": [
    "# useing this variable for saving models and summaries\n",
    "exp_name = \"CNN1016\""
   ]
  },
  {
   "cell_type": "markdown",
   "metadata": {},
   "source": [
    "## Importing Libraries"
   ]
  },
  {
   "cell_type": "code",
   "execution_count": 2,
   "metadata": {
    "collapsed": false
   },
   "outputs": [],
   "source": [
    "%load_ext autoreload\n",
    "%autoreload 2\n",
    "import tensorflow as tf\n",
    "import numpy as np\n",
    "from hdf5storage import savemat\n",
    "import pickle \n",
    "\n",
    "import sys\n",
    "sys.path.append('../../../src')"
   ]
  },
  {
   "cell_type": "code",
   "execution_count": 3,
   "metadata": {},
   "outputs": [],
   "source": [
    "import models.CNN_model as CNN_model\n",
    "import training\n",
    "import evaluation.nn_eval as nn_eval"
   ]
  },
  {
   "cell_type": "markdown",
   "metadata": {},
   "source": [
    "## Loading synthetic data"
   ]
  },
  {
   "cell_type": "code",
   "execution_count": 4,
   "metadata": {
    "collapsed": false
   },
   "outputs": [],
   "source": [
    "#loading data\n",
    "data_path= '/data2/data/zebrahim/synthetic_dataset/data_8192_1000_3_4_4_.03_.03_.2' + 'processed_data.p'\n",
    "\n",
    "with open(data_path, 'r') as fin:\n",
    "    data = pickle.load(fin)\n",
    "    \n",
    "train_data = data['train_data']\n",
    "validation_data = data['validation_data']\n",
    "test_data = data['test_data']\n",
    "\n",
    "train_gt = np.expand_dims(data['train_gt'], axis=-1)\n",
    "validation_gt = np.expand_dims(data['validation_gt'], axis=-1)\n",
    "test_gt = np.expand_dims(data['test_gt'], axis=-1)\n",
    "\n",
    "index_of_changes = data['index_of_changes']\n",
    " "
   ]
  },
  {
   "cell_type": "code",
   "execution_count": 5,
   "metadata": {
    "collapsed": false
   },
   "outputs": [],
   "source": [
    "#index of changes for test dataset\n",
    "gt_test_idx_changes = index_of_changes[900:1000]"
   ]
  },
  {
   "cell_type": "markdown",
   "metadata": {},
   "source": [
    "## Model"
   ]
  },
  {
   "cell_type": "code",
   "execution_count": 6,
   "metadata": {
    "collapsed": false
   },
   "outputs": [],
   "source": [
    "# Model parameters\n",
    "n_variables = 12\n",
    "learning_rate = 0.001\n",
    "batch_size = 10\n",
    "\n",
    "convolution_levels = 6    #number of convolution to have in the network\n",
    "pooling_stride = [4, 8, 1, 1, 1, 1]\n",
    "weights_shape = [[7, n_variables, 32],\n",
    "                 [7, 32, 32],\n",
    "                 [7, 32, 32],\n",
    "                 [7, 32, 32],\n",
    "                 [7, 32, 32],\n",
    "                 [7, 32, 32]]\n",
    "bias_shape = [32, 32, 32, 32, 32, 32]\n",
    "activation = tf.nn.relu\n",
    "n_classes = 1\n",
    "\n",
    "##positive weight for weighted cross entropy\n",
    "s = train_data.shape\n",
    "resolution = np.prod(pooling_stride)\n",
    "gt_effective = np.reshape(train_gt, (s[0]*(s[1]/resolution), resolution))\n",
    "pos_weight = (1.0 - gt_effective.max(axis=1).mean()) / gt_effective.max(axis=1).mean()"
   ]
  },
  {
   "cell_type": "code",
   "execution_count": 7,
   "metadata": {
    "collapsed": false
   },
   "outputs": [
    {
     "name": "stdout",
     "output_type": "stream",
     "text": [
      "3.18601822124\n"
     ]
    }
   ],
   "source": [
    "print pos_weight"
   ]
  },
  {
   "cell_type": "code",
   "execution_count": 8,
   "metadata": {},
   "outputs": [],
   "source": [
    "# Launch the graph\n",
    "config = tf.ConfigProto()\n",
    "config.gpu_options.allow_growth = True\n",
    "sess = tf.Session(config=config)"
   ]
  },
  {
   "cell_type": "code",
   "execution_count": 9,
   "metadata": {},
   "outputs": [],
   "source": [
    "summary_path = '../summary/' + exp_name \n",
    "checkpoint_path = '../model/' + exp_name + '/' + exp_name "
   ]
  },
  {
   "cell_type": "code",
   "execution_count": 10,
   "metadata": {
    "collapsed": false
   },
   "outputs": [],
   "source": [
    "model = CNN_model.Model(n_variables = n_variables,\n",
    "                        learning_rate = learning_rate,\n",
    "                        n_classes = n_classes)"
   ]
  },
  {
   "cell_type": "code",
   "execution_count": 11,
   "metadata": {
    "collapsed": false
   },
   "outputs": [],
   "source": [
    "model.build_conv_net(pos_weight = pos_weight,\n",
    "                     learning_rate = learning_rate,\n",
    "                     convolution_levels = convolution_levels, \n",
    "                     pooling_stride = pooling_stride,\n",
    "                     weights_shape = weights_shape,\n",
    "                     bias_shape = bias_shape,\n",
    "                     n_classes = n_classes,\n",
    "                     activation = activation)"
   ]
  },
  {
   "cell_type": "code",
   "execution_count": null,
   "metadata": {
    "collapsed": false
   },
   "outputs": [],
   "source": [
    "trainer = training.Trainer(model = model,\n",
    "                    data_train = train_data,\n",
    "                    ground_truth_train = train_gt,\n",
    "                    data_validation = validation_data,\n",
    "                    ground_truth_validation = validation_gt,\n",
    "                    sess = sess,\n",
    "                    summary_path = summary_path,\n",
    "                    batch_size = batch_size,\n",
    "                    global_step = 0)"
   ]
  },
  {
   "cell_type": "code",
   "execution_count": null,
   "metadata": {
    "collapsed": false
   },
   "outputs": [
    {
     "name": "stdout",
     "output_type": "stream",
     "text": [
      "Tarin Iter 0, auc= 0.236782, fmeasure_max= 0.362061, precision= 0.242369, recall= 0.715315\n",
      "Train Random guess:  , auc= 0.204797fmeasure_max= 0.356569, precision= 0.216966, recall= 1.000000\n",
      "Validation Iter 0, auc= 0.239818, fmeasure_max= 0.398708, precision= 0.272727, recall= 0.740995\n",
      "Validation Random guess:  auc= 0.216352, fmeasure_max= 0.372495, precision= 0.233232, recall= 0.924528\n",
      "Minibatch Loss= 1.026852\n",
      "Tarin Iter 100, auc= 0.770915, fmeasure_max= 0.805526, precision= 0.792887, recall= 0.818575\n",
      "Train Random guess:  , auc= 0.173998fmeasure_max= 0.306857, precision= 0.182038, recall= 0.976242\n",
      "Validation Iter 100, auc= 0.674730, fmeasure_max= 0.683453, precision= 0.718336, recall= 0.651801\n",
      "Validation Random guess:  auc= 0.240026, fmeasure_max= 0.372049, precision= 0.228538, recall= 1.000000\n",
      "Minibatch Loss= 0.610078\n",
      "Tarin Iter 200, auc= 0.813771, fmeasure_max= 0.777778, precision= 0.791803, recall= 0.764241\n",
      "Train Random guess:  , auc= 0.255534fmeasure_max= 0.399579, precision= 0.256769, recall= 0.900316\n",
      "Validation Iter 200, auc= 0.777340, fmeasure_max= 0.737705, precision= 0.706436, recall= 0.771870\n",
      "Validation Random guess:  auc= 0.232253, fmeasure_max= 0.372480, precision= 0.228954, recall= 0.998285\n",
      "Minibatch Loss= 0.771316\n",
      "Tarin Iter 300, auc= 0.820908, fmeasure_max= 0.763359, precision= 0.790514, recall= 0.738007\n",
      "Train Random guess:  , auc= 0.202860fmeasure_max= 0.349452, precision= 0.211719, recall= 1.000000\n",
      "Validation Iter 300, auc= 0.827068, fmeasure_max= 0.755292, precision= 0.745819, recall= 0.765009\n",
      "Validation Random guess:  auc= 0.232815, fmeasure_max= 0.376144, precision= 0.234375, recall= 0.951973\n",
      "Minibatch Loss= 0.618284\n",
      "Tarin Iter 400, auc= 0.823291, fmeasure_max= 0.810552, precision= 0.795918, recall= 0.825733\n",
      "Train Random guess:  , auc= 0.239047fmeasure_max= 0.387464, precision= 0.240472, recall= 0.996743\n",
      "Validation Iter 400, auc= 0.853109, fmeasure_max= 0.789338, precision= 0.791379, recall= 0.787307\n",
      "Validation Random guess:  auc= 0.219278, fmeasure_max= 0.371101, precision= 0.227823, recall= 1.000000\n",
      "Minibatch Loss= 0.714914\n",
      "Tarin Iter 500, auc= 0.829773, fmeasure_max= 0.775986, precision= 0.824762, recall= 0.732657\n",
      "Train Random guess:  , auc= 0.227987fmeasure_max= 0.377446, precision= 0.234736, recall= 0.962775\n",
      "Validation Iter 500, auc= 0.837042, fmeasure_max= 0.792422, precision= 0.762282, recall= 0.825043\n",
      "Validation Random guess:  auc= 0.228516, fmeasure_max= 0.371127, precision= 0.228022, recall= 0.996569\n",
      "Minibatch Loss= 0.682944\n",
      "Tarin Iter 600, auc= 0.879130, fmeasure_max= 0.818394, precision= 0.784753, recall= 0.855049\n",
      "Train Random guess:  , auc= 0.237761fmeasure_max= 0.387852, precision= 0.240675, recall= 0.998371\n",
      "Validation Iter 600, auc= 0.864593, fmeasure_max= 0.805042, precision= 0.789127, recall= 0.821612\n",
      "Validation Random guess:  auc= 0.232092, fmeasure_max= 0.371648, precision= 0.228325, recall= 0.998285\n",
      "Minibatch Loss= 0.600403\n",
      "Tarin Iter 700, auc= 0.893144, fmeasure_max= 0.850202, precision= 0.830696, recall= 0.870647\n",
      "Train Random guess:  , auc= 0.228003fmeasure_max= 0.381345, precision= 0.235779, recall= 0.996683\n",
      "Validation Iter 700, auc= 0.868600, fmeasure_max= 0.812141, precision= 0.778302, recall= 0.849057\n",
      "Validation Random guess:  auc= 0.229822, fmeasure_max= 0.372454, precision= 0.229482, recall= 0.987993\n",
      "Minibatch Loss= 0.638806\n",
      "Tarin Iter 800, auc= 0.846869, fmeasure_max= 0.789773, precision= 0.762340, recall= 0.819253\n",
      "Train Random guess:  , auc= 0.215828fmeasure_max= 0.332786, precision= 0.199764, recall= 0.996071\n",
      "Validation Iter 800, auc= 0.854589, fmeasure_max= 0.806959, precision= 0.780449, recall= 0.835334\n",
      "Validation Random guess:  auc= 0.234297, fmeasure_max= 0.375376, precision= 0.233167, recall= 0.962264\n",
      "Minibatch Loss= 0.577102\n",
      "Tarin Iter 900, auc= 0.896294, fmeasure_max= 0.836735, precision= 0.806557, recall= 0.869258\n",
      "Train Random guess:  , auc= 0.222312fmeasure_max= 0.363812, precision= 0.222441, recall= 0.998233\n",
      "Validation Iter 900, auc= 0.879917, fmeasure_max= 0.799673, precision= 0.764062, recall= 0.838765\n",
      "Validation Random guess:  auc= 0.219732, fmeasure_max= 0.372748, precision= 0.230364, recall= 0.975986\n",
      "Minibatch Loss= 0.510019\n",
      "Tarin Iter 1000, auc= 0.895701, fmeasure_max= 0.810017, precision= 0.883239, recall= 0.748006\n",
      "Train Random guess:  , auc= 0.233352fmeasure_max= 0.395275, precision= 0.247106, recall= 0.987241\n",
      "Validation Iter 1000, auc= 0.843098, fmeasure_max= 0.783217, precision= 0.798574, recall= 0.768439\n",
      "Validation Random guess:  auc= 0.229618, fmeasure_max= 0.371811, precision= 0.228359, recall= 1.000000\n",
      "Minibatch Loss= 0.611406\n",
      "Tarin Iter 1100, auc= 0.932907, fmeasure_max= 0.868920, precision= 0.905498, recall= 0.835182\n",
      "Train Random guess:  , auc= 0.262887fmeasure_max= 0.397221, precision= 0.248028, recall= 0.996830\n",
      "Validation Iter 1100, auc= 0.867008, fmeasure_max= 0.796848, precision= 0.813953, recall= 0.780446\n",
      "Validation Random guess:  auc= 0.228535, fmeasure_max= 0.371338, precision= 0.228002, recall= 1.000000\n",
      "Minibatch Loss= 0.537653\n",
      "Tarin Iter 1200, auc= 0.930973, fmeasure_max= 0.850671, precision= 0.849246, recall= 0.852101\n",
      "Train Random guess:  , auc= 0.227401fmeasure_max= 0.377538, precision= 0.232695, recall= 1.000000\n",
      "Validation Iter 1200, auc= 0.855441, fmeasure_max= 0.791342, precision= 0.798951, recall= 0.783877\n",
      "Validation Random guess:  auc= 0.221833, fmeasure_max= 0.371456, precision= 0.228091, recall= 1.000000\n",
      "Minibatch Loss= 0.493827\n",
      "Tarin Iter 1300, auc= 0.934088, fmeasure_max= 0.869932, precision= 0.887931, recall= 0.852649\n",
      "Train Random guess:  , auc= 0.228770fmeasure_max= 0.384230, precision= 0.240686, recall= 0.951987\n",
      "Validation Iter 1300, auc= 0.854980, fmeasure_max= 0.790186, precision= 0.779633, recall= 0.801029\n",
      "Validation Random guess:  auc= 0.250686, fmeasure_max= 0.371987, precision= 0.229594, recall= 0.979417\n",
      "Minibatch Loss= 0.510393\n",
      "Tarin Iter 1400, auc= 0.917952, fmeasure_max= 0.836868, precision= 0.834146, recall= 0.839607\n",
      "Train Random guess:  , auc= 0.263058fmeasure_max= 0.386371, precision= 0.240400, recall= 0.983633\n",
      "Validation Iter 1400, auc= 0.864470, fmeasure_max= 0.813617, precision= 0.807432, recall= 0.819897\n",
      "Validation Random guess:  auc= 0.225283, fmeasure_max= 0.373264, precision= 0.229912, recall= 0.991424\n",
      "Minibatch Loss= 0.473512\n",
      "Tarin Iter 1500, auc= 0.930114, fmeasure_max= 0.848138, precision= 0.829132, recall= 0.868035\n",
      "Train Random guess:  , auc= 0.284917fmeasure_max= 0.420858, precision= 0.266510, recall= 1.000000\n",
      "Validation Iter 1500, auc= 0.871664, fmeasure_max= 0.811736, precision= 0.773292, recall= 0.854202\n",
      "Validation Random guess:  auc= 0.237942, fmeasure_max= 0.370983, precision= 0.227734, recall= 1.000000\n",
      "Minibatch Loss= 0.568123\n",
      "Tarin Iter 1600, auc= 0.919702, fmeasure_max= 0.831104, precision= 0.900362, recall= 0.771739\n",
      "Train Random guess:  , auc= 0.258856fmeasure_max= 0.402382, precision= 0.252061, recall= 0.996894\n",
      "Validation Iter 1600, auc= 0.881265, fmeasure_max= 0.837998, precision= 0.828859, recall= 0.847341\n",
      "Validation Random guess:  auc= 0.244462, fmeasure_max= 0.372990, precision= 0.229521, recall= 0.994854\n",
      "Minibatch Loss= 0.553530\n",
      "Tarin Iter 1700, auc= 0.905562, fmeasure_max= 0.830325, precision= 0.853432, recall= 0.808436\n",
      "Train Random guess:  , auc= 0.226740fmeasure_max= 0.365577, precision= 0.224029, recall= 0.992970\n",
      "Validation Iter 1700, auc= 0.856066, fmeasure_max= 0.783666, precision= 0.794014, recall= 0.773585\n",
      "Validation Random guess:  auc= 0.243614, fmeasure_max= 0.371456, precision= 0.228091, recall= 1.000000\n",
      "Minibatch Loss= 0.528297\n",
      "Tarin Iter 1800, auc= 0.902451, fmeasure_max= 0.859130, precision= 0.885305, recall= 0.834459\n",
      "Train Random guess:  , auc= 0.250739fmeasure_max= 0.375635, precision= 0.231250, recall= 1.000000\n",
      "Validation Iter 1800, auc= 0.879596, fmeasure_max= 0.822742, precision= 0.802610, recall= 0.843911\n",
      "Validation Random guess:  auc= 0.223532, fmeasure_max= 0.371721, precision= 0.228470, recall= 0.996569\n",
      "Minibatch Loss= 0.479362\n",
      "Tarin Iter 1900, auc= 0.943202, fmeasure_max= 0.867791, precision= 0.856392, recall= 0.879496\n",
      "Train Random guess:  , auc= 0.222976fmeasure_max= 0.359543, precision= 0.221074, recall= 0.962230\n",
      "Validation Iter 1900, auc= 0.879674, fmeasure_max= 0.818182, precision= 0.803306, recall= 0.833619\n",
      "Validation Random guess:  auc= 0.233649, fmeasure_max= 0.372771, precision= 0.229816, recall= 0.986278\n",
      "Minibatch Loss= 0.418055\n",
      "Tarin Iter 2000, auc= 0.908409, fmeasure_max= 0.842615, precision= 0.836538, recall= 0.848780\n",
      "Train Random guess:  , auc= 0.234913fmeasure_max= 0.387524, precision= 0.240328, recall= 1.000000\n",
      "Validation Iter 2000, auc= 0.900913, fmeasure_max= 0.837793, precision= 0.817292, recall= 0.859348\n",
      "Validation Random guess:  auc= 0.238450, fmeasure_max= 0.370983, precision= 0.227734, recall= 1.000000\n",
      "Minibatch Loss= 0.544615\n",
      "Tarin Iter 2100, auc= 0.910691, fmeasure_max= 0.868739, precision= 0.851100, recall= 0.887125\n",
      "Train Random guess:  , auc= 0.230212fmeasure_max= 0.367292, precision= 0.226727, recall= 0.966490\n",
      "Validation Iter 2100, auc= 0.904800, fmeasure_max= 0.821895, precision= 0.784711, recall= 0.862779\n",
      "Validation Random guess:  auc= 0.215774, fmeasure_max= 0.370983, precision= 0.227734, recall= 1.000000\n",
      "Minibatch Loss= 0.475180\n",
      "Tarin Iter 2200, auc= 0.969472, fmeasure_max= 0.905689, precision= 0.893648, recall= 0.918058\n",
      "Train Random guess:  , auc= 0.253881fmeasure_max= 0.410916, precision= 0.258996, recall= 0.993930\n",
      "Validation Iter 2200, auc= 0.901355, fmeasure_max= 0.840701, precision= 0.818182, recall= 0.864494\n",
      "Validation Random guess:  auc= 0.238035, fmeasure_max= 0.374554, precision= 0.230985, recall= 0.989708\n",
      "Minibatch Loss= 0.423921\n",
      "Tarin Iter 2300, auc= 0.961385, fmeasure_max= 0.897243, precision= 0.930676, recall= 0.866129\n",
      "Train Random guess:  , auc= 0.259637fmeasure_max= 0.393369, precision= 0.245133, recall= 0.995161\n",
      "Validation Iter 2300, auc= 0.899513, fmeasure_max= 0.824427, precision= 0.815436, recall= 0.833619\n",
      "Validation Random guess:  auc= 0.233796, fmeasure_max= 0.371219, precision= 0.227912, recall= 1.000000\n",
      "Minibatch Loss= 0.444897\n",
      "Tarin Iter 2400, auc= 0.931199, fmeasure_max= 0.850575, precision= 0.833333, recall= 0.868545\n",
      "Train Random guess:  , auc= 0.247920fmeasure_max= 0.400754, precision= 0.250688, recall= 0.998435\n",
      "Validation Iter 2400, auc= 0.907602, fmeasure_max= 0.833183, precision= 0.878327, recall= 0.792453\n",
      "Validation Random guess:  auc= 0.231562, fmeasure_max= 0.371219, precision= 0.227912, recall= 1.000000\n",
      "Minibatch Loss= 0.496795\n",
      "Tarin Iter 2500, auc= 0.926398, fmeasure_max= 0.845447, precision= 0.873921, recall= 0.818770\n",
      "Train Random guess:  , auc= 0.247645fmeasure_max= 0.391026, precision= 0.243805, recall= 0.987055\n",
      "Validation Iter 2500, auc= 0.880821, fmeasure_max= 0.802189, precision= 0.737069, recall= 0.879931\n",
      "Validation Random guess:  auc= 0.220768, fmeasure_max= 0.372275, precision= 0.229719, recall= 0.981132\n",
      "Minibatch Loss= 0.535482\n",
      "Tarin Iter 2600, auc= 0.934762, fmeasure_max= 0.864567, precision= 0.835616, recall= 0.895595\n",
      "Train Random guess:  , auc= 0.246015fmeasure_max= 0.389252, precision= 0.246725, recall= 0.921697\n",
      "Validation Iter 2600, auc= 0.917560, fmeasure_max= 0.854353, precision= 0.812693, recall= 0.900515\n",
      "Validation Random guess:  auc= 0.233871, fmeasure_max= 0.371338, precision= 0.228002, recall= 1.000000\n",
      "Minibatch Loss= 0.496476\n",
      "Tarin Iter 2700, auc= 0.952048, fmeasure_max= 0.867347, precision= 0.864407, recall= 0.870307\n",
      "Train Random guess:  , auc= 0.229902fmeasure_max= 0.373011, precision= 0.229264, recall= 1.000000\n",
      "Validation Iter 2700, auc= 0.930934, fmeasure_max= 0.855072, precision= 0.805766, recall= 0.910806\n",
      "Validation Random guess:  auc= 0.229609, fmeasure_max= 0.372643, precision= 0.228987, recall= 1.000000\n",
      "Minibatch Loss= 0.446990\n",
      "Tarin Iter 2800, auc= 0.956150, fmeasure_max= 0.883333, precision= 0.894172, recall= 0.872754\n",
      "Train Random guess:  , auc= 0.256271fmeasure_max= 0.414179, precision= 0.261381, recall= 0.997006\n",
      "Validation Iter 2800, auc= 0.908452, fmeasure_max= 0.826347, precision= 0.824232, recall= 0.828473\n",
      "Validation Random guess:  auc= 0.244462, fmeasure_max= 0.371539, precision= 0.228696, recall= 0.989708\n",
      "Minibatch Loss= 0.494812\n",
      "Tarin Iter 2900, auc= 0.913223, fmeasure_max= 0.830744, precision= 0.856661, recall= 0.806349\n",
      "Train Random guess:  , auc= 0.239301fmeasure_max= 0.395604, precision= 0.246575, recall= 1.000000\n",
      "Validation Iter 2900, auc= 0.859706, fmeasure_max= 0.787290, precision= 0.810909, recall= 0.765009\n",
      "Validation Random guess:  auc= 0.223929, fmeasure_max= 0.371811, precision= 0.228359, recall= 1.000000\n",
      "Minibatch Loss= 0.574446\n",
      "Tarin Iter 3000, auc= 0.957094, fmeasure_max= 0.877351, precision= 0.888720, recall= 0.866270\n",
      "Train Random guess:  , auc= 0.261247fmeasure_max= 0.417789, precision= 0.264683, recall= 0.991085\n",
      "Validation Iter 3000, auc= 0.906020, fmeasure_max= 0.829616, precision= 0.864312, recall= 0.797599\n",
      "Validation Random guess:  auc= 0.248024, fmeasure_max= 0.371766, precision= 0.228414, recall= 0.998285\n",
      "Minibatch Loss= 0.459287\n",
      "Tarin Iter 3100, auc= 0.932347, fmeasure_max= 0.854127, precision= 0.904472, recall= 0.809091\n",
      "Train Random guess:  , auc= 0.219259fmeasure_max= 0.354153, precision= 0.215180, recall= 1.000000\n",
      "Validation Iter 3100, auc= 0.902120, fmeasure_max= 0.828720, precision= 0.835951, recall= 0.821612\n",
      "Validation Random guess:  auc= 0.229948, fmeasure_max= 0.371219, precision= 0.227912, recall= 1.000000\n",
      "Minibatch Loss= 0.466466\n",
      "Tarin Iter 3200, auc= 0.959530, fmeasure_max= 0.889397, precision= 0.851095, recall= 0.931310\n",
      "Train Random guess:  , auc= 0.258468fmeasure_max= 0.393411, precision= 0.246559, recall= 0.972843\n",
      "Validation Iter 3200, auc= 0.908228, fmeasure_max= 0.823052, precision= 0.781202, recall= 0.869640\n",
      "Validation Random guess:  auc= 0.218416, fmeasure_max= 0.371693, precision= 0.228269, recall= 1.000000\n",
      "Minibatch Loss= 0.427806\n",
      "Tarin Iter 3300, auc= 0.948701, fmeasure_max= 0.870256, precision= 0.867958, recall= 0.872566\n",
      "Train Random guess:  , auc= 0.230791fmeasure_max= 0.361947, precision= 0.220962, recall= 1.000000\n",
      "Validation Iter 3300, auc= 0.896805, fmeasure_max= 0.816901, precision= 0.839060, recall= 0.795883\n",
      "Validation Random guess:  auc= 0.222624, fmeasure_max= 0.372049, precision= 0.228538, recall= 1.000000\n",
      "Minibatch Loss= 0.433966\n",
      "Tarin Iter 3400, auc= 0.957976, fmeasure_max= 0.885714, precision= 0.887122, recall= 0.884311\n",
      "Train Random guess:  , auc= 0.266867fmeasure_max= 0.396952, precision= 0.253989, recall= 0.908082\n",
      "Validation Iter 3400, auc= 0.931311, fmeasure_max= 0.848739, precision= 0.831960, recall= 0.866209\n",
      "Validation Random guess:  auc= 0.217103, fmeasure_max= 0.371930, precision= 0.228448, recall= 1.000000\n",
      "Minibatch Loss= 0.419703\n",
      "Tarin Iter 3500, auc= 0.956753, fmeasure_max= 0.901993, precision= 0.897521, recall= 0.906511\n",
      "Train Random guess:  , auc= 0.220899fmeasure_max= 0.379234, precision= 0.233984, recall= 1.000000\n",
      "Validation Iter 3500, auc= 0.924471, fmeasure_max= 0.834206, precision= 0.849023, recall= 0.819897\n",
      "Validation Random guess:  auc= 0.235193, fmeasure_max= 0.372524, precision= 0.228897, recall= 1.000000\n",
      "Minibatch Loss= 0.396796\n",
      "Tarin Iter 3600, auc= 0.957438, fmeasure_max= 0.884477, precision= 0.912477, recall= 0.858144\n",
      "Train Random guess:  , auc= 0.224583fmeasure_max= 0.365440, precision= 0.223571, recall= 1.000000\n",
      "Validation Iter 3600, auc= 0.932554, fmeasure_max= 0.857143, precision= 0.854949, recall= 0.859348\n",
      "Validation Random guess:  auc= 0.235351, fmeasure_max= 0.372762, precision= 0.229077, recall= 1.000000\n",
      "Minibatch Loss= 0.380013\n",
      "Tarin Iter 3700, auc= 0.949370, fmeasure_max= 0.863548, precision= 0.919087, recall= 0.814338\n",
      "Train Random guess:  , auc= 0.216022fmeasure_max= 0.353327, precision= 0.214998, recall= 0.990809\n",
      "Validation Iter 3700, auc= 0.919074, fmeasure_max= 0.836601, precision= 0.798752, recall= 0.878216\n",
      "Validation Random guess:  auc= 0.222510, fmeasure_max= 0.371338, precision= 0.228002, recall= 1.000000\n",
      "Minibatch Loss= 0.426472\n"
     ]
    }
   ],
   "source": [
    "trainer.train(max_iter = 10000,\n",
    "                train_eval_step = 100, \n",
    "                validation_eval_step = 100,\n",
    "                display_step = 100)"
   ]
  },
  {
   "cell_type": "code",
   "execution_count": null,
   "metadata": {
    "collapsed": false
   },
   "outputs": [],
   "source": [
    "#Save the model\n",
    "saver = tf.train.Saver()\n",
    "saver.save(sess, checkpoint_path, global_step=trainer.global_step)"
   ]
  },
  {
   "cell_type": "code",
   "execution_count": null,
   "metadata": {
    "collapsed": false
   },
   "outputs": [],
   "source": [
    "#load the model\n",
    "saver = tf.train.Saver()\n",
    "saver.restore(sess, \"../models/model\" + exp_name + \"/model\")"
   ]
  },
  {
   "cell_type": "code",
   "execution_count": null,
   "metadata": {
    "collapsed": false
   },
   "outputs": [],
   "source": [
    "#This is the model evaluation on test dataset\n",
    "probability_of_pos= nn_eval.evaluate_model (model, sess, test_data, test_gt)"
   ]
  },
  {
   "cell_type": "code",
   "execution_count": null,
   "metadata": {
    "collapsed": true
   },
   "outputs": [],
   "source": [
    "#shape of probability_change is (batch size, T, num_classes)\n",
    "#since num_classes = 1 we squeeze that axis\n",
    "probability_change = np.squeeze(probability_of_pos, axis = 2)"
   ]
  },
  {
   "cell_type": "code",
   "execution_count": null,
   "metadata": {
    "collapsed": false
   },
   "outputs": [],
   "source": [
    "savemat('../poc/poc'+exp_name+'.mat', {'poc':probability_change})"
   ]
  },
  {
   "cell_type": "code",
   "execution_count": null,
   "metadata": {},
   "outputs": [],
   "source": []
  }
 ],
 "metadata": {
  "anaconda-cloud": {},
  "kernelspec": {
   "display_name": "Anaconca with Tensorflow",
   "language": "python",
   "name": "tensorflow"
  },
  "language_info": {
   "codemirror_mode": {
    "name": "ipython",
    "version": 2
   },
   "file_extension": ".py",
   "mimetype": "text/x-python",
   "name": "python",
   "nbconvert_exporter": "python",
   "pygments_lexer": "ipython2",
   "version": "2.7.13"
  }
 },
 "nbformat": 4,
 "nbformat_minor": 2
}
