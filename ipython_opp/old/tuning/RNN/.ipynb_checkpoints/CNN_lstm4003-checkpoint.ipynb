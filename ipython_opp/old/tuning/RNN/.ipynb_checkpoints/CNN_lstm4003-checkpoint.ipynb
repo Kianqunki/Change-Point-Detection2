{
 "cells": [
  {
   "cell_type": "code",
   "execution_count": 1,
   "metadata": {
    "collapsed": true
   },
   "outputs": [],
   "source": [
    "# useing this variable for saving models and summaries\n",
    "exp_name = \"CNN-LSTM4003\""
   ]
  },
  {
   "cell_type": "markdown",
   "metadata": {},
   "source": [
    "## Running CNN then RNN\n",
    "5 layers CNN [2, 2, 2, 2, 2], then RNN, bias_shape = [32,64,64, 64, 64]"
   ]
  },
  {
   "cell_type": "code",
   "execution_count": 2,
   "metadata": {
    "collapsed": false
   },
   "outputs": [],
   "source": [
    "%load_ext autoreload\n",
    "%autoreload 2\n",
    "import numpy as np\n",
    "import tensorflow as tf\n",
    "import sys\n",
    "from hdf5storage import savemat\n",
    "import pickle\n",
    "\n",
    "sys.path.append('../../../src')\n",
    "sys.path.append('../../../src/models')"
   ]
  },
  {
   "cell_type": "code",
   "execution_count": 3,
   "metadata": {},
   "outputs": [],
   "source": [
    "import models.CNN_lstm_model as CNN_lstm_model\n",
    "import training  \n",
    "import evaluation.nn_eval as nn_eval "
   ]
  },
  {
   "cell_type": "markdown",
   "metadata": {},
   "source": [
    "## Loading synthetic data"
   ]
  },
  {
   "cell_type": "code",
   "execution_count": 4,
   "metadata": {
    "collapsed": false
   },
   "outputs": [],
   "source": [
    "#loading data\n",
    "data_path= '/data2/data/zebrahim/synthetic_dataset/data_8192_1000_3_4_4_.03_.03_.2' + 'processed_data.p'\n",
    "\n",
    "with open(data_path, 'r') as fin:\n",
    "    data = pickle.load(fin)\n",
    "    \n",
    "train_data = data['train_data']\n",
    "validation_data = data['validation_data']\n",
    "test_data = data['test_data']\n",
    "\n",
    "train_gt = np.expand_dims(data['train_gt'], axis=-1)\n",
    "validation_gt = np.expand_dims(data['validation_gt'], axis=-1)\n",
    "test_gt = np.expand_dims(data['test_gt'], axis=-1)\n",
    "\n",
    "index_of_changes = data['index_of_changes']\n",
    " "
   ]
  },
  {
   "cell_type": "markdown",
   "metadata": {},
   "source": [
    "## Model"
   ]
  },
  {
   "cell_type": "code",
   "execution_count": 5,
   "metadata": {
    "collapsed": false
   },
   "outputs": [],
   "source": [
    "## Model Parameter\n",
    "n_variables= 12\n",
    "learning_rate = 0.001\n",
    "batch_size = 10\n",
    "\n",
    "pooling_stride = [32, 1, 1, 1, 1, 1]\n",
    "weights_shape = [[5,n_variables, 32],\n",
    "                 [5, 32, 32],\n",
    "                 [5, 32, 32],\n",
    "                 [5, 32, 32],\n",
    "                 [5, 32, 32],\n",
    "                 [5, 32, 32]]\n",
    "\n",
    "bias_shape = [32, 32, 32, 32, 32, 32, 32]\n",
    "activation = tf.nn.relu\n",
    "\n",
    "lstm_n_hidden = 128\n",
    "n_classes = 1\n",
    "\n",
    "\n",
    "#positive weight for weighted cross entropy\n",
    "s = train_data.shape\n",
    "resolution = np.prod(pooling_stride)\n",
    "gt_effective = np.reshape(train_gt, (s[0]*(s[1]/resolution), resolution))\n",
    "pos_weight = (1.0 - gt_effective.max(axis=1).mean()) / gt_effective.max(axis=1).mean()"
   ]
  },
  {
   "cell_type": "code",
   "execution_count": 6,
   "metadata": {
    "collapsed": false
   },
   "outputs": [
    {
     "data": {
      "text/plain": [
       "3.186018221237171"
      ]
     },
     "execution_count": 6,
     "metadata": {},
     "output_type": "execute_result"
    }
   ],
   "source": [
    "pos_weight"
   ]
  },
  {
   "cell_type": "code",
   "execution_count": 7,
   "metadata": {
    "collapsed": false
   },
   "outputs": [],
   "source": [
    "# Launch the graph\n",
    "config = tf.ConfigProto()\n",
    "config.gpu_options.allow_growth = True\n",
    "sess = tf.Session(config=config)"
   ]
  },
  {
   "cell_type": "code",
   "execution_count": 8,
   "metadata": {
    "collapsed": true
   },
   "outputs": [],
   "source": [
    "summary_path = '../summary/' + exp_name \n",
    "checkpoint_path = '../model/' + exp_name + '/' + exp_name \n"
   ]
  },
  {
   "cell_type": "code",
   "execution_count": 9,
   "metadata": {
    "collapsed": false
   },
   "outputs": [],
   "source": [
    "model = CNN_lstm_model.Model(n_variables, n_classes)"
   ]
  },
  {
   "cell_type": "code",
   "execution_count": 10,
   "metadata": {
    "collapsed": false
   },
   "outputs": [],
   "source": [
    "model.build_cnn_lstm_net(pooling_stride,\n",
    "                         weights_shape,\n",
    "                         bias_shape,\n",
    "                         activation,\n",
    "                         lstm_n_hidden,\n",
    "                         n_classes,\n",
    "                         learning_rate,\n",
    "                         pos_weight)"
   ]
  },
  {
   "cell_type": "code",
   "execution_count": null,
   "metadata": {
    "collapsed": false
   },
   "outputs": [],
   "source": [
    "train_obj = training.Trainer(model,\n",
    "                 train_data, train_gt,\n",
    "                 validation_data, validation_gt,\n",
    "                 sess,\n",
    "                 summary_path,\n",
    "                 batch_size,\n",
    "                 global_step = 0)"
   ]
  },
  {
   "cell_type": "code",
   "execution_count": null,
   "metadata": {},
   "outputs": [
    {
     "name": "stdout",
     "output_type": "stream",
     "text": [
      "Tarin Iter 0, auc= 0.304253, fmeasure_max= 0.422757, precision= 0.278294, recall= 0.879102\n",
      "Train Random guess:  , auc= 0.224143fmeasure_max= 0.370157, precision= 0.227201, recall= 0.998273\n",
      "Validation Iter 0, auc= 0.218760, fmeasure_max= 0.421053, precision= 0.271287, recall= 0.939966\n",
      "Validation Random guess:  auc= 0.234939, fmeasure_max= 0.371101, precision= 0.227823, recall= 1.000000\n",
      "Minibatch Loss= 1.122007\n",
      "Tarin Iter 100, auc= 0.689156, fmeasure_max= 0.667186, precision= 0.769784, recall= 0.588721\n",
      "Train Random guess:  , auc= 0.273738fmeasure_max= 0.442618, precision= 0.284206, recall= 1.000000\n",
      "Validation Iter 100, auc= 0.617026, fmeasure_max= 0.624754, precision= 0.731034, recall= 0.545455\n",
      "Validation Random guess:  auc= 0.248185, fmeasure_max= 0.370983, precision= 0.227734, recall= 1.000000\n",
      "Minibatch Loss= 0.953038\n",
      "Tarin Iter 200, auc= 0.804546, fmeasure_max= 0.753668, precision= 0.761310, recall= 0.746177\n",
      "Train Random guess:  , auc= 0.258328fmeasure_max= 0.407096, precision= 0.255569, recall= 1.000000\n",
      "Validation Iter 200, auc= 0.728826, fmeasure_max= 0.746875, precision= 0.685796, recall= 0.819897\n",
      "Validation Random guess:  auc= 0.230854, fmeasure_max= 0.371219, precision= 0.227912, recall= 1.000000\n",
      "Minibatch Loss= 0.740112\n",
      "Tarin Iter 300, auc= 0.775928, fmeasure_max= 0.761384, precision= 0.749104, recall= 0.774074\n",
      "Train Random guess:  , auc= 0.215380fmeasure_max= 0.350000, precision= 0.212205, recall= 0.998148\n",
      "Validation Iter 300, auc= 0.757413, fmeasure_max= 0.758405, precision= 0.696839, recall= 0.831904\n",
      "Validation Random guess:  auc= 0.228521, fmeasure_max= 0.371766, precision= 0.228414, recall= 0.998285\n",
      "Minibatch Loss= 0.697149\n",
      "Tarin Iter 400, auc= 0.821660, fmeasure_max= 0.791894, precision= 0.794992, recall= 0.788820\n",
      "Train Random guess:  , auc= 0.247479fmeasure_max= 0.401998, precision= 0.251563, recall= 1.000000\n",
      "Validation Iter 400, auc= 0.804287, fmeasure_max= 0.793162, precision= 0.790460, recall= 0.795883\n",
      "Validation Random guess:  auc= 0.233696, fmeasure_max= 0.373773, precision= 0.234905, recall= 0.914237\n",
      "Minibatch Loss= 0.738887\n",
      "Tarin Iter 500, auc= 0.849611, fmeasure_max= 0.779244, precision= 0.773124, recall= 0.785461\n",
      "Train Random guess:  , auc= 0.210462fmeasure_max= 0.361538, precision= 0.220657, recall= 1.000000\n",
      "Validation Iter 500, auc= 0.819293, fmeasure_max= 0.770306, precision= 0.784698, recall= 0.756432\n",
      "Validation Random guess:  auc= 0.224628, fmeasure_max= 0.371219, precision= 0.227912, recall= 1.000000\n",
      "Minibatch Loss= 0.571671\n",
      "Tarin Iter 600, auc= 0.854813, fmeasure_max= 0.773063, precision= 0.841365, recall= 0.715017\n",
      "Train Random guess:  , auc= 0.227357fmeasure_max= 0.372806, precision= 0.229289, recall= 0.996587\n",
      "Validation Iter 600, auc= 0.827994, fmeasure_max= 0.771024, precision= 0.749191, recall= 0.794168\n",
      "Validation Random guess:  auc= 0.216465, fmeasure_max= 0.371219, precision= 0.227912, recall= 1.000000\n",
      "Minibatch Loss= 0.614914\n",
      "Tarin Iter 700, auc= 0.838873, fmeasure_max= 0.752653, precision= 0.773490, recall= 0.732909\n",
      "Train Random guess:  , auc= 0.247070fmeasure_max= 0.394844, precision= 0.246082, recall= 0.998410\n",
      "Validation Iter 700, auc= 0.863401, fmeasure_max= 0.797309, precision= 0.782178, recall= 0.813036\n",
      "Validation Random guess:  auc= 0.234168, fmeasure_max= 0.372870, precision= 0.232667, recall= 0.938250\n",
      "Minibatch Loss= 0.651815\n",
      "Tarin Iter 800, auc= 0.895580, fmeasure_max= 0.842006, precision= 0.847619, recall= 0.836466\n",
      "Train Random guess:  , auc= 0.225121fmeasure_max= 0.348093, precision= 0.212562, recall= 0.960526\n",
      "Validation Iter 800, auc= 0.886331, fmeasure_max= 0.819176, precision= 0.803630, recall= 0.835334\n",
      "Validation Random guess:  auc= 0.227842, fmeasure_max= 0.371101, precision= 0.227823, recall= 1.000000\n",
      "Minibatch Loss= 0.503143\n"
     ]
    }
   ],
   "source": [
    "train_obj.train(max_iter = 10000,\n",
    "                train_eval_step=100,\n",
    "                validation_eval_step=100,\n",
    "                display_step=100)"
   ]
  },
  {
   "cell_type": "code",
   "execution_count": null,
   "metadata": {},
   "outputs": [],
   "source": [
    "saver = tf.train.Saver()\n",
    "saver.save(sess, checkpoint_path, global_step=train_obj.global_step)"
   ]
  },
  {
   "cell_type": "code",
   "execution_count": null,
   "metadata": {},
   "outputs": [],
   "source": [
    "saver = tf.train.Saver()\n",
    "saver.restore(sess, checkpoint_path+'-1000')"
   ]
  },
  {
   "cell_type": "code",
   "execution_count": null,
   "metadata": {
    "collapsed": false
   },
   "outputs": [],
   "source": [
    "probability_of_pos = nn_eval.evaluate_model(model,\n",
    "                                   sess,\n",
    "                                   test_data,\n",
    "                                   test_gt)"
   ]
  },
  {
   "cell_type": "code",
   "execution_count": 15,
   "metadata": {},
   "outputs": [],
   "source": [
    "#shape of probability_change is (batch size, T, num_classes)\n",
    "#since num_classes = 1 we squeeze that axis\n",
    "probability_change = np.squeeze(probability_of_pos, axis = 2)"
   ]
  },
  {
   "cell_type": "code",
   "execution_count": 16,
   "metadata": {},
   "outputs": [],
   "source": [
    "savemat('../poc/poc'+exp_name+'.mat', {'poc':probability_change})"
   ]
  },
  {
   "cell_type": "code",
   "execution_count": null,
   "metadata": {},
   "outputs": [],
   "source": []
  },
  {
   "cell_type": "code",
   "execution_count": null,
   "metadata": {},
   "outputs": [],
   "source": []
  },
  {
   "cell_type": "code",
   "execution_count": null,
   "metadata": {
    "collapsed": true
   },
   "outputs": [],
   "source": []
  }
 ],
 "metadata": {
  "anaconda-cloud": {},
  "kernelspec": {
   "display_name": "Anaconca with Tensorflow",
   "language": "python",
   "name": "tensorflow"
  },
  "language_info": {
   "codemirror_mode": {
    "name": "ipython",
    "version": 2
   },
   "file_extension": ".py",
   "mimetype": "text/x-python",
   "name": "python",
   "nbconvert_exporter": "python",
   "pygments_lexer": "ipython2",
   "version": "2.7.13"
  }
 },
 "nbformat": 4,
 "nbformat_minor": 2
}
