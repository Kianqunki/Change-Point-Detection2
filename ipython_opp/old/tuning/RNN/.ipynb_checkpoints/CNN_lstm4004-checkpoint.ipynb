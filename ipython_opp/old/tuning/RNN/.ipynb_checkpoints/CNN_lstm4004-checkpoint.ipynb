{
 "cells": [
  {
   "cell_type": "code",
   "execution_count": 1,
   "metadata": {
    "collapsed": true
   },
   "outputs": [],
   "source": [
    "# useing this variable for saving models and summaries\n",
    "exp_name = \"CNN-LSTM4004\""
   ]
  },
  {
   "cell_type": "markdown",
   "metadata": {},
   "source": [
    "## Running CNN then RNN\n",
    "5 layers CNN [2, 2, 2, 2, 2], then RNN, bias_shape = [32,64,64, 64, 64]"
   ]
  },
  {
   "cell_type": "code",
   "execution_count": 2,
   "metadata": {
    "collapsed": false
   },
   "outputs": [],
   "source": [
    "%load_ext autoreload\n",
    "%autoreload 2\n",
    "import numpy as np\n",
    "import tensorflow as tf\n",
    "import sys\n",
    "from hdf5storage import savemat\n",
    "import pickle\n",
    "\n",
    "sys.path.append('../../../src')\n",
    "sys.path.append('../../../src/models')"
   ]
  },
  {
   "cell_type": "code",
   "execution_count": 3,
   "metadata": {},
   "outputs": [],
   "source": [
    "import models.CNN_lstm_model as CNN_lstm_model\n",
    "import training  \n",
    "import evaluation.nn_eval as nn_eval "
   ]
  },
  {
   "cell_type": "markdown",
   "metadata": {},
   "source": [
    "## Loading synthetic data"
   ]
  },
  {
   "cell_type": "code",
   "execution_count": 4,
   "metadata": {
    "collapsed": false
   },
   "outputs": [],
   "source": [
    "#loading data\n",
    "data_path= '/data2/data/zebrahim/synthetic_dataset/data_8192_1000_3_4_4_.03_.03_.2' + 'processed_data.p'\n",
    "\n",
    "with open(data_path, 'r') as fin:\n",
    "    data = pickle.load(fin)\n",
    "    \n",
    "train_data = data['train_data']\n",
    "validation_data = data['validation_data']\n",
    "test_data = data['test_data']\n",
    "\n",
    "train_gt = np.expand_dims(data['train_gt'], axis=-1)\n",
    "validation_gt = np.expand_dims(data['validation_gt'], axis=-1)\n",
    "test_gt = np.expand_dims(data['test_gt'], axis=-1)\n",
    "\n",
    "index_of_changes = data['index_of_changes']\n",
    " "
   ]
  },
  {
   "cell_type": "markdown",
   "metadata": {},
   "source": [
    "## Model"
   ]
  },
  {
   "cell_type": "code",
   "execution_count": 5,
   "metadata": {
    "collapsed": false
   },
   "outputs": [],
   "source": [
    "## Model Parameter\n",
    "n_variables= 12\n",
    "learning_rate = 0.001\n",
    "batch_size = 10\n",
    "\n",
    "pooling_stride = [32, 1, 1, 1, 1, 1]\n",
    "weights_shape = [[9,n_variables, 32],\n",
    "                 [9, 32, 32],\n",
    "                 [9, 32, 32],\n",
    "                 [9, 32, 32],\n",
    "                 [9, 32, 32],\n",
    "                 [9, 32, 32]]\n",
    "\n",
    "bias_shape = [32, 32, 32, 32, 32, 32, 32]\n",
    "activation = tf.nn.relu\n",
    "\n",
    "lstm_n_hidden = 128\n",
    "n_classes = 1\n",
    "\n",
    "\n",
    "#positive weight for weighted cross entropy\n",
    "s = train_data.shape\n",
    "resolution = np.prod(pooling_stride)\n",
    "gt_effective = np.reshape(train_gt, (s[0]*(s[1]/resolution), resolution))\n",
    "pos_weight = (1.0 - gt_effective.max(axis=1).mean()) / gt_effective.max(axis=1).mean()"
   ]
  },
  {
   "cell_type": "code",
   "execution_count": 6,
   "metadata": {
    "collapsed": false
   },
   "outputs": [
    {
     "data": {
      "text/plain": [
       "3.186018221237171"
      ]
     },
     "execution_count": 6,
     "metadata": {},
     "output_type": "execute_result"
    }
   ],
   "source": [
    "pos_weight"
   ]
  },
  {
   "cell_type": "code",
   "execution_count": 7,
   "metadata": {
    "collapsed": false
   },
   "outputs": [],
   "source": [
    "# Launch the graph\n",
    "config = tf.ConfigProto()\n",
    "config.gpu_options.allow_growth = True\n",
    "sess = tf.Session(config=config)"
   ]
  },
  {
   "cell_type": "code",
   "execution_count": 8,
   "metadata": {
    "collapsed": true
   },
   "outputs": [],
   "source": [
    "summary_path = '../summary/' + exp_name \n",
    "checkpoint_path = '../model/' + exp_name + '/' + exp_name \n"
   ]
  },
  {
   "cell_type": "code",
   "execution_count": 9,
   "metadata": {
    "collapsed": false
   },
   "outputs": [],
   "source": [
    "model = CNN_lstm_model.Model(n_variables, n_classes)"
   ]
  },
  {
   "cell_type": "code",
   "execution_count": 10,
   "metadata": {
    "collapsed": false
   },
   "outputs": [],
   "source": [
    "model.build_cnn_lstm_net(pooling_stride,\n",
    "                         weights_shape,\n",
    "                         bias_shape,\n",
    "                         activation,\n",
    "                         lstm_n_hidden,\n",
    "                         n_classes,\n",
    "                         learning_rate,\n",
    "                         pos_weight)"
   ]
  },
  {
   "cell_type": "code",
   "execution_count": null,
   "metadata": {
    "collapsed": false
   },
   "outputs": [],
   "source": [
    "train_obj = training.Trainer(model,\n",
    "                 train_data, train_gt,\n",
    "                 validation_data, validation_gt,\n",
    "                 sess,\n",
    "                 summary_path,\n",
    "                 batch_size,\n",
    "                 global_step = 0)"
   ]
  },
  {
   "cell_type": "code",
   "execution_count": null,
   "metadata": {},
   "outputs": [
    {
     "name": "stdout",
     "output_type": "stream",
     "text": [
      "Tarin Iter 0, auc= 0.292028, fmeasure_max= 0.412482, precision= 0.287755, recall= 0.728055\n",
      "Train Random guess:  , auc= 0.224123fmeasure_max= 0.370687, precision= 0.229082, recall= 0.970740\n",
      "Validation Iter 0, auc= 0.246566, fmeasure_max= 0.401000, precision= 0.282992, recall= 0.687822\n",
      "Validation Random guess:  auc= 0.239272, fmeasure_max= 0.372365, precision= 0.229600, recall= 0.984563\n",
      "Minibatch Loss= 1.116195\n",
      "Tarin Iter 100, auc= 0.701782, fmeasure_max= 0.740806, precision= 0.690049, recall= 0.799622\n",
      "Train Random guess:  , auc= 0.203000fmeasure_max= 0.342728, precision= 0.206802, recall= 1.000000\n",
      "Validation Iter 100, auc= 0.664019, fmeasure_max= 0.699078, precision= 0.683607, recall= 0.715266\n",
      "Validation Random guess:  auc= 0.224212, fmeasure_max= 0.371659, precision= 0.228787, recall= 0.989708\n",
      "Minibatch Loss= 0.713449\n",
      "Tarin Iter 200, auc= 0.847372, fmeasure_max= 0.787763, precision= 0.830645, recall= 0.749091\n",
      "Train Random guess:  , auc= 0.230829fmeasure_max= 0.354414, precision= 0.216412, recall= 0.978182\n",
      "Validation Iter 200, auc= 0.752269, fmeasure_max= 0.733603, precision= 0.694785, recall= 0.777015\n",
      "Validation Random guess:  auc= 0.247794, fmeasure_max= 0.371574, precision= 0.228180, recall= 1.000000\n",
      "Minibatch Loss= 0.586067\n",
      "Tarin Iter 300, auc= 0.870406, fmeasure_max= 0.830846, precision= 0.837793, recall= 0.824013\n",
      "Train Random guess:  , auc= 0.239476fmeasure_max= 0.383960, precision= 0.237593, recall= 1.000000\n",
      "Validation Iter 300, auc= 0.865755, fmeasure_max= 0.794521, precision= 0.749240, recall= 0.845626\n",
      "Validation Random guess:  auc= 0.240692, fmeasure_max= 0.370983, precision= 0.227734, recall= 1.000000\n",
      "Minibatch Loss= 0.688703\n",
      "Tarin Iter 400, auc= 0.914583, fmeasure_max= 0.833205, precision= 0.799410, recall= 0.869984\n",
      "Train Random guess:  , auc= 0.236677fmeasure_max= 0.391701, precision= 0.243550, recall= 1.000000\n",
      "Validation Iter 400, auc= 0.923329, fmeasure_max= 0.854500, precision= 0.838284, recall= 0.871355\n",
      "Validation Random guess:  auc= 0.239178, fmeasure_max= 0.371456, precision= 0.228091, recall= 1.000000\n",
      "Minibatch Loss= 0.474281\n",
      "Tarin Iter 500, auc= 0.866584, fmeasure_max= 0.787879, precision= 0.882236, recall= 0.711755\n",
      "Train Random guess:  , auc= 0.246834fmeasure_max= 0.392360, precision= 0.245543, recall= 0.975845\n",
      "Validation Iter 500, auc= 0.932757, fmeasure_max= 0.865385, precision= 0.882353, recall= 0.849057\n",
      "Validation Random guess:  auc= 0.236342, fmeasure_max= 0.373718, precision= 0.229799, recall= 1.000000\n",
      "Minibatch Loss= 0.629744\n",
      "Tarin Iter 600, auc= 0.915124, fmeasure_max= 0.849392, precision= 0.868069, recall= 0.831502\n",
      "Train Random guess:  , auc= 0.205940fmeasure_max= 0.353164, precision= 0.222647, recall= 0.853480\n",
      "Validation Iter 600, auc= 0.894506, fmeasure_max= 0.819095, precision= 0.800327, recall= 0.838765\n",
      "Validation Random guess:  auc= 0.246699, fmeasure_max= 0.371101, precision= 0.227823, recall= 1.000000\n",
      "Minibatch Loss= 0.482966\n",
      "Tarin Iter 700, auc= 0.935016, fmeasure_max= 0.861685, precision= 0.836420, recall= 0.888525\n",
      "Train Random guess:  , auc= 0.253308fmeasure_max= 0.386123, precision= 0.240112, recall= 0.985246\n",
      "Validation Iter 700, auc= 0.920643, fmeasure_max= 0.842798, precision= 0.810127, recall= 0.878216\n",
      "Validation Random guess:  auc= 0.226095, fmeasure_max= 0.371401, precision= 0.228868, recall= 0.984563\n",
      "Minibatch Loss= 0.461420\n",
      "Tarin Iter 800, auc= 0.951464, fmeasure_max= 0.892128, precision= 0.860759, recall= 0.925870\n",
      "Train Random guess:  , auc= 0.244492fmeasure_max= 0.410559, precision= 0.258304, recall= 1.000000\n",
      "Validation Iter 800, auc= 0.939250, fmeasure_max= 0.876047, precision= 0.855974, recall= 0.897084\n",
      "Validation Random guess:  auc= 0.240649, fmeasure_max= 0.371101, precision= 0.227823, recall= 1.000000\n",
      "Minibatch Loss= 0.451597\n",
      "Tarin Iter 900, auc= 0.927212, fmeasure_max= 0.863866, precision= 0.848185, recall= 0.880137\n",
      "Train Random guess:  , auc= 0.247863fmeasure_max= 0.372292, precision= 0.230301, recall= 0.970890\n",
      "Validation Iter 900, auc= 0.914024, fmeasure_max= 0.850088, precision= 0.874773, recall= 0.826758\n",
      "Validation Random guess:  auc= 0.217064, fmeasure_max= 0.371101, precision= 0.227823, recall= 1.000000\n",
      "Minibatch Loss= 0.470220\n",
      "Tarin Iter 1000, auc= 0.928637, fmeasure_max= 0.858844, precision= 0.887522, recall= 0.831960\n",
      "Train Random guess:  , auc= 0.256272fmeasure_max= 0.385034, precision= 0.238889, recall= 0.991763\n",
      "Validation Iter 1000, auc= 0.910616, fmeasure_max= 0.839033, precision= 0.816558, recall= 0.862779\n",
      "Validation Random guess:  auc= 0.241813, fmeasure_max= 0.372504, precision= 0.230178, recall= 0.975986\n",
      "Minibatch Loss= 0.519192\n",
      "Tarin Iter 1100, auc= 0.926578, fmeasure_max= 0.850711, precision= 0.899749, recall= 0.806742\n",
      "Train Random guess:  , auc= 0.196359fmeasure_max= 0.297063, precision= 0.174441, recall= 1.000000\n",
      "Validation Iter 1100, auc= 0.900197, fmeasure_max= 0.827586, precision= 0.854015, recall= 0.802744\n",
      "Validation Random guess:  auc= 0.227664, fmeasure_max= 0.371648, precision= 0.228325, recall= 0.998285\n",
      "Minibatch Loss= 0.383847\n",
      "Tarin Iter 1200, auc= 0.914627, fmeasure_max= 0.834437, precision= 0.855688, recall= 0.814216\n",
      "Train Random guess:  , auc= 0.227256fmeasure_max= 0.389431, precision= 0.241797, recall= 1.000000\n",
      "Validation Iter 1200, auc= 0.913657, fmeasure_max= 0.843352, precision= 0.899029, recall= 0.794168\n",
      "Validation Random guess:  auc= 0.214012, fmeasure_max= 0.371338, precision= 0.228002, recall= 1.000000\n",
      "Minibatch Loss= 0.526931\n",
      "Tarin Iter 1300, auc= 0.964424, fmeasure_max= 0.902887, precision= 0.889655, recall= 0.916519\n",
      "Train Random guess:  , auc= 0.211532fmeasure_max= 0.361880, precision= 0.220999, recall= 0.998224\n",
      "Validation Iter 1300, auc= 0.922540, fmeasure_max= 0.879046, precision= 0.873096, recall= 0.885077\n",
      "Validation Random guess:  auc= 0.236399, fmeasure_max= 0.372581, precision= 0.230333, recall= 0.974271\n",
      "Minibatch Loss= 0.364412\n",
      "Tarin Iter 1400, auc= 0.876778, fmeasure_max= 0.785841, precision= 0.791444, recall= 0.780316\n",
      "Train Random guess:  , auc= 0.213284fmeasure_max= 0.365039, precision= 0.223358, recall= 0.998243\n",
      "Validation Iter 1400, auc= 0.856256, fmeasure_max= 0.788214, precision= 0.850895, recall= 0.734134\n",
      "Validation Random guess:  auc= 0.223096, fmeasure_max= 0.371728, precision= 0.229681, recall= 0.974271\n",
      "Minibatch Loss= 0.608586\n",
      "Tarin Iter 1500, auc= 0.953061, fmeasure_max= 0.882801, precision= 0.870871, recall= 0.895062\n",
      "Train Random guess:  , auc= 0.256581fmeasure_max= 0.405135, precision= 0.254124, recall= 0.998457\n",
      "Validation Iter 1500, auc= 0.942893, fmeasure_max= 0.868953, precision= 0.891697, recall= 0.847341\n",
      "Validation Random guess:  auc= 0.228402, fmeasure_max= 0.371101, precision= 0.227823, recall= 1.000000\n",
      "Minibatch Loss= 0.410531\n",
      "Tarin Iter 1600, auc= 0.951915, fmeasure_max= 0.886578, precision= 0.888258, recall= 0.884906\n",
      "Train Random guess:  , auc= 0.193765fmeasure_max= 0.343042, precision= 0.207031, recall= 1.000000\n",
      "Validation Iter 1600, auc= 0.937608, fmeasure_max= 0.888321, precision= 0.883051, recall= 0.893654\n",
      "Validation Random guess:  auc= 0.234176, fmeasure_max= 0.372183, precision= 0.229092, recall= 0.991424\n",
      "Minibatch Loss= 0.372422\n",
      "Tarin Iter 1700, auc= 0.935794, fmeasure_max= 0.855839, precision= 0.878277, recall= 0.834520\n",
      "Train Random guess:  , auc= 0.225089fmeasure_max= 0.360256, precision= 0.219703, recall= 1.000000\n",
      "Validation Iter 1700, auc= 0.943638, fmeasure_max= 0.875536, precision= 0.876289, recall= 0.874786\n",
      "Validation Random guess:  auc= 0.213228, fmeasure_max= 0.371101, precision= 0.227823, recall= 1.000000\n",
      "Minibatch Loss= 0.419385\n",
      "Tarin Iter 1800, auc= 0.945992, fmeasure_max= 0.876320, precision= 0.868460, recall= 0.884323\n",
      "Train Random guess:  , auc= 0.258556fmeasure_max= 0.408455, precision= 0.256641, recall= 1.000000\n",
      "Validation Iter 1800, auc= 0.937722, fmeasure_max= 0.868399, precision= 0.849180, recall= 0.888508\n",
      "Validation Random guess:  auc= 0.226167, fmeasure_max= 0.371101, precision= 0.227823, recall= 1.000000\n",
      "Minibatch Loss= 0.442313\n",
      "Tarin Iter 1900, auc= 0.906512, fmeasure_max= 0.824083, precision= 0.848837, recall= 0.800731\n",
      "Train Random guess:  , auc= 0.218689fmeasure_max= 0.352222, precision= 0.213755, recall= 1.000000\n",
      "Validation Iter 1900, auc= 0.898589, fmeasure_max= 0.831597, precision= 0.841828, recall= 0.821612\n",
      "Validation Random guess:  auc= 0.232068, fmeasure_max= 0.371999, precision= 0.231676, recall= 0.943396\n",
      "Minibatch Loss= 0.495842\n",
      "Tarin Iter 2000, auc= 0.985240, fmeasure_max= 0.938567, precision= 0.927487, recall= 0.949914\n",
      "Train Random guess:  , auc= 0.239705fmeasure_max= 0.374856, precision= 0.240887, recall= 0.844560\n",
      "Validation Iter 2000, auc= 0.916638, fmeasure_max= 0.870163, precision= 0.872414, recall= 0.867925\n",
      "Validation Random guess:  auc= 0.231591, fmeasure_max= 0.371101, precision= 0.227823, recall= 1.000000\n",
      "Minibatch Loss= 0.308258\n",
      "Tarin Iter 2100, auc= 0.880598, fmeasure_max= 0.807937, precision= 0.804107, recall= 0.811802\n",
      "Train Random guess:  , auc= 0.241467fmeasure_max= 0.393844, precision= 0.245209, recall= 1.000000\n",
      "Validation Iter 2100, auc= 0.878363, fmeasure_max= 0.816290, precision= 0.863985, recall= 0.773585\n",
      "Validation Random guess:  auc= 0.223341, fmeasure_max= 0.372838, precision= 0.229224, recall= 0.998285\n",
      "Minibatch Loss= 0.637589\n",
      "Tarin Iter 2200, auc= 0.937879, fmeasure_max= 0.851298, precision= 0.845313, recall= 0.857369\n",
      "Train Random guess:  , auc= 0.251217fmeasure_max= 0.395487, precision= 0.246484, recall= 1.000000\n",
      "Validation Iter 2200, auc= 0.889699, fmeasure_max= 0.838078, precision= 0.870610, recall= 0.807890\n",
      "Validation Random guess:  auc= 0.235127, fmeasure_max= 0.373001, precision= 0.229257, recall= 1.000000\n",
      "Minibatch Loss= 0.490297\n",
      "Tarin Iter 2300, auc= 0.963549, fmeasure_max= 0.893392, precision= 0.884817, recall= 0.902135\n",
      "Train Random guess:  , auc= 0.199717fmeasure_max= 0.361183, precision= 0.220392, recall= 1.000000\n",
      "Validation Iter 2300, auc= 0.922771, fmeasure_max= 0.872574, precision= 0.858804, recall= 0.886792\n",
      "Validation Random guess:  auc= 0.241624, fmeasure_max= 0.373230, precision= 0.229703, recall= 0.994854\n",
      "Minibatch Loss= 0.350452\n",
      "Tarin Iter 2400, auc= 0.955794, fmeasure_max= 0.877737, precision= 0.884191, recall= 0.871377\n",
      "Train Random guess:  , auc= 0.222474fmeasure_max= 0.355599, precision= 0.217026, recall= 0.983696\n",
      "Validation Iter 2400, auc= 0.914982, fmeasure_max= 0.852143, precision= 0.869643, recall= 0.835334\n",
      "Validation Random guess:  auc= 0.221455, fmeasure_max= 0.372631, precision= 0.229249, recall= 0.994854\n",
      "Minibatch Loss= 0.385912\n",
      "Tarin Iter 2500, auc= 0.936608, fmeasure_max= 0.880146, precision= 0.857398, recall= 0.904135\n",
      "Train Random guess:  , auc= 0.220709fmeasure_max= 0.347705, precision= 0.213311, recall= 0.939850\n",
      "Validation Iter 2500, auc= 0.920187, fmeasure_max= 0.838284, precision= 0.807631, recall= 0.871355\n",
      "Validation Random guess:  auc= 0.226536, fmeasure_max= 0.371721, precision= 0.228470, recall= 0.996569\n",
      "Minibatch Loss= 0.422331\n",
      "Tarin Iter 2600, auc= 0.959038, fmeasure_max= 0.896811, precision= 0.908745, recall= 0.885185\n",
      "Train Random guess:  , auc= 0.202046fmeasure_max= 0.349749, precision= 0.213497, recall= 0.966667\n",
      "Validation Iter 2600, auc= 0.921563, fmeasure_max= 0.870855, precision= 0.886323, recall= 0.855918\n",
      "Validation Random guess:  auc= 0.230249, fmeasure_max= 0.371365, precision= 0.228201, recall= 0.996569\n",
      "Minibatch Loss= 0.347623\n",
      "Tarin Iter 2700, auc= 0.956696, fmeasure_max= 0.882096, precision= 0.878261, recall= 0.885965\n",
      "Train Random guess:  , auc= 0.235202fmeasure_max= 0.366876, precision= 0.229058, recall= 0.921053\n",
      "Validation Iter 2700, auc= 0.921179, fmeasure_max= 0.868512, precision= 0.876091, recall= 0.861063\n",
      "Validation Random guess:  auc= 0.233345, fmeasure_max= 0.371338, precision= 0.228002, recall= 1.000000\n",
      "Minibatch Loss= 0.380843\n",
      "Tarin Iter 2800, auc= 0.931318, fmeasure_max= 0.858333, precision= 0.897603, recall= 0.822355\n",
      "Train Random guess:  , auc= 0.196059fmeasure_max= 0.330640, precision= 0.198866, recall= 0.980040\n",
      "Validation Iter 2800, auc= 0.925898, fmeasure_max= 0.861775, precision= 0.857385, recall= 0.866209\n",
      "Validation Random guess:  auc= 0.231209, fmeasure_max= 0.372555, precision= 0.229101, recall= 0.996569\n",
      "Minibatch Loss= 0.353999\n",
      "Tarin Iter 2900, auc= 0.950612, fmeasure_max= 0.886364, precision= 0.876404, recall= 0.896552\n",
      "Train Random guess:  , auc= 0.235884fmeasure_max= 0.386645, precision= 0.239748, recall= 0.998358\n",
      "Validation Iter 2900, auc= 0.910006, fmeasure_max= 0.862434, precision= 0.887477, recall= 0.838765\n",
      "Validation Random guess:  auc= 0.240759, fmeasure_max= 0.373626, precision= 0.237541, recall= 0.874786\n",
      "Minibatch Loss= 0.428406\n",
      "Tarin Iter 3000, auc= 0.958399, fmeasure_max= 0.890127, precision= 0.885895, recall= 0.894400\n",
      "Train Random guess:  , auc= 0.250931fmeasure_max= 0.394807, precision= 0.249264, recall= 0.948800\n",
      "Validation Iter 3000, auc= 0.910645, fmeasure_max= 0.859362, precision= 0.864583, recall= 0.854202\n",
      "Validation Random guess:  auc= 0.236424, fmeasure_max= 0.371959, precision= 0.228650, recall= 0.996569\n",
      "Minibatch Loss= 0.366711\n",
      "Tarin Iter 3100, auc= 0.970712, fmeasure_max= 0.908213, precision= 0.888189, recall= 0.929160\n",
      "Train Random guess:  , auc= 0.233137fmeasure_max= 0.384369, precision= 0.238569, recall= 0.988468\n",
      "Validation Iter 3100, auc= 0.923177, fmeasure_max= 0.878762, precision= 0.881034, recall= 0.876501\n",
      "Validation Random guess:  auc= 0.220496, fmeasure_max= 0.370983, precision= 0.227734, recall= 1.000000\n",
      "Minibatch Loss= 0.354372\n",
      "Tarin Iter 3200, auc= 0.962790, fmeasure_max= 0.901554, precision= 0.912587, recall= 0.890785\n",
      "Train Random guess:  , auc= 0.241841fmeasure_max= 0.375912, precision= 0.239090, recall= 0.878840\n",
      "Validation Iter 3200, auc= 0.905207, fmeasure_max= 0.857143, precision= 0.860104, recall= 0.854202\n",
      "Validation Random guess:  auc= 0.239462, fmeasure_max= 0.371219, precision= 0.227912, recall= 1.000000\n",
      "Minibatch Loss= 0.340438\n",
      "Tarin Iter 3300, auc= 0.941780, fmeasure_max= 0.875776, precision= 0.895238, recall= 0.857143\n",
      "Train Random guess:  , auc= 0.261373fmeasure_max= 0.409077, precision= 0.257132, recall= 1.000000\n",
      "Validation Iter 3300, auc= 0.895526, fmeasure_max= 0.832155, precision= 0.857923, recall= 0.807890\n",
      "Validation Random guess:  auc= 0.232544, fmeasure_max= 0.372123, precision= 0.229416, recall= 0.984563\n",
      "Minibatch Loss= 0.528335\n",
      "Tarin Iter 3400, auc= 0.945549, fmeasure_max= 0.884462, precision= 0.863142, recall= 0.906863\n",
      "Train Random guess:  , auc= 0.238106fmeasure_max= 0.386608, precision= 0.239624, recall= 1.000000\n",
      "Validation Iter 3400, auc= 0.908575, fmeasure_max= 0.842288, precision= 0.851138, recall= 0.833619\n",
      "Validation Random guess:  auc= 0.216621, fmeasure_max= 0.371101, precision= 0.227823, recall= 1.000000\n",
      "Minibatch Loss= 0.446316\n",
      "Tarin Iter 3500, auc= 0.963292, fmeasure_max= 0.892410, precision= 0.861514, recall= 0.925606\n",
      "Train Random guess:  , auc= 0.227398fmeasure_max= 0.370208, precision= 0.234614, recall= 0.877163\n",
      "Validation Iter 3500, auc= 0.924006, fmeasure_max= 0.868421, precision= 0.888689, recall= 0.849057\n",
      "Validation Random guess:  auc= 0.236334, fmeasure_max= 0.372707, precision= 0.229398, recall= 0.993139\n",
      "Minibatch Loss= 0.359385\n",
      "Tarin Iter 3600, auc= 0.959368, fmeasure_max= 0.890372, precision= 0.899807, recall= 0.881132\n",
      "Train Random guess:  , auc= 0.204431fmeasure_max= 0.343395, precision= 0.207370, recall= 0.998113\n",
      "Validation Iter 3600, auc= 0.909223, fmeasure_max= 0.849220, precision= 0.858144, recall= 0.840480\n",
      "Validation Random guess:  auc= 0.237300, fmeasure_max= 0.371574, precision= 0.228180, recall= 1.000000\n",
      "Minibatch Loss= 0.393347\n",
      "Tarin Iter 3700, auc= 0.982694, fmeasure_max= 0.936772, precision= 0.921440, recall= 0.952623\n",
      "Train Random guess:  , auc= 0.226497fmeasure_max= 0.375715, precision= 0.231311, recall= 1.000000\n",
      "Validation Iter 3700, auc= 0.907860, fmeasure_max= 0.838599, precision= 0.835034, recall= 0.842196\n",
      "Validation Random guess:  auc= 0.224909, fmeasure_max= 0.371438, precision= 0.228346, recall= 0.994854\n",
      "Minibatch Loss= 0.329286\n",
      "Tarin Iter 3800, auc= 0.976462, fmeasure_max= 0.921141, precision= 0.904448, recall= 0.938462\n",
      "Train Random guess:  , auc= 0.227921fmeasure_max= 0.373325, precision= 0.229502, recall= 1.000000\n",
      "Validation Iter 3800, auc= 0.916786, fmeasure_max= 0.870996, precision= 0.879371, recall= 0.862779\n",
      "Validation Random guess:  auc= 0.243329, fmeasure_max= 0.372671, precision= 0.230210, recall= 0.977702\n",
      "Minibatch Loss= 0.326574\n",
      "Tarin Iter 3900, auc= 0.931848, fmeasure_max= 0.847751, precision= 0.804598, recall= 0.895795\n",
      "Train Random guess:  , auc= 0.205823fmeasure_max= 0.354473, precision= 0.216823, recall= 0.970750\n",
      "Validation Iter 3900, auc= 0.894563, fmeasure_max= 0.810017, precision= 0.815652, recall= 0.804460\n",
      "Validation Random guess:  auc= 0.240274, fmeasure_max= 0.371930, precision= 0.228448, recall= 1.000000\n",
      "Minibatch Loss= 0.422315\n",
      "Tarin Iter 4000, auc= 0.966691, fmeasure_max= 0.913121, precision= 0.916370, recall= 0.909894\n",
      "Train Random guess:  , auc= 0.206584fmeasure_max= 0.362338, precision= 0.221957, recall= 0.985866\n",
      "Validation Iter 4000, auc= 0.908881, fmeasure_max= 0.832770, precision= 0.820300, recall= 0.845626\n",
      "Validation Random guess:  auc= 0.239769, fmeasure_max= 0.371574, precision= 0.228180, recall= 1.000000\n",
      "Minibatch Loss= 0.353186\n",
      "Tarin Iter 4100, auc= 0.903299, fmeasure_max= 0.834840, precision= 0.793750, recall= 0.880416\n",
      "Train Random guess:  , auc= 0.235519fmeasure_max= 0.372356, precision= 0.238049, recall= 0.854419\n",
      "Validation Iter 4100, auc= 0.912700, fmeasure_max= 0.821224, precision= 0.783489, recall= 0.862779\n",
      "Validation Random guess:  auc= 0.224536, fmeasure_max= 0.371574, precision= 0.228180, recall= 1.000000\n",
      "Minibatch Loss= 0.531313\n",
      "Tarin Iter 4200, auc= 0.965993, fmeasure_max= 0.902816, precision= 0.875000, recall= 0.932458\n",
      "Train Random guess:  , auc= 0.216301fmeasure_max= 0.344872, precision= 0.208366, recall= 1.000000\n",
      "Validation Iter 4200, auc= 0.934047, fmeasure_max= 0.860949, precision= 0.836570, recall= 0.886792\n",
      "Validation Random guess:  auc= 0.246927, fmeasure_max= 0.372405, precision= 0.228807, recall= 1.000000\n",
      "Minibatch Loss= 0.367399\n",
      "Tarin Iter 4300, auc= 0.948133, fmeasure_max= 0.872263, precision= 0.888476, recall= 0.856631\n",
      "Train Random guess:  , auc= 0.220856fmeasure_max= 0.358497, precision= 0.218395, recall= 1.000000\n",
      "Validation Iter 4300, auc= 0.918912, fmeasure_max= 0.863176, precision= 0.850250, recall= 0.876501\n",
      "Validation Random guess:  auc= 0.222837, fmeasure_max= 0.371292, precision= 0.228056, recall= 0.998285\n",
      "Minibatch Loss= 0.408793\n",
      "Tarin Iter 4400, auc= 0.962058, fmeasure_max= 0.893357, precision= 0.869048, recall= 0.919065\n",
      "Train Random guess:  , auc= 0.221892fmeasure_max= 0.357143, precision= 0.217476, recall= 0.998201\n",
      "Validation Iter 4400, auc= 0.916292, fmeasure_max= 0.862676, precision= 0.886076, recall= 0.840480\n",
      "Validation Random guess:  auc= 0.222630, fmeasure_max= 0.372405, precision= 0.228807, recall= 1.000000\n",
      "Minibatch Loss= 0.345584\n",
      "Tarin Iter 4500, auc= 0.974391, fmeasure_max= 0.918919, precision= 0.909091, recall= 0.928962\n",
      "Train Random guess:  , auc= 0.209553fmeasure_max= 0.355103, precision= 0.216573, recall= 0.985428\n",
      "Validation Iter 4500, auc= 0.915025, fmeasure_max= 0.854962, precision= 0.845638, recall= 0.864494\n",
      "Validation Random guess:  auc= 0.254890, fmeasure_max= 0.371219, precision= 0.227912, recall= 1.000000\n",
      "Minibatch Loss= 0.370279\n",
      "Tarin Iter 4600, auc= 0.977170, fmeasure_max= 0.921569, precision= 0.943144, recall= 0.900958\n",
      "Train Random guess:  , auc= 0.249014fmeasure_max= 0.393587, precision= 0.245010, recall= 1.000000\n",
      "Validation Iter 4600, auc= 0.913611, fmeasure_max= 0.848176, precision= 0.838926, recall= 0.857633\n",
      "Validation Random guess:  auc= 0.244979, fmeasure_max= 0.371338, precision= 0.228002, recall= 1.000000\n",
      "Minibatch Loss= 0.359288\n",
      "Tarin Iter 4700, auc= 0.957568, fmeasure_max= 0.880000, precision= 0.863372, recall= 0.897281\n",
      "Train Random guess:  , auc= 0.267025fmeasure_max= 0.411198, precision= 0.258911, recall= 0.998489\n",
      "Validation Iter 4700, auc= 0.907412, fmeasure_max= 0.832891, precision= 0.859489, recall= 0.807890\n",
      "Validation Random guess:  auc= 0.231852, fmeasure_max= 0.370983, precision= 0.227734, recall= 1.000000\n",
      "Minibatch Loss= 0.456282\n",
      "Tarin Iter 4800, auc= 0.950043, fmeasure_max= 0.890756, precision= 0.884808, recall= 0.896785\n",
      "Train Random guess:  , auc= 0.227434fmeasure_max= 0.375368, precision= 0.232738, recall= 0.969543\n",
      "Validation Iter 4800, auc= 0.900599, fmeasure_max= 0.837325, precision= 0.807325, recall= 0.869640\n",
      "Validation Random guess:  auc= 0.234755, fmeasure_max= 0.371456, precision= 0.228091, recall= 1.000000\n",
      "Minibatch Loss= 0.387093\n",
      "Tarin Iter 4900, auc= 0.970859, fmeasure_max= 0.911373, precision= 0.932584, recall= 0.891104\n",
      "Train Random guess:  , auc= 0.246848fmeasure_max= 0.406484, precision= 0.255086, recall= 1.000000\n",
      "Validation Iter 4900, auc= 0.913210, fmeasure_max= 0.864407, precision= 0.854271, recall= 0.874786\n",
      "Validation Random guess:  auc= 0.248917, fmeasure_max= 0.372199, precision= 0.229567, recall= 0.982847\n",
      "Minibatch Loss= 0.363024\n",
      "Tarin Iter 5000, auc= 0.960153, fmeasure_max= 0.902024, precision= 0.914614, recall= 0.889776\n",
      "Train Random guess:  , auc= 0.234674fmeasure_max= 0.392969, precision= 0.244531, recall= 1.000000\n",
      "Validation Iter 5000, auc= 0.917546, fmeasure_max= 0.855670, precision= 0.857143, recall= 0.854202\n",
      "Validation Random guess:  auc= 0.230794, fmeasure_max= 0.372289, precision= 0.229449, recall= 0.986278\n",
      "Minibatch Loss= 0.424053\n",
      "Tarin Iter 5100, auc= 0.964943, fmeasure_max= 0.898126, precision= 0.898858, recall= 0.897394\n",
      "Train Random guess:  , auc= 0.241937fmeasure_max= 0.387015, precision= 0.239937, recall= 1.000000\n",
      "Validation Iter 5100, auc= 0.917684, fmeasure_max= 0.851979, precision= 0.854922, recall= 0.849057\n",
      "Validation Random guess:  auc= 0.224941, fmeasure_max= 0.370983, precision= 0.227734, recall= 1.000000\n",
      "Minibatch Loss= 0.399034\n"
     ]
    }
   ],
   "source": [
    "train_obj.train(max_iter = 10000,\n",
    "                train_eval_step=100,\n",
    "                validation_eval_step=100,\n",
    "                display_step=100)"
   ]
  },
  {
   "cell_type": "code",
   "execution_count": null,
   "metadata": {},
   "outputs": [],
   "source": [
    "saver = tf.train.Saver()\n",
    "saver.save(sess, checkpoint_path, global_step=train_obj.global_step)"
   ]
  },
  {
   "cell_type": "code",
   "execution_count": null,
   "metadata": {},
   "outputs": [],
   "source": [
    "saver = tf.train.Saver()\n",
    "saver.restore(sess, checkpoint_path+'-1000')"
   ]
  },
  {
   "cell_type": "code",
   "execution_count": null,
   "metadata": {
    "collapsed": false
   },
   "outputs": [],
   "source": [
    "probability_of_pos = nn_eval.evaluate_model(model,\n",
    "                                   sess,\n",
    "                                   test_data,\n",
    "                                   test_gt)"
   ]
  },
  {
   "cell_type": "code",
   "execution_count": 15,
   "metadata": {},
   "outputs": [],
   "source": [
    "#shape of probability_change is (batch size, T, num_classes)\n",
    "#since num_classes = 1 we squeeze that axis\n",
    "probability_change = np.squeeze(probability_of_pos, axis = 2)"
   ]
  },
  {
   "cell_type": "code",
   "execution_count": 16,
   "metadata": {},
   "outputs": [],
   "source": [
    "savemat('../poc/poc'+exp_name+'.mat', {'poc':probability_change})"
   ]
  },
  {
   "cell_type": "code",
   "execution_count": null,
   "metadata": {},
   "outputs": [],
   "source": []
  },
  {
   "cell_type": "code",
   "execution_count": null,
   "metadata": {},
   "outputs": [],
   "source": []
  },
  {
   "cell_type": "code",
   "execution_count": null,
   "metadata": {
    "collapsed": true
   },
   "outputs": [],
   "source": []
  }
 ],
 "metadata": {
  "anaconda-cloud": {},
  "kernelspec": {
   "display_name": "Anaconca with Tensorflow",
   "language": "python",
   "name": "tensorflow"
  },
  "language_info": {
   "codemirror_mode": {
    "name": "ipython",
    "version": 2
   },
   "file_extension": ".py",
   "mimetype": "text/x-python",
   "name": "python",
   "nbconvert_exporter": "python",
   "pygments_lexer": "ipython2",
   "version": "2.7.13"
  }
 },
 "nbformat": 4,
 "nbformat_minor": 2
}
