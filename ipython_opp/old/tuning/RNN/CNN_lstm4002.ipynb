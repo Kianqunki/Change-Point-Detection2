{
 "cells": [
  {
   "cell_type": "code",
   "execution_count": 1,
   "metadata": {
    "collapsed": true
   },
   "outputs": [],
   "source": [
    "# useing this variable for saving models and summaries\n",
    "exp_name = \"CNN-LSTM4002\""
   ]
  },
  {
   "cell_type": "markdown",
   "metadata": {},
   "source": [
    "## Running CNN then RNN\n",
    "5 layers CNN [2, 2, 2, 2, 2], then RNN, bias_shape = [32,64,64, 64, 64]"
   ]
  },
  {
   "cell_type": "code",
   "execution_count": 4,
   "metadata": {
    "collapsed": false
   },
   "outputs": [
    {
     "name": "stdout",
     "output_type": "stream",
     "text": [
      "The autoreload extension is already loaded. To reload it, use:\n",
      "  %reload_ext autoreload\n"
     ]
    }
   ],
   "source": [
    "%load_ext autoreload\n",
    "%autoreload 2\n",
    "import numpy as np\n",
    "import tensorflow as tf\n",
    "import sys\n",
    "from hdf5storage import savemat\n",
    "import pickle\n",
    "\n",
    "sys.path.append('../../../src')\n",
    "sys.path.append('../../../src/models')"
   ]
  },
  {
   "cell_type": "code",
   "execution_count": 5,
   "metadata": {},
   "outputs": [],
   "source": [
    "import models.CNN_lstm_model as CNN_lstm_model\n",
    "import training  \n",
    "import evaluation.nn_eval as nn_eval "
   ]
  },
  {
   "cell_type": "markdown",
   "metadata": {},
   "source": [
    "## Loading synthetic data"
   ]
  },
  {
   "cell_type": "code",
   "execution_count": 6,
   "metadata": {
    "collapsed": false
   },
   "outputs": [],
   "source": [
    "#loading data\n",
    "data_path= '/data2/data/zebrahim/synthetic_dataset/data_8192_1000_3_4_4_.03_.03_.2' + 'processed_data.p'\n",
    "\n",
    "with open(data_path, 'r') as fin:\n",
    "    data = pickle.load(fin)\n",
    "    \n",
    "train_data = data['train_data']\n",
    "validation_data = data['validation_data']\n",
    "test_data = data['test_data']\n",
    "\n",
    "train_gt = np.expand_dims(data['train_gt'], axis=-1)\n",
    "validation_gt = np.expand_dims(data['validation_gt'], axis=-1)\n",
    "test_gt = np.expand_dims(data['test_gt'], axis=-1)\n",
    "\n",
    "index_of_changes = data['index_of_changes']\n",
    " "
   ]
  },
  {
   "cell_type": "markdown",
   "metadata": {},
   "source": [
    "## Model"
   ]
  },
  {
   "cell_type": "code",
   "execution_count": 7,
   "metadata": {
    "collapsed": false
   },
   "outputs": [],
   "source": [
    "## Model Parameter\n",
    "n_variables= 12\n",
    "learning_rate = 0.001\n",
    "batch_size = 10\n",
    "\n",
    "pooling_stride = [32, 1, 1, 1, 1, 1]\n",
    "weights_shape = [[7,n_variables, 32],\n",
    "                 [7, 32, 32],\n",
    "                 [7, 32, 32],\n",
    "                 [7, 32, 32],\n",
    "                 [7, 32, 32],\n",
    "                 [7, 32, 32]]\n",
    "\n",
    "bias_shape = [32, 32, 32, 32, 32, 32, 32]\n",
    "activation = tf.nn.relu\n",
    "\n",
    "lstm_n_hidden = 128\n",
    "n_classes = 1\n",
    "\n",
    "\n",
    "#positive weight for weighted cross entropy\n",
    "s = train_data.shape\n",
    "resolution = np.prod(pooling_stride)\n",
    "gt_effective = np.reshape(train_gt, (s[0]*(s[1]/resolution), resolution))\n",
    "pos_weight = (1.0 - gt_effective.max(axis=1).mean()) / gt_effective.max(axis=1).mean()"
   ]
  },
  {
   "cell_type": "code",
   "execution_count": 8,
   "metadata": {
    "collapsed": false
   },
   "outputs": [
    {
     "data": {
      "text/plain": [
       "3.186018221237171"
      ]
     },
     "execution_count": 8,
     "metadata": {},
     "output_type": "execute_result"
    }
   ],
   "source": [
    "pos_weight"
   ]
  },
  {
   "cell_type": "code",
   "execution_count": 9,
   "metadata": {
    "collapsed": false
   },
   "outputs": [],
   "source": [
    "# Launch the graph\n",
    "config = tf.ConfigProto()\n",
    "config.gpu_options.allow_growth = True\n",
    "sess = tf.Session(config=config)"
   ]
  },
  {
   "cell_type": "code",
   "execution_count": 10,
   "metadata": {
    "collapsed": true
   },
   "outputs": [],
   "source": [
    "summary_path = '../summary/' + exp_name \n",
    "checkpoint_path = '../model/' + exp_name + '/' + exp_name \n"
   ]
  },
  {
   "cell_type": "code",
   "execution_count": 11,
   "metadata": {
    "collapsed": false
   },
   "outputs": [],
   "source": [
    "model = CNN_lstm_model.Model(n_variables, n_classes)"
   ]
  },
  {
   "cell_type": "code",
   "execution_count": 12,
   "metadata": {
    "collapsed": false
   },
   "outputs": [],
   "source": [
    "model.build_cnn_lstm_net(pooling_stride,\n",
    "                         weights_shape,\n",
    "                         bias_shape,\n",
    "                         activation,\n",
    "                         lstm_n_hidden,\n",
    "                         n_classes,\n",
    "                         learning_rate,\n",
    "                         pos_weight)"
   ]
  },
  {
   "cell_type": "code",
   "execution_count": 13,
   "metadata": {
    "collapsed": false
   },
   "outputs": [],
   "source": [
    "train_obj = training.Trainer(model,\n",
    "                 train_data, train_gt,\n",
    "                 validation_data, validation_gt,\n",
    "                 sess,\n",
    "                 summary_path,\n",
    "                 batch_size,\n",
    "                 global_step = 0)"
   ]
  },
  {
   "cell_type": "code",
   "execution_count": 14,
   "metadata": {},
   "outputs": [
    {
     "name": "stdout",
     "output_type": "stream",
     "text": [
      "Tarin Iter 0, auc= 0.242593, fmeasure_max= 0.382295, precision= 0.244612, recall= 0.874552\n",
      "Train Random guess:  , auc= 0.218718fmeasure_max= 0.359640, precision= 0.220859, recall= 0.967742\n",
      "Validation Iter 0, auc= 0.244315, fmeasure_max= 0.393723, precision= 0.272368, recall= 0.710120\n",
      "Validation Random guess:  auc= 0.234920, fmeasure_max= 0.370983, precision= 0.227734, recall= 1.000000\n",
      "Minibatch Loss= 1.019436\n",
      "Tarin Iter 100, auc= 0.680983, fmeasure_max= 0.709887, precision= 0.640351, recall= 0.796364\n",
      "Train Random guess:  , auc= 0.226962fmeasure_max= 0.355380, precision= 0.216955, recall= 0.981818\n",
      "Validation Iter 100, auc= 0.624900, fmeasure_max= 0.656452, precision= 0.619482, recall= 0.698113\n",
      "Validation Random guess:  auc= 0.233961, fmeasure_max= 0.372197, precision= 0.228830, recall= 0.996569\n",
      "Minibatch Loss= 0.755546\n",
      "Tarin Iter 200, auc= 0.791015, fmeasure_max= 0.739382, precision= 0.730916, recall= 0.748047\n",
      "Train Random guess:  , auc= 0.202390fmeasure_max= 0.334555, precision= 0.201687, recall= 0.980469\n",
      "Validation Iter 200, auc= 0.752828, fmeasure_max= 0.692035, precision= 0.714808, recall= 0.670669\n",
      "Validation Random guess:  auc= 0.228617, fmeasure_max= 0.371574, precision= 0.228180, recall= 1.000000\n",
      "Minibatch Loss= 0.630446\n",
      "Tarin Iter 300, auc= 0.848355, fmeasure_max= 0.793103, precision= 0.878282, recall= 0.722986\n",
      "Train Random guess:  , auc= 0.208084fmeasure_max= 0.331812, precision= 0.198906, recall= 1.000000\n",
      "Validation Iter 300, auc= 0.873165, fmeasure_max= 0.802664, precision= 0.779935, recall= 0.826758\n",
      "Validation Random guess:  auc= 0.232080, fmeasure_max= 0.371365, precision= 0.228201, recall= 0.996569\n",
      "Minibatch Loss= 0.559889\n",
      "Tarin Iter 400, auc= 0.903611, fmeasure_max= 0.838900, precision= 0.857430, recall= 0.821154\n",
      "Train Random guess:  , auc= 0.209522fmeasure_max= 0.338230, precision= 0.203696, recall= 0.996154\n",
      "Validation Iter 400, auc= 0.880140, fmeasure_max= 0.806828, precision= 0.847170, recall= 0.770154\n",
      "Validation Random guess:  auc= 0.234597, fmeasure_max= 0.370983, precision= 0.227734, recall= 1.000000\n",
      "Minibatch Loss= 0.487656\n",
      "Tarin Iter 500, auc= 0.879332, fmeasure_max= 0.793905, precision= 0.876106, recall= 0.725806\n",
      "Train Random guess:  , auc= 0.259164fmeasure_max= 0.420890, precision= 0.266641, recall= 0.998534\n",
      "Validation Iter 500, auc= 0.876209, fmeasure_max= 0.811644, precision= 0.810256, recall= 0.813036\n",
      "Validation Random guess:  auc= 0.223357, fmeasure_max= 0.372078, precision= 0.228740, recall= 0.996569\n",
      "Minibatch Loss= 0.668253\n",
      "Tarin Iter 600, auc= 0.878610, fmeasure_max= 0.791783, precision= 0.791045, recall= 0.792523\n",
      "Train Random guess:  , auc= 0.217127fmeasure_max= 0.345879, precision= 0.209266, recall= 0.996262\n",
      "Validation Iter 600, auc= 0.881689, fmeasure_max= 0.811419, precision= 0.818499, recall= 0.804460\n",
      "Validation Random guess:  auc= 0.218131, fmeasure_max= 0.372745, precision= 0.231439, recall= 0.957118\n",
      "Minibatch Loss= 0.532527\n",
      "Tarin Iter 700, auc= 0.947271, fmeasure_max= 0.863988, precision= 0.901613, recall= 0.829377\n",
      "Train Random guess:  , auc= 0.269023fmeasure_max= 0.419211, precision= 0.266802, recall= 0.977745\n",
      "Validation Iter 700, auc= 0.908013, fmeasure_max= 0.827948, precision= 0.843416, recall= 0.813036\n",
      "Validation Random guess:  auc= 0.230365, fmeasure_max= 0.371173, precision= 0.227967, recall= 0.998285\n",
      "Minibatch Loss= 0.509593\n",
      "Tarin Iter 800, auc= 0.893555, fmeasure_max= 0.826595, precision= 0.818505, recall= 0.834846\n",
      "Train Random guess:  , auc= 0.217451fmeasure_max= 0.355353, precision= 0.216495, recall= 0.990926\n",
      "Validation Iter 800, auc= 0.916330, fmeasure_max= 0.849527, precision= 0.851724, recall= 0.847341\n",
      "Validation Random guess:  auc= 0.230151, fmeasure_max= 0.371365, precision= 0.228201, recall= 0.996569\n",
      "Minibatch Loss= 0.551552\n",
      "Tarin Iter 900, auc= 0.884331, fmeasure_max= 0.805085, precision= 0.846702, recall= 0.767367\n",
      "Train Random guess:  , auc= 0.233538fmeasure_max= 0.390028, precision= 0.242353, recall= 0.998384\n",
      "Validation Iter 900, auc= 0.915865, fmeasure_max= 0.851064, precision= 0.844595, recall= 0.857633\n",
      "Validation Random guess:  auc= 0.240628, fmeasure_max= 0.371219, precision= 0.227912, recall= 1.000000\n",
      "Minibatch Loss= 0.574766\n",
      "Tarin Iter 1000, auc= 0.936787, fmeasure_max= 0.865794, precision= 0.870066, recall= 0.861564\n",
      "Train Random guess:  , auc= 0.237761fmeasure_max= 0.388466, precision= 0.241149, recall= 0.998371\n",
      "Validation Iter 1000, auc= 0.934875, fmeasure_max= 0.866779, precision= 0.852405, recall= 0.881647\n",
      "Validation Random guess:  auc= 0.230384, fmeasure_max= 0.371456, precision= 0.228091, recall= 1.000000\n",
      "Minibatch Loss= 0.481155\n",
      "Tarin Iter 1100, auc= 0.920051, fmeasure_max= 0.838565, precision= 0.814224, recall= 0.864407\n",
      "Train Random guess:  , auc= 0.254463fmeasure_max= 0.404740, precision= 0.253714, recall= 1.000000\n",
      "Validation Iter 1100, auc= 0.932958, fmeasure_max= 0.863444, precision= 0.854027, recall= 0.873070\n",
      "Validation Random guess:  auc= 0.234072, fmeasure_max= 0.371300, precision= 0.228515, recall= 0.989708\n",
      "Minibatch Loss= 0.560577\n",
      "Tarin Iter 1200, auc= 0.939682, fmeasure_max= 0.873003, precision= 0.882653, recall= 0.863561\n",
      "Train Random guess:  , auc= 0.247466fmeasure_max= 0.380952, precision= 0.235759, recall= 0.991681\n",
      "Validation Iter 1200, auc= 0.919781, fmeasure_max= 0.842561, precision= 0.849913, recall= 0.835334\n",
      "Validation Random guess:  auc= 0.228357, fmeasure_max= 0.373471, precision= 0.229885, recall= 0.994854\n",
      "Minibatch Loss= 0.508433\n",
      "Tarin Iter 1300, auc= 0.924011, fmeasure_max= 0.855967, precision= 0.906318, recall= 0.810916\n",
      "Train Random guess:  , auc= 0.202174fmeasure_max= 0.334321, precision= 0.201108, recall= 0.990253\n",
      "Validation Iter 1300, auc= 0.940537, fmeasure_max= 0.877042, precision= 0.879310, recall= 0.874786\n",
      "Validation Random guess:  auc= 0.239899, fmeasure_max= 0.371693, precision= 0.228269, recall= 1.000000\n",
      "Minibatch Loss= 0.443423\n",
      "Tarin Iter 1400, auc= 0.896129, fmeasure_max= 0.831481, precision= 0.814882, recall= 0.848771\n",
      "Train Random guess:  , auc= 0.205156fmeasure_max= 0.342839, precision= 0.206883, recall= 1.000000\n",
      "Validation Iter 1400, auc= 0.926582, fmeasure_max= 0.857143, precision= 0.835505, recall= 0.879931\n",
      "Validation Random guess:  auc= 0.252770, fmeasure_max= 0.372683, precision= 0.229936, recall= 0.982847\n",
      "Minibatch Loss= 0.473815\n",
      "Tarin Iter 1500, auc= 0.910268, fmeasure_max= 0.816635, precision= 0.815094, recall= 0.818182\n",
      "Train Random guess:  , auc= 0.203023fmeasure_max= 0.342412, precision= 0.206573, recall= 1.000000\n",
      "Validation Iter 1500, auc= 0.929762, fmeasure_max= 0.860326, precision= 0.859589, recall= 0.861063\n",
      "Validation Random guess:  auc= 0.217108, fmeasure_max= 0.373010, precision= 0.233637, recall= 0.924528\n",
      "Minibatch Loss= 0.471809\n",
      "Tarin Iter 1600, auc= 0.946033, fmeasure_max= 0.863602, precision= 0.900943, recall= 0.829233\n",
      "Train Random guess:  , auc= 0.268549fmeasure_max= 0.425624, precision= 0.270344, recall= 1.000000\n",
      "Validation Iter 1600, auc= 0.889743, fmeasure_max= 0.824798, precision= 0.866038, recall= 0.787307\n",
      "Validation Random guess:  auc= 0.227455, fmeasure_max= 0.371456, precision= 0.228091, recall= 1.000000\n",
      "Minibatch Loss= 0.501068\n",
      "Tarin Iter 1700, auc= 0.928376, fmeasure_max= 0.842725, precision= 0.796502, recall= 0.894643\n",
      "Train Random guess:  , auc= 0.212402fmeasure_max= 0.359435, precision= 0.219092, recall= 1.000000\n",
      "Validation Iter 1700, auc= 0.927357, fmeasure_max= 0.870449, precision= 0.859532, recall= 0.881647\n",
      "Validation Random guess:  auc= 0.227028, fmeasure_max= 0.372265, precision= 0.231575, recall= 0.948542\n",
      "Minibatch Loss= 0.466109\n",
      "Tarin Iter 1800, auc= 0.949801, fmeasure_max= 0.869963, precision= 0.882900, recall= 0.857401\n",
      "Train Random guess:  , auc= 0.212899fmeasure_max= 0.356634, precision= 0.217271, recall= 0.994585\n",
      "Validation Iter 1800, auc= 0.896966, fmeasure_max= 0.824705, precision= 0.876448, recall= 0.778731\n",
      "Validation Random guess:  auc= 0.249110, fmeasure_max= 0.372049, precision= 0.228538, recall= 1.000000\n",
      "Minibatch Loss= 0.408079\n",
      "Tarin Iter 1900, auc= 0.933858, fmeasure_max= 0.870256, precision= 0.891501, recall= 0.850000\n",
      "Train Random guess:  , auc= 0.228702fmeasure_max= 0.371041, precision= 0.228321, recall= 0.989655\n",
      "Validation Iter 1900, auc= 0.924398, fmeasure_max= 0.867271, precision= 0.834921, recall= 0.902230\n",
      "Validation Random guess:  auc= 0.226965, fmeasure_max= 0.372982, precision= 0.230832, recall= 0.970840\n",
      "Minibatch Loss= 0.479434\n",
      "Tarin Iter 2000, auc= 0.957416, fmeasure_max= 0.891892, precision= 0.903285, recall= 0.880783\n",
      "Train Random guess:  , auc= 0.233509fmeasure_max= 0.362230, precision= 0.221173, recall= 1.000000\n",
      "Validation Iter 2000, auc= 0.933209, fmeasure_max= 0.880462, precision= 0.847619, recall= 0.915952\n",
      "Validation Random guess:  auc= 0.235419, fmeasure_max= 0.371750, precision= 0.228673, recall= 0.993139\n",
      "Minibatch Loss= 0.398548\n",
      "Tarin Iter 2100, auc= 0.961328, fmeasure_max= 0.886398, precision= 0.855700, recall= 0.919380\n",
      "Train Random guess:  , auc= 0.246347fmeasure_max= 0.402747, precision= 0.252150, recall= 1.000000\n",
      "Validation Iter 2100, auc= 0.915425, fmeasure_max= 0.851518, precision= 0.816038, recall= 0.890223\n",
      "Validation Random guess:  auc= 0.233790, fmeasure_max= 0.371173, precision= 0.227967, recall= 0.998285\n",
      "Minibatch Loss= 0.471342\n",
      "Tarin Iter 2200, auc= 0.921566, fmeasure_max= 0.861378, precision= 0.862129, recall= 0.860627\n",
      "Train Random guess:  , auc= 0.215464fmeasure_max= 0.367937, precision= 0.226721, recall= 0.975610\n",
      "Validation Iter 2200, auc= 0.922322, fmeasure_max= 0.855754, precision= 0.811060, recall= 0.905660\n",
      "Validation Random guess:  auc= 0.238267, fmeasure_max= 0.373134, precision= 0.232558, recall= 0.943396\n",
      "Minibatch Loss= 0.452450\n",
      "Tarin Iter 2300, auc= 0.966662, fmeasure_max= 0.910331, precision= 0.891221, recall= 0.930279\n",
      "Train Random guess:  , auc= 0.212095fmeasure_max= 0.328841, precision= 0.197891, recall= 0.972112\n",
      "Validation Iter 2300, auc= 0.930107, fmeasure_max= 0.860803, precision= 0.857143, recall= 0.864494\n",
      "Validation Random guess:  auc= 0.215827, fmeasure_max= 0.370983, precision= 0.227734, recall= 1.000000\n",
      "Minibatch Loss= 0.358087\n",
      "Tarin Iter 2400, auc= 0.958453, fmeasure_max= 0.895973, precision= 0.881188, recall= 0.911263\n",
      "Train Random guess:  , auc= 0.229404fmeasure_max= 0.372774, precision= 0.229085, recall= 1.000000\n",
      "Validation Iter 2400, auc= 0.924014, fmeasure_max= 0.862338, precision= 0.870629, recall= 0.854202\n",
      "Validation Random guess:  auc= 0.233086, fmeasure_max= 0.372258, precision= 0.229241, recall= 0.989708\n",
      "Minibatch Loss= 0.402623\n",
      "Tarin Iter 2500, auc= 0.938940, fmeasure_max= 0.865079, precision= 0.865079, recall= 0.865079\n",
      "Train Random guess:  , auc= 0.250859fmeasure_max= 0.395611, precision= 0.248279, recall= 0.973016\n",
      "Validation Iter 2500, auc= 0.932399, fmeasure_max= 0.863896, precision= 0.822981, recall= 0.909091\n",
      "Validation Random guess:  auc= 0.238486, fmeasure_max= 0.373676, precision= 0.229858, recall= 0.998285\n",
      "Minibatch Loss= 0.453964\n",
      "Tarin Iter 2600, auc= 0.952977, fmeasure_max= 0.885106, precision= 0.909091, recall= 0.862355\n",
      "Train Random guess:  , auc= 0.241075fmeasure_max= 0.381284, precision= 0.235547, recall= 1.000000\n",
      "Validation Iter 2600, auc= 0.923687, fmeasure_max= 0.841645, precision= 0.858929, recall= 0.825043\n",
      "Validation Random guess:  auc= 0.236657, fmeasure_max= 0.371456, precision= 0.228091, recall= 1.000000\n",
      "Minibatch Loss= 0.454289\n",
      "Tarin Iter 2700, auc= 0.973613, fmeasure_max= 0.911373, precision= 0.888379, recall= 0.935588\n",
      "Train Random guess:  , auc= 0.246549fmeasure_max= 0.391832, precision= 0.244329, recall= 0.988728\n",
      "Validation Iter 2700, auc= 0.935449, fmeasure_max= 0.865100, precision= 0.878092, recall= 0.852487\n",
      "Validation Random guess:  auc= 0.217575, fmeasure_max= 0.371173, precision= 0.227967, recall= 0.998285\n",
      "Minibatch Loss= 0.389750\n",
      "Tarin Iter 2800, auc= 0.968587, fmeasure_max= 0.895268, precision= 0.905808, recall= 0.884969\n",
      "Train Random guess:  , auc= 0.250382fmeasure_max= 0.406133, precision= 0.255110, recall= 0.995399\n",
      "Validation Iter 2800, auc= 0.922300, fmeasure_max= 0.851658, precision= 0.866785, recall= 0.837050\n",
      "Validation Random guess:  auc= 0.223869, fmeasure_max= 0.371456, precision= 0.228091, recall= 1.000000\n",
      "Minibatch Loss= 0.400421\n",
      "Tarin Iter 2900, auc= 0.953336, fmeasure_max= 0.889946, precision= 0.865258, recall= 0.916084\n",
      "Train Random guess:  , auc= 0.292395fmeasure_max= 0.436641, precision= 0.279297, recall= 1.000000\n",
      "Validation Iter 2900, auc= 0.930970, fmeasure_max= 0.864819, precision= 0.847039, recall= 0.883362\n",
      "Validation Random guess:  auc= 0.223067, fmeasure_max= 0.371648, precision= 0.228325, recall= 0.998285\n",
      "Minibatch Loss= 0.463656\n",
      "Tarin Iter 3000, auc= 0.951882, fmeasure_max= 0.893258, precision= 0.852547, recall= 0.938053\n",
      "Train Random guess:  , auc= 0.263162fmeasure_max= 0.419715, precision= 0.265699, recall= 0.998525\n",
      "Validation Iter 3000, auc= 0.926482, fmeasure_max= 0.866033, precision= 0.872822, recall= 0.859348\n",
      "Validation Random guess:  auc= 0.231744, fmeasure_max= 0.371338, precision= 0.228002, recall= 1.000000\n",
      "Minibatch Loss= 0.420580\n",
      "Tarin Iter 3100, auc= 0.899436, fmeasure_max= 0.845144, precision= 0.857904, recall= 0.832759\n",
      "Train Random guess:  , auc= 0.236279fmeasure_max= 0.369780, precision= 0.226828, recall= 1.000000\n",
      "Validation Iter 3100, auc= 0.908958, fmeasure_max= 0.827525, precision= 0.863806, recall= 0.794168\n",
      "Validation Random guess:  auc= 0.228351, fmeasure_max= 0.370983, precision= 0.227734, recall= 1.000000\n",
      "Minibatch Loss= 0.526249\n",
      "Tarin Iter 3200, auc= 0.920386, fmeasure_max= 0.840502, precision= 0.840502, recall= 0.840502\n",
      "Train Random guess:  , auc= 0.219947fmeasure_max= 0.359475, precision= 0.221301, recall= 0.956989\n",
      "Validation Iter 3200, auc= 0.924696, fmeasure_max= 0.849959, precision= 0.806154, recall= 0.898799\n",
      "Validation Random guess:  auc= 0.231795, fmeasure_max= 0.371134, precision= 0.228481, recall= 0.987993\n",
      "Minibatch Loss= 0.506046\n",
      "Tarin Iter 3300, auc= 0.921903, fmeasure_max= 0.845574, precision= 0.880392, recall= 0.813406\n",
      "Train Random guess:  , auc= 0.229942fmeasure_max= 0.355556, precision= 0.216216, recall= 1.000000\n",
      "Validation Iter 3300, auc= 0.936370, fmeasure_max= 0.863195, precision= 0.889091, recall= 0.838765\n",
      "Validation Random guess:  auc= 0.235820, fmeasure_max= 0.371101, precision= 0.227823, recall= 1.000000\n",
      "Minibatch Loss= 0.487260\n",
      "Tarin Iter 3400, auc= 0.964312, fmeasure_max= 0.895888, precision= 0.895105, recall= 0.896673\n",
      "Train Random guess:  , auc= 0.207476fmeasure_max= 0.365385, precision= 0.223617, recall= 0.998249\n",
      "Validation Iter 3400, auc= 0.930342, fmeasure_max= 0.857904, precision= 0.889503, recall= 0.828473\n",
      "Validation Random guess:  auc= 0.236109, fmeasure_max= 0.371219, precision= 0.227912, recall= 1.000000\n",
      "Minibatch Loss= 0.378393\n",
      "Tarin Iter 3500, auc= 0.934520, fmeasure_max= 0.840580, precision= 0.802372, recall= 0.882609\n",
      "Train Random guess:  , auc= 0.268676fmeasure_max= 0.424746, precision= 0.269637, recall= 1.000000\n",
      "Validation Iter 3500, auc= 0.920490, fmeasure_max= 0.849630, precision= 0.815457, recall= 0.886792\n",
      "Validation Random guess:  auc= 0.225422, fmeasure_max= 0.373222, precision= 0.233913, recall= 0.922813\n",
      "Minibatch Loss= 0.520346\n",
      "Tarin Iter 3600, auc= 0.950698, fmeasure_max= 0.892393, precision= 0.900749, recall= 0.884191\n",
      "Train Random guess:  , auc= 0.212291fmeasure_max= 0.350950, precision= 0.216078, recall= 0.933824\n",
      "Validation Iter 3600, auc= 0.909506, fmeasure_max= 0.853309, precision= 0.891589, recall= 0.818182\n",
      "Validation Random guess:  auc= 0.236754, fmeasure_max= 0.375427, precision= 0.234342, recall= 0.943396\n",
      "Minibatch Loss= 0.376787\n",
      "Tarin Iter 3700, auc= 0.970262, fmeasure_max= 0.904949, precision= 0.895801, recall= 0.914286\n",
      "Train Random guess:  , auc= 0.245074fmeasure_max= 0.395232, precision= 0.246286, recall= 1.000000\n",
      "Validation Iter 3700, auc= 0.888267, fmeasure_max= 0.811808, precision= 0.878244, recall= 0.754717\n",
      "Validation Random guess:  auc= 0.234070, fmeasure_max= 0.370983, precision= 0.227734, recall= 1.000000\n",
      "Minibatch Loss= 0.381967\n",
      "Tarin Iter 3800, auc= 0.957112, fmeasure_max= 0.892388, precision= 0.864407, recall= 0.922242\n",
      "Train Random guess:  , auc= 0.220207fmeasure_max= 0.355970, precision= 0.216523, recall= 1.000000\n",
      "Validation Iter 3800, auc= 0.922267, fmeasure_max= 0.845638, precision= 0.827586, recall= 0.864494\n",
      "Validation Random guess:  auc= 0.225992, fmeasure_max= 0.372289, precision= 0.229449, recall= 0.986278\n",
      "Minibatch Loss= 0.406204\n",
      "Tarin Iter 3900, auc= 0.958463, fmeasure_max= 0.897288, precision= 0.919192, recall= 0.876404\n",
      "Train Random guess:  , auc= 0.245889fmeasure_max= 0.391455, precision= 0.243359, recall= 1.000000\n",
      "Validation Iter 3900, auc= 0.936576, fmeasure_max= 0.868376, precision= 0.865417, recall= 0.871355\n",
      "Validation Random guess:  auc= 0.224652, fmeasure_max= 0.371338, precision= 0.228002, recall= 1.000000\n",
      "Minibatch Loss= 0.438360\n",
      "Tarin Iter 4000, auc= 0.968296, fmeasure_max= 0.916821, precision= 0.905109, recall= 0.928839\n",
      "Train Random guess:  , auc= 0.211015fmeasure_max= 0.347654, precision= 0.211075, recall= 0.985019\n",
      "Validation Iter 4000, auc= 0.936823, fmeasure_max= 0.863833, precision= 0.873684, recall= 0.854202\n",
      "Validation Random guess:  auc= 0.231123, fmeasure_max= 0.372438, precision= 0.234535, recall= 0.903945\n",
      "Minibatch Loss= 0.338649\n",
      "Tarin Iter 4100, auc= 0.969450, fmeasure_max= 0.896251, precision= 0.900175, recall= 0.892361\n",
      "Train Random guess:  , auc= 0.211218fmeasure_max= 0.370618, precision= 0.229434, recall= 0.963542\n",
      "Validation Iter 4100, auc= 0.921736, fmeasure_max= 0.835398, precision= 0.862888, recall= 0.809605\n",
      "Validation Random guess:  auc= 0.235904, fmeasure_max= 0.372485, precision= 0.229692, recall= 0.984563\n",
      "Minibatch Loss= 0.361520\n",
      "Tarin Iter 4200, auc= 0.982193, fmeasure_max= 0.926164, precision= 0.901563, recall= 0.952145\n",
      "Train Random guess:  , auc= 0.229710fmeasure_max= 0.382938, precision= 0.236811, recall= 1.000000\n",
      "Validation Iter 4200, auc= 0.935852, fmeasure_max= 0.868161, precision= 0.909774, recall= 0.830189\n",
      "Validation Random guess:  auc= 0.240706, fmeasure_max= 0.372594, precision= 0.230056, recall= 0.979417\n",
      "Minibatch Loss= 0.344650\n"
     ]
    },
    {
     "ename": "KeyboardInterrupt",
     "evalue": "",
     "output_type": "error",
     "traceback": [
      "\u001b[0;31m---------------------------------------------------------------------------\u001b[0m",
      "\u001b[0;31mKeyboardInterrupt\u001b[0m                         Traceback (most recent call last)",
      "\u001b[0;32m<ipython-input-14-51d04776f999>\u001b[0m in \u001b[0;36m<module>\u001b[0;34m()\u001b[0m\n\u001b[1;32m      2\u001b[0m                 \u001b[0mtrain_eval_step\u001b[0m\u001b[0;34m=\u001b[0m\u001b[0;36m100\u001b[0m\u001b[0;34m,\u001b[0m\u001b[0;34m\u001b[0m\u001b[0m\n\u001b[1;32m      3\u001b[0m                 \u001b[0mvalidation_eval_step\u001b[0m\u001b[0;34m=\u001b[0m\u001b[0;36m100\u001b[0m\u001b[0;34m,\u001b[0m\u001b[0;34m\u001b[0m\u001b[0m\n\u001b[0;32m----> 4\u001b[0;31m                 display_step=100)\n\u001b[0m",
      "\u001b[0;32m/data2/data/zebrahim/git_lab/deepmodels2/src/training.pyc\u001b[0m in \u001b[0;36mtrain\u001b[0;34m(self, max_iter, train_eval_step, validation_eval_step, display_step, checkpoint_step)\u001b[0m\n\u001b[1;32m    132\u001b[0m             _, summary_str, loss, debug_info = self.sess.run((self.model.optimizer, self.summary, self.model.cost, self.model.debug_info),\n\u001b[1;32m    133\u001b[0m                                            feed_dict={self.model.x: batch_x,\n\u001b[0;32m--> 134\u001b[0;31m                                                       self.model.y: batch_y})\n\u001b[0m\u001b[1;32m    135\u001b[0m \u001b[0;34m\u001b[0m\u001b[0m\n\u001b[1;32m    136\u001b[0m             \u001b[0;31m#print debug_info\u001b[0m\u001b[0;34m\u001b[0m\u001b[0;34m\u001b[0m\u001b[0m\n",
      "\u001b[0;32m/data2/data/zebrahim/anaconda2/envs/tensorflow/lib/python2.7/site-packages/tensorflow/python/client/session.pyc\u001b[0m in \u001b[0;36mrun\u001b[0;34m(self, fetches, feed_dict, options, run_metadata)\u001b[0m\n\u001b[1;32m    887\u001b[0m     \u001b[0;32mtry\u001b[0m\u001b[0;34m:\u001b[0m\u001b[0;34m\u001b[0m\u001b[0m\n\u001b[1;32m    888\u001b[0m       result = self._run(None, fetches, feed_dict, options_ptr,\n\u001b[0;32m--> 889\u001b[0;31m                          run_metadata_ptr)\n\u001b[0m\u001b[1;32m    890\u001b[0m       \u001b[0;32mif\u001b[0m \u001b[0mrun_metadata\u001b[0m\u001b[0;34m:\u001b[0m\u001b[0;34m\u001b[0m\u001b[0m\n\u001b[1;32m    891\u001b[0m         \u001b[0mproto_data\u001b[0m \u001b[0;34m=\u001b[0m \u001b[0mtf_session\u001b[0m\u001b[0;34m.\u001b[0m\u001b[0mTF_GetBuffer\u001b[0m\u001b[0;34m(\u001b[0m\u001b[0mrun_metadata_ptr\u001b[0m\u001b[0;34m)\u001b[0m\u001b[0;34m\u001b[0m\u001b[0m\n",
      "\u001b[0;32m/data2/data/zebrahim/anaconda2/envs/tensorflow/lib/python2.7/site-packages/tensorflow/python/client/session.pyc\u001b[0m in \u001b[0;36m_run\u001b[0;34m(self, handle, fetches, feed_dict, options, run_metadata)\u001b[0m\n\u001b[1;32m   1118\u001b[0m     \u001b[0;32mif\u001b[0m \u001b[0mfinal_fetches\u001b[0m \u001b[0;32mor\u001b[0m \u001b[0mfinal_targets\u001b[0m \u001b[0;32mor\u001b[0m \u001b[0;34m(\u001b[0m\u001b[0mhandle\u001b[0m \u001b[0;32mand\u001b[0m \u001b[0mfeed_dict_tensor\u001b[0m\u001b[0;34m)\u001b[0m\u001b[0;34m:\u001b[0m\u001b[0;34m\u001b[0m\u001b[0m\n\u001b[1;32m   1119\u001b[0m       results = self._do_run(handle, final_targets, final_fetches,\n\u001b[0;32m-> 1120\u001b[0;31m                              feed_dict_tensor, options, run_metadata)\n\u001b[0m\u001b[1;32m   1121\u001b[0m     \u001b[0;32melse\u001b[0m\u001b[0;34m:\u001b[0m\u001b[0;34m\u001b[0m\u001b[0m\n\u001b[1;32m   1122\u001b[0m       \u001b[0mresults\u001b[0m \u001b[0;34m=\u001b[0m \u001b[0;34m[\u001b[0m\u001b[0;34m]\u001b[0m\u001b[0;34m\u001b[0m\u001b[0m\n",
      "\u001b[0;32m/data2/data/zebrahim/anaconda2/envs/tensorflow/lib/python2.7/site-packages/tensorflow/python/client/session.pyc\u001b[0m in \u001b[0;36m_do_run\u001b[0;34m(self, handle, target_list, fetch_list, feed_dict, options, run_metadata)\u001b[0m\n\u001b[1;32m   1315\u001b[0m     \u001b[0;32mif\u001b[0m \u001b[0mhandle\u001b[0m \u001b[0;32mis\u001b[0m \u001b[0mNone\u001b[0m\u001b[0;34m:\u001b[0m\u001b[0;34m\u001b[0m\u001b[0m\n\u001b[1;32m   1316\u001b[0m       return self._do_call(_run_fn, self._session, feeds, fetches, targets,\n\u001b[0;32m-> 1317\u001b[0;31m                            options, run_metadata)\n\u001b[0m\u001b[1;32m   1318\u001b[0m     \u001b[0;32melse\u001b[0m\u001b[0;34m:\u001b[0m\u001b[0;34m\u001b[0m\u001b[0m\n\u001b[1;32m   1319\u001b[0m       \u001b[0;32mreturn\u001b[0m \u001b[0mself\u001b[0m\u001b[0;34m.\u001b[0m\u001b[0m_do_call\u001b[0m\u001b[0;34m(\u001b[0m\u001b[0m_prun_fn\u001b[0m\u001b[0;34m,\u001b[0m \u001b[0mself\u001b[0m\u001b[0;34m.\u001b[0m\u001b[0m_session\u001b[0m\u001b[0;34m,\u001b[0m \u001b[0mhandle\u001b[0m\u001b[0;34m,\u001b[0m \u001b[0mfeeds\u001b[0m\u001b[0;34m,\u001b[0m \u001b[0mfetches\u001b[0m\u001b[0;34m)\u001b[0m\u001b[0;34m\u001b[0m\u001b[0m\n",
      "\u001b[0;32m/data2/data/zebrahim/anaconda2/envs/tensorflow/lib/python2.7/site-packages/tensorflow/python/client/session.pyc\u001b[0m in \u001b[0;36m_do_call\u001b[0;34m(self, fn, *args)\u001b[0m\n\u001b[1;32m   1321\u001b[0m   \u001b[0;32mdef\u001b[0m \u001b[0m_do_call\u001b[0m\u001b[0;34m(\u001b[0m\u001b[0mself\u001b[0m\u001b[0;34m,\u001b[0m \u001b[0mfn\u001b[0m\u001b[0;34m,\u001b[0m \u001b[0;34m*\u001b[0m\u001b[0margs\u001b[0m\u001b[0;34m)\u001b[0m\u001b[0;34m:\u001b[0m\u001b[0;34m\u001b[0m\u001b[0m\n\u001b[1;32m   1322\u001b[0m     \u001b[0;32mtry\u001b[0m\u001b[0;34m:\u001b[0m\u001b[0;34m\u001b[0m\u001b[0m\n\u001b[0;32m-> 1323\u001b[0;31m       \u001b[0;32mreturn\u001b[0m \u001b[0mfn\u001b[0m\u001b[0;34m(\u001b[0m\u001b[0;34m*\u001b[0m\u001b[0margs\u001b[0m\u001b[0;34m)\u001b[0m\u001b[0;34m\u001b[0m\u001b[0m\n\u001b[0m\u001b[1;32m   1324\u001b[0m     \u001b[0;32mexcept\u001b[0m \u001b[0merrors\u001b[0m\u001b[0;34m.\u001b[0m\u001b[0mOpError\u001b[0m \u001b[0;32mas\u001b[0m \u001b[0me\u001b[0m\u001b[0;34m:\u001b[0m\u001b[0;34m\u001b[0m\u001b[0m\n\u001b[1;32m   1325\u001b[0m       \u001b[0mmessage\u001b[0m \u001b[0;34m=\u001b[0m \u001b[0mcompat\u001b[0m\u001b[0;34m.\u001b[0m\u001b[0mas_text\u001b[0m\u001b[0;34m(\u001b[0m\u001b[0me\u001b[0m\u001b[0;34m.\u001b[0m\u001b[0mmessage\u001b[0m\u001b[0;34m)\u001b[0m\u001b[0;34m\u001b[0m\u001b[0m\n",
      "\u001b[0;32m/data2/data/zebrahim/anaconda2/envs/tensorflow/lib/python2.7/site-packages/tensorflow/python/client/session.pyc\u001b[0m in \u001b[0;36m_run_fn\u001b[0;34m(session, feed_dict, fetch_list, target_list, options, run_metadata)\u001b[0m\n\u001b[1;32m   1300\u001b[0m           return tf_session.TF_Run(session, options,\n\u001b[1;32m   1301\u001b[0m                                    \u001b[0mfeed_dict\u001b[0m\u001b[0;34m,\u001b[0m \u001b[0mfetch_list\u001b[0m\u001b[0;34m,\u001b[0m \u001b[0mtarget_list\u001b[0m\u001b[0;34m,\u001b[0m\u001b[0;34m\u001b[0m\u001b[0m\n\u001b[0;32m-> 1302\u001b[0;31m                                    status, run_metadata)\n\u001b[0m\u001b[1;32m   1303\u001b[0m \u001b[0;34m\u001b[0m\u001b[0m\n\u001b[1;32m   1304\u001b[0m     \u001b[0;32mdef\u001b[0m \u001b[0m_prun_fn\u001b[0m\u001b[0;34m(\u001b[0m\u001b[0msession\u001b[0m\u001b[0;34m,\u001b[0m \u001b[0mhandle\u001b[0m\u001b[0;34m,\u001b[0m \u001b[0mfeed_dict\u001b[0m\u001b[0;34m,\u001b[0m \u001b[0mfetch_list\u001b[0m\u001b[0;34m)\u001b[0m\u001b[0;34m:\u001b[0m\u001b[0;34m\u001b[0m\u001b[0m\n",
      "\u001b[0;31mKeyboardInterrupt\u001b[0m: "
     ]
    }
   ],
   "source": [
    "train_obj.train(max_iter = 10000,\n",
    "                train_eval_step=100,\n",
    "                validation_eval_step=100,\n",
    "                display_step=100)"
   ]
  },
  {
   "cell_type": "code",
   "execution_count": 13,
   "metadata": {},
   "outputs": [
    {
     "data": {
      "text/plain": [
       "'../model/CNN-LSTM4001/CNN-LSTM4001-10000'"
      ]
     },
     "execution_count": 13,
     "metadata": {},
     "output_type": "execute_result"
    }
   ],
   "source": [
    "saver = tf.train.Saver()\n",
    "saver.save(sess, checkpoint_path, global_step=train_obj.global_step)"
   ]
  },
  {
   "cell_type": "code",
   "execution_count": null,
   "metadata": {},
   "outputs": [],
   "source": [
    "saver = tf.train.Saver()\n",
    "saver.restore(sess, checkpoint_path+'-1000')"
   ]
  },
  {
   "cell_type": "code",
   "execution_count": 15,
   "metadata": {
    "collapsed": false
   },
   "outputs": [
    {
     "name": "stdout",
     "output_type": "stream",
     "text": [
      "Testing auc = 0.924960 F1_max = 0.856121 prec = 0.885400 rec = 0.828716\n",
      "Test Random guess: auc= 0.229861 fmeasure_max= 0.375674 , precision= 0.231298 , recall= 0.999662\n"
     ]
    }
   ],
   "source": [
    "probability_of_pos = nn_eval.evaluate_model(model,\n",
    "                                   sess,\n",
    "                                   test_data,\n",
    "                                   test_gt)"
   ]
  },
  {
   "cell_type": "code",
   "execution_count": 15,
   "metadata": {},
   "outputs": [],
   "source": [
    "#shape of probability_change is (batch size, T, num_classes)\n",
    "#since num_classes = 1 we squeeze that axis\n",
    "probability_change = np.squeeze(probability_of_pos, axis = 2)"
   ]
  },
  {
   "cell_type": "code",
   "execution_count": 16,
   "metadata": {},
   "outputs": [],
   "source": [
    "savemat('../poc/poc'+exp_name+'.mat', {'poc':probability_change})"
   ]
  },
  {
   "cell_type": "code",
   "execution_count": null,
   "metadata": {},
   "outputs": [],
   "source": []
  },
  {
   "cell_type": "code",
   "execution_count": null,
   "metadata": {},
   "outputs": [],
   "source": []
  },
  {
   "cell_type": "code",
   "execution_count": null,
   "metadata": {
    "collapsed": true
   },
   "outputs": [],
   "source": []
  }
 ],
 "metadata": {
  "anaconda-cloud": {},
  "kernelspec": {
   "display_name": "Anaconca with Tensorflow",
   "language": "python",
   "name": "tensorflow"
  },
  "language_info": {
   "codemirror_mode": {
    "name": "ipython",
    "version": 2
   },
   "file_extension": ".py",
   "mimetype": "text/x-python",
   "name": "python",
   "nbconvert_exporter": "python",
   "pygments_lexer": "ipython2",
   "version": "2.7.13"
  }
 },
 "nbformat": 4,
 "nbformat_minor": 2
}
