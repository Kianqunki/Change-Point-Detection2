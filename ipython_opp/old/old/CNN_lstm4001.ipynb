{
 "cells": [
  {
   "cell_type": "code",
   "execution_count": 1,
   "metadata": {
    "collapsed": true
   },
   "outputs": [],
   "source": [
    "exp_name = \"4001\""
   ]
  },
  {
   "cell_type": "markdown",
   "metadata": {},
   "source": [
    "## Running CNN then RNN\n",
    "3 layers CNN [4,4,4], then RNN"
   ]
  },
  {
   "cell_type": "code",
   "execution_count": 2,
   "metadata": {
    "collapsed": false
   },
   "outputs": [],
   "source": [
    "%load_ext autoreload\n",
    "%autoreload 2\n",
    "import numpy as np\n",
    "import pickle \n",
    "\n",
    "import sys\n",
    "sys.path.append('../src')\n",
    "sys.path.append('../src/models')\n",
    "from CNN_lstm_model import *\n",
    "from training import *\n",
    "from nn_eval import *"
   ]
  },
  {
   "cell_type": "markdown",
   "metadata": {},
   "source": [
    "## Loading synthetic data"
   ]
  },
  {
   "cell_type": "code",
   "execution_count": 3,
   "metadata": {
    "collapsed": false
   },
   "outputs": [],
   "source": [
    "#loading data\n",
    "data_path= '/data2/data/zebrahim/synthetic_dataset/data_8192_1000_3_4_4_.03_.03_.2' + 'processed_data.p'\n",
    "\n",
    "with open(data_path, 'r') as fin:\n",
    "    data = pickle.load(fin)\n",
    "    \n",
    "train_data = data['train_data']\n",
    "validation_data = data['validation_data']\n",
    "test_data = data['test_data']\n",
    "\n",
    "train_gt = np.expand_dims(data['train_gt'], axis=-1)\n",
    "validation_gt = np.expand_dims(data['validation_gt'], axis=-1)\n",
    "test_gt = np.expand_dims(data['test_gt'], axis=-1)\n",
    "\n",
    "index_of_changes = data['index_of_changes']\n",
    " "
   ]
  },
  {
   "cell_type": "markdown",
   "metadata": {},
   "source": [
    "## Model"
   ]
  },
  {
   "cell_type": "code",
   "execution_count": 4,
   "metadata": {
    "collapsed": false
   },
   "outputs": [],
   "source": [
    "## Model Parameter\n",
    "n_variables= 12\n",
    "learning_rate = 0.001\n",
    "batch_size = 100\n",
    "\n",
    "pooling_stride = [4,4,4]\n",
    "weights_shape = [[5,n_variables, 32],\n",
    "                 [5, 32, 64],\n",
    "                 [5, 64, 64]]\n",
    "\n",
    "bias_shape = [32, 64, 64]\n",
    "activation = tf.nn.relu\n",
    "\n",
    "lstm_n_hidden = 128\n",
    "n_classes = 1\n",
    "\n",
    "\n",
    "#positive weight for weighted cross entropy\n",
    "s = train_data.shape\n",
    "resolution = np.prod(pooling_stride)\n",
    "gt_effective = np.reshape(train_gt, (s[0]*(s[1]/resolution), resolution))\n",
    "pos_weight = (1.0 - gt_effective.max(axis=1).mean()) / gt_effective.max(axis=1).mean()"
   ]
  },
  {
   "cell_type": "code",
   "execution_count": 5,
   "metadata": {
    "collapsed": false
   },
   "outputs": [
    {
     "data": {
      "text/plain": [
       "2.9945526216295075"
      ]
     },
     "execution_count": 5,
     "metadata": {},
     "output_type": "execute_result"
    }
   ],
   "source": [
    "pos_weight"
   ]
  },
  {
   "cell_type": "code",
   "execution_count": 7,
   "metadata": {
    "collapsed": false
   },
   "outputs": [],
   "source": [
    "# Launch the graph\n",
    "config = tf.ConfigProto()\n",
    "config.gpu_options.allow_growth = True\n",
    "sess = tf.Session(config=config)       "
   ]
  },
  {
   "cell_type": "code",
   "execution_count": 8,
   "metadata": {
    "collapsed": true
   },
   "outputs": [],
   "source": [
    "summary_path = '../summary/' + exp_name \n",
    "checkpoint_path = '../model/' + exp_name + '/' + exp_name \n"
   ]
  },
  {
   "cell_type": "code",
   "execution_count": 9,
   "metadata": {
    "collapsed": false
   },
   "outputs": [],
   "source": [
    "model = Model(n_variables, n_classes)"
   ]
  },
  {
   "cell_type": "code",
   "execution_count": 10,
   "metadata": {
    "collapsed": false
   },
   "outputs": [],
   "source": [
    "model.build_cnn_lstm_net(pooling_stride,\n",
    "                         weights_shape,\n",
    "                         bias_shape,\n",
    "                         activation,\n",
    "                         lstm_n_hidden,\n",
    "                         n_classes,\n",
    "                         learning_rate,\n",
    "                         pos_weight)"
   ]
  },
  {
   "cell_type": "code",
   "execution_count": 11,
   "metadata": {
    "collapsed": false
   },
   "outputs": [],
   "source": [
    "train_obj = Trainer(model,\n",
    "                 train_data, train_gt,\n",
    "                 validation_data, validation_gt,\n",
    "                 sess,\n",
    "                 summary_path,\n",
    "                 batch_size,\n",
    "                 global_step = 0)"
   ]
  },
  {
   "cell_type": "code",
   "execution_count": 12,
   "metadata": {},
   "outputs": [
    {
     "name": "stdout",
     "output_type": "stream",
     "text": [
      "Minibatch Loss= 1.370676\n",
      "Tarin Iter 0, auc= 0.232166, fmeasure_max= 0.407902, precision= 0.259401, recall= 0.954106\n",
      "Train Random guess:  , auc= 0.251452fmeasure_max= 0.400779, precision= 0.250885, recall= 0.995629\n",
      "Validation Iter 0, auc= 0.274751, fmeasure_max= 0.398134, precision= 0.260427, recall= 0.844884\n",
      "Validation Random guess:  auc= 0.244585, fmeasure_max= 0.383439, precision= 0.237569, recall= 0.993399\n",
      "Minibatch Loss= 0.856891\n",
      "Tarin Iter 100, auc= 0.629140, fmeasure_max= 0.651544, precision= 0.669705, recall= 0.634341\n",
      "Train Random guess:  , auc= 0.233181fmeasure_max= 0.381025, precision= 0.235405, recall= 0.999004\n",
      "Validation Iter 100, auc= 0.596056, fmeasure_max= 0.628159, precision= 0.693227, recall= 0.574257\n",
      "Validation Random guess:  auc= 0.221992, fmeasure_max= 0.386233, precision= 0.239336, recall= 1.000000\n",
      "Minibatch Loss= 0.729892\n",
      "Tarin Iter 200, auc= 0.798680, fmeasure_max= 0.748043, precision= 0.801438, recall= 0.701318\n",
      "Train Random guess:  , auc= 0.259859fmeasure_max= 0.413733, precision= 0.260822, recall= 1.000000\n",
      "Validation Iter 200, auc= 0.730269, fmeasure_max= 0.701169, precision= 0.709459, recall= 0.693069\n",
      "Validation Random guess:  auc= 0.241120, fmeasure_max= 0.384921, precision= 0.240695, recall= 0.960396\n",
      "Minibatch Loss= 0.601347\n",
      "Tarin Iter 300, auc= 0.863841, fmeasure_max= 0.795585, precision= 0.792260, recall= 0.798938\n",
      "Train Random guess:  , auc= 0.248991fmeasure_max= 0.400376, precision= 0.250471, recall= 0.997190\n",
      "Validation Iter 300, auc= 0.751895, fmeasure_max= 0.704791, precision= 0.662791, recall= 0.752475\n",
      "Validation Random guess:  auc= 0.233882, fmeasure_max= 0.384224, precision= 0.237983, recall= 0.996700\n",
      "Minibatch Loss= 0.565346\n",
      "Tarin Iter 400, auc= 0.882026, fmeasure_max= 0.810046, precision= 0.836117, recall= 0.785551\n",
      "Train Random guess:  , auc= 0.240309fmeasure_max= 0.385945, precision= 0.239115, recall= 1.000000\n",
      "Validation Iter 400, auc= 0.746582, fmeasure_max= 0.705263, precision= 0.752809, recall= 0.663366\n",
      "Validation Random guess:  auc= 0.251116, fmeasure_max= 0.386167, precision= 0.247005, recall= 0.884488\n",
      "Minibatch Loss= 0.550014\n",
      "Tarin Iter 500, auc= 0.898973, fmeasure_max= 0.827955, precision= 0.826265, recall= 0.829653\n",
      "Train Random guess:  , auc= 0.249566fmeasure_max= 0.397291, precision= 0.247926, recall= 0.999369\n",
      "Validation Iter 500, auc= 0.757640, fmeasure_max= 0.675325, precision= 0.771186, recall= 0.600660\n",
      "Validation Random guess:  auc= 0.236641, fmeasure_max= 0.385450, precision= 0.238924, recall= 0.996700\n",
      "Minibatch Loss= 0.477734\n",
      "Tarin Iter 600, auc= 0.916248, fmeasure_max= 0.849261, precision= 0.841249, recall= 0.857427\n",
      "Train Random guess:  , auc= 0.239760fmeasure_max= 0.381761, precision= 0.235948, recall= 0.999337\n",
      "Validation Iter 600, auc= 0.775657, fmeasure_max= 0.705696, precision= 0.677812, recall= 0.735974\n",
      "Validation Random guess:  auc= 0.228163, fmeasure_max= 0.383302, precision= 0.237089, recall= 1.000000\n",
      "Minibatch Loss= 0.438673\n",
      "Tarin Iter 700, auc= 0.931389, fmeasure_max= 0.867137, precision= 0.841745, recall= 0.894110\n",
      "Train Random guess:  , auc= 0.231007fmeasure_max= 0.382024, precision= 0.236112, recall= 1.000000\n",
      "Validation Iter 700, auc= 0.772779, fmeasure_max= 0.703448, precision= 0.736462, recall= 0.673267\n",
      "Validation Random guess:  auc= 0.224042, fmeasure_max= 0.382817, precision= 0.236719, recall= 1.000000\n",
      "Minibatch Loss= 0.429958\n",
      "Tarin Iter 800, auc= 0.937497, fmeasure_max= 0.869231, precision= 0.861609, recall= 0.876989\n",
      "Train Random guess:  , auc= 0.225872fmeasure_max= 0.365841, precision= 0.224126, recall= 0.994955\n",
      "Validation Iter 800, auc= 0.724702, fmeasure_max= 0.654206, precision= 0.619469, recall= 0.693069\n",
      "Validation Random guess:  auc= 0.240734, fmeasure_max= 0.382817, precision= 0.236719, recall= 1.000000\n",
      "Minibatch Loss= 0.411151\n",
      "Tarin Iter 900, auc= 0.955171, fmeasure_max= 0.885696, precision= 0.858354, recall= 0.914839\n",
      "Train Random guess:  , auc= 0.240112fmeasure_max= 0.390198, precision= 0.242446, recall= 0.999032\n",
      "Validation Iter 900, auc= 0.736345, fmeasure_max= 0.684628, precision= 0.658537, recall= 0.712871\n",
      "Validation Random guess:  auc= 0.235370, fmeasure_max= 0.384516, precision= 0.238974, recall= 0.983498\n",
      " Optimization Finished!\n"
     ]
    }
   ],
   "source": [
    "train_obj.train(max_iter = 1000,\n",
    "                train_eval_step=10,\n",
    "                validation_eval_step=10,\n",
    "                display_step=10,\n",
    "                global_step = 0)"
   ]
  },
  {
   "cell_type": "code",
   "execution_count": 13,
   "metadata": {},
   "outputs": [
    {
     "data": {
      "text/plain": [
       "'../model/4001/4001-1000'"
      ]
     },
     "execution_count": 13,
     "metadata": {},
     "output_type": "execute_result"
    }
   ],
   "source": [
    "saver = tf.train.Saver()\n",
    "saver.save(sess, checkpoint_path, global_step=train_obj.global_step)"
   ]
  },
  {
   "cell_type": "code",
   "execution_count": null,
   "metadata": {},
   "outputs": [],
   "source": [
    "saver = tf.train.Saver()\n",
    "saver.restore(sess, checkpoint_path+'-1000')"
   ]
  },
  {
   "cell_type": "code",
   "execution_count": 15,
   "metadata": {
    "collapsed": false
   },
   "outputs": [
    {
     "name": "stdout",
     "output_type": "stream",
     "text": [
      "Testing auc = 0.667015 F1_max = 0.592684 prec = 0.570241 rec = 0.616967\n",
      "Test Random guess: auc= 0.246990 fmeasure_max= 0.391151 , precision= 0.243125 , recall= 1.000000\n"
     ]
    }
   ],
   "source": [
    "_ = evaluate_model(model,\n",
    "               sess,\n",
    "               test_data,\n",
    "               test_gt)"
   ]
  },
  {
   "cell_type": "code",
   "execution_count": null,
   "metadata": {
    "collapsed": true
   },
   "outputs": [],
   "source": []
  }
 ],
 "metadata": {
  "anaconda-cloud": {},
  "kernelspec": {
   "display_name": "Anaconca with Tensorflow",
   "language": "python",
   "name": "tensorflow"
  },
  "language_info": {
   "codemirror_mode": {
    "name": "ipython",
    "version": 2
   },
   "file_extension": ".py",
   "mimetype": "text/x-python",
   "name": "python",
   "nbconvert_exporter": "python",
   "pygments_lexer": "ipython2",
   "version": "2.7.13"
  }
 },
 "nbformat": 4,
 "nbformat_minor": 2
}
