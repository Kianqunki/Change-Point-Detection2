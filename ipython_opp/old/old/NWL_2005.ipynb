{
 "cells": [
  {
   "cell_type": "code",
   "execution_count": 1,
   "metadata": {},
   "outputs": [],
   "source": [
    "# useing this variable for saving models and summaries\n",
    "exp_name = \"NWN2005\""
   ]
  },
  {
   "cell_type": "markdown",
   "metadata": {},
   "source": [
    "## Importing Libraries"
   ]
  },
  {
   "cell_type": "code",
   "execution_count": 6,
   "metadata": {
    "collapsed": false
   },
   "outputs": [
    {
     "name": "stdout",
     "output_type": "stream",
     "text": [
      "The autoreload extension is already loaded. To reload it, use:\n",
      "  %reload_ext autoreload\n"
     ]
    }
   ],
   "source": [
    "%load_ext autoreload\n",
    "%autoreload 2\n",
    "import numpy as np\n",
    "import tensorflow as tf\n",
    "import sys\n",
    "from hdf5storage import savemat, loadmat\n",
    "\n",
    "sys.path.append('../src')"
   ]
  },
  {
   "cell_type": "code",
   "execution_count": 7,
   "metadata": {
    "collapsed": true
   },
   "outputs": [],
   "source": [
    "from wavelet_conv_model import *\n",
    "from NWL_training import   *\n",
    "from nn_eval import *\n",
    "import data_utils\n",
    "import eval_utils\n",
    "import eval_rank"
   ]
  },
  {
   "cell_type": "code",
   "execution_count": 3,
   "metadata": {
    "collapsed": false
   },
   "outputs": [],
   "source": [
    "# Launch the graph\n",
    "sess = tf.Session()"
   ]
  },
  {
   "cell_type": "code",
   "execution_count": 4,
   "metadata": {
    "collapsed": true
   },
   "outputs": [],
   "source": [
    "# useing this variable for saving models and summaries\n",
    "exp_name = '2005'"
   ]
  },
  {
   "cell_type": "markdown",
   "metadata": {},
   "source": [
    "## Loading synthetic data"
   ]
  },
  {
   "cell_type": "code",
   "execution_count": 12,
   "metadata": {
    "collapsed": true
   },
   "outputs": [],
   "source": [
    "data_path = '/data2/data/zebrahim/data_8192_1000_3_4_4_.03_.03_.2.mat'\n"
   ]
  },
  {
   "cell_type": "code",
   "execution_count": 14,
   "metadata": {
    "collapsed": false
   },
   "outputs": [],
   "source": [
    "#loading data\n",
    "# this dataset has 10 subject, I train data on 7 subject\n",
    "# and test it on the other \n",
    "summary_path = '../summary/' + exp_name \n",
    "\n",
    "data_raw = data_utils.load_mat(data_path, 'data')\n",
    "\n",
    "data_reshaped = np.reshape(data_raw, (data_raw.shape[0], -1, data_raw.shape[-1]))\n",
    "data_transposed = np.transpose(data_reshaped, (0, 2, 1))\n",
    "\n",
    "#parameters\n",
    "window_size = 8192\n",
    "stride = 8192\n",
    "\n",
    "data_raw_train = data_transposed[:890]\n",
    "data_raw_validation= data_transposed[890: 900]\n",
    "data_raw_test = data_transposed[900:1000]\n",
    "\n",
    "_, data_stacked_train = data_utils.slide_window(data_raw_train,\n",
    "                                                    window_size,\n",
    "                                                    stride,\n",
    "                                                    num_dim_expand=0)\n",
    "\n",
    "_, data_stacked_validation = data_utils.slide_window(data_raw_validation,\n",
    "                                                   window_size,\n",
    "                                                   stride,\n",
    "                                                   num_dim_expand=0)\n",
    "\n",
    "#_, data_stacked_test = data_utilities.slide_window(data_raw_test,\n",
    " #                                                  window_size,\n",
    "    #                                                 stride,\n",
    "    #                                                num_dim_expand=0)\n"
   ]
  },
  {
   "cell_type": "code",
   "execution_count": null,
   "metadata": {
    "collapsed": false
   },
   "outputs": [],
   "source": [
    "#loading ground truth \n",
    "gt_raw = data_utils.load_mat(data_path, 'gtruth')\n",
    "\n",
    "gt_raw_train = gt_raw[:890]\n",
    "gt_raw_validation = gt_raw[890:900]\n",
    "gt_raw_test = gt_raw[900:1000]\n",
    "\n",
    "_, gt_stacked_train = data_utils.slide_window(gt_raw_train,\n",
    "                                                  window_size,\n",
    "                                                  stride)\n",
    "\n",
    "_, gt_stacked_validation = data_utils.slide_window(gt_raw_validation,\n",
    "                                                  window_size,\n",
    "                                                  stride)\n",
    "\n",
    "#_, gt_stacked_test = data_utilities.slide_window(gt_raw_test,\n",
    " #                                                window_size,\n",
    "#                                               stride)"
   ]
  },
  {
   "cell_type": "code",
   "execution_count": 13,
   "metadata": {
    "collapsed": false
   },
   "outputs": [],
   "source": [
    "#index of changes\n",
    "gt_mean = data_utils.load_mat(data_path, 'gt_mean')\n",
    "gt_mean_test = gt_mean[900:1000]"
   ]
  },
  {
   "cell_type": "code",
   "execution_count": null,
   "metadata": {
    "collapsed": false
   },
   "outputs": [],
   "source": [
    "#shuffle training data\n",
    "#data_stacked_train, gt_stacked_train = data_utils.shuffle(data_stacked_train, gt_stacked_train)"
   ]
  },
  {
   "cell_type": "code",
   "execution_count": null,
   "metadata": {
    "collapsed": true
   },
   "outputs": [],
   "source": [
    "# Model parameters\n",
    "n_variables = 12\n",
    "learning_rate = 0.001\n",
    "batch_size = 10\n",
    "\n",
    "\n",
    "wavelet_levels = 6    #number of wavelet layer to have in the network\n",
    "convolution_levels = 3    #number of convolution to have in the network\n",
    "pooling_stride = [4, 4, 4]    #stride of pooling in convolution\n",
    "weights_shape = [[5, n_variables, 32],\n",
    "                 [5, 32, 64],\n",
    "                 [5, 64, 64]]\n",
    "bias_shape = [32, 64, 64]\n",
    "wavelet_weights_shape = [[5, n_variables, n_variables]]    #high_pass and low_pass dimensions\n",
    "activation = tf.nn.relu\n",
    "granularity = np.prod(pooling_stride)\n",
    "\n",
    "\n",
    "#positive weight for weighted gradient descendent\n",
    "s = gt_stacked_train.shape\n",
    "shape1 = np.prod(pooling_stride)\n",
    "shape2 = s[1]/shape1\n",
    "gt_effective = np.reshape (gt_stacked_train, (s[0]*shape2, shape1))\n",
    "pos_weight = (1.0 - gt_effective.max(axis=1).mean()) / gt_effective.max(axis=1).mean()"
   ]
  },
  {
   "cell_type": "code",
   "execution_count": null,
   "metadata": {
    "collapsed": false
   },
   "outputs": [],
   "source": [
    "print pos_weight"
   ]
  },
  {
   "cell_type": "code",
   "execution_count": null,
   "metadata": {
    "collapsed": false
   },
   "outputs": [],
   "source": [
    "model = Model(n_variables = n_variables, learning_rate = learning_rate)"
   ]
  },
  {
   "cell_type": "code",
   "execution_count": null,
   "metadata": {
    "collapsed": false
   },
   "outputs": [],
   "source": [
    "model.build_neural_wavelet_layer(pos_weight = pos_weight,    #it is used for the weighted loss function\n",
    "                                 learning_rate = learning_rate,\n",
    "                                 wavelet_levels = wavelet_levels,    \n",
    "                                 convolution_levels = convolution_levels,    \n",
    "                                 pooling_stride = pooling_stride,     \n",
    "                                 weights_shape = weights_shape,\n",
    "                                 bias_shape = bias_shape,\n",
    "                                 wavelet_weights_shape = wavelet_weights_shape,    \n",
    "                                 activation = activation)\n",
    "                        "
   ]
  },
  {
   "cell_type": "code",
   "execution_count": null,
   "metadata": {
    "collapsed": false
   },
   "outputs": [],
   "source": [
    "#load the model\n",
    "saver = tf.train.Saver()\n",
    "saver.restore(sess,\"../models/model\" + exp_name + \"/model\")"
   ]
  },
  {
   "cell_type": "code",
   "execution_count": null,
   "metadata": {
    "collapsed": true
   },
   "outputs": [],
   "source": [
    "trainer = Trainer(model = model,\n",
    "                    data_train = data_stacked_train,\n",
    "                    ground_truth_train = gt_stacked_train,\n",
    "                    data_validation = data_stacked_validation,\n",
    "                    ground_truth_validation = gt_stacked_validation,\n",
    "                    sess = sess,\n",
    "                    summary_path = summary_path,\n",
    "                    batch_size = batch_size)"
   ]
  },
  {
   "cell_type": "code",
   "execution_count": null,
   "metadata": {
    "collapsed": false
   },
   "outputs": [],
   "source": [
    "trainer.train(max_iter = 10000,\n",
    "                train_eval_step = 100,\n",
    "                validation_eval_step = 100,\n",
    "                display_step = 100)"
   ]
  },
  {
   "cell_type": "code",
   "execution_count": null,
   "metadata": {
    "collapsed": false
   },
   "outputs": [],
   "source": [
    "#save the model\n",
    "saver = tf.train.Saver()\n",
    "saver.save(sess, \"../models/model\" + exp_name+ \"/model\")"
   ]
  },
  {
   "cell_type": "code",
   "execution_count": null,
   "metadata": {
    "collapsed": true
   },
   "outputs": [],
   "source": []
  },
  {
   "cell_type": "code",
   "execution_count": null,
   "metadata": {
    "collapsed": false
   },
   "outputs": [],
   "source": [
    "probability_of_pos= evaluate_model (model, sess, data_raw_test, gt_raw_test)"
   ]
  },
  {
   "cell_type": "code",
   "execution_count": null,
   "metadata": {
    "collapsed": false
   },
   "outputs": [],
   "source": [
    "#probability_of_pos is probability of change for each time step in batch size.\n",
    "#probability_of_pos = sess.run(model.prob_of_pos,\n",
    "#                             feed_dict={model.x: data_raw_test})\n",
    "\n",
    "#the shape is (batch_size,num_step,1) we squeeze that to have(btch_size,num_step)\n",
    "probability_change = np.squeeze(probability_of_pos, axis = 2)  "
   ]
  },
  {
   "cell_type": "code",
   "execution_count": 5,
   "metadata": {
    "collapsed": false
   },
   "outputs": [
    {
     "ename": "NameError",
     "evalue": "name 'probability_change' is not defined",
     "output_type": "error",
     "traceback": [
      "\u001b[0;31m---------------------------------------------------------------------------\u001b[0m",
      "\u001b[0;31mNameError\u001b[0m                                 Traceback (most recent call last)",
      "\u001b[0;32m<ipython-input-5-64baee755af7>\u001b[0m in \u001b[0;36m<module>\u001b[0;34m()\u001b[0m\n\u001b[0;32m----> 1\u001b[0;31m \u001b[0msavemat\u001b[0m\u001b[0;34m(\u001b[0m\u001b[0;34m'../poc/poc'\u001b[0m\u001b[0;34m+\u001b[0m\u001b[0mexp_name\u001b[0m\u001b[0;34m+\u001b[0m\u001b[0;34m'.mat'\u001b[0m\u001b[0;34m,\u001b[0m \u001b[0;34m{\u001b[0m\u001b[0;34m'poc'\u001b[0m\u001b[0;34m:\u001b[0m\u001b[0mprobability_change\u001b[0m\u001b[0;34m}\u001b[0m\u001b[0;34m)\u001b[0m\u001b[0;34m\u001b[0m\u001b[0m\n\u001b[0m",
      "\u001b[0;31mNameError\u001b[0m: name 'probability_change' is not defined"
     ]
    }
   ],
   "source": [
    "savemat('../poc/poc'+exp_name+'.mat', {'poc':probability_change})"
   ]
  },
  {
   "cell_type": "code",
   "execution_count": null,
   "metadata": {
    "collapsed": true
   },
   "outputs": [],
   "source": []
  },
  {
   "cell_type": "markdown",
   "metadata": {},
   "source": [
    "## change point evaluation"
   ]
  },
  {
   "cell_type": "code",
   "execution_count": 9,
   "metadata": {
    "collapsed": false
   },
   "outputs": [],
   "source": [
    "probability_change = loadmat('../poc/poc'+exp_name+'.mat')['poc']"
   ]
  },
  {
   "cell_type": "code",
   "execution_count": 16,
   "metadata": {
    "collapsed": false
   },
   "outputs": [],
   "source": [
    "cpd_val, cpd =  eval_rank.non_max_supression(probability_change, 15, data_stacked_train.shape[1])"
   ]
  },
  {
   "cell_type": "code",
   "execution_count": 20,
   "metadata": {
    "collapsed": false
   },
   "outputs": [
    {
     "data": {
      "text/plain": [
       "100"
      ]
     },
     "execution_count": 20,
     "metadata": {},
     "output_type": "execute_result"
    }
   ],
   "source": [
    "len(cpd)"
   ]
  },
  {
   "cell_type": "code",
   "execution_count": 22,
   "metadata": {
    "collapsed": false
   },
   "outputs": [
    {
     "data": {
      "text/plain": [
       "100"
      ]
     },
     "execution_count": 22,
     "metadata": {},
     "output_type": "execute_result"
    }
   ],
   "source": [
    "len(gt_mean_test)"
   ]
  },
  {
   "cell_type": "code",
   "execution_count": 30,
   "metadata": {
    "collapsed": false
   },
   "outputs": [],
   "source": [
    "out = eval_rank.ranking(cpd_val, cpd, gt_mean_test, tolerance= 256)"
   ]
  },
  {
   "cell_type": "code",
   "execution_count": 31,
   "metadata": {
    "collapsed": false
   },
   "outputs": [
    {
     "data": {
      "image/png": "[encoded data removed]",
      "text/plain": [
       "<matplotlib.figure.Figure at 0x7f105a414450>"
      ]
     },
     "metadata": {},
     "output_type": "display_data"
    }
   ],
   "source": [
    "eval_utils.plot_pr_curve(zip(out[0], out[1]))"
   ]
  },
  {
   "cell_type": "code",
   "execution_count": 32,
   "metadata": {
    "collapsed": false
   },
   "outputs": [
    {
     "data": {
      "text/plain": [
       "0.75119634222623322"
      ]
     },
     "execution_count": 32,
     "metadata": {},
     "output_type": "execute_result"
    }
   ],
   "source": [
    "eval_utils.calc_auc(zip(out[0], out[1]), gt_mean_test)"
   ]
  },
  {
   "cell_type": "code",
   "execution_count": null,
   "metadata": {
    "collapsed": true
   },
   "outputs": [],
   "source": []
  },
  {
   "cell_type": "code",
   "execution_count": null,
   "metadata": {
    "collapsed": true
   },
   "outputs": [],
   "source": []
  }
 ],
 "metadata": {
  "anaconda-cloud": {},
  "kernelspec": {
   "display_name": "Anaconca with Tensorflow",
   "language": "python",
   "name": "tensorflow"
  },
  "language_info": {
   "codemirror_mode": {
    "name": "ipython",
    "version": 2
   },
   "file_extension": ".py",
   "mimetype": "text/x-python",
   "name": "python",
   "nbconvert_exporter": "python",
   "pygments_lexer": "ipython2",
   "version": "2.7.13"
  }
 },
 "nbformat": 4,
 "nbformat_minor": 2
}
