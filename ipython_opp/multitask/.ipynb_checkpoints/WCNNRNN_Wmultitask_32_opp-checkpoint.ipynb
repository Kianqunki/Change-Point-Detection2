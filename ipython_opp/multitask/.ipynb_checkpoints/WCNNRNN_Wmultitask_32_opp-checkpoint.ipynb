{
 "cells": [
  {
   "cell_type": "code",
   "execution_count": 1,
   "metadata": {
    "collapsed": true
   },
   "outputs": [],
   "source": [
    "# useing this variable for saving models and summaries\n",
    "exp_name = \"WCNNRNN_Wmultitask_32_opp\""
   ]
  },
  {
   "cell_type": "markdown",
   "metadata": {},
   "source": [
    "## Importing Libraries"
   ]
  },
  {
   "cell_type": "code",
   "execution_count": 2,
   "metadata": {
    "collapsed": false
   },
   "outputs": [],
   "source": [
    "%load_ext autoreload\n",
    "%autoreload 2\n",
    "import tensorflow as tf\n",
    "import numpy as np\n",
    "from hdf5storage import savemat\n",
    "import hickle \n",
    "\n",
    "import sys\n",
    "sys.path.append('../../src')"
   ]
  },
  {
   "cell_type": "code",
   "execution_count": 3,
   "metadata": {},
   "outputs": [],
   "source": [
    "import models.WCNNRNN_model_2 as WCNNRNN_model\n",
    "import training\n",
    "import evaluation.nn_eval_multitask as nn_eval"
   ]
  },
  {
   "cell_type": "markdown",
   "metadata": {},
   "source": [
    "## Loading synthetic data"
   ]
  },
  {
   "cell_type": "code",
   "execution_count": 4,
   "metadata": {
    "collapsed": false
   },
   "outputs": [],
   "source": [
    "#loading data\n",
    "data_path= '../../data/opp8.hkl'\n",
    "with open(data_path, 'r') as fin:\n",
    "    data = hickle.load(fin)"
   ]
  },
  {
   "cell_type": "code",
   "execution_count": 5,
   "metadata": {},
   "outputs": [],
   "source": [
    "train_data = data['train_data']\n",
    "validation_data = data['validation_data']\n",
    "test_data = data['test_data']\n",
    "\n",
    "train_gt = data['train_gt']\n",
    "validation_gt = data['validation_gt']\n",
    "test_gt = data['test_gt']"
   ]
  },
  {
   "cell_type": "code",
   "execution_count": 6,
   "metadata": {},
   "outputs": [
    {
     "data": {
      "text/plain": [
       "((691, 1024, 77), (691, 1024, 19))"
      ]
     },
     "execution_count": 6,
     "metadata": {},
     "output_type": "execute_result"
    }
   ],
   "source": [
    "train_data.shape, train_gt.shape"
   ]
  },
  {
   "cell_type": "code",
   "execution_count": 7,
   "metadata": {},
   "outputs": [
    {
     "data": {
      "text/plain": [
       "((119, 1024, 77), (119, 1024, 19))"
      ]
     },
     "execution_count": 7,
     "metadata": {},
     "output_type": "execute_result"
    }
   ],
   "source": [
    "test_data.shape, test_gt.shape"
   ]
  },
  {
   "cell_type": "markdown",
   "metadata": {},
   "source": [
    "## Model"
   ]
  },
  {
   "cell_type": "code",
   "execution_count": 8,
   "metadata": {
    "collapsed": false
   },
   "outputs": [],
   "source": [
    "# Model parameters\n",
    "n_variables = 77\n",
    "learning_rate = 0.001\n",
    "batch_size = 100\n",
    "\n",
    "wavelet_levels = 6    #number of wavelet layer to have in the network\n",
    "convolution_levels = 3    #number of convolution to have in the network\n",
    "pooling_stride = [4, 4, 2]\n",
    "weights_shape = [[9, n_variables, 32],\n",
    "                 [5, 32, 32],\n",
    "                 [5, 32, 32]]\n",
    "bias_shape = [32, 32, 32]\n",
    "wavelet_weights_shape = [[5, n_variables, n_variables]]    #high_pass and low_pass dimensions\n",
    "activation = tf.nn.relu\n",
    "\n",
    "lstm_n_hidden = 128\n",
    "n_classes = 19\n",
    "\n",
    "##positive weight for weighted cross entropy\n",
    "s = train_gt.shape\n",
    "resolution = np.prod(pooling_stride)\n",
    "\n",
    "pooled_gt = np.reshape(train_gt[:,:(s[0]*s[1]/resolution)*resolution,:], (s[0]*(s[1]/resolution), resolution, s[2])).max(axis=1)\n",
    "pos_weight = (1.0 - pooled_gt.mean(axis = 0)) / pooled_gt.mean(axis=0)\n",
    "\n",
    "variables_weights = np.ones((n_classes,))"
   ]
  },
  {
   "cell_type": "code",
   "execution_count": 9,
   "metadata": {
    "collapsed": false
   },
   "outputs": [
    {
     "data": {
      "text/plain": [
       "(19,)"
      ]
     },
     "execution_count": 9,
     "metadata": {},
     "output_type": "execute_result"
    }
   ],
   "source": [
    "pos_weight.shape"
   ]
  },
  {
   "cell_type": "code",
   "execution_count": 10,
   "metadata": {},
   "outputs": [
    {
     "data": {
      "text/plain": [
       "array([  0.28595522,  42.44204322,  42.96023857,  45.06666667,\n",
       "        44.49794239,  34.32268371,  35.42833608,  50.54312354,\n",
       "        54.97974684,  62.17714286,  69.87179487,  66.41463415,\n",
       "        71.02605863,  57.96533333,  57.4973545 ,  39.35036496,\n",
       "        12.09177028,  47.81236203,   4.77487595])"
      ]
     },
     "execution_count": 10,
     "metadata": {},
     "output_type": "execute_result"
    }
   ],
   "source": [
    "pos_weight"
   ]
  },
  {
   "cell_type": "code",
   "execution_count": 12,
   "metadata": {},
   "outputs": [],
   "source": [
    "# Launch the graph\n",
    "config = tf.ConfigProto()\n",
    "config.gpu_options.allow_growth = True\n",
    "sess = tf.Session(config=config)"
   ]
  },
  {
   "cell_type": "code",
   "execution_count": 13,
   "metadata": {},
   "outputs": [],
   "source": [
    "summary_path = '../../summary/' + exp_name \n",
    "checkpoint_path = '../../model/' + exp_name + '/' + exp_name "
   ]
  },
  {
   "cell_type": "code",
   "execution_count": 14,
   "metadata": {
    "collapsed": false
   },
   "outputs": [],
   "source": [
    "model = WCNNRNN_model.Model(n_variables = n_variables,\n",
    "                            learning_rate = learning_rate,\n",
    "                            n_classes = n_classes)"
   ]
  },
  {
   "cell_type": "code",
   "execution_count": 15,
   "metadata": {
    "collapsed": false
   },
   "outputs": [
    {
     "name": "stdout",
     "output_type": "stream",
     "text": [
      "Tensor(\"Squeeze_21:0\", shape=(?, ?, 19), dtype=float32) Tensor(\"Reshape_7:0\", shape=(?, ?, 19), dtype=float32)\n"
     ]
    }
   ],
   "source": [
    "model.build_model(pos_weight = pos_weight, \n",
    "                 learning_rate = learning_rate,\n",
    "                 wavelet_levels = wavelet_levels,    \n",
    "                 convolution_levels = convolution_levels,    \n",
    "                 pooling_stride = pooling_stride,     \n",
    "                 weights_shape = weights_shape,\n",
    "                 bias_shape = bias_shape,\n",
    "                 wavelet_weights_shape = wavelet_weights_shape,    \n",
    "                 activation = activation,\n",
    "                 lstm_n_hidden = lstm_n_hidden,\n",
    "                 trainable_wavelet = True,\n",
    "                 trainable_conv = True,\n",
    "                 trainable_last = True,\n",
    "                 variables_weights = variables_weights\n",
    ")\n"
   ]
  },
  {
   "cell_type": "code",
   "execution_count": 16,
   "metadata": {
    "collapsed": false
   },
   "outputs": [],
   "source": [
    "trainer = training.Trainer(model = model,\n",
    "                    data_train = train_data,\n",
    "                    ground_truth_train = train_gt,\n",
    "                    data_validation = test_data,\n",
    "                    ground_truth_validation = test_gt,\n",
    "                    sess = sess,\n",
    "                    summary_path = summary_path,\n",
    "                    batch_size = batch_size,\n",
    "                    global_step = 0,\n",
    "                    eval_type = 'multitask')"
   ]
  },
  {
   "cell_type": "code",
   "execution_count": null,
   "metadata": {
    "collapsed": false
   },
   "outputs": [
    {
     "name": "stdout",
     "output_type": "stream",
     "text": [
      "Training: 0\n",
      "ACTIVITY RECOGNITION\n",
      "AUC = 0.066 vs. 0.068\n",
      "F1 = 0.102 vs. 0.099\n",
      "Accuracy = 0.428 vs. 0.056\n",
      "CHANGE DETECTION\n",
      "AUC = 0.154 vs. 0.162\n",
      "F1 = 0.290 vs. 0.280\n",
      "Precision = 0.170 vs. 0.163\n",
      "Recall = 0.987 vs. 0.973\n",
      "Validation: 0\n",
      "ACTIVITY RECOGNITION\n",
      "AUC = 0.064 vs. 0.062\n",
      "F1 = 0.096 vs. 0.087\n",
      "Accuracy = 0.507 vs. 0.056\n",
      "CHANGE DETECTION\n",
      "AUC = 0.118 vs. 0.097\n",
      "F1 = 0.225 vs. 0.183\n",
      "Precision = 0.135 vs. 0.102\n",
      "Recall = 0.665 vs. 0.879\n",
      "Minibatch Loss= 1.273800\n"
     ]
    }
   ],
   "source": [
    "trainer.train(max_iter = 10000,\n",
    "                train_eval_step = 100, \n",
    "                validation_eval_step = 100,\n",
    "                display_step = 100)"
   ]
  },
  {
   "cell_type": "code",
   "execution_count": null,
   "metadata": {
    "collapsed": false
   },
   "outputs": [],
   "source": [
    "#Save the model\n",
    "saver = tf.train.Saver()\n",
    "saver.save(sess, checkpoint_path, global_step=trainer.global_step)"
   ]
  },
  {
   "cell_type": "code",
   "execution_count": null,
   "metadata": {},
   "outputs": [],
   "source": []
  },
  {
   "cell_type": "code",
   "execution_count": 15,
   "metadata": {
    "collapsed": false
   },
   "outputs": [
    {
     "name": "stdout",
     "output_type": "stream",
     "text": [
      "INFO:tensorflow:Restoring parameters from ../../model/WCNNRNN_Wmultitask_16_opp_2Adam/WCNNRNN_Wmultitask_16_opp_2Adam-4495\n"
     ]
    }
   ],
   "source": [
    "#load the model\n",
    "saver = tf.train.Saver()\n",
    "saver.restore(sess, checkpoint_path+'-4495')\n",
    "#saver.restore(sess, '../model/CNN7002_Gleam/CNN7002_Gleam-10000')\n"
   ]
  },
  {
   "cell_type": "code",
   "execution_count": 16,
   "metadata": {
    "collapsed": false
   },
   "outputs": [
    {
     "name": "stdout",
     "output_type": "stream",
     "text": [
      "ACTIVITY RECOGNITION\n",
      "AUC = 0.603 vs. 0.060\n",
      "F1 = 0.631 vs. 0.082\n",
      "Accuracy = 0.911 vs. 0.056\n",
      "CHANGE DETECTION\n",
      "AUC = 0.337 vs. 0.053\n",
      "F1 = 0.405 vs. 0.101\n",
      "Precision = 0.346 vs. 0.054\n",
      "Recall = 0.488 vs. 0.766\n"
     ]
    }
   ],
   "source": [
    "#This is the model evaluation on test dataset\n",
    "_= nn_eval.evaluate_model (model, sess, test_data, test_gt)"
   ]
  },
  {
   "cell_type": "code",
   "execution_count": 17,
   "metadata": {},
   "outputs": [],
   "source": [
    "out = nn_eval.deploy (model, sess, test_data, test_gt)"
   ]
  },
  {
   "cell_type": "code",
   "execution_count": 20,
   "metadata": {
    "collapsed": true
   },
   "outputs": [],
   "source": [
    "#shape of probability_change is (batch size, T, num_classes)\n",
    "#since num_classes = 1 we squeeze that axis\n",
    "#probability_change = np.squeeze(probability_of_pos, axis = 2)"
   ]
  },
  {
   "cell_type": "code",
   "execution_count": 18,
   "metadata": {
    "collapsed": false
   },
   "outputs": [],
   "source": [
    "savemat('../../poc/poc'+exp_name+'.mat', {'poc':out[:,:,-1]})"
   ]
  },
  {
   "cell_type": "code",
   "execution_count": 21,
   "metadata": {},
   "outputs": [
    {
     "data": {
      "text/plain": [
       "1"
      ]
     },
     "execution_count": 21,
     "metadata": {},
     "output_type": "execute_result"
    }
   ],
   "source": [
    "1"
   ]
  },
  {
   "cell_type": "code",
   "execution_count": 22,
   "metadata": {},
   "outputs": [
    {
     "data": {
      "text/plain": [
       "2"
      ]
     },
     "execution_count": 22,
     "metadata": {},
     "output_type": "execute_result"
    }
   ],
   "source": [
    "2"
   ]
  },
  {
   "cell_type": "code",
   "execution_count": null,
   "metadata": {},
   "outputs": [],
   "source": []
  }
 ],
 "metadata": {
  "anaconda-cloud": {},
  "kernelspec": {
   "display_name": "Anaconca with Tensorflow",
   "language": "python",
   "name": "tensorflow"
  },
  "language_info": {
   "codemirror_mode": {
    "name": "ipython",
    "version": 2
   },
   "file_extension": ".py",
   "mimetype": "text/x-python",
   "name": "python",
   "nbconvert_exporter": "python",
   "pygments_lexer": "ipython2",
   "version": "2.7.13"
  }
 },
 "nbformat": 4,
 "nbformat_minor": 2
}
