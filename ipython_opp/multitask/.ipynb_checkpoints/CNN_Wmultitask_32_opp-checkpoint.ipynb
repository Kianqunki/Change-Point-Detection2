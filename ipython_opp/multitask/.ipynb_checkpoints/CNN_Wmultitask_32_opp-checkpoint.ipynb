{
 "cells": [
  {
   "cell_type": "code",
   "execution_count": 1,
   "metadata": {
    "collapsed": true
   },
   "outputs": [],
   "source": [
    "# useing this variable for saving models and summaries\n",
    "exp_name = \"CNN_Wmultitask_32_opp\""
   ]
  },
  {
   "cell_type": "markdown",
   "metadata": {},
   "source": [
    "## Importing Libraries"
   ]
  },
  {
   "cell_type": "code",
   "execution_count": 4,
   "metadata": {
    "collapsed": false
   },
   "outputs": [
    {
     "name": "stdout",
     "output_type": "stream",
     "text": [
      "The autoreload extension is already loaded. To reload it, use:\n",
      "  %reload_ext autoreload\n"
     ]
    }
   ],
   "source": [
    "%load_ext autoreload\n",
    "%autoreload 2\n",
    "import tensorflow as tf\n",
    "import numpy as np\n",
    "from hdf5storage import savemat\n",
    "import hickle \n",
    "\n",
    "import sys\n",
    "sys.path.append('../../src')"
   ]
  },
  {
   "cell_type": "code",
   "execution_count": 5,
   "metadata": {},
   "outputs": [],
   "source": [
    "import models.CNN_model as CNN_model\n",
    "import training\n",
    "import evaluation.nn_eval_multitask as nn_eval"
   ]
  },
  {
   "cell_type": "markdown",
   "metadata": {},
   "source": [
    "## Loading synthetic data"
   ]
  },
  {
   "cell_type": "code",
   "execution_count": 6,
   "metadata": {
    "collapsed": false
   },
   "outputs": [],
   "source": [
    "#loading data\n",
    "data_path= '../../data/opp8.hkl'\n",
    "with open(data_path, 'r') as fin:\n",
    "    data = hickle.load(fin)"
   ]
  },
  {
   "cell_type": "code",
   "execution_count": 7,
   "metadata": {},
   "outputs": [],
   "source": [
    "train_data = data['train_data']\n",
    "validation_data = data['validation_data']\n",
    "test_data = data['test_data']\n",
    "\n",
    "train_gt = data['train_gt']\n",
    "validation_gt = data['validation_gt']\n",
    "test_gt = data['test_gt']"
   ]
  },
  {
   "cell_type": "code",
   "execution_count": 8,
   "metadata": {},
   "outputs": [
    {
     "data": {
      "text/plain": [
       "((691, 1024, 77), (691, 1024, 19))"
      ]
     },
     "execution_count": 8,
     "metadata": {},
     "output_type": "execute_result"
    }
   ],
   "source": [
    "train_data.shape, train_gt.shape"
   ]
  },
  {
   "cell_type": "code",
   "execution_count": 9,
   "metadata": {},
   "outputs": [
    {
     "data": {
      "text/plain": [
       "((119, 1024, 77), (119, 1024, 19))"
      ]
     },
     "execution_count": 9,
     "metadata": {},
     "output_type": "execute_result"
    }
   ],
   "source": [
    "test_data.shape, test_gt.shape"
   ]
  },
  {
   "cell_type": "markdown",
   "metadata": {},
   "source": [
    "## Model"
   ]
  },
  {
   "cell_type": "code",
   "execution_count": 10,
   "metadata": {
    "collapsed": false
   },
   "outputs": [],
   "source": [
    "# Model parameters\n",
    "n_variables = 77\n",
    "learning_rate = 0.001\n",
    "batch_size = 100\n",
    "\n",
    "convolution_levels = 3    #number of convolution to have in the network\n",
    "pooling_stride = [4, 4, 2]\n",
    "weights_shape = [[5, n_variables, 32],\n",
    "                 [5, 32, 32],\n",
    "                 [5, 32, 32]]\n",
    "bias_shape = [32, 32, 32]\n",
    "activation = tf.nn.relu\n",
    "n_classes = 19\n",
    "\n",
    "##positive weight for weighted cross entropy\n",
    "s = train_gt.shape\n",
    "resolution = np.prod(pooling_stride)\n",
    "pooled_gt = np.reshape(train_gt[:,:(s[0]*s[1]/resolution)*resolution,:], (s[0]*(s[1]/resolution), resolution, s[2])).max(axis=1)\n",
    "pos_weight = (1.0 - pooled_gt.mean(axis = 0)) / pooled_gt.mean(axis=0)\n",
    "\n",
    "\n",
    "variables_weights = np.ones((n_classes,))"
   ]
  },
  {
   "cell_type": "code",
   "execution_count": 11,
   "metadata": {
    "collapsed": false
   },
   "outputs": [
    {
     "data": {
      "text/plain": [
       "(19,)"
      ]
     },
     "execution_count": 11,
     "metadata": {},
     "output_type": "execute_result"
    }
   ],
   "source": [
    "pos_weight.shape"
   ]
  },
  {
   "cell_type": "code",
   "execution_count": 12,
   "metadata": {},
   "outputs": [
    {
     "data": {
      "text/plain": [
       "array([  0.28595522,  42.44204322,  42.96023857,  45.06666667,\n",
       "        44.49794239,  34.32268371,  35.42833608,  50.54312354,\n",
       "        54.97974684,  62.17714286,  69.87179487,  66.41463415,\n",
       "        71.02605863,  57.96533333,  57.4973545 ,  39.35036496,\n",
       "        12.09177028,  47.81236203,   4.77487595])"
      ]
     },
     "execution_count": 12,
     "metadata": {},
     "output_type": "execute_result"
    }
   ],
   "source": [
    "pos_weight"
   ]
  },
  {
   "cell_type": "code",
   "execution_count": 13,
   "metadata": {},
   "outputs": [],
   "source": [
    "# Launch the graph\n",
    "config = tf.ConfigProto()\n",
    "config.gpu_options.allow_growth = True\n",
    "sess = tf.Session(config=config)"
   ]
  },
  {
   "cell_type": "code",
   "execution_count": 14,
   "metadata": {},
   "outputs": [],
   "source": [
    "summary_path = '../../summary/' + exp_name \n",
    "checkpoint_path = '../../model/' + exp_name + '/' + exp_name "
   ]
  },
  {
   "cell_type": "code",
   "execution_count": 15,
   "metadata": {
    "collapsed": false
   },
   "outputs": [],
   "source": [
    "model = CNN_model.Model(n_variables = n_variables,\n",
    "                        learning_rate = learning_rate,\n",
    "                        n_classes = n_classes)"
   ]
  },
  {
   "cell_type": "code",
   "execution_count": 16,
   "metadata": {
    "collapsed": false
   },
   "outputs": [],
   "source": [
    "model.build_conv_net(pos_weight_values = pos_weight,\n",
    "                     learning_rate = learning_rate,\n",
    "                     convolution_levels = convolution_levels, \n",
    "                     pooling_stride = pooling_stride,\n",
    "                     weights_shape = weights_shape,\n",
    "                     bias_shape = bias_shape,\n",
    "                     n_classes = n_classes,\n",
    "                     activation = activation,\n",
    "                     trainable_conv = True,\n",
    "                     trainable_last = True,\n",
    "                     variables_weights = variables_weights)"
   ]
  },
  {
   "cell_type": "code",
   "execution_count": null,
   "metadata": {
    "collapsed": false
   },
   "outputs": [],
   "source": [
    "trainer = training.Trainer(model = model,\n",
    "                    data_train = train_data,\n",
    "                    ground_truth_train = train_gt,\n",
    "                    data_validation = test_data,\n",
    "                    ground_truth_validation = test_gt,\n",
    "                    sess = sess,\n",
    "                    summary_path = summary_path,\n",
    "                    batch_size = batch_size,\n",
    "                    global_step = 0,\n",
    "                    eval_type = 'multitask')"
   ]
  },
  {
   "cell_type": "code",
   "execution_count": null,
   "metadata": {
    "collapsed": false
   },
   "outputs": [
    {
     "name": "stdout",
     "output_type": "stream",
     "text": [
      "Train Batch Evaluation\n",
      "ACTIVITY RECOGNITION\n",
      "AUC = 0.066 vs. 0.068\n",
      "F1 = 0.103 vs. 0.101\n",
      "Accuracy = 0.005 vs. 0.056\n",
      "CHANGE DETECTION\n",
      "AUC = 0.173 vs. 0.177\n",
      "F1 = 0.290 vs. 0.294\n",
      "Precision = 0.173 vs. 0.175\n",
      "Recall = 0.883 vs. 0.935\n",
      "Validation\n",
      "ACTIVITY RECOGNITION\n",
      "AUC = 0.065 vs. 0.063\n",
      "F1 = 0.100 vs. 0.092\n",
      "Accuracy = 0.003 vs. 0.056\n",
      "CHANGE DETECTION\n",
      "AUC = 0.119 vs. 0.098\n",
      "F1 = 0.216 vs. 0.182\n",
      "Precision = 0.135 vs. 0.100\n",
      "Recall = 0.538 vs. 0.995\n",
      "Minibatch Loss= 1.308718\n",
      "Train Batch Evaluation\n",
      "ACTIVITY RECOGNITION\n",
      "AUC = 0.519 vs. 0.066\n",
      "F1 = 0.560 vs. 0.096\n",
      "Accuracy = 0.645 vs. 0.056\n",
      "CHANGE DETECTION\n",
      "AUC = 0.344 vs. 0.153\n",
      "F1 = 0.451 vs. 0.269\n",
      "Precision = 0.335 vs. 0.156\n",
      "Recall = 0.690 vs. 0.962\n",
      "Validation\n",
      "ACTIVITY RECOGNITION\n",
      "AUC = 0.339 vs. 0.062\n",
      "F1 = 0.424 vs. 0.091\n",
      "Accuracy = 0.533 vs. 0.056\n",
      "CHANGE DETECTION\n",
      "AUC = 0.295 vs. 0.098\n",
      "F1 = 0.393 vs. 0.182\n",
      "Precision = 0.313 vs. 0.100\n",
      "Recall = 0.530 vs. 0.989\n",
      "Minibatch Loss= 0.382019\n"
     ]
    }
   ],
   "source": [
    "trainer.train(max_iter = 20000,\n",
    "                train_eval_step = 100, \n",
    "                validation_eval_step = 100,\n",
    "                display_step = 100)"
   ]
  },
  {
   "cell_type": "code",
   "execution_count": null,
   "metadata": {
    "collapsed": false
   },
   "outputs": [],
   "source": [
    "#Save the model\n",
    "saver = tf.train.Saver()\n",
    "saver.save(sess, checkpoint_path, global_step=trainer.global_step)"
   ]
  },
  {
   "cell_type": "code",
   "execution_count": null,
   "metadata": {
    "collapsed": false
   },
   "outputs": [],
   "source": [
    "#load the model\n",
    "#saver = tf.train.Saver()\n",
    "#saver.restore(sess, \"../model\" + \"/CNN7002_Gleam\" + \"/CNN7002_Gleam\")\n",
    "#saver.restore(sess, '../model/CNN_activity_multitask_64_opp/CNN_activity_multitask_64_opp-20000')\n"
   ]
  },
  {
   "cell_type": "code",
   "execution_count": null,
   "metadata": {
    "collapsed": false
   },
   "outputs": [],
   "source": [
    "#This is the model evaluation on test dataset\n",
    "_= nn_eval.evaluate_model (model, sess, test_data, test_gt)"
   ]
  },
  {
   "cell_type": "code",
   "execution_count": null,
   "metadata": {},
   "outputs": [],
   "source": [
    "out = nn_eval.deploy (model, sess, test_data, test_gt)"
   ]
  },
  {
   "cell_type": "code",
   "execution_count": null,
   "metadata": {
    "collapsed": true
   },
   "outputs": [],
   "source": [
    "#shape of probability_change is (batch size, T, num_classes)\n",
    "#since num_classes = 1 we squeeze that axis\n",
    "#probability_change = np.squeeze(probability_of_pos, axis = 2)"
   ]
  },
  {
   "cell_type": "code",
   "execution_count": null,
   "metadata": {
    "collapsed": false
   },
   "outputs": [],
   "source": [
    "savemat('../../poc/poc'+exp_name+'.mat', {'poc':out[:,:,-1]})"
   ]
  },
  {
   "cell_type": "code",
   "execution_count": null,
   "metadata": {},
   "outputs": [],
   "source": [
    "1"
   ]
  },
  {
   "cell_type": "code",
   "execution_count": null,
   "metadata": {},
   "outputs": [],
   "source": []
  }
 ],
 "metadata": {
  "anaconda-cloud": {},
  "kernelspec": {
   "display_name": "Anaconca with Tensorflow",
   "language": "python",
   "name": "tensorflow"
  },
  "language_info": {
   "codemirror_mode": {
    "name": "ipython",
    "version": 2
   },
   "file_extension": ".py",
   "mimetype": "text/x-python",
   "name": "python",
   "nbconvert_exporter": "python",
   "pygments_lexer": "ipython2",
   "version": "2.7.13"
  }
 },
 "nbformat": 4,
 "nbformat_minor": 2
}
