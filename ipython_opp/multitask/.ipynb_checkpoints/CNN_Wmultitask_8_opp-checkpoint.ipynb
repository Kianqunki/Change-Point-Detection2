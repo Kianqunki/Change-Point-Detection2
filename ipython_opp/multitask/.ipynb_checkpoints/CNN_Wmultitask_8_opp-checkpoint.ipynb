{
 "cells": [
  {
   "cell_type": "code",
   "execution_count": 1,
   "metadata": {
    "collapsed": true
   },
   "outputs": [],
   "source": [
    "# useing this variable for saving models and summaries\n",
    "exp_name = \"CNN_Wmultitask_8_opp\""
   ]
  },
  {
   "cell_type": "markdown",
   "metadata": {},
   "source": [
    "## Importing Libraries"
   ]
  },
  {
   "cell_type": "code",
   "execution_count": 2,
   "metadata": {
    "collapsed": false
   },
   "outputs": [],
   "source": [
    "%load_ext autoreload\n",
    "%autoreload 2\n",
    "import tensorflow as tf\n",
    "import numpy as np\n",
    "from hdf5storage import savemat\n",
    "import hickle \n",
    "\n",
    "import sys\n",
    "sys.path.append('../../src')"
   ]
  },
  {
   "cell_type": "code",
   "execution_count": 3,
   "metadata": {},
   "outputs": [],
   "source": [
    "import models.CNN_model as CNN_model\n",
    "import training\n",
    "import evaluation.nn_eval_multitask as nn_eval"
   ]
  },
  {
   "cell_type": "markdown",
   "metadata": {},
   "source": [
    "## Loading synthetic data"
   ]
  },
  {
   "cell_type": "code",
   "execution_count": 4,
   "metadata": {
    "collapsed": false
   },
   "outputs": [],
   "source": [
    "#loading data\n",
    "data_path= '../../data/opp8.hkl'\n",
    "with open(data_path, 'r') as fin:\n",
    "    data = hickle.load(fin)"
   ]
  },
  {
   "cell_type": "code",
   "execution_count": 5,
   "metadata": {},
   "outputs": [],
   "source": [
    "train_data = data['train_data']\n",
    "validation_data = data['validation_data']\n",
    "test_data = data['test_data']\n",
    "\n",
    "train_gt = data['train_gt']\n",
    "validation_gt = data['validation_gt']\n",
    "test_gt = data['test_gt']"
   ]
  },
  {
   "cell_type": "code",
   "execution_count": 6,
   "metadata": {},
   "outputs": [
    {
     "data": {
      "text/plain": [
       "((691, 1024, 77), (691, 1024, 19))"
      ]
     },
     "execution_count": 6,
     "metadata": {},
     "output_type": "execute_result"
    }
   ],
   "source": [
    "train_data.shape, train_gt.shape"
   ]
  },
  {
   "cell_type": "code",
   "execution_count": 7,
   "metadata": {},
   "outputs": [
    {
     "data": {
      "text/plain": [
       "((119, 1024, 77), (119, 1024, 19))"
      ]
     },
     "execution_count": 7,
     "metadata": {},
     "output_type": "execute_result"
    }
   ],
   "source": [
    "test_data.shape, test_gt.shape"
   ]
  },
  {
   "cell_type": "markdown",
   "metadata": {},
   "source": [
    "## Model"
   ]
  },
  {
   "cell_type": "code",
   "execution_count": 8,
   "metadata": {
    "collapsed": false
   },
   "outputs": [],
   "source": [
    "# Model parameters\n",
    "n_variables = 77\n",
    "learning_rate = 0.001\n",
    "batch_size = 100\n",
    "\n",
    "convolution_levels = 3    #number of convolution to have in the network\n",
    "pooling_stride = [2, 2, 2]\n",
    "weights_shape = [[5, n_variables, 32],\n",
    "                 [5, 32, 32],\n",
    "                 [5, 32, 32]]\n",
    "bias_shape = [32, 32, 32]\n",
    "activation = tf.nn.relu\n",
    "n_classes = 19\n",
    "\n",
    "##positive weight for weighted cross entropy\n",
    "s = train_gt.shape\n",
    "resolution = np.prod(pooling_stride)\n",
    "pooled_gt = np.reshape(train_gt[:,:(s[0]*s[1]/resolution)*resolution,:], (s[0]*(s[1]/resolution), resolution, s[2])).max(axis=1)\n",
    "pos_weight = (1.0 - pooled_gt.mean(axis = 0)) / pooled_gt.mean(axis=0)\n",
    "\n",
    "\n",
    "variables_weights = np.ones((n_classes,))"
   ]
  },
  {
   "cell_type": "code",
   "execution_count": 9,
   "metadata": {
    "collapsed": false
   },
   "outputs": [
    {
     "data": {
      "text/plain": [
       "(19,)"
      ]
     },
     "execution_count": 9,
     "metadata": {},
     "output_type": "execute_result"
    }
   ],
   "source": [
    "pos_weight.shape"
   ]
  },
  {
   "cell_type": "code",
   "execution_count": 10,
   "metadata": {},
   "outputs": [
    {
     "data": {
      "text/plain": [
       "array([  0.40793684,  51.83632019,  50.54312354,  53.39606396,\n",
       "        53.49661121,  43.82919412,  45.64978903,  64.85852569,\n",
       "        69.47649402,  84.21001927,  98.26823793,  89.34525026,\n",
       "        99.39500568,  75.77777778,  76.17975567,  46.17226667,\n",
       "        13.60019809,  65.60240964,  20.4471387 ])"
      ]
     },
     "execution_count": 10,
     "metadata": {},
     "output_type": "execute_result"
    }
   ],
   "source": [
    "pos_weight"
   ]
  },
  {
   "cell_type": "code",
   "execution_count": 11,
   "metadata": {},
   "outputs": [],
   "source": [
    "# Launch the graph\n",
    "config = tf.ConfigProto()\n",
    "config.gpu_options.allow_growth = True\n",
    "sess = tf.Session(config=config)"
   ]
  },
  {
   "cell_type": "code",
   "execution_count": 12,
   "metadata": {},
   "outputs": [],
   "source": [
    "summary_path = '../../summary/' + exp_name \n",
    "checkpoint_path = '../../model/' + exp_name + '/' + exp_name "
   ]
  },
  {
   "cell_type": "code",
   "execution_count": 13,
   "metadata": {
    "collapsed": false
   },
   "outputs": [],
   "source": [
    "model = CNN_model.Model(n_variables = n_variables,\n",
    "                        learning_rate = learning_rate,\n",
    "                        n_classes = n_classes)"
   ]
  },
  {
   "cell_type": "code",
   "execution_count": 14,
   "metadata": {
    "collapsed": false
   },
   "outputs": [],
   "source": [
    "model.build_conv_net(pos_weight_values = pos_weight,\n",
    "                     learning_rate = learning_rate,\n",
    "                     convolution_levels = convolution_levels, \n",
    "                     pooling_stride = pooling_stride,\n",
    "                     weights_shape = weights_shape,\n",
    "                     bias_shape = bias_shape,\n",
    "                     n_classes = n_classes,\n",
    "                     activation = activation,\n",
    "                     trainable_conv = True,\n",
    "                     trainable_last = True,\n",
    "                     variables_weights = variables_weights)"
   ]
  },
  {
   "cell_type": "code",
   "execution_count": null,
   "metadata": {
    "collapsed": false
   },
   "outputs": [],
   "source": [
    "trainer = training.Trainer(model = model,\n",
    "                    data_train = train_data,\n",
    "                    ground_truth_train = train_gt,\n",
    "                    data_validation = test_data,\n",
    "                    ground_truth_validation = test_gt,\n",
    "                    sess = sess,\n",
    "                    summary_path = summary_path,\n",
    "                    batch_size = batch_size,\n",
    "                    global_step = 0,\n",
    "                    eval_type = 'multitask')"
   ]
  },
  {
   "cell_type": "code",
   "execution_count": null,
   "metadata": {
    "collapsed": false
   },
   "outputs": [
    {
     "name": "stdout",
     "output_type": "stream",
     "text": [
      "Train Batch Evaluation\n",
      "ACTIVITY RECOGNITION\n",
      "AUC = 0.059 vs. 0.058\n",
      "F1 = 0.088 vs. 0.086\n",
      "Accuracy = 0.009 vs. 0.056\n",
      "CHANGE DETECTION\n",
      "AUC = 0.053 vs. 0.049\n",
      "F1 = 0.094 vs. 0.094\n",
      "Precision = 0.055 vs. 0.050\n",
      "Recall = 0.331 vs. 0.837\n",
      "Validation\n",
      "ACTIVITY RECOGNITION\n",
      "AUC = 0.058 vs. 0.056\n",
      "F1 = 0.081 vs. 0.074\n",
      "Accuracy = 0.008 vs. 0.056\n",
      "CHANGE DETECTION\n",
      "AUC = 0.036 vs. 0.026\n",
      "F1 = 0.078 vs. 0.051\n",
      "Precision = 0.048 vs. 0.028\n",
      "Recall = 0.206 vs. 0.263\n",
      "Minibatch Loss= 1.384734\n",
      "Train Batch Evaluation\n",
      "ACTIVITY RECOGNITION\n",
      "AUC = 0.478 vs. 0.059\n",
      "F1 = 0.519 vs. 0.084\n",
      "Accuracy = 0.664 vs. 0.056\n",
      "CHANGE DETECTION\n",
      "AUC = 0.194 vs. 0.054\n",
      "F1 = 0.278 vs. 0.088\n",
      "Precision = 0.244 vs. 0.051\n",
      "Recall = 0.323 vs. 0.317\n",
      "Validation\n",
      "ACTIVITY RECOGNITION\n",
      "AUC = 0.318 vs. 0.058\n",
      "F1 = 0.383 vs. 0.077\n",
      "Accuracy = 0.667 vs. 0.056\n",
      "CHANGE DETECTION\n",
      "AUC = 0.100 vs. 0.026\n",
      "F1 = 0.181 vs. 0.050\n",
      "Precision = 0.128 vs. 0.026\n",
      "Recall = 0.312 vs. 0.799\n",
      "Minibatch Loss= 0.438777\n"
     ]
    }
   ],
   "source": [
    "trainer.train(max_iter = 20000,\n",
    "                train_eval_step = 100, \n",
    "                validation_eval_step = 100,\n",
    "                display_step = 100)"
   ]
  },
  {
   "cell_type": "code",
   "execution_count": 23,
   "metadata": {
    "collapsed": false
   },
   "outputs": [
    {
     "data": {
      "text/plain": [
       "'../../model/CNN_Wmultitask_8_opp/CNN_Wmultitask_8_opp-20000'"
      ]
     },
     "execution_count": 23,
     "metadata": {},
     "output_type": "execute_result"
    }
   ],
   "source": [
    "#Save the model\n",
    "saver = tf.train.Saver()\n",
    "saver.save(sess, checkpoint_path, global_step=trainer.global_step)"
   ]
  },
  {
   "cell_type": "code",
   "execution_count": 24,
   "metadata": {
    "collapsed": false
   },
   "outputs": [],
   "source": [
    "#load the model\n",
    "#saver = tf.train.Saver()\n",
    "#saver.restore(sess, \"../model\" + \"/CNN7002_Gleam\" + \"/CNN7002_Gleam\")\n",
    "#saver.restore(sess, '../model/CNN_activity_multitask_64_opp/CNN_activity_multitask_64_opp-20000')\n"
   ]
  },
  {
   "cell_type": "code",
   "execution_count": 25,
   "metadata": {
    "collapsed": false
   },
   "outputs": [
    {
     "name": "stdout",
     "output_type": "stream",
     "text": [
      "ACTIVITY RECOGNITION\n",
      "AUC = 0.584 vs. 0.056\n",
      "F1 = 0.602 vs. 0.074\n",
      "Accuracy = 0.840 vs. 0.056\n",
      "CHANGE DETECTION\n",
      "AUC = 0.117 vs. 0.026\n",
      "F1 = 0.210 vs. 0.053\n",
      "Precision = 0.180 vs. 0.039\n",
      "Recall = 0.253 vs. 0.082\n"
     ]
    }
   ],
   "source": [
    "#This is the model evaluation on test dataset\n",
    "_= nn_eval.evaluate_model (model, sess, test_data, test_gt)"
   ]
  },
  {
   "cell_type": "code",
   "execution_count": 26,
   "metadata": {},
   "outputs": [],
   "source": [
    "out = nn_eval.deploy (model, sess, test_data, test_gt)"
   ]
  },
  {
   "cell_type": "code",
   "execution_count": 27,
   "metadata": {
    "collapsed": true
   },
   "outputs": [],
   "source": [
    "#shape of probability_change is (batch size, T, num_classes)\n",
    "#since num_classes = 1 we squeeze that axis\n",
    "#probability_change = np.squeeze(probability_of_pos, axis = 2)"
   ]
  },
  {
   "cell_type": "code",
   "execution_count": 28,
   "metadata": {
    "collapsed": false
   },
   "outputs": [],
   "source": [
    "savemat('../../poc/poc'+exp_name+'.mat', {'poc':out[:,:,-1]})"
   ]
  },
  {
   "cell_type": "code",
   "execution_count": 29,
   "metadata": {},
   "outputs": [
    {
     "data": {
      "text/plain": [
       "1"
      ]
     },
     "execution_count": 29,
     "metadata": {},
     "output_type": "execute_result"
    }
   ],
   "source": [
    "1"
   ]
  },
  {
   "cell_type": "code",
   "execution_count": null,
   "metadata": {},
   "outputs": [],
   "source": []
  }
 ],
 "metadata": {
  "anaconda-cloud": {},
  "kernelspec": {
   "display_name": "Anaconca with Tensorflow",
   "language": "python",
   "name": "tensorflow"
  },
  "language_info": {
   "codemirror_mode": {
    "name": "ipython",
    "version": 2
   },
   "file_extension": ".py",
   "mimetype": "text/x-python",
   "name": "python",
   "nbconvert_exporter": "python",
   "pygments_lexer": "ipython2",
   "version": "2.7.13"
  }
 },
 "nbformat": 4,
 "nbformat_minor": 2
}
