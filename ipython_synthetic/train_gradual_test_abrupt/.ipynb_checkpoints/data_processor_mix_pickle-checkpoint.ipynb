{
 "cells": [
  {
   "cell_type": "markdown",
   "metadata": {},
   "source": [
    "## Here we generate training, validation and test dataset. with window_size = 8192"
   ]
  },
  {
   "cell_type": "code",
   "execution_count": 1,
   "metadata": {
    "collapsed": false
   },
   "outputs": [],
   "source": [
    "%load_ext autoreload\n",
    "%autoreload 2\n",
    "import numpy as np\n",
    "import pickle \n",
    "import random\n",
    "\n",
    "import sys\n",
    "sys.path.append('../../src')\n",
    "import data_utils_synthetic as data_utils"
   ]
  },
  {
   "cell_type": "code",
   "execution_count": 2,
   "metadata": {
    "collapsed": false
   },
   "outputs": [],
   "source": [
    "#load the data\n",
    "data_path_test = '../../data/synthetic2/data_8192_1000_3_4_4_.03_.03__.00-.05.mat'\n",
    "data_path_test = '../../data/synthetic2/data_8192_1000_3_4_4_.03_.03__.10-.15.mat'\n",
    "\n",
    "data_raw_train = data_utils.load_mat(data_path_train, 'data')\n",
    "data_raw_test = data_utils.load_mat(data_path_test, 'data')\n",
    "\n",
    "data_raw = np.concatenate((data_raw_train, data_raw_test), axis=0)"
   ]
  },
  {
   "cell_type": "code",
   "execution_count": 3,
   "metadata": {},
   "outputs": [
    {
     "data": {
      "text/plain": [
       "((2000, 3, 4, 8192), (1000, 3, 4, 8192), (1000, 3, 4, 8192))"
      ]
     },
     "execution_count": 3,
     "metadata": {},
     "output_type": "execute_result"
    }
   ],
   "source": [
    "data_raw.shape, data_raw_train.shape, data_raw_test.shape"
   ]
  },
  {
   "cell_type": "code",
   "execution_count": 4,
   "metadata": {
    "collapsed": false
   },
   "outputs": [
    {
     "data": {
      "text/plain": [
       "((900, 8192, 12), (100, 8192, 12), (1000, 8192, 12))"
      ]
     },
     "execution_count": 4,
     "metadata": {},
     "output_type": "execute_result"
    }
   ],
   "source": [
    "#reshape data to transform 4 variables of 3 modalities of a time series to 12 variables.\n",
    "data_reshaped = np.reshape(data_raw, (data_raw.shape[0], -1, data_raw.shape[-1]))\n",
    "#reshape to have (batch_size, signal_len, num_vari)\n",
    "data_transposed = np.transpose(data_reshaped, (0, 2, 1))\n",
    "\n",
    "#parameters\n",
    "window_size = 8192\n",
    "stride = 8192\n",
    "\n",
    "train_idx = np.concatenate((np.arange(0,450), np.arange(1000,1450))) \n",
    "validation_idx = np.concatenate((np.arange(450,500), np.arange(1450,1500))) \n",
    "test_idx = np.concatenate((np.arange(500,1000), np.arange(1500,2000))) \n",
    "\n",
    "data_raw_train = data_transposed[train_idx]\n",
    "data_raw_valdation = data_transposed[validation_idx]\n",
    "data_raw_test = data_transposed[test_idx]\n",
    "\n",
    "_, data_stacked_train = data_utils.slide_window(data_raw_train,\n",
    "                                                    window_size,\n",
    "                                                    stride,\n",
    "                                                    num_dim_expand=0)\n",
    "\n",
    "_, data_stacked_validation = data_utils.slide_window(data_raw_valdation,\n",
    "                                                    window_size,\n",
    "                                                    stride,\n",
    "                                                    num_dim_expand=0)\n",
    "\n",
    "_, data_stacked_test = data_utils.slide_window(data_raw_test,\n",
    "                                               window_size,\n",
    "                                               stride,\n",
    "                                               num_dim_expand=0)\n",
    "\n",
    "data_stacked_train.shape, data_stacked_validation.shape, data_stacked_test.shape"
   ]
  },
  {
   "cell_type": "code",
   "execution_count": 5,
   "metadata": {},
   "outputs": [
    {
     "data": {
      "text/plain": [
       "(1000, 8192)"
      ]
     },
     "execution_count": 5,
     "metadata": {},
     "output_type": "execute_result"
    }
   ],
   "source": [
    "data_utils.load_mat(data_path_train, 'gtruth').shape"
   ]
  },
  {
   "cell_type": "code",
   "execution_count": 6,
   "metadata": {},
   "outputs": [
    {
     "data": {
      "text/plain": [
       "(2000, 8192)"
      ]
     },
     "execution_count": 6,
     "metadata": {},
     "output_type": "execute_result"
    }
   ],
   "source": [
    "data_path_train_gtruth = data_utils.load_mat(data_path_train, 'gtruth')\n",
    "data_path_test_gtruth = data_utils.load_mat(data_path_test, 'gtruth')\n",
    "\n",
    "gt_raw = np.concatenate((data_path_train_gtruth, data_path_test_gtruth), axis=0)\n",
    "gt_raw.shape"
   ]
  },
  {
   "cell_type": "code",
   "execution_count": 7,
   "metadata": {
    "collapsed": false
   },
   "outputs": [
    {
     "data": {
      "text/plain": [
       "((900, 8192), (100, 8192), (1000, 8192))"
      ]
     },
     "execution_count": 7,
     "metadata": {},
     "output_type": "execute_result"
    }
   ],
   "source": [
    "gt_raw_train = gt_raw[train_idx]\n",
    "gt_raw_test = gt_raw[test_idx]\n",
    "gt_raw_validation = gt_raw[validation_idx]\n",
    "\n",
    "_, gt_stacked_train = data_utils.slide_window(gt_raw_train,\n",
    "                                              window_size,\n",
    "                                              stride,\n",
    "                                              num_dim_expand=0)\n",
    "\n",
    "_, gt_stacked_validation = data_utils.slide_window(gt_raw_validation,\n",
    "                                              window_size,\n",
    "                                              stride,\n",
    "                                              num_dim_expand=0)\n",
    "\n",
    "_, gt_stacked_test = data_utils.slide_window(gt_raw_test,\n",
    "                                             window_size,\n",
    "                                             stride,\n",
    "                                             num_dim_expand=0)\n",
    "\n",
    "gt_stacked_train.shape, gt_stacked_validation.shape, gt_stacked_test.shape"
   ]
  },
  {
   "cell_type": "code",
   "execution_count": 8,
   "metadata": {
    "collapsed": true
   },
   "outputs": [
    {
     "data": {
      "text/plain": [
       "(1000, 4)"
      ]
     },
     "execution_count": 8,
     "metadata": {},
     "output_type": "execute_result"
    }
   ],
   "source": [
    "#index of changes\n",
    "gt_mean_train_file = data_utils.load_mat(data_path_train, 'gt_mean')\n",
    "gt_mean_test_file = data_utils.load_mat(data_path_test, 'gt_mean')\n",
    "gt_mean = np.concatenate((gt_mean_train_file, gt_mean_test_file), axis=0)\n",
    "gt_mean_test = gt_mean[test_idx]\n",
    "gt_mean_test.shape"
   ]
  },
  {
   "cell_type": "code",
   "execution_count": 9,
   "metadata": {
    "collapsed": true
   },
   "outputs": [],
   "source": [
    "data = {}\n",
    "data['train_data'] = data_stacked_train\n",
    "data['train_gt'] = gt_stacked_train\n",
    "\n",
    "data['validation_data'] = data_stacked_validation\n",
    "data['validation_gt'] = gt_stacked_validation\n",
    "\n",
    "data['test_data'] = data_stacked_test\n",
    "data['test_gt'] = gt_stacked_test\n",
    "\n",
    "data['index_of_changes'] = gt_mean_test"
   ]
  },
  {
   "cell_type": "code",
   "execution_count": null,
   "metadata": {},
   "outputs": [],
   "source": []
  },
  {
   "cell_type": "code",
   "execution_count": 10,
   "metadata": {
    "collapsed": false
   },
   "outputs": [],
   "source": [
    "path_to_save = '../../data/synthetic2/'\n",
    "with open(path_to_save+'processed3.p', 'w') as fout:\n",
    "    pickle.dump(data, fout)"
   ]
  },
  {
   "cell_type": "code",
   "execution_count": null,
   "metadata": {
    "collapsed": true
   },
   "outputs": [],
   "source": []
  },
  {
   "cell_type": "code",
   "execution_count": null,
   "metadata": {},
   "outputs": [],
   "source": []
  },
  {
   "cell_type": "code",
   "execution_count": null,
   "metadata": {},
   "outputs": [],
   "source": []
  },
  {
   "cell_type": "code",
   "execution_count": null,
   "metadata": {},
   "outputs": [],
   "source": []
  }
 ],
 "metadata": {
  "anaconda-cloud": {},
  "kernelspec": {
   "display_name": "Anaconca with Tensorflow",
   "language": "python",
   "name": "tensorflow"
  },
  "language_info": {
   "codemirror_mode": {
    "name": "ipython",
    "version": 2
   },
   "file_extension": ".py",
   "mimetype": "text/x-python",
   "name": "python",
   "nbconvert_exporter": "python",
   "pygments_lexer": "ipython2",
   "version": "2.7.13"
  }
 },
 "nbformat": 4,
 "nbformat_minor": 2
}
