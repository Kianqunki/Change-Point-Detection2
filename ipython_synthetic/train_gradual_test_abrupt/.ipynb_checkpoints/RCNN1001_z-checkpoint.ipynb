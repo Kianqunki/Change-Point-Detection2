{
 "cells": [
  {
   "cell_type": "code",
   "execution_count": 1,
   "metadata": {
    "collapsed": true
   },
   "outputs": [],
   "source": [
    "# useing this variable for saving models and summaries\n",
    "exp_name = \"RCNN1001_z\""
   ]
  },
  {
   "cell_type": "markdown",
   "metadata": {},
   "source": [
    "## Running CNN then RNN\n",
    "5 layers CNN [2, 2, 2, 2, 2], then RNN, bias_shape = [32,64,64, 64, 64]"
   ]
  },
  {
   "cell_type": "code",
   "execution_count": 2,
   "metadata": {
    "collapsed": false
   },
   "outputs": [],
   "source": [
    "%load_ext autoreload\n",
    "%autoreload 2\n",
    "import numpy as np\n",
    "import tensorflow as tf\n",
    "import sys\n",
    "from hdf5storage import savemat\n",
    "import pickle\n",
    "\n",
    "sys.path.append('../../src')\n",
    "sys.path.append('../../src/models')"
   ]
  },
  {
   "cell_type": "code",
   "execution_count": 3,
   "metadata": {},
   "outputs": [],
   "source": [
    "import models.CNN_lstm_model as CNN_lstm_model\n",
    "import training  \n",
    "import evaluation.nn_eval as nn_eval "
   ]
  },
  {
   "cell_type": "markdown",
   "metadata": {},
   "source": [
    "## Loading synthetic data"
   ]
  },
  {
   "cell_type": "code",
   "execution_count": 4,
   "metadata": {
    "collapsed": false
   },
   "outputs": [],
   "source": [
    "#loading data\n",
    "data_path= '../../data/synthetic2/' + 'processed4.p'\n",
    "\n",
    "with open(data_path, 'r') as fin:\n",
    "    data = pickle.load(fin)\n",
    "    \n",
    "train_data = data['train_data']\n",
    "validation_data = data['validation_data']\n",
    "test_data = data['test_data']\n",
    "\n",
    "train_gt = np.expand_dims(data['train_gt'], axis=-1)\n",
    "validation_gt = np.expand_dims(data['validation_gt'], axis=-1)\n",
    "test_gt = np.expand_dims(data['test_gt'], axis=-1)\n",
    "\n",
    "index_of_changes = data['index_of_changes']\n",
    " "
   ]
  },
  {
   "cell_type": "markdown",
   "metadata": {},
   "source": [
    "## Model"
   ]
  },
  {
   "cell_type": "code",
   "execution_count": 5,
   "metadata": {
    "collapsed": false
   },
   "outputs": [],
   "source": [
    "## Model Parameter\n",
    "n_variables= 12\n",
    "learning_rate = 0.001\n",
    "batch_size = 10\n",
    "\n",
    "pooling_stride = [2, 2, 2, 2, 2]\n",
    "weights_shape = [[5,n_variables, 32],\n",
    "                 [5, 32, 64],\n",
    "                 [5, 64, 64],\n",
    "                 [5, 64, 64],\n",
    "                 [5, 64, 64]]\n",
    "\n",
    "bias_shape = [32,64,64, 64, 64]\n",
    "activation = tf.nn.relu\n",
    "\n",
    "lstm_n_hidden = 128\n",
    "n_classes = 1\n",
    "\n",
    "\n",
    "#positive weight for weighted cross entropy\n",
    "s = train_data.shape\n",
    "resolution = np.prod(pooling_stride)\n",
    "gt_effective = np.reshape(train_gt, (s[0]*(s[1]/resolution), resolution))\n",
    "pos_weight = (1.0 - gt_effective.max(axis=1).mean()) / gt_effective.max(axis=1).mean()"
   ]
  },
  {
   "cell_type": "code",
   "execution_count": 6,
   "metadata": {
    "collapsed": false
   },
   "outputs": [
    {
     "data": {
      "text/plain": [
       "2.4604516487302859"
      ]
     },
     "execution_count": 6,
     "metadata": {},
     "output_type": "execute_result"
    }
   ],
   "source": [
    "pos_weight"
   ]
  },
  {
   "cell_type": "code",
   "execution_count": 7,
   "metadata": {
    "collapsed": false
   },
   "outputs": [],
   "source": [
    "# Launch the graph\n",
    "config = tf.ConfigProto()\n",
    "config.gpu_options.allow_growth = True\n",
    "sess = tf.Session(config=config)"
   ]
  },
  {
   "cell_type": "code",
   "execution_count": 8,
   "metadata": {
    "collapsed": true
   },
   "outputs": [],
   "source": [
    "summary_path = '../../summary_synthetic/train_gradual_test_abrupt/' + exp_name \n",
    "checkpoint_path = '../../model_synthetic/train_gradual_test_abrupt/' + exp_name + '/' + exp_name "
   ]
  },
  {
   "cell_type": "code",
   "execution_count": 9,
   "metadata": {
    "collapsed": false
   },
   "outputs": [],
   "source": [
    "model = CNN_lstm_model.Model(n_variables, n_classes)"
   ]
  },
  {
   "cell_type": "code",
   "execution_count": 10,
   "metadata": {
    "collapsed": false
   },
   "outputs": [],
   "source": [
    "model.build_cnn_lstm_net(pooling_stride,\n",
    "                         weights_shape,\n",
    "                         bias_shape,\n",
    "                         activation,\n",
    "                         lstm_n_hidden,\n",
    "                         n_classes,\n",
    "                         learning_rate,\n",
    "                         pos_weight,\n",
    "                         trainable_conv=True,\n",
    "                         trainable_last=True)\n"
   ]
  },
  {
   "cell_type": "code",
   "execution_count": null,
   "metadata": {
    "collapsed": false
   },
   "outputs": [],
   "source": [
    "train_obj = training.Trainer(model,\n",
    "                 train_data, train_gt,\n",
    "                 validation_data, validation_gt,\n",
    "                 sess,\n",
    "                 summary_path,\n",
    "                 batch_size,\n",
    "                 global_step = 0)"
   ]
  },
  {
   "cell_type": "code",
   "execution_count": null,
   "metadata": {},
   "outputs": [
    {
     "name": "stdout",
     "output_type": "stream",
     "text": [
      "Training: 0\n",
      "AUC = 0.240 vs. 0.272\n",
      "F1 = 0.429 vs. 0.426\n",
      "Precision = 0.274 vs. 0.270\n",
      "Recall = 0.990 vs. 1.000\n",
      "Validation: 0\n",
      "AUC = 0.276 vs. 0.284\n",
      "F1 = 0.447 vs. 0.445\n",
      "Precision = 0.288 vs. 0.286\n",
      "Recall = 1.000 vs. 1.000\n",
      "Minibatch Loss= 0.985395\n",
      "Training: 100\n",
      "AUC = 0.733 vs. 0.283\n",
      "F1 = 0.667 vs. 0.454\n",
      "Precision = 0.753 vs. 0.294\n",
      "Recall = 0.599 vs. 1.000\n",
      "Validation: 100\n",
      "AUC = 0.764 vs. 0.287\n",
      "F1 = 0.691 vs. 0.445\n",
      "Precision = 0.770 vs. 0.286\n",
      "Recall = 0.627 vs. 1.000\n",
      "Minibatch Loss= 0.852447\n",
      "Training: 200\n",
      "AUC = 0.819 vs. 0.314\n",
      "F1 = 0.736 vs. 0.464\n",
      "Precision = 0.740 vs. 0.302\n",
      "Recall = 0.733 vs. 0.999\n",
      "Validation: 200\n",
      "AUC = 0.800 vs. 0.284\n",
      "F1 = 0.735 vs. 0.445\n",
      "Precision = 0.791 vs. 0.286\n",
      "Recall = 0.686 vs. 1.000\n",
      "Minibatch Loss= 0.756153\n",
      "Training: 300\n",
      "AUC = 0.832 vs. 0.259\n",
      "F1 = 0.772 vs. 0.419\n",
      "Precision = 0.799 vs. 0.265\n",
      "Recall = 0.746 vs. 0.999\n",
      "Validation: 300\n",
      "AUC = 0.828 vs. 0.285\n",
      "F1 = 0.754 vs. 0.445\n",
      "Precision = 0.814 vs. 0.286\n",
      "Recall = 0.703 vs. 1.000\n",
      "Minibatch Loss= 0.683236\n",
      "Training: 400\n",
      "AUC = 0.860 vs. 0.272\n",
      "F1 = 0.789 vs. 0.427\n",
      "Precision = 0.888 vs. 0.273\n",
      "Recall = 0.710 vs. 0.977\n",
      "Validation: 400\n",
      "AUC = 0.844 vs. 0.284\n",
      "F1 = 0.771 vs. 0.445\n",
      "Precision = 0.824 vs. 0.286\n",
      "Recall = 0.725 vs. 1.000\n",
      "Minibatch Loss= 0.653919\n",
      "Training: 500\n",
      "AUC = 0.871 vs. 0.290\n",
      "F1 = 0.779 vs. 0.459\n",
      "Precision = 0.796 vs. 0.298\n",
      "Recall = 0.763 vs. 0.995\n",
      "Validation: 500\n",
      "AUC = 0.825 vs. 0.285\n",
      "F1 = 0.745 vs. 0.445\n",
      "Precision = 0.853 vs. 0.286\n",
      "Recall = 0.661 vs. 1.000\n",
      "Minibatch Loss= 0.639642\n",
      "Training: 600\n",
      "AUC = 0.857 vs. 0.285\n",
      "F1 = 0.784 vs. 0.451\n",
      "Precision = 0.825 vs. 0.291\n",
      "Recall = 0.748 vs. 0.999\n",
      "Validation: 600\n",
      "AUC = 0.844 vs. 0.286\n",
      "F1 = 0.768 vs. 0.445\n",
      "Precision = 0.802 vs. 0.286\n",
      "Recall = 0.736 vs. 1.000\n",
      "Minibatch Loss= 0.651045\n",
      "Training: 700\n",
      "AUC = 0.870 vs. 0.283\n",
      "F1 = 0.791 vs. 0.432\n",
      "Precision = 0.851 vs. 0.276\n",
      "Recall = 0.740 vs. 1.000\n",
      "Validation: 700\n",
      "AUC = 0.862 vs. 0.287\n",
      "F1 = 0.784 vs. 0.445\n",
      "Precision = 0.830 vs. 0.286\n",
      "Recall = 0.742 vs. 0.999\n",
      "Minibatch Loss= 0.646334\n",
      "Training: 800\n",
      "AUC = 0.909 vs. 0.264\n",
      "F1 = 0.822 vs. 0.438\n",
      "Precision = 0.818 vs. 0.280\n",
      "Recall = 0.827 vs. 1.000\n",
      "Validation: 800\n",
      "AUC = 0.873 vs. 0.283\n",
      "F1 = 0.793 vs. 0.445\n",
      "Precision = 0.841 vs. 0.286\n",
      "Recall = 0.749 vs. 1.000\n",
      "Minibatch Loss= 0.577623\n",
      "Training: 900\n",
      "AUC = 0.896 vs. 0.279\n",
      "F1 = 0.800 vs. 0.430\n",
      "Precision = 0.910 vs. 0.277\n",
      "Recall = 0.714 vs. 0.960\n",
      "Validation: 900\n",
      "AUC = 0.874 vs. 0.288\n",
      "F1 = 0.790 vs. 0.445\n",
      "Precision = 0.837 vs. 0.286\n",
      "Recall = 0.748 vs. 0.999\n",
      "Minibatch Loss= 0.542609\n",
      "Training: 1000\n",
      "AUC = 0.888 vs. 0.286\n",
      "F1 = 0.807 vs. 0.444\n",
      "Precision = 0.855 vs. 0.285\n",
      "Recall = 0.764 vs. 1.000\n",
      "Validation: 1000\n",
      "AUC = 0.882 vs. 0.290\n",
      "F1 = 0.799 vs. 0.445\n",
      "Precision = 0.860 vs. 0.286\n",
      "Recall = 0.745 vs. 1.000\n",
      "Minibatch Loss= 0.608284\n",
      "Training: 1100\n",
      "AUC = 0.895 vs. 0.255\n",
      "F1 = 0.819 vs. 0.428\n",
      "Precision = 0.806 vs. 0.272\n",
      "Recall = 0.832 vs. 1.000\n",
      "Validation: 1100\n",
      "AUC = 0.888 vs. 0.285\n",
      "F1 = 0.799 vs. 0.445\n",
      "Precision = 0.856 vs. 0.286\n",
      "Recall = 0.748 vs. 1.000\n",
      "Minibatch Loss= 0.557019\n",
      "Training: 1200\n",
      "AUC = 0.928 vs. 0.282\n",
      "F1 = 0.845 vs. 0.439\n",
      "Precision = 0.910 vs. 0.281\n",
      "Recall = 0.789 vs. 0.997\n",
      "Validation: 1200\n",
      "AUC = 0.888 vs. 0.282\n",
      "F1 = 0.806 vs. 0.445\n",
      "Precision = 0.851 vs. 0.286\n",
      "Recall = 0.766 vs. 0.999\n",
      "Minibatch Loss= 0.492834\n",
      "Training: 1300\n",
      "AUC = 0.884 vs. 0.292\n",
      "F1 = 0.797 vs. 0.442\n",
      "Precision = 0.792 vs. 0.284\n",
      "Recall = 0.803 vs. 0.999\n",
      "Validation: 1300\n",
      "AUC = 0.894 vs. 0.283\n",
      "F1 = 0.811 vs. 0.445\n",
      "Precision = 0.850 vs. 0.286\n",
      "Recall = 0.775 vs. 1.000\n",
      "Minibatch Loss= 0.610486\n",
      "Training: 1400\n",
      "AUC = 0.932 vs. 0.280\n",
      "F1 = 0.868 vs. 0.435\n",
      "Precision = 0.917 vs. 0.281\n",
      "Recall = 0.824 vs. 0.963\n",
      "Validation: 1400\n",
      "AUC = 0.891 vs. 0.289\n",
      "F1 = 0.812 vs. 0.445\n",
      "Precision = 0.860 vs. 0.286\n",
      "Recall = 0.768 vs. 1.000\n",
      "Minibatch Loss= 0.542275\n",
      "Training: 1500\n",
      "AUC = 0.917 vs. 0.279\n",
      "F1 = 0.833 vs. 0.431\n",
      "Precision = 0.921 vs. 0.275\n",
      "Recall = 0.761 vs. 0.997\n",
      "Validation: 1500\n",
      "AUC = 0.882 vs. 0.285\n",
      "F1 = 0.794 vs. 0.445\n",
      "Precision = 0.837 vs. 0.286\n",
      "Recall = 0.756 vs. 1.000\n",
      "Minibatch Loss= 0.498344\n",
      "Training: 1600\n",
      "AUC = 0.931 vs. 0.286\n",
      "F1 = 0.864 vs. 0.441\n",
      "Precision = 0.879 vs. 0.286\n",
      "Recall = 0.849 vs. 0.965\n",
      "Validation: 1600\n",
      "AUC = 0.893 vs. 0.283\n",
      "F1 = 0.810 vs. 0.445\n",
      "Precision = 0.855 vs. 0.286\n",
      "Recall = 0.771 vs. 0.999\n",
      "Minibatch Loss= 0.492027\n",
      "Training: 1700\n",
      "AUC = 0.919 vs. 0.321\n",
      "F1 = 0.834 vs. 0.482\n",
      "Precision = 0.816 vs. 0.317\n",
      "Recall = 0.852 vs. 1.000\n",
      "Validation: 1700\n",
      "AUC = 0.892 vs. 0.292\n",
      "F1 = 0.813 vs. 0.445\n",
      "Precision = 0.882 vs. 0.286\n",
      "Recall = 0.754 vs. 0.999\n",
      "Minibatch Loss= 0.591404\n",
      "Training: 1800\n",
      "AUC = 0.933 vs. 0.292\n",
      "F1 = 0.862 vs. 0.439\n",
      "Precision = 0.884 vs. 0.283\n",
      "Recall = 0.841 vs. 0.982\n",
      "Validation: 1800\n",
      "AUC = 0.899 vs. 0.286\n",
      "F1 = 0.814 vs. 0.445\n",
      "Precision = 0.838 vs. 0.286\n",
      "Recall = 0.791 vs. 1.000\n",
      "Minibatch Loss= 0.484004\n",
      "Training: 1900\n",
      "AUC = 0.916 vs. 0.290\n",
      "F1 = 0.837 vs. 0.436\n",
      "Precision = 0.886 vs. 0.279\n",
      "Recall = 0.794 vs. 1.000\n",
      "Validation: 1900\n",
      "AUC = 0.889 vs. 0.285\n",
      "F1 = 0.802 vs. 0.445\n",
      "Precision = 0.866 vs. 0.286\n",
      "Recall = 0.747 vs. 0.998\n",
      "Minibatch Loss= 0.537701\n",
      "Training: 2000\n",
      "AUC = 0.911 vs. 0.251\n",
      "F1 = 0.830 vs. 0.416\n",
      "Precision = 0.889 vs. 0.263\n",
      "Recall = 0.778 vs. 1.000\n",
      "Validation: 2000\n",
      "AUC = 0.884 vs. 0.286\n",
      "F1 = 0.802 vs. 0.445\n",
      "Precision = 0.877 vs. 0.286\n",
      "Recall = 0.739 vs. 0.999\n",
      "Minibatch Loss= 0.487567\n",
      "Training: 2100\n",
      "AUC = 0.949 vs. 0.281\n",
      "F1 = 0.873 vs. 0.451\n",
      "Precision = 0.860 vs. 0.291\n",
      "Recall = 0.885 vs. 0.997\n",
      "Validation: 2100\n",
      "AUC = 0.905 vs. 0.288\n",
      "F1 = 0.817 vs. 0.445\n",
      "Precision = 0.855 vs. 0.286\n",
      "Recall = 0.782 vs. 1.000\n",
      "Minibatch Loss= 0.491787\n",
      "Training: 2200\n",
      "AUC = 0.950 vs. 0.290\n",
      "F1 = 0.890 vs. 0.439\n",
      "Precision = 0.890 vs. 0.281\n",
      "Recall = 0.890 vs. 0.999\n",
      "Validation: 2200\n",
      "AUC = 0.906 vs. 0.286\n",
      "F1 = 0.821 vs. 0.445\n",
      "Precision = 0.851 vs. 0.286\n",
      "Recall = 0.792 vs. 1.000\n",
      "Minibatch Loss= 0.456361\n",
      "Training: 2300\n",
      "AUC = 0.940 vs. 0.274\n",
      "F1 = 0.886 vs. 0.424\n",
      "Precision = 0.898 vs. 0.269\n",
      "Recall = 0.873 vs. 1.000\n",
      "Validation: 2300\n",
      "AUC = 0.903 vs. 0.290\n",
      "F1 = 0.814 vs. 0.445\n",
      "Precision = 0.836 vs. 0.286\n",
      "Recall = 0.794 vs. 1.000\n",
      "Minibatch Loss= 0.478495\n",
      "Training: 2400\n",
      "AUC = 0.927 vs. 0.284\n",
      "F1 = 0.859 vs. 0.432\n",
      "Precision = 0.873 vs. 0.276\n",
      "Recall = 0.847 vs. 0.999\n",
      "Validation: 2400\n",
      "AUC = 0.904 vs. 0.289\n",
      "F1 = 0.823 vs. 0.445\n",
      "Precision = 0.885 vs. 0.286\n",
      "Recall = 0.769 vs. 0.999\n",
      "Minibatch Loss= 0.508376\n",
      "Training: 2500\n",
      "AUC = 0.917 vs. 0.291\n",
      "F1 = 0.851 vs. 0.437\n",
      "Precision = 0.854 vs. 0.280\n",
      "Recall = 0.849 vs. 0.999\n",
      "Validation: 2500\n",
      "AUC = 0.903 vs. 0.286\n",
      "F1 = 0.825 vs. 0.445\n",
      "Precision = 0.877 vs. 0.286\n",
      "Recall = 0.779 vs. 1.000\n",
      "Minibatch Loss= 0.500225\n",
      "Training: 2600\n",
      "AUC = 0.897 vs. 0.306\n",
      "F1 = 0.812 vs. 0.449\n",
      "Precision = 0.873 vs. 0.290\n",
      "Recall = 0.759 vs. 0.997\n",
      "Validation: 2600\n",
      "AUC = 0.903 vs. 0.284\n",
      "F1 = 0.817 vs. 0.445\n",
      "Precision = 0.866 vs. 0.286\n",
      "Recall = 0.773 vs. 1.000\n",
      "Minibatch Loss= 0.632678\n",
      "Training: 2700\n",
      "AUC = 0.937 vs. 0.302\n",
      "F1 = 0.868 vs. 0.460\n",
      "Precision = 0.874 vs. 0.300\n",
      "Recall = 0.862 vs. 0.983\n",
      "Validation: 2700\n",
      "AUC = 0.907 vs. 0.289\n",
      "F1 = 0.826 vs. 0.445\n",
      "Precision = 0.872 vs. 0.286\n",
      "Recall = 0.785 vs. 1.000\n",
      "Minibatch Loss= 0.515512\n",
      "Training: 2800\n",
      "AUC = 0.964 vs. 0.278\n",
      "F1 = 0.897 vs. 0.439\n",
      "Precision = 0.891 vs. 0.282\n",
      "Recall = 0.903 vs. 0.993\n",
      "Validation: 2800\n",
      "AUC = 0.902 vs. 0.292\n",
      "F1 = 0.821 vs. 0.445\n",
      "Precision = 0.855 vs. 0.286\n",
      "Recall = 0.789 vs. 1.000\n",
      "Minibatch Loss= 0.429237\n",
      "Training: 2900\n",
      "AUC = 0.948 vs. 0.269\n",
      "F1 = 0.897 vs. 0.415\n",
      "Precision = 0.938 vs. 0.262\n",
      "Recall = 0.860 vs. 1.000\n",
      "Validation: 2900\n",
      "AUC = 0.907 vs. 0.283\n",
      "F1 = 0.828 vs. 0.445\n",
      "Precision = 0.877 vs. 0.286\n",
      "Recall = 0.784 vs. 1.000\n",
      "Minibatch Loss= 0.449117\n",
      "Training: 3000\n",
      "AUC = 0.954 vs. 0.266\n",
      "F1 = 0.885 vs. 0.423\n",
      "Precision = 0.937 vs. 0.268\n",
      "Recall = 0.840 vs. 1.000\n",
      "Validation: 3000\n",
      "AUC = 0.902 vs. 0.287\n",
      "F1 = 0.820 vs. 0.445\n",
      "Precision = 0.867 vs. 0.286\n",
      "Recall = 0.778 vs. 0.997\n",
      "Minibatch Loss= 0.465896\n",
      "Training: 3100\n",
      "AUC = 0.960 vs. 0.274\n",
      "F1 = 0.905 vs. 0.432\n",
      "Precision = 0.895 vs. 0.275\n",
      "Recall = 0.915 vs. 1.000\n",
      "Validation: 3100\n",
      "AUC = 0.902 vs. 0.282\n",
      "F1 = 0.818 vs. 0.445\n",
      "Precision = 0.876 vs. 0.286\n",
      "Recall = 0.768 vs. 1.000\n",
      "Minibatch Loss= 0.435992\n"
     ]
    }
   ],
   "source": [
    "train_obj.train(max_iter = 10000,\n",
    "                train_eval_step=100,\n",
    "                validation_eval_step=100,\n",
    "                display_step=100)"
   ]
  },
  {
   "cell_type": "code",
   "execution_count": 21,
   "metadata": {},
   "outputs": [
    {
     "data": {
      "text/plain": [
       "'../../model_synthetic/train_gradual_test_abrupt/RCNN1001_z/RCNN1001_z-10000'"
      ]
     },
     "execution_count": 21,
     "metadata": {},
     "output_type": "execute_result"
    }
   ],
   "source": [
    "saver = tf.train.Saver()\n",
    "saver.save(sess, checkpoint_path, global_step=train_obj.global_step)"
   ]
  },
  {
   "cell_type": "code",
   "execution_count": 22,
   "metadata": {},
   "outputs": [],
   "source": [
    "#saver = tf.train.Saver()\n",
    "#saver.restore(sess, checkpoint_path+'-1000')"
   ]
  },
  {
   "cell_type": "code",
   "execution_count": 29,
   "metadata": {
    "collapsed": false
   },
   "outputs": [
    {
     "name": "stdout",
     "output_type": "stream",
     "text": [
      "AUC = 0.481 vs. 0.073\n",
      "F1 = 0.540 vs. 0.137\n",
      "Precision = 0.438 vs. 0.074\n",
      "Recall = 0.701 vs. 0.981\n"
     ]
    }
   ],
   "source": [
    "_ = nn_eval.evaluate_model(model,\n",
    "                           sess,\n",
    "                           test_data[:],\n",
    "                           test_gt[:])"
   ]
  },
  {
   "cell_type": "code",
   "execution_count": 30,
   "metadata": {},
   "outputs": [],
   "source": [
    "out = nn_eval.deploy(model,\n",
    "                     sess,\n",
    "                     test_data[:],\n",
    "                     test_gt[:])"
   ]
  },
  {
   "cell_type": "code",
   "execution_count": 31,
   "metadata": {},
   "outputs": [],
   "source": [
    "#shape of probability_change is (batch size, T, num_classes)\n",
    "#since num_classes = 1 we squeeze that axis\n",
    "out = np.squeeze(out, axis = 2)"
   ]
  },
  {
   "cell_type": "code",
   "execution_count": 32,
   "metadata": {},
   "outputs": [
    {
     "data": {
      "text/plain": [
       "(1000, 256)"
      ]
     },
     "execution_count": 32,
     "metadata": {},
     "output_type": "execute_result"
    }
   ],
   "source": [
    "out.shape"
   ]
  },
  {
   "cell_type": "code",
   "execution_count": 33,
   "metadata": {},
   "outputs": [],
   "source": [
    "savemat('../../poc_synthetic/train_gradual_test_abrupt/poc'+exp_name+'.mat', {'poc':out})"
   ]
  },
  {
   "cell_type": "code",
   "execution_count": null,
   "metadata": {},
   "outputs": [],
   "source": []
  },
  {
   "cell_type": "code",
   "execution_count": null,
   "metadata": {},
   "outputs": [],
   "source": []
  },
  {
   "cell_type": "code",
   "execution_count": null,
   "metadata": {
    "collapsed": true
   },
   "outputs": [],
   "source": []
  }
 ],
 "metadata": {
  "anaconda-cloud": {},
  "kernelspec": {
   "display_name": "Anaconca with Tensorflow",
   "language": "python",
   "name": "tensorflow"
  },
  "language_info": {
   "codemirror_mode": {
    "name": "ipython",
    "version": 2
   },
   "file_extension": ".py",
   "mimetype": "text/x-python",
   "name": "python",
   "nbconvert_exporter": "python",
   "pygments_lexer": "ipython2",
   "version": "2.7.13"
  }
 },
 "nbformat": 4,
 "nbformat_minor": 2
}
