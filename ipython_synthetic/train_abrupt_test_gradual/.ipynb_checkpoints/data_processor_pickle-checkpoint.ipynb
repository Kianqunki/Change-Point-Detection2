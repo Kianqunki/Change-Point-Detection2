{
 "cells": [
  {
   "cell_type": "markdown",
   "metadata": {},
   "source": [
    "## Here we generate training, validation and test dataset. with window_size = 8192"
   ]
  },
  {
   "cell_type": "code",
   "execution_count": 1,
   "metadata": {
    "collapsed": false
   },
   "outputs": [],
   "source": [
    "%load_ext autoreload\n",
    "%autoreload 2\n",
    "import numpy as np\n",
    "import pickle \n",
    "import random\n",
    "\n",
    "import sys\n",
    "sys.path.append('../../src')\n",
    "import data_utils_synthetic as data_utils"
   ]
  },
  {
   "cell_type": "code",
   "execution_count": 2,
   "metadata": {
    "collapsed": false
   },
   "outputs": [],
   "source": [
    "#load the data\n",
    "data_path_train = '../../data/synthetic2/data_8192_1000_3_4_4_.03_.03__.00-.05.mat'\n",
    "data_path_test = '../../data/synthetic2/data_8192_1000_3_4_4_.03_.03__.10-.15.mat'\n",
    "\n",
    "data_raw_train = data_utils.load_mat(data_path_train, 'data')\n",
    "data_raw_test = data_utils.load_mat(data_path_test, 'data')"
   ]
  },
  {
   "cell_type": "code",
   "execution_count": 3,
   "metadata": {},
   "outputs": [
    {
     "data": {
      "text/plain": [
       "((1000, 3, 4, 8192), (1000, 3, 4, 8192))"
      ]
     },
     "execution_count": 3,
     "metadata": {},
     "output_type": "execute_result"
    }
   ],
   "source": [
    "data_raw_train.shape, data_raw_test.shape"
   ]
  },
  {
   "cell_type": "code",
   "execution_count": 4,
   "metadata": {
    "collapsed": false
   },
   "outputs": [
    {
     "data": {
      "text/plain": [
       "((900, 8192, 12), (100, 8192, 12), (1000, 8192, 12))"
      ]
     },
     "execution_count": 4,
     "metadata": {},
     "output_type": "execute_result"
    }
   ],
   "source": [
    "#reshape data to transform 4 variables of 3 modalities of a time series to 12 variables.\n",
    "data_reshaped_train = np.reshape(data_raw_train, (data_raw_train.shape[0], -1, data_raw_train.shape[-1]))\n",
    "data_reshaped_test = np.reshape(data_raw_test, (data_raw_test.shape[0], -1, data_raw_test.shape[-1]))\n",
    "#reshape to have (batch_size, signal_len, num_vari)\n",
    "data_transposed_train = np.transpose(data_reshaped_train, (0, 2, 1))\n",
    "data_transposed_test = np.transpose(data_reshaped_test, (0, 2, 1))\n",
    "\n",
    "#parameters\n",
    "window_size = 8192\n",
    "stride = 8192\n",
    "\n",
    "train_idx = np.arange(0,900)\n",
    "validation_idx = np.arange(900,1000)\n",
    "\n",
    "\n",
    "data_raw_train = data_transposed_train[train_idx]\n",
    "data_raw_valdation = data_transposed_train[validation_idx]\n",
    "data_raw_test = data_transposed_test\n",
    "\n",
    "_, data_stacked_train = data_utils.slide_window(data_raw_train,\n",
    "                                                    window_size,\n",
    "                                                    stride,\n",
    "                                                    num_dim_expand=0)\n",
    "\n",
    "_, data_stacked_validation = data_utils.slide_window(data_raw_valdation,\n",
    "                                                    window_size,\n",
    "                                                    stride,\n",
    "                                                    num_dim_expand=0)\n",
    "\n",
    "_, data_stacked_test = data_utils.slide_window(data_raw_test,\n",
    "                                               window_size,\n",
    "                                               stride,\n",
    "                                               num_dim_expand=0)\n",
    "\n",
    "data_stacked_train.shape, data_stacked_validation.shape, data_stacked_test.shape"
   ]
  },
  {
   "cell_type": "code",
   "execution_count": 5,
   "metadata": {},
   "outputs": [
    {
     "data": {
      "text/plain": [
       "(900, 8192)"
      ]
     },
     "execution_count": 5,
     "metadata": {},
     "output_type": "execute_result"
    }
   ],
   "source": [
    "data_utils.load_mat(data_path_train, 'gtruth')[train_idx].shape"
   ]
  },
  {
   "cell_type": "code",
   "execution_count": 6,
   "metadata": {
    "collapsed": false
   },
   "outputs": [
    {
     "data": {
      "text/plain": [
       "((900, 8192), (100, 8192), (1000, 8192))"
      ]
     },
     "execution_count": 6,
     "metadata": {},
     "output_type": "execute_result"
    }
   ],
   "source": [
    "gt_raw_train = data_utils.load_mat(data_path_train, 'gtruth')[train_idx]\n",
    "gt_raw_validation = data_utils.load_mat(data_path_train, 'gtruth')[validation_idx]\n",
    "gt_raw_test = data_utils.load_mat(data_path_test, 'gtruth')\n",
    "\n",
    "_, gt_stacked_train = data_utils.slide_window(gt_raw_train,\n",
    "                                              window_size,\n",
    "                                              stride,\n",
    "                                              num_dim_expand=0)\n",
    "\n",
    "_, gt_stacked_validation = data_utils.slide_window(gt_raw_validation,\n",
    "                                              window_size,\n",
    "                                              stride,\n",
    "                                              num_dim_expand=0)\n",
    "\n",
    "_, gt_stacked_test = data_utils.slide_window(gt_raw_test,\n",
    "                                             window_size,\n",
    "                                             stride,\n",
    "                                             num_dim_expand=0)\n",
    "\n",
    "gt_stacked_train.shape, gt_stacked_validation.shape, gt_stacked_test.shape"
   ]
  },
  {
   "cell_type": "code",
   "execution_count": 7,
   "metadata": {
    "collapsed": true
   },
   "outputs": [
    {
     "data": {
      "text/plain": [
       "(1000, 4)"
      ]
     },
     "execution_count": 7,
     "metadata": {},
     "output_type": "execute_result"
    }
   ],
   "source": [
    "#index of changes\n",
    "gt_mean_test = data_utils.load_mat(data_path_test, 'gt_mean')\n",
    "gt_mean_test.shape"
   ]
  },
  {
   "cell_type": "code",
   "execution_count": 8,
   "metadata": {
    "collapsed": true
   },
   "outputs": [],
   "source": [
    "data = {}\n",
    "data['train_data'] = data_stacked_train\n",
    "data['train_gt'] = gt_stacked_train\n",
    "\n",
    "data['validation_data'] = data_stacked_validation\n",
    "data['validation_gt'] = gt_stacked_validation\n",
    "\n",
    "data['test_data'] = data_stacked_test\n",
    "data['test_gt'] = gt_stacked_test\n",
    "\n",
    "data['index_of_changes'] = gt_mean_test"
   ]
  },
  {
   "cell_type": "code",
   "execution_count": null,
   "metadata": {},
   "outputs": [],
   "source": []
  },
  {
   "cell_type": "code",
   "execution_count": 9,
   "metadata": {
    "collapsed": false
   },
   "outputs": [],
   "source": [
    "path_to_save = '../../data/synthetic2/'\n",
    "with open(path_to_save+'processed2.p', 'w') as fout:\n",
    "    pickle.dump(data, fout)"
   ]
  },
  {
   "cell_type": "code",
   "execution_count": null,
   "metadata": {},
   "outputs": [],
   "source": []
  }
 ],
 "metadata": {
  "anaconda-cloud": {},
  "kernelspec": {
   "display_name": "Anaconca with Tensorflow",
   "language": "python",
   "name": "tensorflow"
  },
  "language_info": {
   "codemirror_mode": {
    "name": "ipython",
    "version": 2
   },
   "file_extension": ".py",
   "mimetype": "text/x-python",
   "name": "python",
   "nbconvert_exporter": "python",
   "pygments_lexer": "ipython2",
   "version": "2.7.13"
  }
 },
 "nbformat": 4,
 "nbformat_minor": 2
}
