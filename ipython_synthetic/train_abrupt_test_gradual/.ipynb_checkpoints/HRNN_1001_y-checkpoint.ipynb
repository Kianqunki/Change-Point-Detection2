{
 "cells": [
  {
   "cell_type": "code",
   "execution_count": 1,
   "metadata": {
    "collapsed": true
   },
   "outputs": [],
   "source": [
    "# useing this variable for saving models and summaries\n",
    "exp_name = \"HRNN_1001_y\""
   ]
  },
  {
   "cell_type": "markdown",
   "metadata": {},
   "source": [
    "## Running CNN then RNN\n",
    "5 layers CNN [2, 2, 2, 2, 2], then RNN, bias_shape = [32,64,64, 64, 64]"
   ]
  },
  {
   "cell_type": "code",
   "execution_count": 2,
   "metadata": {
    "collapsed": false
   },
   "outputs": [],
   "source": [
    "%load_ext autoreload\n",
    "%autoreload 2\n",
    "import numpy as np\n",
    "import tensorflow as tf\n",
    "import sys\n",
    "from hdf5storage import savemat\n",
    "import pickle\n",
    "\n",
    "sys.path.append('../../src')"
   ]
  },
  {
   "cell_type": "code",
   "execution_count": 3,
   "metadata": {},
   "outputs": [],
   "source": [
    "from models.HRNN_model import Model\n",
    "import training  \n",
    "import evaluation.nn_eval as nn_eval "
   ]
  },
  {
   "cell_type": "markdown",
   "metadata": {},
   "source": [
    "## Loading synthetic data"
   ]
  },
  {
   "cell_type": "code",
   "execution_count": 4,
   "metadata": {
    "collapsed": false
   },
   "outputs": [],
   "source": [
    "#loading data\n",
    "data_path= '../../data/synthetic2/' + 'processed3.p'\n",
    "\n",
    "with open(data_path, 'r') as fin:\n",
    "    data = pickle.load(fin)\n",
    "    \n",
    "train_data = data['train_data']\n",
    "validation_data = data['validation_data']\n",
    "test_data = data['test_data']\n",
    "\n",
    "train_gt = np.expand_dims(data['train_gt'], axis=-1)\n",
    "validation_gt = np.expand_dims(data['validation_gt'], axis=-1)\n",
    "test_gt = np.expand_dims(data['test_gt'], axis=-1)\n",
    "\n",
    "index_of_changes = data['index_of_changes']\n",
    " "
   ]
  },
  {
   "cell_type": "code",
   "execution_count": 5,
   "metadata": {},
   "outputs": [
    {
     "data": {
      "text/plain": [
       "(900, 8192, 12)"
      ]
     },
     "execution_count": 5,
     "metadata": {},
     "output_type": "execute_result"
    }
   ],
   "source": [
    "train_data.shape"
   ]
  },
  {
   "cell_type": "markdown",
   "metadata": {},
   "source": [
    "## Model"
   ]
  },
  {
   "cell_type": "code",
   "execution_count": 6,
   "metadata": {
    "collapsed": false
   },
   "outputs": [],
   "source": [
    "## Model Parameter\n",
    "n_variables= 12\n",
    "learning_rate = 0.001\n",
    "batch_size = 10\n",
    "\n",
    "wavelet_levels= 6\n",
    "convolution_levels = 5\n",
    "pooling_stride = [2, 2, 2, 2, 2]\n",
    "weights_shape = [[5,n_variables, 32],\n",
    "                 [5, 32, 64],\n",
    "                 [5, 64, 64],\n",
    "                 [5, 64, 64],\n",
    "                 [5, 64, 64]]\n",
    "\n",
    "bias_shape = [32, 64, 64, 64, 64]\n",
    "activation = tf.nn.relu\n",
    "wavelet_weights_shape = [[5, n_variables, n_variables]]    #high_pass and low_pass dimensions\n",
    "\n",
    "lstm_n_hidden = 128\n",
    "n_classes = 1\n",
    "\n",
    "##positive weight for weighted cross entropy\n",
    "s = train_gt.shape\n",
    "resolution = np.prod(pooling_stride)\n",
    "\n",
    "pooled_gt = np.reshape(train_gt[:,:(s[0]*s[1]/resolution)*resolution,:], (s[0]*(s[1]/resolution), resolution, s[2])).max(axis=1)\n",
    "pos_weight = (1.0 - pooled_gt.mean(axis = 0)) / pooled_gt.mean(axis=0)\n",
    "\n",
    "variables_weights = np.ones((n_classes,))"
   ]
  },
  {
   "cell_type": "code",
   "execution_count": 7,
   "metadata": {
    "collapsed": false
   },
   "outputs": [
    {
     "data": {
      "text/plain": [
       "array([ 4.44285005])"
      ]
     },
     "execution_count": 7,
     "metadata": {},
     "output_type": "execute_result"
    }
   ],
   "source": [
    "pos_weight"
   ]
  },
  {
   "cell_type": "code",
   "execution_count": 8,
   "metadata": {
    "collapsed": false
   },
   "outputs": [],
   "source": [
    "# Launch the graph\n",
    "config = tf.ConfigProto()\n",
    "config.gpu_options.allow_growth = True\n",
    "sess = tf.Session(config=config)"
   ]
  },
  {
   "cell_type": "code",
   "execution_count": 9,
   "metadata": {
    "collapsed": true
   },
   "outputs": [],
   "source": [
    "summary_path = '../../summary_synthetic/train_abrupt_test_gradual/' + exp_name \n",
    "checkpoint_path = '../../model_synthetic/train_abrupt_test_gradual/' + exp_name + '/' + exp_name "
   ]
  },
  {
   "cell_type": "code",
   "execution_count": 10,
   "metadata": {
    "collapsed": false
   },
   "outputs": [],
   "source": [
    "model = Model(n_variables = n_variables,\n",
    "                            learning_rate = learning_rate,\n",
    "                            n_classes = n_classes)"
   ]
  },
  {
   "cell_type": "code",
   "execution_count": 11,
   "metadata": {
    "collapsed": false
   },
   "outputs": [
    {
     "name": "stdout",
     "output_type": "stream",
     "text": [
      "6\n",
      "Tensor(\"Squeeze_29:0\", shape=(?, ?, 64), dtype=float32)\n",
      "Tensor(\"Squeeze_29:0\", shape=(?, ?, 64), dtype=float32) Tensor(\"zeros:0\", shape=(?, ?, 128), dtype=float32) 5\n",
      "Tensor(\"Squeeze_24:0\", shape=(?, ?, 64), dtype=float32) Tensor(\"Reshape:0\", shape=(?, ?, ?), dtype=float32) 4\n",
      "Tensor(\"Squeeze_19:0\", shape=(?, ?, 64), dtype=float32) Tensor(\"Reshape_1:0\", shape=(?, ?, ?), dtype=float32) 3\n",
      "Tensor(\"Squeeze_14:0\", shape=(?, ?, 64), dtype=float32) Tensor(\"Reshape_2:0\", shape=(?, ?, ?), dtype=float32) 2\n",
      "Tensor(\"Squeeze_9:0\", shape=(?, ?, 64), dtype=float32) Tensor(\"Reshape_3:0\", shape=(?, ?, ?), dtype=float32) 1\n",
      "Tensor(\"Squeeze_4:0\", shape=(?, ?, 64), dtype=float32) Tensor(\"Reshape_4:0\", shape=(?, ?, ?), dtype=float32) 0\n",
      "Tensor(\"Squeeze_30:0\", shape=(?, ?, 1), dtype=float32) Tensor(\"Reshape_7:0\", shape=(?, ?, 1), dtype=float32)\n"
     ]
    }
   ],
   "source": [
    "model.build_model(pos_weight = pos_weight, \n",
    "                 learning_rate = learning_rate,\n",
    "                 wavelet_levels = wavelet_levels,    \n",
    "                 convolution_levels = convolution_levels,    \n",
    "                 pooling_stride = pooling_stride,     \n",
    "                 weights_shape = weights_shape,\n",
    "                 bias_shape = bias_shape,\n",
    "                 wavelet_weights_shape = wavelet_weights_shape,    \n",
    "                 activation = activation,\n",
    "                 lstm_n_hidden = lstm_n_hidden,\n",
    "                 trainable_wavelet = True,\n",
    "                 trainable_conv = True,\n",
    "                 trainable_last = True,\n",
    "                 variables_weights = variables_weights,\n",
    "                 optimizer = tf.train.AdamOptimizer\n",
    ")"
   ]
  },
  {
   "cell_type": "code",
   "execution_count": 12,
   "metadata": {
    "collapsed": false
   },
   "outputs": [],
   "source": [
    "trainer = training.Trainer(model = model,\n",
    "                    data_train = train_data,\n",
    "                    ground_truth_train = train_gt,\n",
    "                    data_validation = validation_data,\n",
    "                    ground_truth_validation = validation_gt,\n",
    "                    sess = sess,\n",
    "                    summary_path = summary_path,\n",
    "                    batch_size = batch_size,\n",
    "                    global_step = 0,\n",
    "                    eval_type = 'change')"
   ]
  },
  {
   "cell_type": "code",
   "execution_count": 13,
   "metadata": {},
   "outputs": [
    {
     "name": "stdout",
     "output_type": "stream",
     "text": [
      "Training: 0\n",
      "AUC = 0.164 vs. 0.193\n",
      "F1 = 0.323 vs. 0.310\n",
      "Precision = 0.197 vs. 0.183\n",
      "Recall = 0.893 vs. 1.000\n",
      "Validation: 0\n",
      "AUC = 0.169 vs. 0.177\n",
      "F1 = 0.301 vs. 0.300\n",
      "Precision = 0.178 vs. 0.177\n",
      "Recall = 0.976 vs. 1.000\n",
      "Minibatch Loss= 1.143510\n",
      "Training: 100\n",
      "AUC = 0.379 vs. 0.203\n",
      "F1 = 0.440 vs. 0.329\n",
      "Precision = 0.342 vs. 0.197\n",
      "Recall = 0.615 vs. 1.000\n",
      "Validation: 100\n",
      "AUC = 0.319 vs. 0.177\n",
      "F1 = 0.370 vs. 0.300\n",
      "Precision = 0.290 vs. 0.177\n",
      "Recall = 0.510 vs. 1.000\n",
      "Minibatch Loss= 1.129016\n",
      "Training: 200\n",
      "AUC = 0.631 vs. 0.155\n",
      "F1 = 0.631 vs. 0.276\n",
      "Precision = 0.604 vs. 0.160\n",
      "Recall = 0.660 vs. 1.000\n",
      "Validation: 200\n",
      "AUC = 0.651 vs. 0.177\n",
      "F1 = 0.625 vs. 0.300\n",
      "Precision = 0.599 vs. 0.177\n",
      "Recall = 0.653 vs. 1.000\n",
      "Minibatch Loss= 0.786496\n",
      "Training: 300\n",
      "AUC = 0.856 vs. 0.189\n",
      "F1 = 0.775 vs. 0.313\n",
      "Precision = 0.733 vs. 0.186\n",
      "Recall = 0.822 vs. 0.981\n",
      "Validation: 300\n",
      "AUC = 0.866 vs. 0.177\n",
      "F1 = 0.785 vs. 0.300\n",
      "Precision = 0.780 vs. 0.177\n",
      "Recall = 0.789 vs. 1.000\n",
      "Minibatch Loss= 0.588780\n",
      "Training: 400\n",
      "AUC = 0.903 vs. 0.154\n",
      "F1 = 0.826 vs. 0.261\n",
      "Precision = 0.801 vs. 0.151\n",
      "Recall = 0.852 vs. 0.984\n",
      "Validation: 400\n",
      "AUC = 0.926 vs. 0.177\n",
      "F1 = 0.843 vs. 0.300\n",
      "Precision = 0.842 vs. 0.177\n",
      "Recall = 0.845 vs. 0.999\n",
      "Minibatch Loss= 0.418151\n",
      "Training: 500\n",
      "AUC = 0.895 vs. 0.165\n",
      "F1 = 0.807 vs. 0.286\n",
      "Precision = 0.873 vs. 0.179\n",
      "Recall = 0.751 vs. 0.724\n",
      "Validation: 500\n",
      "AUC = 0.921 vs. 0.175\n",
      "F1 = 0.837 vs. 0.300\n",
      "Precision = 0.842 vs. 0.177\n",
      "Recall = 0.832 vs. 1.000\n",
      "Minibatch Loss= 0.421886\n",
      "Training: 600\n",
      "AUC = 0.932 vs. 0.201\n",
      "F1 = 0.843 vs. 0.323\n",
      "Precision = 0.875 vs. 0.192\n",
      "Recall = 0.813 vs. 1.000\n",
      "Validation: 600\n",
      "AUC = 0.948 vs. 0.176\n",
      "F1 = 0.871 vs. 0.300\n",
      "Precision = 0.870 vs. 0.177\n",
      "Recall = 0.872 vs. 1.000\n",
      "Minibatch Loss= 0.453477\n",
      "Training: 700\n",
      "AUC = 0.950 vs. 0.101\n",
      "F1 = 0.872 vs. 0.188\n",
      "Precision = 0.902 vs. 0.104\n",
      "Recall = 0.844 vs. 1.000\n",
      "Validation: 700\n",
      "AUC = 0.941 vs. 0.175\n",
      "F1 = 0.863 vs. 0.300\n",
      "Precision = 0.859 vs. 0.177\n",
      "Recall = 0.866 vs. 1.000\n",
      "Minibatch Loss= 0.229188\n",
      "Training: 800\n",
      "AUC = 0.980 vs. 0.238\n",
      "F1 = 0.932 vs. 0.354\n",
      "Precision = 0.931 vs. 0.215\n",
      "Recall = 0.933 vs. 1.000\n",
      "Validation: 800\n",
      "AUC = 0.954 vs. 0.178\n",
      "F1 = 0.879 vs. 0.300\n",
      "Precision = 0.876 vs. 0.177\n",
      "Recall = 0.882 vs. 0.999\n",
      "Minibatch Loss= 0.376054\n",
      "Training: 900\n",
      "AUC = 0.960 vs. 0.221\n",
      "F1 = 0.878 vs. 0.353\n",
      "Precision = 0.927 vs. 0.214\n",
      "Recall = 0.834 vs. 1.000\n",
      "Validation: 900\n",
      "AUC = 0.961 vs. 0.177\n",
      "F1 = 0.889 vs. 0.300\n",
      "Precision = 0.889 vs. 0.177\n",
      "Recall = 0.889 vs. 1.000\n",
      "Minibatch Loss= 0.376711\n",
      "Training: 1000\n",
      "AUC = 0.967 vs. 0.165\n",
      "F1 = 0.897 vs. 0.294\n",
      "Precision = 0.920 vs. 0.173\n",
      "Recall = 0.874 vs. 0.995\n",
      "Validation: 1000\n",
      "AUC = 0.963 vs. 0.176\n",
      "F1 = 0.893 vs. 0.300\n",
      "Precision = 0.887 vs. 0.177\n",
      "Recall = 0.900 vs. 1.000\n",
      "Minibatch Loss= 0.323475\n",
      "Training: 1100\n",
      "AUC = 0.977 vs. 0.221\n",
      "F1 = 0.912 vs. 0.353\n",
      "Precision = 0.950 vs. 0.215\n",
      "Recall = 0.877 vs. 0.984\n",
      "Validation: 1100\n",
      "AUC = 0.967 vs. 0.176\n",
      "F1 = 0.899 vs. 0.300\n",
      "Precision = 0.898 vs. 0.177\n",
      "Recall = 0.901 vs. 1.000\n",
      "Minibatch Loss= 0.376254\n",
      "Training: 1200\n",
      "AUC = 0.963 vs. 0.186\n",
      "F1 = 0.896 vs. 0.309\n",
      "Precision = 0.939 vs. 0.183\n",
      "Recall = 0.857 vs. 1.000\n",
      "Validation: 1200\n",
      "AUC = 0.963 vs. 0.177\n",
      "F1 = 0.893 vs. 0.300\n",
      "Precision = 0.894 vs. 0.177\n",
      "Recall = 0.892 vs. 0.999\n",
      "Minibatch Loss= 0.371141\n",
      "Training: 1300\n",
      "AUC = 0.979 vs. 0.166\n",
      "F1 = 0.925 vs. 0.267\n",
      "Precision = 0.913 vs. 0.156\n",
      "Recall = 0.937 vs. 0.953\n",
      "Validation: 1300\n",
      "AUC = 0.971 vs. 0.177\n",
      "F1 = 0.906 vs. 0.300\n",
      "Precision = 0.901 vs. 0.177\n",
      "Recall = 0.911 vs. 1.000\n",
      "Minibatch Loss= 0.257688\n",
      "Training: 1400\n",
      "AUC = 0.959 vs. 0.193\n",
      "F1 = 0.885 vs. 0.327\n",
      "Precision = 0.897 vs. 0.197\n",
      "Recall = 0.873 vs. 0.964\n",
      "Validation: 1400\n",
      "AUC = 0.973 vs. 0.177\n",
      "F1 = 0.909 vs. 0.300\n",
      "Precision = 0.907 vs. 0.177\n",
      "Recall = 0.911 vs. 0.999\n",
      "Minibatch Loss= 0.391653\n",
      "Training: 1500\n",
      "AUC = 0.971 vs. 0.142\n",
      "F1 = 0.906 vs. 0.236\n",
      "Precision = 0.931 vs. 0.134\n",
      "Recall = 0.882 vs. 0.971\n",
      "Validation: 1500\n",
      "AUC = 0.966 vs. 0.177\n",
      "F1 = 0.898 vs. 0.300\n",
      "Precision = 0.906 vs. 0.177\n",
      "Recall = 0.890 vs. 1.000\n",
      "Minibatch Loss= 0.249723\n",
      "Training: 1600\n",
      "AUC = 0.968 vs. 0.133\n",
      "F1 = 0.891 vs. 0.238\n",
      "Precision = 0.868 vs. 0.135\n",
      "Recall = 0.916 vs. 0.997\n",
      "Validation: 1600\n",
      "AUC = 0.972 vs. 0.176\n",
      "F1 = 0.907 vs. 0.300\n",
      "Precision = 0.888 vs. 0.177\n",
      "Recall = 0.925 vs. 1.000\n",
      "Minibatch Loss= 0.250584\n",
      "Training: 1700\n",
      "AUC = 0.963 vs. 0.229\n",
      "F1 = 0.894 vs. 0.377\n",
      "Precision = 0.896 vs. 0.233\n",
      "Recall = 0.892 vs. 0.988\n",
      "Validation: 1700\n",
      "AUC = 0.968 vs. 0.177\n",
      "F1 = 0.901 vs. 0.300\n",
      "Precision = 0.901 vs. 0.177\n",
      "Recall = 0.901 vs. 1.000\n",
      "Minibatch Loss= 0.432705\n",
      "Training: 1800\n",
      "AUC = 0.983 vs. 0.197\n",
      "F1 = 0.923 vs. 0.342\n",
      "Precision = 0.926 vs. 0.207\n",
      "Recall = 0.920 vs. 0.992\n",
      "Validation: 1800\n",
      "AUC = 0.974 vs. 0.177\n",
      "F1 = 0.912 vs. 0.300\n",
      "Precision = 0.915 vs. 0.177\n",
      "Recall = 0.909 vs. 1.000\n",
      "Minibatch Loss= 0.322810\n",
      "Training: 1900\n",
      "AUC = 0.980 vs. 0.234\n",
      "F1 = 0.923 vs. 0.372\n",
      "Precision = 0.917 vs. 0.229\n",
      "Recall = 0.928 vs. 0.997\n",
      "Validation: 1900\n",
      "AUC = 0.973 vs. 0.176\n",
      "F1 = 0.910 vs. 0.300\n",
      "Precision = 0.902 vs. 0.177\n",
      "Recall = 0.919 vs. 1.000\n",
      "Minibatch Loss= 0.402853\n",
      "Training: 2000\n",
      "AUC = 0.974 vs. 0.199\n",
      "F1 = 0.923 vs. 0.325\n",
      "Precision = 0.921 vs. 0.196\n",
      "Recall = 0.925 vs. 0.947\n",
      "Validation: 2000\n",
      "AUC = 0.976 vs. 0.176\n",
      "F1 = 0.916 vs. 0.300\n",
      "Precision = 0.913 vs. 0.177\n",
      "Recall = 0.919 vs. 1.000\n",
      "Minibatch Loss= 0.324667\n",
      "Training: 2100\n",
      "AUC = 0.986 vs. 0.111\n",
      "F1 = 0.949 vs. 0.185\n",
      "Precision = 0.936 vs. 0.102\n",
      "Recall = 0.962 vs. 1.000\n",
      "Validation: 2100\n",
      "AUC = 0.975 vs. 0.177\n",
      "F1 = 0.913 vs. 0.300\n",
      "Precision = 0.918 vs. 0.177\n",
      "Recall = 0.909 vs. 1.000\n",
      "Minibatch Loss= 0.173511\n",
      "Training: 2200\n",
      "AUC = 0.969 vs. 0.180\n",
      "F1 = 0.915 vs. 0.304\n",
      "Precision = 0.906 vs. 0.180\n",
      "Recall = 0.925 vs. 0.987\n",
      "Validation: 2200\n",
      "AUC = 0.977 vs. 0.177\n",
      "F1 = 0.918 vs. 0.300\n",
      "Precision = 0.919 vs. 0.177\n",
      "Recall = 0.917 vs. 0.998\n",
      "Minibatch Loss= 0.321248\n",
      "Training: 2300\n",
      "AUC = 0.986 vs. 0.178\n",
      "F1 = 0.938 vs. 0.291\n",
      "Precision = 0.899 vs. 0.170\n",
      "Recall = 0.982 vs. 1.000\n",
      "Validation: 2300\n",
      "AUC = 0.978 vs. 0.176\n",
      "F1 = 0.919 vs. 0.300\n",
      "Precision = 0.921 vs. 0.177\n",
      "Recall = 0.918 vs. 1.000\n",
      "Minibatch Loss= 0.252911\n",
      "Training: 2400\n",
      "AUC = 0.979 vs. 0.092\n",
      "F1 = 0.920 vs. 0.167\n",
      "Precision = 0.941 vs. 0.092\n",
      "Recall = 0.900 vs. 0.896\n",
      "Validation: 2400\n",
      "AUC = 0.973 vs. 0.177\n",
      "F1 = 0.908 vs. 0.300\n",
      "Precision = 0.899 vs. 0.177\n",
      "Recall = 0.917 vs. 0.999\n",
      "Minibatch Loss= 0.173668\n",
      "Training: 2500\n",
      "AUC = 0.964 vs. 0.182\n",
      "F1 = 0.907 vs. 0.299\n",
      "Precision = 0.906 vs. 0.178\n",
      "Recall = 0.908 vs. 0.924\n",
      "Validation: 2500\n",
      "AUC = 0.954 vs. 0.177\n",
      "F1 = 0.882 vs. 0.300\n",
      "Precision = 0.877 vs. 0.177\n",
      "Recall = 0.886 vs. 1.000\n",
      "Minibatch Loss= 0.358528\n",
      "Training: 2600\n",
      "AUC = 0.961 vs. 0.191\n",
      "F1 = 0.887 vs. 0.311\n",
      "Precision = 0.867 vs. 0.185\n",
      "Recall = 0.908 vs. 0.976\n",
      "Validation: 2600\n",
      "AUC = 0.960 vs. 0.176\n",
      "F1 = 0.888 vs. 0.300\n",
      "Precision = 0.895 vs. 0.177\n",
      "Recall = 0.881 vs. 1.000\n",
      "Minibatch Loss= 0.342175\n",
      "Training: 2700\n",
      "AUC = 0.980 vs. 0.124\n",
      "F1 = 0.922 vs. 0.225\n",
      "Precision = 0.942 vs. 0.128\n",
      "Recall = 0.903 vs. 0.950\n",
      "Validation: 2700\n",
      "AUC = 0.972 vs. 0.177\n",
      "F1 = 0.908 vs. 0.300\n",
      "Precision = 0.909 vs. 0.177\n",
      "Recall = 0.906 vs. 0.999\n",
      "Minibatch Loss= 0.214019\n",
      "Training: 2800\n",
      "AUC = 0.973 vs. 0.158\n",
      "F1 = 0.925 vs. 0.270\n",
      "Precision = 0.940 vs. 0.156\n",
      "Recall = 0.910 vs. 1.000\n",
      "Validation: 2800\n",
      "AUC = 0.971 vs. 0.177\n",
      "F1 = 0.907 vs. 0.300\n",
      "Precision = 0.921 vs. 0.177\n",
      "Recall = 0.894 vs. 1.000\n",
      "Minibatch Loss= 0.279169\n",
      "Training: 2900\n",
      "AUC = 0.974 vs. 0.194\n",
      "F1 = 0.914 vs. 0.332\n",
      "Precision = 0.945 vs. 0.201\n",
      "Recall = 0.884 vs. 0.951\n",
      "Validation: 2900\n",
      "AUC = 0.972 vs. 0.176\n",
      "F1 = 0.910 vs. 0.300\n",
      "Precision = 0.921 vs. 0.177\n",
      "Recall = 0.900 vs. 0.999\n",
      "Minibatch Loss= 0.323062\n",
      "Training: 3000\n",
      "AUC = 0.988 vs. 0.201\n",
      "F1 = 0.937 vs. 0.335\n",
      "Precision = 0.950 vs. 0.202\n",
      "Recall = 0.925 vs. 0.986\n",
      "Validation: 3000\n",
      "AUC = 0.975 vs. 0.177\n",
      "F1 = 0.917 vs. 0.300\n",
      "Precision = 0.922 vs. 0.177\n",
      "Recall = 0.913 vs. 1.000\n",
      "Minibatch Loss= 0.315615\n",
      "Training: 3100\n",
      "AUC = 0.989 vs. 0.208\n",
      "F1 = 0.945 vs. 0.336\n",
      "Precision = 0.951 vs. 0.202\n",
      "Recall = 0.940 vs. 0.988\n",
      "Validation: 3100\n",
      "AUC = 0.975 vs. 0.177\n",
      "F1 = 0.914 vs. 0.300\n",
      "Precision = 0.920 vs. 0.177\n",
      "Recall = 0.909 vs. 1.000\n",
      "Minibatch Loss= 0.316916\n",
      "Training: 3200\n",
      "AUC = 0.980 vs. 0.155\n",
      "F1 = 0.925 vs. 0.266\n",
      "Precision = 0.922 vs. 0.154\n",
      "Recall = 0.929 vs. 1.000\n",
      "Validation: 3200\n",
      "AUC = 0.972 vs. 0.177\n",
      "F1 = 0.908 vs. 0.300\n",
      "Precision = 0.908 vs. 0.177\n",
      "Recall = 0.908 vs. 1.000\n",
      "Minibatch Loss= 0.261979\n"
     ]
    },
    {
     "ename": "KeyboardInterrupt",
     "evalue": "",
     "output_type": "error",
     "traceback": [
      "\u001b[0;31m---------------------------------------------------------------------------\u001b[0m",
      "\u001b[0;31mKeyboardInterrupt\u001b[0m                         Traceback (most recent call last)",
      "\u001b[0;32m<ipython-input-13-c1ac776e2750>\u001b[0m in \u001b[0;36m<module>\u001b[0;34m()\u001b[0m\n\u001b[1;32m      2\u001b[0m                 \u001b[0mtrain_eval_step\u001b[0m\u001b[0;34m=\u001b[0m\u001b[0;36m100\u001b[0m\u001b[0;34m,\u001b[0m\u001b[0;34m\u001b[0m\u001b[0m\n\u001b[1;32m      3\u001b[0m                 \u001b[0mvalidation_eval_step\u001b[0m\u001b[0;34m=\u001b[0m\u001b[0;36m100\u001b[0m\u001b[0;34m,\u001b[0m\u001b[0;34m\u001b[0m\u001b[0m\n\u001b[0;32m----> 4\u001b[0;31m                 display_step=100)\n\u001b[0m",
      "\u001b[0;32m/data2/data/zebrahim/git/bitbucket/cpd_deep/src/training.pyc\u001b[0m in \u001b[0;36mtrain\u001b[0;34m(self, max_iter, train_eval_step, validation_eval_step, display_step, checkpoint_step)\u001b[0m\n\u001b[1;32m    125\u001b[0m             _, summary_str, loss, debug_info = self.sess.run((self.model.optimizer, self.summary, self.model.cost, self.model.debug_info),\n\u001b[1;32m    126\u001b[0m                                            feed_dict={self.model.x: batch_x,\n\u001b[0;32m--> 127\u001b[0;31m                                                       self.model.y: batch_y})\n\u001b[0m\u001b[1;32m    128\u001b[0m \u001b[0;34m\u001b[0m\u001b[0m\n\u001b[1;32m    129\u001b[0m             \u001b[0;31m#print debug_info\u001b[0m\u001b[0;34m\u001b[0m\u001b[0;34m\u001b[0m\u001b[0m\n",
      "\u001b[0;32m/data2/data/zebrahim/anaconda2/envs/tensorflow/lib/python2.7/site-packages/tensorflow/python/client/session.pyc\u001b[0m in \u001b[0;36mrun\u001b[0;34m(self, fetches, feed_dict, options, run_metadata)\u001b[0m\n\u001b[1;32m    887\u001b[0m     \u001b[0;32mtry\u001b[0m\u001b[0;34m:\u001b[0m\u001b[0;34m\u001b[0m\u001b[0m\n\u001b[1;32m    888\u001b[0m       result = self._run(None, fetches, feed_dict, options_ptr,\n\u001b[0;32m--> 889\u001b[0;31m                          run_metadata_ptr)\n\u001b[0m\u001b[1;32m    890\u001b[0m       \u001b[0;32mif\u001b[0m \u001b[0mrun_metadata\u001b[0m\u001b[0;34m:\u001b[0m\u001b[0;34m\u001b[0m\u001b[0m\n\u001b[1;32m    891\u001b[0m         \u001b[0mproto_data\u001b[0m \u001b[0;34m=\u001b[0m \u001b[0mtf_session\u001b[0m\u001b[0;34m.\u001b[0m\u001b[0mTF_GetBuffer\u001b[0m\u001b[0;34m(\u001b[0m\u001b[0mrun_metadata_ptr\u001b[0m\u001b[0;34m)\u001b[0m\u001b[0;34m\u001b[0m\u001b[0m\n",
      "\u001b[0;32m/data2/data/zebrahim/anaconda2/envs/tensorflow/lib/python2.7/site-packages/tensorflow/python/client/session.pyc\u001b[0m in \u001b[0;36m_run\u001b[0;34m(self, handle, fetches, feed_dict, options, run_metadata)\u001b[0m\n\u001b[1;32m   1118\u001b[0m     \u001b[0;32mif\u001b[0m \u001b[0mfinal_fetches\u001b[0m \u001b[0;32mor\u001b[0m \u001b[0mfinal_targets\u001b[0m \u001b[0;32mor\u001b[0m \u001b[0;34m(\u001b[0m\u001b[0mhandle\u001b[0m \u001b[0;32mand\u001b[0m \u001b[0mfeed_dict_tensor\u001b[0m\u001b[0;34m)\u001b[0m\u001b[0;34m:\u001b[0m\u001b[0;34m\u001b[0m\u001b[0m\n\u001b[1;32m   1119\u001b[0m       results = self._do_run(handle, final_targets, final_fetches,\n\u001b[0;32m-> 1120\u001b[0;31m                              feed_dict_tensor, options, run_metadata)\n\u001b[0m\u001b[1;32m   1121\u001b[0m     \u001b[0;32melse\u001b[0m\u001b[0;34m:\u001b[0m\u001b[0;34m\u001b[0m\u001b[0m\n\u001b[1;32m   1122\u001b[0m       \u001b[0mresults\u001b[0m \u001b[0;34m=\u001b[0m \u001b[0;34m[\u001b[0m\u001b[0;34m]\u001b[0m\u001b[0;34m\u001b[0m\u001b[0m\n",
      "\u001b[0;32m/data2/data/zebrahim/anaconda2/envs/tensorflow/lib/python2.7/site-packages/tensorflow/python/client/session.pyc\u001b[0m in \u001b[0;36m_do_run\u001b[0;34m(self, handle, target_list, fetch_list, feed_dict, options, run_metadata)\u001b[0m\n\u001b[1;32m   1315\u001b[0m     \u001b[0;32mif\u001b[0m \u001b[0mhandle\u001b[0m \u001b[0;32mis\u001b[0m \u001b[0mNone\u001b[0m\u001b[0;34m:\u001b[0m\u001b[0;34m\u001b[0m\u001b[0m\n\u001b[1;32m   1316\u001b[0m       return self._do_call(_run_fn, self._session, feeds, fetches, targets,\n\u001b[0;32m-> 1317\u001b[0;31m                            options, run_metadata)\n\u001b[0m\u001b[1;32m   1318\u001b[0m     \u001b[0;32melse\u001b[0m\u001b[0;34m:\u001b[0m\u001b[0;34m\u001b[0m\u001b[0m\n\u001b[1;32m   1319\u001b[0m       \u001b[0;32mreturn\u001b[0m \u001b[0mself\u001b[0m\u001b[0;34m.\u001b[0m\u001b[0m_do_call\u001b[0m\u001b[0;34m(\u001b[0m\u001b[0m_prun_fn\u001b[0m\u001b[0;34m,\u001b[0m \u001b[0mself\u001b[0m\u001b[0;34m.\u001b[0m\u001b[0m_session\u001b[0m\u001b[0;34m,\u001b[0m \u001b[0mhandle\u001b[0m\u001b[0;34m,\u001b[0m \u001b[0mfeeds\u001b[0m\u001b[0;34m,\u001b[0m \u001b[0mfetches\u001b[0m\u001b[0;34m)\u001b[0m\u001b[0;34m\u001b[0m\u001b[0m\n",
      "\u001b[0;32m/data2/data/zebrahim/anaconda2/envs/tensorflow/lib/python2.7/site-packages/tensorflow/python/client/session.pyc\u001b[0m in \u001b[0;36m_do_call\u001b[0;34m(self, fn, *args)\u001b[0m\n\u001b[1;32m   1321\u001b[0m   \u001b[0;32mdef\u001b[0m \u001b[0m_do_call\u001b[0m\u001b[0;34m(\u001b[0m\u001b[0mself\u001b[0m\u001b[0;34m,\u001b[0m \u001b[0mfn\u001b[0m\u001b[0;34m,\u001b[0m \u001b[0;34m*\u001b[0m\u001b[0margs\u001b[0m\u001b[0;34m)\u001b[0m\u001b[0;34m:\u001b[0m\u001b[0;34m\u001b[0m\u001b[0m\n\u001b[1;32m   1322\u001b[0m     \u001b[0;32mtry\u001b[0m\u001b[0;34m:\u001b[0m\u001b[0;34m\u001b[0m\u001b[0m\n\u001b[0;32m-> 1323\u001b[0;31m       \u001b[0;32mreturn\u001b[0m \u001b[0mfn\u001b[0m\u001b[0;34m(\u001b[0m\u001b[0;34m*\u001b[0m\u001b[0margs\u001b[0m\u001b[0;34m)\u001b[0m\u001b[0;34m\u001b[0m\u001b[0m\n\u001b[0m\u001b[1;32m   1324\u001b[0m     \u001b[0;32mexcept\u001b[0m \u001b[0merrors\u001b[0m\u001b[0;34m.\u001b[0m\u001b[0mOpError\u001b[0m \u001b[0;32mas\u001b[0m \u001b[0me\u001b[0m\u001b[0;34m:\u001b[0m\u001b[0;34m\u001b[0m\u001b[0m\n\u001b[1;32m   1325\u001b[0m       \u001b[0mmessage\u001b[0m \u001b[0;34m=\u001b[0m \u001b[0mcompat\u001b[0m\u001b[0;34m.\u001b[0m\u001b[0mas_text\u001b[0m\u001b[0;34m(\u001b[0m\u001b[0me\u001b[0m\u001b[0;34m.\u001b[0m\u001b[0mmessage\u001b[0m\u001b[0;34m)\u001b[0m\u001b[0;34m\u001b[0m\u001b[0m\n",
      "\u001b[0;32m/data2/data/zebrahim/anaconda2/envs/tensorflow/lib/python2.7/site-packages/tensorflow/python/client/session.pyc\u001b[0m in \u001b[0;36m_run_fn\u001b[0;34m(session, feed_dict, fetch_list, target_list, options, run_metadata)\u001b[0m\n\u001b[1;32m   1300\u001b[0m           return tf_session.TF_Run(session, options,\n\u001b[1;32m   1301\u001b[0m                                    \u001b[0mfeed_dict\u001b[0m\u001b[0;34m,\u001b[0m \u001b[0mfetch_list\u001b[0m\u001b[0;34m,\u001b[0m \u001b[0mtarget_list\u001b[0m\u001b[0;34m,\u001b[0m\u001b[0;34m\u001b[0m\u001b[0m\n\u001b[0;32m-> 1302\u001b[0;31m                                    status, run_metadata)\n\u001b[0m\u001b[1;32m   1303\u001b[0m \u001b[0;34m\u001b[0m\u001b[0m\n\u001b[1;32m   1304\u001b[0m     \u001b[0;32mdef\u001b[0m \u001b[0m_prun_fn\u001b[0m\u001b[0;34m(\u001b[0m\u001b[0msession\u001b[0m\u001b[0;34m,\u001b[0m \u001b[0mhandle\u001b[0m\u001b[0;34m,\u001b[0m \u001b[0mfeed_dict\u001b[0m\u001b[0;34m,\u001b[0m \u001b[0mfetch_list\u001b[0m\u001b[0;34m)\u001b[0m\u001b[0;34m:\u001b[0m\u001b[0;34m\u001b[0m\u001b[0m\n",
      "\u001b[0;31mKeyboardInterrupt\u001b[0m: "
     ]
    }
   ],
   "source": [
    "trainer.train(max_iter = 10000,\n",
    "                train_eval_step=100,\n",
    "                validation_eval_step=100,\n",
    "                display_step=100)"
   ]
  },
  {
   "cell_type": "code",
   "execution_count": 14,
   "metadata": {},
   "outputs": [
    {
     "data": {
      "text/plain": [
       "'../../model_synthetic/train_abrupt_test_gradual/HRNN_1001_y/HRNN_1001_y-3226'"
      ]
     },
     "execution_count": 14,
     "metadata": {},
     "output_type": "execute_result"
    }
   ],
   "source": [
    "saver = tf.train.Saver()\n",
    "saver.save(sess, checkpoint_path, global_step=trainer.global_step)"
   ]
  },
  {
   "cell_type": "code",
   "execution_count": null,
   "metadata": {},
   "outputs": [],
   "source": [
    "#saver = tf.train.Saver()\n",
    "#saver.restore(sess, checkpoint_path+'-1000')"
   ]
  },
  {
   "cell_type": "code",
   "execution_count": 15,
   "metadata": {},
   "outputs": [
    {
     "name": "stdout",
     "output_type": "stream",
     "text": [
      "AUC = 0.975 vs. 0.177\n",
      "F1 = 0.915 vs. 0.300\n",
      "Precision = 0.910 vs. 0.177\n",
      "Recall = 0.920 vs. 1.000\n"
     ]
    }
   ],
   "source": [
    "_= nn_eval.evaluate_model (model, sess, test_data, test_gt)"
   ]
  },
  {
   "cell_type": "code",
   "execution_count": 16,
   "metadata": {},
   "outputs": [],
   "source": [
    "out = nn_eval.deploy (model, sess, test_data, test_gt)"
   ]
  },
  {
   "cell_type": "code",
   "execution_count": 17,
   "metadata": {},
   "outputs": [],
   "source": [
    "#shape of probability_change is (batch size, T, num_classes)\n",
    "#since num_classes = 1 we squeeze that axis\n",
    "out = np.squeeze(out, axis = 2)"
   ]
  },
  {
   "cell_type": "code",
   "execution_count": 20,
   "metadata": {},
   "outputs": [
    {
     "data": {
      "text/plain": [
       "(1000, 256)"
      ]
     },
     "execution_count": 20,
     "metadata": {},
     "output_type": "execute_result"
    }
   ],
   "source": [
    "out.shape"
   ]
  },
  {
   "cell_type": "code",
   "execution_count": 19,
   "metadata": {},
   "outputs": [],
   "source": [
    "savemat('../../poc_synthetic/train_abrupt_test_gradual/poc'+exp_name+'.mat', {'poc':out})"
   ]
  },
  {
   "cell_type": "code",
   "execution_count": null,
   "metadata": {},
   "outputs": [],
   "source": []
  },
  {
   "cell_type": "code",
   "execution_count": null,
   "metadata": {},
   "outputs": [],
   "source": []
  },
  {
   "cell_type": "code",
   "execution_count": null,
   "metadata": {
    "collapsed": true
   },
   "outputs": [],
   "source": []
  }
 ],
 "metadata": {
  "anaconda-cloud": {},
  "kernelspec": {
   "display_name": "Anaconca with Tensorflow",
   "language": "python",
   "name": "tensorflow"
  },
  "language_info": {
   "codemirror_mode": {
    "name": "ipython",
    "version": 2
   },
   "file_extension": ".py",
   "mimetype": "text/x-python",
   "name": "python",
   "nbconvert_exporter": "python",
   "pygments_lexer": "ipython2",
   "version": "2.7.13"
  }
 },
 "nbformat": 4,
 "nbformat_minor": 2
}
