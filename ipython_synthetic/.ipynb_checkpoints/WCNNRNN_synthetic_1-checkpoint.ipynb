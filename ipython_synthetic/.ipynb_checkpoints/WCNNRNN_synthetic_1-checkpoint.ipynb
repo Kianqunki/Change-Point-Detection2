{
 "cells": [
  {
   "cell_type": "code",
   "execution_count": 1,
   "metadata": {
    "collapsed": true
   },
   "outputs": [],
   "source": [
    "# useing this variable for saving models and summaries\n",
    "exp_name = \"WCNNRNN_synthetic_1\""
   ]
  },
  {
   "cell_type": "markdown",
   "metadata": {},
   "source": [
    "## Running CNN then RNN\n",
    "5 layers CNN [2, 2, 2, 2, 2], then RNN, bias_shape = [32,64,64, 64, 64]"
   ]
  },
  {
   "cell_type": "code",
   "execution_count": 7,
   "metadata": {
    "collapsed": false
   },
   "outputs": [
    {
     "name": "stdout",
     "output_type": "stream",
     "text": [
      "The autoreload extension is already loaded. To reload it, use:\n",
      "  %reload_ext autoreload\n"
     ]
    }
   ],
   "source": [
    "%load_ext autoreload\n",
    "%autoreload 2\n",
    "import numpy as np\n",
    "import tensorflow as tf\n",
    "import sys\n",
    "from hdf5storage import savemat\n",
    "import pickle\n",
    "\n",
    "sys.path.append('../src')"
   ]
  },
  {
   "cell_type": "code",
   "execution_count": 8,
   "metadata": {},
   "outputs": [],
   "source": [
    "import models.WCNNRNN_model_2 as WCNNRNN_model\n",
    "import training  \n",
    "import evaluation.nn_eval as nn_eval "
   ]
  },
  {
   "cell_type": "markdown",
   "metadata": {},
   "source": [
    "## Loading synthetic data"
   ]
  },
  {
   "cell_type": "code",
   "execution_count": 9,
   "metadata": {
    "collapsed": false
   },
   "outputs": [],
   "source": [
    "#loading data\n",
    "data_path= '/data2/data/zebrahim/synthetic_dataset/data_8192_1000_3_4_4_.03_.03_.2' + 'processed_data.p'\n",
    "\n",
    "with open(data_path, 'r') as fin:\n",
    "    data = pickle.load(fin)\n",
    "    \n",
    "train_data = data['train_data']\n",
    "validation_data = data['validation_data']\n",
    "test_data = data['test_data']\n",
    "\n",
    "train_gt = np.expand_dims(data['train_gt'], axis=-1)\n",
    "validation_gt = np.expand_dims(data['validation_gt'], axis=-1)\n",
    "test_gt = np.expand_dims(data['test_gt'], axis=-1)\n",
    "\n",
    "index_of_changes = data['index_of_changes']\n",
    " "
   ]
  },
  {
   "cell_type": "markdown",
   "metadata": {},
   "source": [
    "## Model"
   ]
  },
  {
   "cell_type": "code",
   "execution_count": 10,
   "metadata": {
    "collapsed": false
   },
   "outputs": [],
   "source": [
    "## Model Parameter\n",
    "n_variables= 12\n",
    "learning_rate = 0.001\n",
    "batch_size = 10\n",
    "\n",
    "wavelet_levels= 6\n",
    "convolution_levels = 5\n",
    "pooling_stride = [2, 2, 2, 2, 2]\n",
    "weights_shape = [[5,n_variables, 32],\n",
    "                 [5, 32, 64],\n",
    "                 [5, 64, 64],\n",
    "                 [5, 64, 64],\n",
    "                 [5, 64, 64]]\n",
    "\n",
    "bias_shape = [32, 64, 64, 64, 64]\n",
    "activation = tf.nn.relu\n",
    "wavelet_weights_shape = [[5, n_variables, n_variables]]    #high_pass and low_pass dimensions\n",
    "\n",
    "lstm_n_hidden = 128\n",
    "n_classes = 1\n",
    "\n",
    "##positive weight for weighted cross entropy\n",
    "s = train_gt.shape\n",
    "resolution = np.prod(pooling_stride)\n",
    "\n",
    "pooled_gt = np.reshape(train_gt[:,:(s[0]*s[1]/resolution)*resolution,:], (s[0]*(s[1]/resolution), resolution, s[2])).max(axis=1)\n",
    "pos_weight = (1.0 - pooled_gt.mean(axis = 0)) / pooled_gt.mean(axis=0)\n",
    "\n",
    "variables_weights = np.ones((n_classes,))"
   ]
  },
  {
   "cell_type": "code",
   "execution_count": 11,
   "metadata": {
    "collapsed": false
   },
   "outputs": [
    {
     "data": {
      "text/plain": [
       "array([ 3.18601822])"
      ]
     },
     "execution_count": 11,
     "metadata": {},
     "output_type": "execute_result"
    }
   ],
   "source": [
    "pos_weight"
   ]
  },
  {
   "cell_type": "code",
   "execution_count": 12,
   "metadata": {
    "collapsed": false
   },
   "outputs": [],
   "source": [
    "# Launch the graph\n",
    "config = tf.ConfigProto()\n",
    "config.gpu_options.allow_growth = True\n",
    "sess = tf.Session(config=config)"
   ]
  },
  {
   "cell_type": "code",
   "execution_count": 13,
   "metadata": {
    "collapsed": true
   },
   "outputs": [],
   "source": [
    "summary_path = '../summary_synthetic/' + exp_name \n",
    "checkpoint_path = '../model_synthetic/' + exp_name + '/' + exp_name \n"
   ]
  },
  {
   "cell_type": "code",
   "execution_count": 14,
   "metadata": {
    "collapsed": false
   },
   "outputs": [],
   "source": [
    "model = WCNNRNN_model.Model(n_variables = n_variables,\n",
    "                            learning_rate = learning_rate,\n",
    "                            n_classes = n_classes)"
   ]
  },
  {
   "cell_type": "code",
   "execution_count": 15,
   "metadata": {
    "collapsed": false
   },
   "outputs": [
    {
     "name": "stdout",
     "output_type": "stream",
     "text": [
      "Tensor(\"Squeeze_35:0\", shape=(?, ?, 1), dtype=float32) Tensor(\"Reshape_7:0\", shape=(?, ?, 1), dtype=float32)\n"
     ]
    }
   ],
   "source": [
    "model.build_model(pos_weight = pos_weight, \n",
    "                 learning_rate = learning_rate,\n",
    "                 wavelet_levels = wavelet_levels,    \n",
    "                 convolution_levels = convolution_levels,    \n",
    "                 pooling_stride = pooling_stride,     \n",
    "                 weights_shape = weights_shape,\n",
    "                 bias_shape = bias_shape,\n",
    "                 wavelet_weights_shape = wavelet_weights_shape,    \n",
    "                 activation = activation,\n",
    "                 lstm_n_hidden = lstm_n_hidden,\n",
    "                 trainable_wavelet = True,\n",
    "                 trainable_conv = True,\n",
    "                 trainable_last = True,\n",
    "                 variables_weights = variables_weights,\n",
    "                 optimizer = tf.train.AdamOptimizer\n",
    ")"
   ]
  },
  {
   "cell_type": "code",
   "execution_count": 16,
   "metadata": {
    "collapsed": false
   },
   "outputs": [],
   "source": [
    "trainer = training.Trainer(model = model,\n",
    "                    data_train = train_data,\n",
    "                    ground_truth_train = train_gt,\n",
    "                    data_validation = test_data,\n",
    "                    ground_truth_validation = test_gt,\n",
    "                    sess = sess,\n",
    "                    summary_path = summary_path,\n",
    "                    batch_size = batch_size,\n",
    "                    global_step = 0,\n",
    "                    eval_type = 'change')"
   ]
  },
  {
   "cell_type": "code",
   "execution_count": 18,
   "metadata": {},
   "outputs": [
    {
     "name": "stdout",
     "output_type": "stream",
     "text": [
      "Train Batch Evaluation\n",
      "AUC = 0.167 vs. 0.230\n",
      "F1 = 0.365 vs. 0.364\n",
      "Precision = 0.224 vs. 0.223\n",
      "Recall = 0.979 vs. 0.977\n",
      "Validation\n",
      "AUC = 0.217 vs. 0.238\n",
      "F1 = 0.379 vs. 0.376\n",
      "Precision = 0.237 vs. 0.232\n",
      "Recall = 0.945 vs. 0.999\n",
      "Minibatch Loss= 1.038367\n",
      "Train Batch Evaluation\n",
      "AUC = 0.692 vs. 0.234\n",
      "F1 = 0.665 vs. 0.361\n",
      "Precision = 0.568 vs. 0.230\n",
      "Recall = 0.801 vs. 0.837\n",
      "Validation\n",
      "AUC = 0.696 vs. 0.230\n",
      "F1 = 0.674 vs. 0.376\n",
      "Precision = 0.672 vs. 0.231\n",
      "Recall = 0.675 vs. 0.999\n",
      "Minibatch Loss= 0.810254\n",
      "Train Batch Evaluation\n",
      "AUC = 0.883 vs. 0.239\n",
      "F1 = 0.800 vs. 0.377\n",
      "Precision = 0.732 vs. 0.233\n",
      "Recall = 0.882 vs. 0.988\n",
      "Validation\n",
      "AUC = 0.833 vs. 0.227\n",
      "F1 = 0.779 vs. 0.376\n",
      "Precision = 0.735 vs. 0.231\n",
      "Recall = 0.829 vs. 0.999\n",
      "Minibatch Loss= 0.531905\n",
      "Train Batch Evaluation\n",
      "AUC = 0.914 vs. 0.210\n",
      "F1 = 0.853 vs. 0.367\n",
      "Precision = 0.860 vs. 0.225\n",
      "Recall = 0.847 vs. 1.000\n",
      "Validation\n",
      "AUC = 0.891 vs. 0.231\n",
      "F1 = 0.812 vs. 0.376\n",
      "Precision = 0.793 vs. 0.232\n",
      "Recall = 0.831 vs. 0.998\n",
      "Minibatch Loss= 0.493841\n",
      "Train Batch Evaluation\n",
      "AUC = 0.855 vs. 0.221\n",
      "F1 = 0.779 vs. 0.348\n",
      "Precision = 0.754 vs. 0.211\n",
      "Recall = 0.805 vs. 0.987\n",
      "Validation\n",
      "AUC = 0.894 vs. 0.232\n",
      "F1 = 0.810 vs. 0.376\n",
      "Precision = 0.813 vs. 0.231\n",
      "Recall = 0.807 vs. 0.999\n",
      "Minibatch Loss= 0.577918\n",
      "Train Batch Evaluation\n",
      "AUC = 0.897 vs. 0.210\n",
      "F1 = 0.821 vs. 0.344\n",
      "Precision = 0.799 vs. 0.207\n",
      "Recall = 0.844 vs. 1.000\n",
      "Validation\n",
      "AUC = 0.907 vs. 0.232\n",
      "F1 = 0.824 vs. 0.376\n",
      "Precision = 0.825 vs. 0.232\n",
      "Recall = 0.823 vs. 0.995\n",
      "Minibatch Loss= 0.447948\n",
      "Train Batch Evaluation\n",
      "AUC = 0.882 vs. 0.222\n",
      "F1 = 0.821 vs. 0.367\n",
      "Precision = 0.851 vs. 0.225\n",
      "Recall = 0.794 vs. 0.982\n",
      "Validation\n",
      "AUC = 0.895 vs. 0.228\n",
      "F1 = 0.812 vs. 0.376\n",
      "Precision = 0.824 vs. 0.231\n",
      "Recall = 0.800 vs. 1.000\n",
      "Minibatch Loss= 0.542348\n",
      "Train Batch Evaluation\n",
      "AUC = 0.945 vs. 0.254\n",
      "F1 = 0.865 vs. 0.395\n",
      "Precision = 0.856 vs. 0.246\n",
      "Recall = 0.874 vs. 1.000\n",
      "Validation\n",
      "AUC = 0.922 vs. 0.227\n",
      "F1 = 0.838 vs. 0.376\n",
      "Precision = 0.831 vs. 0.231\n",
      "Recall = 0.845 vs. 1.000\n",
      "Minibatch Loss= 0.472094\n",
      "Train Batch Evaluation\n",
      "AUC = 0.943 vs. 0.192\n",
      "F1 = 0.864 vs. 0.325\n",
      "Precision = 0.853 vs. 0.194\n",
      "Recall = 0.875 vs. 1.000\n",
      "Validation\n",
      "AUC = 0.937 vs. 0.231\n",
      "F1 = 0.862 vs. 0.376\n",
      "Precision = 0.849 vs. 0.231\n",
      "Recall = 0.877 vs. 0.999\n",
      "Minibatch Loss= 0.355934\n",
      "Train Batch Evaluation\n",
      "AUC = 0.972 vs. 0.220\n",
      "F1 = 0.920 vs. 0.364\n",
      "Precision = 0.897 vs. 0.223\n",
      "Recall = 0.944 vs. 1.000\n",
      "Validation\n",
      "AUC = 0.936 vs. 0.234\n",
      "F1 = 0.859 vs. 0.376\n",
      "Precision = 0.845 vs. 0.231\n",
      "Recall = 0.874 vs. 1.000\n",
      "Minibatch Loss= 0.371891\n",
      "Train Batch Evaluation\n",
      "AUC = 0.952 vs. 0.210\n",
      "F1 = 0.895 vs. 0.356\n",
      "Precision = 0.892 vs. 0.217\n",
      "Recall = 0.898 vs. 0.993\n",
      "Validation\n",
      "AUC = 0.937 vs. 0.230\n",
      "F1 = 0.865 vs. 0.376\n",
      "Precision = 0.854 vs. 0.231\n",
      "Recall = 0.877 vs. 1.000\n",
      "Minibatch Loss= 0.405051\n",
      "Train Batch Evaluation\n",
      "AUC = 0.961 vs. 0.247\n",
      "F1 = 0.909 vs. 0.378\n",
      "Precision = 0.894 vs. 0.235\n",
      "Recall = 0.926 vs. 0.963\n",
      "Validation\n",
      "AUC = 0.930 vs. 0.228\n",
      "F1 = 0.856 vs. 0.376\n",
      "Precision = 0.840 vs. 0.231\n",
      "Recall = 0.873 vs. 1.000\n",
      "Minibatch Loss= 0.380503\n",
      "Train Batch Evaluation\n",
      "AUC = 0.947 vs. 0.251\n",
      "F1 = 0.875 vs. 0.412\n",
      "Precision = 0.892 vs. 0.260\n",
      "Recall = 0.858 vs. 1.000\n",
      "Validation\n",
      "AUC = 0.930 vs. 0.234\n",
      "F1 = 0.859 vs. 0.376\n",
      "Precision = 0.837 vs. 0.231\n",
      "Recall = 0.882 vs. 0.999\n",
      "Minibatch Loss= 0.498904\n",
      "Train Batch Evaluation\n",
      "AUC = 0.970 vs. 0.196\n",
      "F1 = 0.908 vs. 0.334\n",
      "Precision = 0.913 vs. 0.200\n",
      "Recall = 0.903 vs. 1.000\n",
      "Validation\n",
      "AUC = 0.948 vs. 0.230\n",
      "F1 = 0.876 vs. 0.376\n",
      "Precision = 0.866 vs. 0.231\n",
      "Recall = 0.887 vs. 0.999\n",
      "Minibatch Loss= 0.334548\n",
      "Train Batch Evaluation\n",
      "AUC = 0.919 vs. 0.193\n",
      "F1 = 0.848 vs. 0.339\n",
      "Precision = 0.859 vs. 0.204\n",
      "Recall = 0.837 vs. 1.000\n",
      "Validation\n",
      "AUC = 0.939 vs. 0.234\n",
      "F1 = 0.866 vs. 0.376\n",
      "Precision = 0.844 vs. 0.231\n",
      "Recall = 0.889 vs. 1.000\n",
      "Minibatch Loss= 0.425101\n",
      "Train Batch Evaluation\n",
      "AUC = 0.971 vs. 0.252\n",
      "F1 = 0.909 vs. 0.408\n",
      "Precision = 0.909 vs. 0.256\n",
      "Recall = 0.909 vs. 1.000\n",
      "Validation\n",
      "AUC = 0.949 vs. 0.230\n",
      "F1 = 0.876 vs. 0.376\n",
      "Precision = 0.857 vs. 0.231\n",
      "Recall = 0.896 vs. 0.998\n",
      "Minibatch Loss= 0.362830\n",
      "Train Batch Evaluation\n",
      "AUC = 0.944 vs. 0.209\n",
      "F1 = 0.852 vs. 0.336\n",
      "Precision = 0.847 vs. 0.203\n",
      "Recall = 0.857 vs. 0.983\n",
      "Validation\n",
      "AUC = 0.941 vs. 0.232\n",
      "F1 = 0.868 vs. 0.376\n",
      "Precision = 0.860 vs. 0.231\n",
      "Recall = 0.876 vs. 1.000\n",
      "Minibatch Loss= 0.359887\n",
      "Train Batch Evaluation\n",
      "AUC = 0.963 vs. 0.224\n",
      "F1 = 0.897 vs. 0.377\n",
      "Precision = 0.922 vs. 0.232\n",
      "Recall = 0.874 vs. 1.000\n",
      "Validation\n",
      "AUC = 0.953 vs. 0.232\n",
      "F1 = 0.880 vs. 0.376\n",
      "Precision = 0.873 vs. 0.231\n",
      "Recall = 0.888 vs. 1.000\n",
      "Minibatch Loss= 0.378875\n",
      "Train Batch Evaluation\n",
      "AUC = 0.966 vs. 0.268\n",
      "F1 = 0.897 vs. 0.398\n",
      "Precision = 0.886 vs. 0.248\n",
      "Recall = 0.909 vs. 1.000\n",
      "Validation\n",
      "AUC = 0.954 vs. 0.235\n",
      "F1 = 0.885 vs. 0.376\n",
      "Precision = 0.871 vs. 0.231\n",
      "Recall = 0.899 vs. 1.000\n",
      "Minibatch Loss= 0.382462\n",
      "Train Batch Evaluation\n",
      "AUC = 0.929 vs. 0.231\n",
      "F1 = 0.841 vs. 0.366\n",
      "Precision = 0.892 vs. 0.224\n",
      "Recall = 0.795 vs. 1.000\n",
      "Validation\n",
      "AUC = 0.943 vs. 0.228\n",
      "F1 = 0.869 vs. 0.376\n",
      "Precision = 0.848 vs. 0.231\n",
      "Recall = 0.891 vs. 1.000\n",
      "Minibatch Loss= 0.448083\n",
      "Train Batch Evaluation\n",
      "AUC = 0.986 vs. 0.229\n",
      "F1 = 0.936 vs. 0.368\n",
      "Precision = 0.940 vs. 0.226\n",
      "Recall = 0.932 vs. 0.988\n",
      "Validation\n",
      "AUC = 0.954 vs. 0.233\n",
      "F1 = 0.883 vs. 0.376\n",
      "Precision = 0.893 vs. 0.231\n",
      "Recall = 0.873 vs. 1.000\n",
      "Minibatch Loss= 0.308201\n",
      "Train Batch Evaluation\n",
      "AUC = 0.968 vs. 0.273\n",
      "F1 = 0.905 vs. 0.417\n",
      "Precision = 0.909 vs. 0.263\n",
      "Recall = 0.902 vs. 1.000\n",
      "Validation\n",
      "AUC = 0.949 vs. 0.232\n",
      "F1 = 0.873 vs. 0.376\n",
      "Precision = 0.856 vs. 0.232\n",
      "Recall = 0.892 vs. 0.995\n",
      "Minibatch Loss= 0.434000\n",
      "Train Batch Evaluation\n",
      "AUC = 0.962 vs. 0.255\n",
      "F1 = 0.895 vs. 0.398\n",
      "Precision = 0.908 vs. 0.249\n",
      "Recall = 0.882 vs. 1.000\n",
      "Validation\n",
      "AUC = 0.957 vs. 0.234\n",
      "F1 = 0.885 vs. 0.376\n",
      "Precision = 0.870 vs. 0.232\n",
      "Recall = 0.901 vs. 0.999\n",
      "Minibatch Loss= 0.450044\n",
      "Train Batch Evaluation\n",
      "AUC = 0.980 vs. 0.266\n",
      "F1 = 0.922 vs. 0.420\n",
      "Precision = 0.912 vs. 0.266\n",
      "Recall = 0.932 vs. 1.000\n",
      "Validation\n",
      "AUC = 0.961 vs. 0.232\n",
      "F1 = 0.896 vs. 0.376\n",
      "Precision = 0.892 vs. 0.231\n",
      "Recall = 0.899 vs. 1.000\n",
      "Minibatch Loss= 0.394039\n",
      "Train Batch Evaluation\n",
      "AUC = 0.980 vs. 0.200\n",
      "F1 = 0.926 vs. 0.349\n",
      "Precision = 0.932 vs. 0.211\n",
      "Recall = 0.919 vs. 1.000\n",
      "Validation\n",
      "AUC = 0.954 vs. 0.231\n",
      "F1 = 0.884 vs. 0.376\n",
      "Precision = 0.893 vs. 0.231\n",
      "Recall = 0.875 vs. 1.000\n",
      "Minibatch Loss= 0.319554\n",
      "Train Batch Evaluation\n",
      "AUC = 0.985 vs. 0.263\n",
      "F1 = 0.941 vs. 0.415\n",
      "Precision = 0.932 vs. 0.262\n",
      "Recall = 0.949 vs. 0.993\n",
      "Validation\n",
      "AUC = 0.956 vs. 0.234\n",
      "F1 = 0.883 vs. 0.376\n",
      "Precision = 0.893 vs. 0.231\n",
      "Recall = 0.873 vs. 1.000\n",
      "Minibatch Loss= 0.364475\n",
      "Train Batch Evaluation\n",
      "AUC = 0.989 vs. 0.241\n",
      "F1 = 0.951 vs. 0.381\n",
      "Precision = 0.950 vs. 0.237\n",
      "Recall = 0.952 vs. 0.978\n",
      "Validation\n",
      "AUC = 0.959 vs. 0.231\n",
      "F1 = 0.894 vs. 0.376\n",
      "Precision = 0.886 vs. 0.231\n",
      "Recall = 0.902 vs. 1.000\n",
      "Minibatch Loss= 0.282109\n",
      "Train Batch Evaluation\n",
      "AUC = 0.983 vs. 0.228\n",
      "F1 = 0.927 vs. 0.376\n",
      "Precision = 0.912 vs. 0.232\n",
      "Recall = 0.943 vs. 0.995\n",
      "Validation\n",
      "AUC = 0.955 vs. 0.232\n",
      "F1 = 0.883 vs. 0.376\n",
      "Precision = 0.891 vs. 0.231\n",
      "Recall = 0.875 vs. 1.000\n",
      "Minibatch Loss= 0.346871\n",
      "Train Batch Evaluation\n",
      "AUC = 0.972 vs. 0.216\n",
      "F1 = 0.913 vs. 0.344\n",
      "Precision = 0.940 vs. 0.208\n",
      "Recall = 0.887 vs. 1.000\n",
      "Validation\n",
      "AUC = 0.956 vs. 0.237\n",
      "F1 = 0.887 vs. 0.376\n",
      "Precision = 0.880 vs. 0.231\n",
      "Recall = 0.894 vs. 0.998\n",
      "Minibatch Loss= 0.352605\n",
      "Train Batch Evaluation\n",
      "AUC = 0.986 vs. 0.223\n",
      "F1 = 0.939 vs. 0.377\n",
      "Precision = 0.939 vs. 0.232\n",
      "Recall = 0.938 vs. 1.000\n",
      "Validation\n",
      "AUC = 0.960 vs. 0.231\n",
      "F1 = 0.892 vs. 0.376\n",
      "Precision = 0.909 vs. 0.231\n",
      "Recall = 0.875 vs. 1.000\n",
      "Minibatch Loss= 0.311695\n",
      "Train Batch Evaluation\n",
      "AUC = 0.950 vs. 0.212\n",
      "F1 = 0.887 vs. 0.349\n",
      "Precision = 0.890 vs. 0.212\n",
      "Recall = 0.884 vs. 1.000\n",
      "Validation\n",
      "AUC = 0.951 vs. 0.226\n",
      "F1 = 0.874 vs. 0.376\n",
      "Precision = 0.868 vs. 0.231\n",
      "Recall = 0.880 vs. 0.999\n",
      "Minibatch Loss= 0.384837\n",
      "Train Batch Evaluation\n",
      "AUC = 0.957 vs. 0.232\n",
      "F1 = 0.880 vs. 0.387\n",
      "Precision = 0.877 vs. 0.240\n",
      "Recall = 0.883 vs. 1.000\n",
      "Validation\n",
      "AUC = 0.945 vs. 0.234\n",
      "F1 = 0.862 vs. 0.376\n",
      "Precision = 0.858 vs. 0.231\n",
      "Recall = 0.867 vs. 1.000\n",
      "Minibatch Loss= 0.444831\n",
      "Train Batch Evaluation\n",
      "AUC = 0.964 vs. 0.242\n",
      "F1 = 0.895 vs. 0.359\n",
      "Precision = 0.859 vs. 0.219\n",
      "Recall = 0.935 vs. 0.998\n",
      "Validation\n",
      "AUC = 0.948 vs. 0.232\n",
      "F1 = 0.869 vs. 0.376\n",
      "Precision = 0.858 vs. 0.231\n",
      "Recall = 0.881 vs. 1.000\n",
      "Minibatch Loss= 0.371358\n",
      "Train Batch Evaluation\n",
      "AUC = 0.954 vs. 0.195\n",
      "F1 = 0.891 vs. 0.324\n",
      "Precision = 0.904 vs. 0.193\n",
      "Recall = 0.879 vs. 1.000\n",
      "Validation\n",
      "AUC = 0.952 vs. 0.229\n",
      "F1 = 0.880 vs. 0.376\n",
      "Precision = 0.872 vs. 0.232\n",
      "Recall = 0.888 vs. 0.997\n",
      "Minibatch Loss= 0.326630\n",
      "Train Batch Evaluation\n",
      "AUC = 0.980 vs. 0.218\n",
      "F1 = 0.922 vs. 0.365\n",
      "Precision = 0.927 vs. 0.224\n",
      "Recall = 0.917 vs. 0.991\n",
      "Validation\n",
      "AUC = 0.957 vs. 0.230\n",
      "F1 = 0.888 vs. 0.376\n",
      "Precision = 0.875 vs. 0.231\n",
      "Recall = 0.902 vs. 0.999\n",
      "Minibatch Loss= 0.299730\n"
     ]
    },
    {
     "ename": "KeyboardInterrupt",
     "evalue": "",
     "output_type": "error",
     "traceback": [
      "\u001b[0;31m---------------------------------------------------------------------------\u001b[0m",
      "\u001b[0;31mKeyboardInterrupt\u001b[0m                         Traceback (most recent call last)",
      "\u001b[0;32m<ipython-input-18-76902324ec9b>\u001b[0m in \u001b[0;36m<module>\u001b[0;34m()\u001b[0m\n\u001b[1;32m      2\u001b[0m                 \u001b[0mtrain_eval_step\u001b[0m\u001b[0;34m=\u001b[0m\u001b[0;36m100\u001b[0m\u001b[0;34m,\u001b[0m\u001b[0;34m\u001b[0m\u001b[0m\n\u001b[1;32m      3\u001b[0m                 \u001b[0mvalidation_eval_step\u001b[0m\u001b[0;34m=\u001b[0m\u001b[0;36m100\u001b[0m\u001b[0;34m,\u001b[0m\u001b[0;34m\u001b[0m\u001b[0m\n\u001b[0;32m----> 4\u001b[0;31m                 display_step=100)\n\u001b[0m",
      "\u001b[0;32m/data2/data/zebrahim/git/bitbucket/cpd_deep/src/training.pyc\u001b[0m in \u001b[0;36mtrain\u001b[0;34m(self, max_iter, train_eval_step, validation_eval_step, display_step, checkpoint_step)\u001b[0m\n\u001b[1;32m    125\u001b[0m             _, summary_str, loss, debug_info = self.sess.run((self.model.optimizer, self.summary, self.model.cost, self.model.debug_info),\n\u001b[1;32m    126\u001b[0m                                            feed_dict={self.model.x: batch_x,\n\u001b[0;32m--> 127\u001b[0;31m                                                       self.model.y: batch_y})\n\u001b[0m\u001b[1;32m    128\u001b[0m \u001b[0;34m\u001b[0m\u001b[0m\n\u001b[1;32m    129\u001b[0m             \u001b[0;31m#print debug_info\u001b[0m\u001b[0;34m\u001b[0m\u001b[0;34m\u001b[0m\u001b[0m\n",
      "\u001b[0;32m/data2/data/zebrahim/anaconda2/envs/tensorflow/lib/python2.7/site-packages/tensorflow/python/client/session.pyc\u001b[0m in \u001b[0;36mrun\u001b[0;34m(self, fetches, feed_dict, options, run_metadata)\u001b[0m\n\u001b[1;32m    887\u001b[0m     \u001b[0;32mtry\u001b[0m\u001b[0;34m:\u001b[0m\u001b[0;34m\u001b[0m\u001b[0m\n\u001b[1;32m    888\u001b[0m       result = self._run(None, fetches, feed_dict, options_ptr,\n\u001b[0;32m--> 889\u001b[0;31m                          run_metadata_ptr)\n\u001b[0m\u001b[1;32m    890\u001b[0m       \u001b[0;32mif\u001b[0m \u001b[0mrun_metadata\u001b[0m\u001b[0;34m:\u001b[0m\u001b[0;34m\u001b[0m\u001b[0m\n\u001b[1;32m    891\u001b[0m         \u001b[0mproto_data\u001b[0m \u001b[0;34m=\u001b[0m \u001b[0mtf_session\u001b[0m\u001b[0;34m.\u001b[0m\u001b[0mTF_GetBuffer\u001b[0m\u001b[0;34m(\u001b[0m\u001b[0mrun_metadata_ptr\u001b[0m\u001b[0;34m)\u001b[0m\u001b[0;34m\u001b[0m\u001b[0m\n",
      "\u001b[0;32m/data2/data/zebrahim/anaconda2/envs/tensorflow/lib/python2.7/site-packages/tensorflow/python/client/session.pyc\u001b[0m in \u001b[0;36m_run\u001b[0;34m(self, handle, fetches, feed_dict, options, run_metadata)\u001b[0m\n\u001b[1;32m   1118\u001b[0m     \u001b[0;32mif\u001b[0m \u001b[0mfinal_fetches\u001b[0m \u001b[0;32mor\u001b[0m \u001b[0mfinal_targets\u001b[0m \u001b[0;32mor\u001b[0m \u001b[0;34m(\u001b[0m\u001b[0mhandle\u001b[0m \u001b[0;32mand\u001b[0m \u001b[0mfeed_dict_tensor\u001b[0m\u001b[0;34m)\u001b[0m\u001b[0;34m:\u001b[0m\u001b[0;34m\u001b[0m\u001b[0m\n\u001b[1;32m   1119\u001b[0m       results = self._do_run(handle, final_targets, final_fetches,\n\u001b[0;32m-> 1120\u001b[0;31m                              feed_dict_tensor, options, run_metadata)\n\u001b[0m\u001b[1;32m   1121\u001b[0m     \u001b[0;32melse\u001b[0m\u001b[0;34m:\u001b[0m\u001b[0;34m\u001b[0m\u001b[0m\n\u001b[1;32m   1122\u001b[0m       \u001b[0mresults\u001b[0m \u001b[0;34m=\u001b[0m \u001b[0;34m[\u001b[0m\u001b[0;34m]\u001b[0m\u001b[0;34m\u001b[0m\u001b[0m\n",
      "\u001b[0;32m/data2/data/zebrahim/anaconda2/envs/tensorflow/lib/python2.7/site-packages/tensorflow/python/client/session.pyc\u001b[0m in \u001b[0;36m_do_run\u001b[0;34m(self, handle, target_list, fetch_list, feed_dict, options, run_metadata)\u001b[0m\n\u001b[1;32m   1315\u001b[0m     \u001b[0;32mif\u001b[0m \u001b[0mhandle\u001b[0m \u001b[0;32mis\u001b[0m \u001b[0mNone\u001b[0m\u001b[0;34m:\u001b[0m\u001b[0;34m\u001b[0m\u001b[0m\n\u001b[1;32m   1316\u001b[0m       return self._do_call(_run_fn, self._session, feeds, fetches, targets,\n\u001b[0;32m-> 1317\u001b[0;31m                            options, run_metadata)\n\u001b[0m\u001b[1;32m   1318\u001b[0m     \u001b[0;32melse\u001b[0m\u001b[0;34m:\u001b[0m\u001b[0;34m\u001b[0m\u001b[0m\n\u001b[1;32m   1319\u001b[0m       \u001b[0;32mreturn\u001b[0m \u001b[0mself\u001b[0m\u001b[0;34m.\u001b[0m\u001b[0m_do_call\u001b[0m\u001b[0;34m(\u001b[0m\u001b[0m_prun_fn\u001b[0m\u001b[0;34m,\u001b[0m \u001b[0mself\u001b[0m\u001b[0;34m.\u001b[0m\u001b[0m_session\u001b[0m\u001b[0;34m,\u001b[0m \u001b[0mhandle\u001b[0m\u001b[0;34m,\u001b[0m \u001b[0mfeeds\u001b[0m\u001b[0;34m,\u001b[0m \u001b[0mfetches\u001b[0m\u001b[0;34m)\u001b[0m\u001b[0;34m\u001b[0m\u001b[0m\n",
      "\u001b[0;32m/data2/data/zebrahim/anaconda2/envs/tensorflow/lib/python2.7/site-packages/tensorflow/python/client/session.pyc\u001b[0m in \u001b[0;36m_do_call\u001b[0;34m(self, fn, *args)\u001b[0m\n\u001b[1;32m   1321\u001b[0m   \u001b[0;32mdef\u001b[0m \u001b[0m_do_call\u001b[0m\u001b[0;34m(\u001b[0m\u001b[0mself\u001b[0m\u001b[0;34m,\u001b[0m \u001b[0mfn\u001b[0m\u001b[0;34m,\u001b[0m \u001b[0;34m*\u001b[0m\u001b[0margs\u001b[0m\u001b[0;34m)\u001b[0m\u001b[0;34m:\u001b[0m\u001b[0;34m\u001b[0m\u001b[0m\n\u001b[1;32m   1322\u001b[0m     \u001b[0;32mtry\u001b[0m\u001b[0;34m:\u001b[0m\u001b[0;34m\u001b[0m\u001b[0m\n\u001b[0;32m-> 1323\u001b[0;31m       \u001b[0;32mreturn\u001b[0m \u001b[0mfn\u001b[0m\u001b[0;34m(\u001b[0m\u001b[0;34m*\u001b[0m\u001b[0margs\u001b[0m\u001b[0;34m)\u001b[0m\u001b[0;34m\u001b[0m\u001b[0m\n\u001b[0m\u001b[1;32m   1324\u001b[0m     \u001b[0;32mexcept\u001b[0m \u001b[0merrors\u001b[0m\u001b[0;34m.\u001b[0m\u001b[0mOpError\u001b[0m \u001b[0;32mas\u001b[0m \u001b[0me\u001b[0m\u001b[0;34m:\u001b[0m\u001b[0;34m\u001b[0m\u001b[0m\n\u001b[1;32m   1325\u001b[0m       \u001b[0mmessage\u001b[0m \u001b[0;34m=\u001b[0m \u001b[0mcompat\u001b[0m\u001b[0;34m.\u001b[0m\u001b[0mas_text\u001b[0m\u001b[0;34m(\u001b[0m\u001b[0me\u001b[0m\u001b[0;34m.\u001b[0m\u001b[0mmessage\u001b[0m\u001b[0;34m)\u001b[0m\u001b[0;34m\u001b[0m\u001b[0m\n",
      "\u001b[0;32m/data2/data/zebrahim/anaconda2/envs/tensorflow/lib/python2.7/site-packages/tensorflow/python/client/session.pyc\u001b[0m in \u001b[0;36m_run_fn\u001b[0;34m(session, feed_dict, fetch_list, target_list, options, run_metadata)\u001b[0m\n\u001b[1;32m   1300\u001b[0m           return tf_session.TF_Run(session, options,\n\u001b[1;32m   1301\u001b[0m                                    \u001b[0mfeed_dict\u001b[0m\u001b[0;34m,\u001b[0m \u001b[0mfetch_list\u001b[0m\u001b[0;34m,\u001b[0m \u001b[0mtarget_list\u001b[0m\u001b[0;34m,\u001b[0m\u001b[0;34m\u001b[0m\u001b[0m\n\u001b[0;32m-> 1302\u001b[0;31m                                    status, run_metadata)\n\u001b[0m\u001b[1;32m   1303\u001b[0m \u001b[0;34m\u001b[0m\u001b[0m\n\u001b[1;32m   1304\u001b[0m     \u001b[0;32mdef\u001b[0m \u001b[0m_prun_fn\u001b[0m\u001b[0;34m(\u001b[0m\u001b[0msession\u001b[0m\u001b[0;34m,\u001b[0m \u001b[0mhandle\u001b[0m\u001b[0;34m,\u001b[0m \u001b[0mfeed_dict\u001b[0m\u001b[0;34m,\u001b[0m \u001b[0mfetch_list\u001b[0m\u001b[0;34m)\u001b[0m\u001b[0;34m:\u001b[0m\u001b[0;34m\u001b[0m\u001b[0m\n",
      "\u001b[0;31mKeyboardInterrupt\u001b[0m: "
     ]
    }
   ],
   "source": [
    "trainer.train(max_iter = 20000,\n",
    "                train_eval_step=100,\n",
    "                validation_eval_step=100,\n",
    "                display_step=100)"
   ]
  },
  {
   "cell_type": "code",
   "execution_count": 20,
   "metadata": {},
   "outputs": [
    {
     "data": {
      "text/plain": [
       "'../model/WCNNRNN_synthetic_1/WCNNRNN_synthetic_1-3496'"
      ]
     },
     "execution_count": 20,
     "metadata": {},
     "output_type": "execute_result"
    }
   ],
   "source": [
    "saver = tf.train.Saver()\n",
    "saver.save(sess, checkpoint_path, global_step=trainer.global_step)"
   ]
  },
  {
   "cell_type": "code",
   "execution_count": null,
   "metadata": {},
   "outputs": [],
   "source": [
    "#saver = tf.train.Saver()\n",
    "#saver.restore(sess, checkpoint_path+'-1000')"
   ]
  },
  {
   "cell_type": "code",
   "execution_count": 21,
   "metadata": {},
   "outputs": [
    {
     "name": "stdout",
     "output_type": "stream",
     "text": [
      "AUC = 0.962 vs. 0.232\n",
      "F1 = 0.891 vs. 0.376\n",
      "Precision = 0.879 vs. 0.231\n",
      "Recall = 0.904 vs. 0.998\n"
     ]
    }
   ],
   "source": [
    "_= nn_eval.evaluate_model (model, sess, test_data, test_gt)"
   ]
  },
  {
   "cell_type": "code",
   "execution_count": 22,
   "metadata": {},
   "outputs": [],
   "source": [
    "out = nn_eval.deploy (model, sess, test_data, test_gt)"
   ]
  },
  {
   "cell_type": "code",
   "execution_count": 15,
   "metadata": {},
   "outputs": [],
   "source": [
    "#shape of probability_change is (batch size, T, num_classes)\n",
    "#since num_classes = 1 we squeeze that axis\n",
    "probability_change = np.squeeze(probability_of_pos, axis = 2)"
   ]
  },
  {
   "cell_type": "code",
   "execution_count": 24,
   "metadata": {},
   "outputs": [],
   "source": [
    "savemat('../poc/poc'+exp_name+'.mat', {'poc':out[:,:,-1]})"
   ]
  },
  {
   "cell_type": "code",
   "execution_count": null,
   "metadata": {},
   "outputs": [],
   "source": []
  },
  {
   "cell_type": "code",
   "execution_count": null,
   "metadata": {},
   "outputs": [],
   "source": []
  },
  {
   "cell_type": "code",
   "execution_count": null,
   "metadata": {
    "collapsed": true
   },
   "outputs": [],
   "source": []
  }
 ],
 "metadata": {
  "anaconda-cloud": {},
  "kernelspec": {
   "display_name": "Anaconca with Tensorflow",
   "language": "python",
   "name": "tensorflow"
  },
  "language_info": {
   "codemirror_mode": {
    "name": "ipython",
    "version": 2
   },
   "file_extension": ".py",
   "mimetype": "text/x-python",
   "name": "python",
   "nbconvert_exporter": "python",
   "pygments_lexer": "ipython2",
   "version": "2.7.13"
  }
 },
 "nbformat": 4,
 "nbformat_minor": 2
}
