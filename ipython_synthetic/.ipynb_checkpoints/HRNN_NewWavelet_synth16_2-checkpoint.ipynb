{
 "cells": [
  {
   "cell_type": "code",
   "execution_count": 1,
   "metadata": {
    "collapsed": true
   },
   "outputs": [],
   "source": [
    "# useing this variable for saving models and summaries\n",
    "exp_name = \"HRNN_NewWavelet_Synt16_2\""
   ]
  },
  {
   "cell_type": "markdown",
   "metadata": {},
   "source": [
    "## Running CNN then RNN\n",
    "5 layers CNN [2, 2, 2, 2, 2], then RNN, bias_shape = [32,64,64, 64, 64]"
   ]
  },
  {
   "cell_type": "code",
   "execution_count": 2,
   "metadata": {
    "collapsed": false
   },
   "outputs": [],
   "source": [
    "%load_ext autoreload\n",
    "%autoreload 2\n",
    "import numpy as np\n",
    "import tensorflow as tf\n",
    "import sys\n",
    "from hdf5storage import savemat\n",
    "import hickle\n",
    "\n",
    "sys.path.append('../src')"
   ]
  },
  {
   "cell_type": "code",
   "execution_count": 3,
   "metadata": {},
   "outputs": [],
   "source": [
    "from models.HRNN_model_new_Wavelet import Model\n",
    "import training  \n",
    "import evaluation.nn_eval as nn_eval "
   ]
  },
  {
   "cell_type": "markdown",
   "metadata": {},
   "source": [
    "## Loading synthetic data"
   ]
  },
  {
   "cell_type": "code",
   "execution_count": 4,
   "metadata": {
    "collapsed": false
   },
   "outputs": [],
   "source": [
    "#loading data\n",
    "data_path= '/data2/data/zebrahim/synthetic_dataset/data_8192_1000_3_4_4_.03_.03_.2' + 'processed_data2.h'\n",
    "\n",
    "with open(data_path, 'r') as fin:\n",
    "    data = hickle.load(fin)\n",
    "    \n",
    "train_data = data['train_data']\n",
    "validation_data = data['validation_data']\n",
    "test_data = data['test_data']\n",
    "\n",
    "train_gt = np.expand_dims(data['train_gt'], axis=-1)\n",
    "validation_gt = np.expand_dims(data['validation_gt'], axis=-1)\n",
    "test_gt = np.expand_dims(data['test_gt'], axis=-1)\n",
    "\n",
    "index_of_changes = data['index_of_changes']\n",
    " "
   ]
  },
  {
   "cell_type": "markdown",
   "metadata": {},
   "source": [
    "## Model"
   ]
  },
  {
   "cell_type": "code",
   "execution_count": 5,
   "metadata": {
    "collapsed": false
   },
   "outputs": [],
   "source": [
    "## Model Parameter\n",
    "n_variables= 12\n",
    "learning_rate = 0.001\n",
    "batch_size = 10\n",
    "\n",
    "wavelet_levels= 7\n",
    "convolution_levels = 3\n",
    "pooling_stride = [4, 2, 2]\n",
    "weights_shape = [[9,n_variables, 128],\n",
    "                 [5, 128, 128],\n",
    "                 [5, 128, 128]]\n",
    "\n",
    "bias_shape = [128, 128, 128]\n",
    "activation = tf.nn.relu\n",
    "wavelet_kernel_size = 3\n",
    "\n",
    "lstm_n_hidden = 256\n",
    "n_classes = 1\n",
    "\n",
    "##positive weight for weighted cross entropy\n",
    "s = train_gt.shape\n",
    "resolution = np.prod(pooling_stride)\n",
    "\n",
    "pooled_gt = np.reshape(train_gt[:,:(s[0]*s[1]/resolution)*resolution,:], (s[0]*(s[1]/resolution), resolution, s[2])).max(axis=1)\n",
    "pos_weight = (1.0 - pooled_gt.mean(axis = 0)) / pooled_gt.mean(axis=0)\n",
    "\n",
    "variables_weights = np.ones((n_classes,))"
   ]
  },
  {
   "cell_type": "code",
   "execution_count": 6,
   "metadata": {
    "collapsed": false
   },
   "outputs": [
    {
     "data": {
      "text/plain": [
       "array([ 3.28902004])"
      ]
     },
     "execution_count": 6,
     "metadata": {},
     "output_type": "execute_result"
    }
   ],
   "source": [
    "pos_weight"
   ]
  },
  {
   "cell_type": "code",
   "execution_count": 7,
   "metadata": {
    "collapsed": false
   },
   "outputs": [],
   "source": [
    "# Launch the graph\n",
    "config = tf.ConfigProto()\n",
    "config.gpu_options.allow_growth = True\n",
    "sess = tf.Session(config=config)"
   ]
  },
  {
   "cell_type": "code",
   "execution_count": 8,
   "metadata": {
    "collapsed": true
   },
   "outputs": [],
   "source": [
    "summary_path = '../summary_synthetic/' + exp_name \n",
    "checkpoint_path = '../model_synthetic/' + exp_name + '/' + exp_name \n"
   ]
  },
  {
   "cell_type": "code",
   "execution_count": 9,
   "metadata": {
    "collapsed": false
   },
   "outputs": [],
   "source": [
    "model = Model(n_variables = n_variables,\n",
    "                            learning_rate = learning_rate,\n",
    "                            n_classes = n_classes)"
   ]
  },
  {
   "cell_type": "code",
   "execution_count": 10,
   "metadata": {
    "collapsed": false
   },
   "outputs": [],
   "source": [
    "model.build_model(pos_weight = pos_weight, \n",
    "                 learning_rate = learning_rate,\n",
    "                 wavelet_levels = wavelet_levels,    \n",
    "                 convolution_levels = convolution_levels,    \n",
    "                 pooling_stride = pooling_stride,     \n",
    "                 weights_shape = weights_shape,\n",
    "                 bias_shape = bias_shape,\n",
    "                 wavelet_kernel_size = wavelet_kernel_size,    \n",
    "                 activation = activation,\n",
    "                 lstm_n_hidden = lstm_n_hidden,\n",
    "                 trainable_wavelet = True,\n",
    "                 trainable_conv = True,\n",
    "                 trainable_last = True,\n",
    "                 variables_weights = variables_weights,\n",
    "                 optimizer = tf.train.AdamOptimizer\n",
    ")"
   ]
  },
  {
   "cell_type": "code",
   "execution_count": 11,
   "metadata": {
    "collapsed": false
   },
   "outputs": [],
   "source": [
    "trainer = training.Trainer(model = model,\n",
    "                    data_train = train_data,\n",
    "                    ground_truth_train = train_gt,\n",
    "                    data_validation = test_data,\n",
    "                    ground_truth_validation = test_gt,\n",
    "                    sess = sess,\n",
    "                    summary_path = summary_path,\n",
    "                    batch_size = batch_size,\n",
    "                    global_step = 0,\n",
    "                    eval_type = 'change')"
   ]
  },
  {
   "cell_type": "code",
   "execution_count": null,
   "metadata": {},
   "outputs": [
    {
     "name": "stdout",
     "output_type": "stream",
     "text": [
      "Training: 0\n",
      "AUC = 0.255 vs. 0.230\n",
      "F1 = 0.374 vs. 0.362\n",
      "Precision = 0.245 vs. 0.221\n",
      "Recall = 0.787 vs. 0.999\n",
      "Validation: 0\n",
      "AUC = 0.247 vs. 0.224\n",
      "F1 = 0.373 vs. 0.368\n",
      "Precision = 0.230 vs. 0.225\n",
      "Recall = 0.992 vs. 1.000\n",
      "Minibatch Loss= 1.056626\n",
      "Training: 100\n",
      "AUC = 0.546 vs. 0.258\n",
      "F1 = 0.484 vs. 0.406\n",
      "Precision = 0.389 vs. 0.256\n",
      "Recall = 0.640 vs. 0.980\n",
      "Validation: 100\n",
      "AUC = 0.422 vs. 0.225\n",
      "F1 = 0.419 vs. 0.368\n",
      "Precision = 0.322 vs. 0.225\n",
      "Recall = 0.600 vs. 1.000\n",
      "Minibatch Loss= 1.014868\n",
      "Training: 200\n",
      "AUC = 0.631 vs. 0.232\n",
      "F1 = 0.585 vs. 0.377\n",
      "Precision = 0.589 vs. 0.232\n",
      "Recall = 0.582 vs. 0.998\n",
      "Validation: 200\n",
      "AUC = 0.621 vs. 0.224\n",
      "F1 = 0.592 vs. 0.368\n",
      "Precision = 0.666 vs. 0.225\n",
      "Recall = 0.532 vs. 1.000\n",
      "Minibatch Loss= 0.867109\n",
      "Training: 300\n",
      "AUC = 0.763 vs. 0.254\n",
      "F1 = 0.699 vs. 0.400\n",
      "Precision = 0.718 vs. 0.251\n",
      "Recall = 0.681 vs. 0.989\n",
      "Validation: 300\n",
      "AUC = 0.727 vs. 0.226\n",
      "F1 = 0.672 vs. 0.368\n",
      "Precision = 0.714 vs. 0.225\n",
      "Recall = 0.635 vs. 1.000\n",
      "Minibatch Loss= 0.720535\n",
      "Training: 400\n",
      "AUC = 0.799 vs. 0.190\n",
      "F1 = 0.734 vs. 0.316\n",
      "Precision = 0.747 vs. 0.188\n",
      "Recall = 0.722 vs. 1.000\n",
      "Validation: 400\n",
      "AUC = 0.766 vs. 0.224\n",
      "F1 = 0.713 vs. 0.368\n",
      "Precision = 0.746 vs. 0.225\n",
      "Recall = 0.682 vs. 1.000\n",
      "Minibatch Loss= 0.612079\n",
      "Training: 500\n",
      "AUC = 0.845 vs. 0.233\n",
      "F1 = 0.761 vs. 0.378\n",
      "Precision = 0.709 vs. 0.233\n",
      "Recall = 0.822 vs. 1.000\n",
      "Validation: 500\n",
      "AUC = 0.804 vs. 0.230\n",
      "F1 = 0.728 vs. 0.368\n",
      "Precision = 0.762 vs. 0.225\n",
      "Recall = 0.697 vs. 1.000\n",
      "Minibatch Loss= 0.641740\n",
      "Training: 600\n",
      "AUC = 0.785 vs. 0.234\n",
      "F1 = 0.731 vs. 0.390\n",
      "Precision = 0.757 vs. 0.243\n",
      "Recall = 0.706 vs. 0.990\n",
      "Validation: 600\n",
      "AUC = 0.838 vs. 0.226\n",
      "F1 = 0.761 vs. 0.368\n",
      "Precision = 0.801 vs. 0.225\n",
      "Recall = 0.724 vs. 0.998\n",
      "Minibatch Loss= 0.712046\n",
      "Training: 700\n",
      "AUC = 0.846 vs. 0.214\n",
      "F1 = 0.752 vs. 0.352\n",
      "Precision = 0.774 vs. 0.214\n",
      "Recall = 0.731 vs. 0.995\n",
      "Validation: 700\n",
      "AUC = 0.834 vs. 0.227\n",
      "F1 = 0.756 vs. 0.368\n",
      "Precision = 0.782 vs. 0.225\n",
      "Recall = 0.731 vs. 1.000\n",
      "Minibatch Loss= 0.605197\n",
      "Training: 800\n",
      "AUC = 0.847 vs. 0.226\n",
      "F1 = 0.765 vs. 0.384\n",
      "Precision = 0.822 vs. 0.239\n",
      "Recall = 0.715 vs. 0.990\n",
      "Validation: 800\n",
      "AUC = 0.853 vs. 0.223\n",
      "F1 = 0.768 vs. 0.368\n",
      "Precision = 0.829 vs. 0.225\n",
      "Recall = 0.715 vs. 0.999\n",
      "Minibatch Loss= 0.638457\n",
      "Training: 900\n",
      "AUC = 0.862 vs. 0.218\n",
      "F1 = 0.783 vs. 0.367\n",
      "Precision = 0.826 vs. 0.225\n",
      "Recall = 0.744 vs. 0.998\n",
      "Validation: 900\n",
      "AUC = 0.847 vs. 0.224\n",
      "F1 = 0.770 vs. 0.368\n",
      "Precision = 0.807 vs. 0.225\n",
      "Recall = 0.736 vs. 1.000\n",
      "Minibatch Loss= 0.595047\n",
      "Training: 1000\n",
      "AUC = 0.832 vs. 0.222\n",
      "F1 = 0.756 vs. 0.365\n",
      "Precision = 0.848 vs. 0.224\n",
      "Recall = 0.682 vs. 0.986\n",
      "Validation: 1000\n",
      "AUC = 0.848 vs. 0.224\n",
      "F1 = 0.765 vs. 0.368\n",
      "Precision = 0.799 vs. 0.225\n",
      "Recall = 0.735 vs. 1.000\n",
      "Minibatch Loss= 0.677323\n",
      "Training: 1100\n",
      "AUC = 0.860 vs. 0.217\n",
      "F1 = 0.768 vs. 0.358\n",
      "Precision = 0.786 vs. 0.219\n",
      "Recall = 0.750 vs. 0.987\n",
      "Validation: 1100\n",
      "AUC = 0.834 vs. 0.225\n",
      "F1 = 0.753 vs. 0.368\n",
      "Precision = 0.791 vs. 0.225\n",
      "Recall = 0.718 vs. 1.000\n",
      "Minibatch Loss= 0.572122\n"
     ]
    }
   ],
   "source": [
    "trainer.train(max_iter = 10000,\n",
    "                train_eval_step=100,\n",
    "                validation_eval_step=100,\n",
    "                display_step=100)"
   ]
  },
  {
   "cell_type": "code",
   "execution_count": null,
   "metadata": {},
   "outputs": [],
   "source": [
    "saver = tf.train.Saver()\n",
    "saver.save(sess, checkpoint_path, global_step=trainer.global_step)"
   ]
  },
  {
   "cell_type": "code",
   "execution_count": null,
   "metadata": {},
   "outputs": [],
   "source": [
    "#saver = tf.train.Saver()\n",
    "#saver.restore(sess, checkpoint_path+'-1000')"
   ]
  },
  {
   "cell_type": "code",
   "execution_count": 21,
   "metadata": {},
   "outputs": [
    {
     "name": "stdout",
     "output_type": "stream",
     "text": [
      "AUC = 0.962 vs. 0.232\n",
      "F1 = 0.891 vs. 0.376\n",
      "Precision = 0.879 vs. 0.231\n",
      "Recall = 0.904 vs. 0.998\n"
     ]
    }
   ],
   "source": [
    "_= nn_eval.evaluate_model (model, sess, test_data, test_gt)"
   ]
  },
  {
   "cell_type": "code",
   "execution_count": 22,
   "metadata": {},
   "outputs": [],
   "source": [
    "out = nn_eval.deploy (model, sess, test_data, test_gt)"
   ]
  },
  {
   "cell_type": "code",
   "execution_count": 15,
   "metadata": {},
   "outputs": [],
   "source": [
    "#shape of probability_change is (batch size, T, num_classes)\n",
    "#since num_classes = 1 we squeeze that axis\n",
    "probability_change = np.squeeze(probability_of_pos, axis = 2)"
   ]
  },
  {
   "cell_type": "code",
   "execution_count": 24,
   "metadata": {},
   "outputs": [],
   "source": [
    "savemat('../poc/poc'+exp_name+'.mat', {'poc':out[:,:,-1]})"
   ]
  },
  {
   "cell_type": "code",
   "execution_count": null,
   "metadata": {},
   "outputs": [],
   "source": []
  },
  {
   "cell_type": "code",
   "execution_count": null,
   "metadata": {},
   "outputs": [],
   "source": []
  },
  {
   "cell_type": "code",
   "execution_count": null,
   "metadata": {
    "collapsed": true
   },
   "outputs": [],
   "source": []
  }
 ],
 "metadata": {
  "anaconda-cloud": {},
  "kernelspec": {
   "display_name": "Anaconca with Tensorflow",
   "language": "python",
   "name": "tensorflow"
  },
  "language_info": {
   "codemirror_mode": {
    "name": "ipython",
    "version": 2
   },
   "file_extension": ".py",
   "mimetype": "text/x-python",
   "name": "python",
   "nbconvert_exporter": "python",
   "pygments_lexer": "ipython2",
   "version": "2.7.13"
  }
 },
 "nbformat": 4,
 "nbformat_minor": 2
}
