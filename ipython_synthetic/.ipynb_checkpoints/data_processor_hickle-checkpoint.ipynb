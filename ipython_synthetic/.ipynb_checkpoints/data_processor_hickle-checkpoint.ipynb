{
 "cells": [
  {
   "cell_type": "markdown",
   "metadata": {},
   "source": [
    "## Here we generate training, validation and test dataset. with window_size = 8192"
   ]
  },
  {
   "cell_type": "code",
   "execution_count": 1,
   "metadata": {
    "collapsed": false
   },
   "outputs": [],
   "source": [
    "%load_ext autoreload\n",
    "%autoreload 2\n",
    "import numpy as np\n",
    "import hickle \n",
    "\n",
    "import sys\n",
    "sys.path.append('../src')\n",
    "import data_utils_synthetic as data_utils"
   ]
  },
  {
   "cell_type": "code",
   "execution_count": 2,
   "metadata": {
    "collapsed": false
   },
   "outputs": [],
   "source": [
    "#load the data\n",
    "data_path = '/data2/data/zebrahim/synthetic_dataset/data_8192_1000_3_4_4_.03_.03_.2/data_8192_1000_3_4_4_.03_.03_.2.mat'\n",
    "data_raw = data_utils.load_mat(data_path, 'data')"
   ]
  },
  {
   "cell_type": "code",
   "execution_count": 6,
   "metadata": {
    "collapsed": false
   },
   "outputs": [],
   "source": [
    "#reshape data to transform 4 variables of 3 modalities of a time series to 12 variables.\n",
    "data_reshaped = np.reshape(data_raw, (data_raw.shape[0], -1, data_raw.shape[-1]))\n",
    "#reshape to have (batch_size, signal_len, num_vari)\n",
    "data_transposed = np.transpose(data_reshaped, (0, 2, 1))\n",
    "\n"
   ]
  },
  {
   "cell_type": "code",
   "execution_count": 7,
   "metadata": {},
   "outputs": [
    {
     "data": {
      "text/plain": [
       "(1000, 8192, 12)"
      ]
     },
     "execution_count": 7,
     "metadata": {},
     "output_type": "execute_result"
    }
   ],
   "source": [
    "data_transposed.shape"
   ]
  },
  {
   "cell_type": "code",
   "execution_count": null,
   "metadata": {},
   "outputs": [],
   "source": [
    "#parameters\n",
    "window_size = 8192\n",
    "stride = 8192\n",
    "\n",
    "data_raw_train = data_transposed[:890]\n",
    "data_raw_validation= data_transposed[890: 900]\n",
    "data_raw_test = data_transposed[900:1000]\n",
    "\n",
    "_, data_stacked_train = data_utils.slide_window(data_raw_train,\n",
    "                                                    window_size,\n",
    "                                                    stride,\n",
    "                                                    num_dim_expand=0)\n",
    "\n",
    "_, data_stacked_validation = data_utils.slide_window(data_raw_validation,\n",
    "                                               window_size,\n",
    "                                               stride,\n",
    "                                               num_dim_expand=0)\n",
    "\n",
    "\n",
    "_, data_stacked_test = data_utils.slide_window(data_raw_test,\n",
    "                                               window_size,\n",
    "                                               stride,\n",
    "                                               num_dim_expand=0)\n"
   ]
  },
  {
   "cell_type": "code",
   "execution_count": 5,
   "metadata": {},
   "outputs": [
    {
     "data": {
      "text/plain": [
       "(8192, 12)"
      ]
     },
     "execution_count": 5,
     "metadata": {},
     "output_type": "execute_result"
    }
   ],
   "source": [
    "data_raw_test[0].shape"
   ]
  },
  {
   "cell_type": "code",
   "execution_count": 4,
   "metadata": {
    "collapsed": false
   },
   "outputs": [],
   "source": [
    "gt_raw = data_utils.load_mat(data_path, 'gtruth')\n",
    "gt_raw_train = gt_raw[:890]\n",
    "gt_raw_validation = gt_raw[890:900]\n",
    "gt_raw_test = gt_raw[900:1000]\n",
    "\n",
    "_, gt_stacked_train = data_utils.slide_window(gt_raw_train,\n",
    "                                              window_size,\n",
    "                                              stride,\n",
    "                                              num_dim_expand=0)\n",
    "\n",
    "_, gt_stacked_validation = data_utils.slide_window(gt_raw_validation,\n",
    "                                              window_size,\n",
    "                                              stride,\n",
    "                                              num_dim_expand=0)\n",
    "\n",
    "_, gt_stacked_test = data_utils.slide_window(gt_raw_test,\n",
    "                                             window_size,\n",
    "                                             stride,\n",
    "                                             num_dim_expand=0)"
   ]
  },
  {
   "cell_type": "code",
   "execution_count": 5,
   "metadata": {
    "collapsed": true
   },
   "outputs": [],
   "source": [
    "#index of changes\n",
    "gt_mean = data_utils.load_mat(data_path, 'gt_mean')\n",
    "gt_mean_test = gt_mean[900:1000]"
   ]
  },
  {
   "cell_type": "code",
   "execution_count": 6,
   "metadata": {
    "collapsed": true
   },
   "outputs": [],
   "source": [
    "data = {}\n",
    "data['train_data'] = data_stacked_train\n",
    "data['train_gt'] = gt_stacked_train\n",
    "\n",
    "data['validation_data'] = data_stacked_validation\n",
    "data['validation_gt'] = gt_stacked_validation\n",
    "\n",
    "data['test_data'] = data_stacked_test\n",
    "data['test_gt'] = gt_stacked_test\n",
    "\n",
    "data['index_of_changes'] = gt_mean_test"
   ]
  },
  {
   "cell_type": "code",
   "execution_count": null,
   "metadata": {},
   "outputs": [],
   "source": []
  },
  {
   "cell_type": "code",
   "execution_count": 8,
   "metadata": {
    "collapsed": false
   },
   "outputs": [],
   "source": [
    "path_to_save = '/data2/data/zebrahim/synthetic_dataset/data_8192_1000_3_4_4_.03_.03_.2'\n",
    "import hickle\n",
    "with open(path_to_save+'processed_data2.h', 'w') as fout:\n",
    "    hickle.dump(data, fout)"
   ]
  },
  {
   "cell_type": "code",
   "execution_count": null,
   "metadata": {
    "collapsed": true
   },
   "outputs": [],
   "source": []
  },
  {
   "cell_type": "code",
   "execution_count": null,
   "metadata": {},
   "outputs": [],
   "source": []
  },
  {
   "cell_type": "code",
   "execution_count": null,
   "metadata": {},
   "outputs": [],
   "source": []
  },
  {
   "cell_type": "code",
   "execution_count": null,
   "metadata": {},
   "outputs": [],
   "source": []
  }
 ],
 "metadata": {
  "anaconda-cloud": {},
  "kernelspec": {
   "display_name": "Anaconca with Tensorflow",
   "language": "python",
   "name": "tensorflow"
  },
  "language_info": {
   "codemirror_mode": {
    "name": "ipython",
    "version": 2
   },
   "file_extension": ".py",
   "mimetype": "text/x-python",
   "name": "python",
   "nbconvert_exporter": "python",
   "pygments_lexer": "ipython2",
   "version": "2.7.13"
  }
 },
 "nbformat": 4,
 "nbformat_minor": 2
}
